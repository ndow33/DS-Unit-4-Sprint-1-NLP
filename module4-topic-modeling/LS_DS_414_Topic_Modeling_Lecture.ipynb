{
 "cells": [
  {
   "cell_type": "markdown",
   "metadata": {},
   "source": [
    "Lambda School Data Science\n",
    "\n",
    "*Unit 4, Sprint 1, Module 4*\n",
    "\n",
    "---"
   ]
  },
  {
   "cell_type": "markdown",
   "metadata": {},
   "source": [
    "# Topic Modeling (Prepare)\n",
    "\n",
    "On Monday we talked about summarizing your documents using just token counts. Today, we're going to learn about a much more sophisticated approach - learning 'topics' from documents. Topics are a latent structure. They are not directly observable in the data, but we know they're there by reading them.\n",
    "\n",
    "> **latent**: existing but not yet developed or manifest; hidden or concealed.\n",
    "\n",
    "## Use Cases\n",
    "Primary use case: what the hell are your documents about? Who might want to know that in industry - \n",
    "* Identifying common themes in customer reviews\n",
    "* Discovering the needle in a haystack \n",
    "* Monitoring communications (Email - State Department) \n",
    "\n",
    "## Learning Objectives\n",
    "*At the end of the lesson you should be able to:*\n",
    "* <a href=\"#p1\">Part 1</a>: Describe how an LDA Model works\n",
    "* <a href=\"#p2\">Part 2</a>: Estimate a LDA Model with Gensim\n",
    "* <a href=\"#p3\">Part 3</a>: Interpret LDA results\n",
    "* <a href=\"#p4\">Part 4</a>: Select the appropriate number of topics\n"
   ]
  },
  {
   "cell_type": "markdown",
   "metadata": {},
   "source": [
    "# Latent Dirchilet Allocation Models (Learn)\n",
    "<a id=\"#p1\"></a>"
   ]
  },
  {
   "cell_type": "markdown",
   "metadata": {},
   "source": [
    "## Overview\n",
    "LDA is a \"generative probabilistic model\". \n",
    "\n",
    "Let's play with a model available [here](https://lettier.com/projects/lda-topic-modeling/)"
   ]
  },
  {
   "cell_type": "markdown",
   "metadata": {},
   "source": [
    "## Follow Along"
   ]
  },
  {
   "cell_type": "markdown",
   "metadata": {},
   "source": [
    "## Challenge "
   ]
  },
  {
   "cell_type": "markdown",
   "metadata": {},
   "source": [
    "# Estimating LDA Models with Gensim (Learn)\n",
    "<a id=\"#p1\"></a>"
   ]
  },
  {
   "cell_type": "markdown",
   "metadata": {
    "toc-hr-collapsed": true
   },
   "source": [
    "## Overview\n",
    "### A Literary Introduction: *Jane Austen V. Charlotte Bronte*\n",
    "Despite being born nearly forty years apart, modern fans often pit Jane Austen & Charlotte Bronte against one another in a battle for literary  supremacy. The battle centers around the topics of education for women, courting, and marriage. The authors' similar backgrounds naturally draw comparisons, but the modern fascination is probably due to novelty of British women publishing novels during the early 19th century. \n",
    "\n",
    "Can we help close a literary battle for supremacy and simply acknowledge that the authors addressed different topics and deserve to be acknowledged as excellent authors each in their own right?\n",
    "\n",
    "We're going to apply Latent Dirichlet Allocation a machine learning algorithm for topic modeling to each of the author's novels to compare the distribution of topics in their novels."
   ]
  },
  {
   "cell_type": "code",
   "execution_count": 1,
   "metadata": {},
   "outputs": [],
   "source": [
    "import numpy as np\n",
    "import gensim\n",
    "import os\n",
    "import re\n",
    "\n",
    "from gensim.utils import simple_preprocess\n",
    "from gensim.parsing.preprocessing import STOPWORDS\n",
    "from gensim import corpora\n",
    "\n",
    "from gensim.models.ldamulticore import LdaMulticore\n",
    "\n",
    "import pandas as pd"
   ]
  },
  {
   "cell_type": "code",
   "execution_count": 2,
   "metadata": {},
   "outputs": [
    {
     "data": {
      "text/plain": [
       "'3.8.1'"
      ]
     },
     "execution_count": 2,
     "metadata": {},
     "output_type": "execute_result"
    }
   ],
   "source": [
    "gensim.__version__"
   ]
  },
  {
   "cell_type": "markdown",
   "metadata": {},
   "source": [
    "### Novel Data\n",
    "I grabbed the novel data pre-split into a bunch of smaller chunks"
   ]
  },
  {
   "cell_type": "code",
   "execution_count": 3,
   "metadata": {},
   "outputs": [],
   "source": [
    "path = './data/austen-brontë-split'"
   ]
  },
  {
   "cell_type": "markdown",
   "metadata": {},
   "source": [
    "### Text Preprocessing\n",
    "**Activity**: update the function `tokenize` with any technique you have learned so far this week. "
   ]
  },
  {
   "cell_type": "code",
   "execution_count": 4,
   "metadata": {},
   "outputs": [],
   "source": [
    "# 1) Plain Python - ''.split command\n",
    "# 2) Spacy - just the lemmas from the document\n",
    "# 3) Gensim - simple_preprocess\n",
    "\n",
    "STOPWORDS = set(STOPWORDS).union(set(['said', 'mr', 'mrs']))\n",
    "\n",
    "def tokenize(text):\n",
    "    return [token for token in simple_preprocess(text) if token not in STOPWORDS]"
   ]
  },
  {
   "cell_type": "code",
   "execution_count": 5,
   "metadata": {},
   "outputs": [],
   "source": [
    "import os\n",
    "\n",
    "def gather_data(path_to_data): \n",
    "    data = []\n",
    "    for f in os.listdir(path):\n",
    "        if os.path.isdir(f) == False:\n",
    "            if f[-3:] == 'txt':\n",
    "                with open(os.path.join(path,f)) as t:\n",
    "                    text = t.read().strip('\\n')\n",
    "                    data.append(tokenize(str(text)))       \n",
    "    return data"
   ]
  },
  {
   "cell_type": "code",
   "execution_count": 6,
   "metadata": {},
   "outputs": [],
   "source": [
    "tokens = gather_data(path)"
   ]
  },
  {
   "cell_type": "code",
   "execution_count": 7,
   "metadata": {},
   "outputs": [
    {
     "data": {
      "text/plain": [
       "['emma',\n",
       " 'jane',\n",
       " 'austen',\n",
       " 'volume',\n",
       " 'chapter',\n",
       " 'emma',\n",
       " 'woodhouse',\n",
       " 'handsome',\n",
       " 'clever',\n",
       " 'rich']"
      ]
     },
     "execution_count": 7,
     "metadata": {},
     "output_type": "execute_result"
    }
   ],
   "source": [
    "tokens[0][0:10]"
   ]
  },
  {
   "cell_type": "code",
   "execution_count": 8,
   "metadata": {},
   "outputs": [
    {
     "data": {
      "text/plain": [
       "'this is a sample string with a  newline character'"
      ]
     },
     "execution_count": 8,
     "metadata": {},
     "output_type": "execute_result"
    }
   ],
   "source": [
    "\"this is a sample string with a \\n newline character\".replace('\\n', '')"
   ]
  },
  {
   "cell_type": "markdown",
   "metadata": {
    "toc-hr-collapsed": true
   },
   "source": [
    "## Follow Along"
   ]
  },
  {
   "cell_type": "code",
   "execution_count": 9,
   "metadata": {},
   "outputs": [],
   "source": [
    "titles = [t[:-4] for t in os.listdir(path) if os.path.isdir(t) == False]"
   ]
  },
  {
   "cell_type": "code",
   "execution_count": 10,
   "metadata": {},
   "outputs": [
    {
     "data": {
      "text/plain": [
       "813"
      ]
     },
     "execution_count": 10,
     "metadata": {},
     "output_type": "execute_result"
    }
   ],
   "source": [
    "len(titles)"
   ]
  },
  {
   "cell_type": "code",
   "execution_count": 11,
   "metadata": {},
   "outputs": [
    {
     "data": {
      "text/plain": [
       "813"
      ]
     },
     "execution_count": 11,
     "metadata": {},
     "output_type": "execute_result"
    }
   ],
   "source": [
    "len(tokens)"
   ]
  },
  {
   "cell_type": "markdown",
   "metadata": {},
   "source": [
    "### Author DataFrame\n"
   ]
  },
  {
   "cell_type": "code",
   "execution_count": 12,
   "metadata": {},
   "outputs": [],
   "source": [
    "df = pd.DataFrame(index=titles, data={'tokens':tokens})"
   ]
  },
  {
   "cell_type": "code",
   "execution_count": 13,
   "metadata": {},
   "outputs": [
    {
     "data": {
      "text/html": [
       "<div>\n",
       "<style scoped>\n",
       "    .dataframe tbody tr th:only-of-type {\n",
       "        vertical-align: middle;\n",
       "    }\n",
       "\n",
       "    .dataframe tbody tr th {\n",
       "        vertical-align: top;\n",
       "    }\n",
       "\n",
       "    .dataframe thead th {\n",
       "        text-align: right;\n",
       "    }\n",
       "</style>\n",
       "<table border=\"1\" class=\"dataframe\">\n",
       "  <thead>\n",
       "    <tr style=\"text-align: right;\">\n",
       "      <th></th>\n",
       "      <th>tokens</th>\n",
       "    </tr>\n",
       "  </thead>\n",
       "  <tbody>\n",
       "    <tr>\n",
       "      <th>Austen_Emma0000</th>\n",
       "      <td>[emma, jane, austen, volume, chapter, emma, wo...</td>\n",
       "    </tr>\n",
       "    <tr>\n",
       "      <th>Austen_Emma0001</th>\n",
       "      <td>[taylor, wish, pity, weston, thought, agree, p...</td>\n",
       "    </tr>\n",
       "    <tr>\n",
       "      <th>Austen_Emma0002</th>\n",
       "      <td>[behaved, charmingly, body, punctual, body, be...</td>\n",
       "    </tr>\n",
       "    <tr>\n",
       "      <th>Austen_Emma0003</th>\n",
       "      <td>[native, highbury, born, respectable, family, ...</td>\n",
       "    </tr>\n",
       "    <tr>\n",
       "      <th>Austen_Emma0004</th>\n",
       "      <td>[mention, handsome, letter, weston, received, ...</td>\n",
       "    </tr>\n",
       "  </tbody>\n",
       "</table>\n",
       "</div>"
      ],
      "text/plain": [
       "                                                            tokens\n",
       "Austen_Emma0000  [emma, jane, austen, volume, chapter, emma, wo...\n",
       "Austen_Emma0001  [taylor, wish, pity, weston, thought, agree, p...\n",
       "Austen_Emma0002  [behaved, charmingly, body, punctual, body, be...\n",
       "Austen_Emma0003  [native, highbury, born, respectable, family, ...\n",
       "Austen_Emma0004  [mention, handsome, letter, weston, received, ..."
      ]
     },
     "execution_count": 13,
     "metadata": {},
     "output_type": "execute_result"
    }
   ],
   "source": [
    "df.head()"
   ]
  },
  {
   "cell_type": "code",
   "execution_count": 14,
   "metadata": {},
   "outputs": [],
   "source": [
    "df['author'] = df.reset_index()['index'].apply(lambda x: x.split('_')[0]).tolist()\n",
    "df['book'] = df.reset_index()['index'].apply(lambda x: x.split('_')[1][:-4]).tolist()\n",
    "df['section'] = df.reset_index()['index'].apply(lambda x: x[-4:]).tolist()\n",
    "df['section'] = df['section'].astype('int')"
   ]
  },
  {
   "cell_type": "code",
   "execution_count": 15,
   "metadata": {},
   "outputs": [],
   "source": [
    "df['author'] = df['author'].map({'Austen':1, 'CBronte':0})"
   ]
  },
  {
   "cell_type": "code",
   "execution_count": 16,
   "metadata": {},
   "outputs": [
    {
     "data": {
      "text/html": [
       "<div>\n",
       "<style scoped>\n",
       "    .dataframe tbody tr th:only-of-type {\n",
       "        vertical-align: middle;\n",
       "    }\n",
       "\n",
       "    .dataframe tbody tr th {\n",
       "        vertical-align: top;\n",
       "    }\n",
       "\n",
       "    .dataframe thead th {\n",
       "        text-align: right;\n",
       "    }\n",
       "</style>\n",
       "<table border=\"1\" class=\"dataframe\">\n",
       "  <thead>\n",
       "    <tr style=\"text-align: right;\">\n",
       "      <th></th>\n",
       "      <th>tokens</th>\n",
       "      <th>author</th>\n",
       "      <th>book</th>\n",
       "      <th>section</th>\n",
       "    </tr>\n",
       "  </thead>\n",
       "  <tbody>\n",
       "    <tr>\n",
       "      <th>Austen_Emma0000</th>\n",
       "      <td>[emma, jane, austen, volume, chapter, emma, wo...</td>\n",
       "      <td>1</td>\n",
       "      <td>Emma</td>\n",
       "      <td>0</td>\n",
       "    </tr>\n",
       "    <tr>\n",
       "      <th>Austen_Emma0001</th>\n",
       "      <td>[taylor, wish, pity, weston, thought, agree, p...</td>\n",
       "      <td>1</td>\n",
       "      <td>Emma</td>\n",
       "      <td>1</td>\n",
       "    </tr>\n",
       "    <tr>\n",
       "      <th>Austen_Emma0002</th>\n",
       "      <td>[behaved, charmingly, body, punctual, body, be...</td>\n",
       "      <td>1</td>\n",
       "      <td>Emma</td>\n",
       "      <td>2</td>\n",
       "    </tr>\n",
       "    <tr>\n",
       "      <th>Austen_Emma0003</th>\n",
       "      <td>[native, highbury, born, respectable, family, ...</td>\n",
       "      <td>1</td>\n",
       "      <td>Emma</td>\n",
       "      <td>3</td>\n",
       "    </tr>\n",
       "    <tr>\n",
       "      <th>Austen_Emma0004</th>\n",
       "      <td>[mention, handsome, letter, weston, received, ...</td>\n",
       "      <td>1</td>\n",
       "      <td>Emma</td>\n",
       "      <td>4</td>\n",
       "    </tr>\n",
       "  </tbody>\n",
       "</table>\n",
       "</div>"
      ],
      "text/plain": [
       "                                                            tokens  author  \\\n",
       "Austen_Emma0000  [emma, jane, austen, volume, chapter, emma, wo...       1   \n",
       "Austen_Emma0001  [taylor, wish, pity, weston, thought, agree, p...       1   \n",
       "Austen_Emma0002  [behaved, charmingly, body, punctual, body, be...       1   \n",
       "Austen_Emma0003  [native, highbury, born, respectable, family, ...       1   \n",
       "Austen_Emma0004  [mention, handsome, letter, weston, received, ...       1   \n",
       "\n",
       "                 book  section  \n",
       "Austen_Emma0000  Emma        0  \n",
       "Austen_Emma0001  Emma        1  \n",
       "Austen_Emma0002  Emma        2  \n",
       "Austen_Emma0003  Emma        3  \n",
       "Austen_Emma0004  Emma        4  "
      ]
     },
     "execution_count": 16,
     "metadata": {},
     "output_type": "execute_result"
    }
   ],
   "source": [
    "df.head()"
   ]
  },
  {
   "cell_type": "code",
   "execution_count": 17,
   "metadata": {},
   "outputs": [
    {
     "data": {
      "text/plain": [
       "0    441\n",
       "1    372\n",
       "Name: author, dtype: int64"
      ]
     },
     "execution_count": 17,
     "metadata": {},
     "output_type": "execute_result"
    }
   ],
   "source": [
    "df.author.value_counts()"
   ]
  },
  {
   "cell_type": "code",
   "execution_count": 18,
   "metadata": {},
   "outputs": [
    {
     "data": {
      "text/html": [
       "<div>\n",
       "<style scoped>\n",
       "    .dataframe tbody tr th:only-of-type {\n",
       "        vertical-align: middle;\n",
       "    }\n",
       "\n",
       "    .dataframe tbody tr th {\n",
       "        vertical-align: top;\n",
       "    }\n",
       "\n",
       "    .dataframe thead th {\n",
       "        text-align: right;\n",
       "    }\n",
       "</style>\n",
       "<table border=\"1\" class=\"dataframe\">\n",
       "  <thead>\n",
       "    <tr style=\"text-align: right;\">\n",
       "      <th></th>\n",
       "      <th>tokens</th>\n",
       "      <th>author</th>\n",
       "      <th>book</th>\n",
       "      <th>section</th>\n",
       "    </tr>\n",
       "  </thead>\n",
       "  <tbody>\n",
       "    <tr>\n",
       "      <th>Austen_Emma0000</th>\n",
       "      <td>[emma, jane, austen, volume, chapter, emma, wo...</td>\n",
       "      <td>1</td>\n",
       "      <td>Emma</td>\n",
       "      <td>0</td>\n",
       "    </tr>\n",
       "    <tr>\n",
       "      <th>Austen_Emma0001</th>\n",
       "      <td>[taylor, wish, pity, weston, thought, agree, p...</td>\n",
       "      <td>1</td>\n",
       "      <td>Emma</td>\n",
       "      <td>1</td>\n",
       "    </tr>\n",
       "    <tr>\n",
       "      <th>Austen_Emma0002</th>\n",
       "      <td>[behaved, charmingly, body, punctual, body, be...</td>\n",
       "      <td>1</td>\n",
       "      <td>Emma</td>\n",
       "      <td>2</td>\n",
       "    </tr>\n",
       "    <tr>\n",
       "      <th>Austen_Emma0003</th>\n",
       "      <td>[native, highbury, born, respectable, family, ...</td>\n",
       "      <td>1</td>\n",
       "      <td>Emma</td>\n",
       "      <td>3</td>\n",
       "    </tr>\n",
       "    <tr>\n",
       "      <th>Austen_Emma0004</th>\n",
       "      <td>[mention, handsome, letter, weston, received, ...</td>\n",
       "      <td>1</td>\n",
       "      <td>Emma</td>\n",
       "      <td>4</td>\n",
       "    </tr>\n",
       "  </tbody>\n",
       "</table>\n",
       "</div>"
      ],
      "text/plain": [
       "                                                            tokens  author  \\\n",
       "Austen_Emma0000  [emma, jane, austen, volume, chapter, emma, wo...       1   \n",
       "Austen_Emma0001  [taylor, wish, pity, weston, thought, agree, p...       1   \n",
       "Austen_Emma0002  [behaved, charmingly, body, punctual, body, be...       1   \n",
       "Austen_Emma0003  [native, highbury, born, respectable, family, ...       1   \n",
       "Austen_Emma0004  [mention, handsome, letter, weston, received, ...       1   \n",
       "\n",
       "                 book  section  \n",
       "Austen_Emma0000  Emma        0  \n",
       "Austen_Emma0001  Emma        1  \n",
       "Austen_Emma0002  Emma        2  \n",
       "Austen_Emma0003  Emma        3  \n",
       "Austen_Emma0004  Emma        4  "
      ]
     },
     "execution_count": 18,
     "metadata": {},
     "output_type": "execute_result"
    }
   ],
   "source": [
    "df.head()"
   ]
  },
  {
   "cell_type": "markdown",
   "metadata": {},
   "source": [
    "### Streaming Documents\n",
    "Here we use a new pythonic thingy: the `yield` statement in our function. This allows us to iterate over a bunch of documents without actually reading them into memory. You can see how we use this function later on. "
   ]
  },
  {
   "cell_type": "code",
   "execution_count": 19,
   "metadata": {},
   "outputs": [],
   "source": [
    "def doc_stream(path):\n",
    "    for f in os.listdir(path):\n",
    "        if os.path.isdir(f) == False:\n",
    "            if f[-3:] == 'txt':\n",
    "                with open(os.path.join(path,f)) as t:\n",
    "                    text = t.read().strip('\\n')\n",
    "                    tokens = tokenize(text)\n",
    "                yield tokens"
   ]
  },
  {
   "cell_type": "code",
   "execution_count": 20,
   "metadata": {},
   "outputs": [],
   "source": [
    "streaming_data = doc_stream(path)"
   ]
  },
  {
   "cell_type": "code",
   "execution_count": 21,
   "metadata": {},
   "outputs": [
    {
     "data": {
      "text/plain": [
       "generator"
      ]
     },
     "execution_count": 21,
     "metadata": {},
     "output_type": "execute_result"
    }
   ],
   "source": [
    "type(streaming_data)"
   ]
  },
  {
   "cell_type": "code",
   "execution_count": null,
   "metadata": {},
   "outputs": [],
   "source": [
    "# gather_data => returns a list\n",
    "# doc_stream => returns a generator"
   ]
  },
  {
   "cell_type": "code",
   "execution_count": 22,
   "metadata": {},
   "outputs": [
    {
     "data": {
      "text/plain": [
       "['emma',\n",
       " 'jane',\n",
       " 'austen',\n",
       " 'volume',\n",
       " 'chapter',\n",
       " 'emma',\n",
       " 'woodhouse',\n",
       " 'handsome',\n",
       " 'clever',\n",
       " 'rich',\n",
       " 'comfortable',\n",
       " 'home',\n",
       " 'happy',\n",
       " 'disposition',\n",
       " 'unite',\n",
       " 'best',\n",
       " 'blessings',\n",
       " 'existence',\n",
       " 'lived',\n",
       " 'nearly',\n",
       " 'years',\n",
       " 'world',\n",
       " 'little',\n",
       " 'distress',\n",
       " 'vex',\n",
       " 'youngest',\n",
       " 'daughters',\n",
       " 'affectionate',\n",
       " 'indulgent',\n",
       " 'father',\n",
       " 'consequence',\n",
       " 'sister',\n",
       " 'marriage',\n",
       " 'mistress',\n",
       " 'house',\n",
       " 'early',\n",
       " 'period',\n",
       " 'mother',\n",
       " 'died',\n",
       " 'long',\n",
       " 'ago',\n",
       " 'indistinct',\n",
       " 'remembrance',\n",
       " 'caresses',\n",
       " 'place',\n",
       " 'supplied',\n",
       " 'excellent',\n",
       " 'woman',\n",
       " 'governess',\n",
       " 'fallen',\n",
       " 'little',\n",
       " 'short',\n",
       " 'mother',\n",
       " 'affection',\n",
       " 'sixteen',\n",
       " 'years',\n",
       " 'miss',\n",
       " 'taylor',\n",
       " 'woodhouse',\n",
       " 'family',\n",
       " 'governess',\n",
       " 'friend',\n",
       " 'fond',\n",
       " 'daughters',\n",
       " 'particularly',\n",
       " 'emma',\n",
       " 'intimacy',\n",
       " 'sisters',\n",
       " 'miss',\n",
       " 'taylor',\n",
       " 'ceased',\n",
       " 'hold',\n",
       " 'nominal',\n",
       " 'office',\n",
       " 'governess',\n",
       " 'mildness',\n",
       " 'temper',\n",
       " 'hardly',\n",
       " 'allowed',\n",
       " 'impose',\n",
       " 'restraint',\n",
       " 'shadow',\n",
       " 'authority',\n",
       " 'long',\n",
       " 'passed',\n",
       " 'away',\n",
       " 'living',\n",
       " 'friend',\n",
       " 'friend',\n",
       " 'mutually',\n",
       " 'attached',\n",
       " 'emma',\n",
       " 'liked',\n",
       " 'highly',\n",
       " 'esteeming',\n",
       " 'miss',\n",
       " 'taylor',\n",
       " 'judgment',\n",
       " 'directed',\n",
       " 'chiefly',\n",
       " 'real',\n",
       " 'evils',\n",
       " 'emma',\n",
       " 'situation',\n",
       " 'power',\n",
       " 'having',\n",
       " 'way',\n",
       " 'disposition',\n",
       " 'think',\n",
       " 'little',\n",
       " 'disadvantages',\n",
       " 'threatened',\n",
       " 'alloy',\n",
       " 'enjoyments',\n",
       " 'danger',\n",
       " 'present',\n",
       " 'unperceived',\n",
       " 'means',\n",
       " 'rank',\n",
       " 'misfortunes',\n",
       " 'sorrow',\n",
       " 'came',\n",
       " 'gentle',\n",
       " 'sorrow',\n",
       " 'shape',\n",
       " 'disagreeable',\n",
       " 'consciousness',\n",
       " 'miss',\n",
       " 'taylor',\n",
       " 'married',\n",
       " 'miss',\n",
       " 'taylor',\n",
       " 'loss',\n",
       " 'brought',\n",
       " 'grief',\n",
       " 'wedding',\n",
       " 'day',\n",
       " 'beloved',\n",
       " 'friend',\n",
       " 'emma',\n",
       " 'sat',\n",
       " 'mournful',\n",
       " 'thought',\n",
       " 'continuance',\n",
       " 'wedding',\n",
       " 'bride',\n",
       " 'people',\n",
       " 'gone',\n",
       " 'father',\n",
       " 'left',\n",
       " 'dine',\n",
       " 'prospect',\n",
       " 'cheer',\n",
       " 'long',\n",
       " 'evening',\n",
       " 'father',\n",
       " 'composed',\n",
       " 'sleep',\n",
       " 'dinner',\n",
       " 'usual',\n",
       " 'sit',\n",
       " 'think',\n",
       " 'lost',\n",
       " 'event',\n",
       " 'promise',\n",
       " 'happiness',\n",
       " 'friend',\n",
       " 'weston',\n",
       " 'man',\n",
       " 'unexceptionable',\n",
       " 'character',\n",
       " 'easy',\n",
       " 'fortune',\n",
       " 'suitable',\n",
       " 'age',\n",
       " 'pleasant',\n",
       " 'manners',\n",
       " 'satisfaction',\n",
       " 'considering',\n",
       " 'self',\n",
       " 'denying',\n",
       " 'generous',\n",
       " 'friendship',\n",
       " 'wished',\n",
       " 'promoted',\n",
       " 'match',\n",
       " 'black',\n",
       " 'morning',\n",
       " 'work',\n",
       " 'want',\n",
       " 'miss',\n",
       " 'taylor',\n",
       " 'felt',\n",
       " 'hour',\n",
       " 'day',\n",
       " 'recalled',\n",
       " 'past',\n",
       " 'kindness',\n",
       " 'kindness',\n",
       " 'affection',\n",
       " 'sixteen',\n",
       " 'years',\n",
       " 'taught',\n",
       " 'played',\n",
       " 'years',\n",
       " 'old',\n",
       " 'devoted',\n",
       " 'powers',\n",
       " 'attach',\n",
       " 'amuse',\n",
       " 'health',\n",
       " 'nursed',\n",
       " 'illnesses',\n",
       " 'childhood',\n",
       " 'large',\n",
       " 'debt',\n",
       " 'gratitude',\n",
       " 'owing',\n",
       " 'intercourse',\n",
       " 'seven',\n",
       " 'years',\n",
       " 'equal',\n",
       " 'footing',\n",
       " 'perfect',\n",
       " 'unreserve',\n",
       " 'soon',\n",
       " 'followed',\n",
       " 'isabella',\n",
       " 'marriage',\n",
       " 'left',\n",
       " 'dearer',\n",
       " 'tenderer',\n",
       " 'recollection',\n",
       " 'friend',\n",
       " 'companion',\n",
       " 'possessed',\n",
       " 'intelligent',\n",
       " 'informed',\n",
       " 'useful',\n",
       " 'gentle',\n",
       " 'knowing',\n",
       " 'ways',\n",
       " 'family',\n",
       " 'interested',\n",
       " 'concerns',\n",
       " 'peculiarly',\n",
       " 'interested',\n",
       " 'pleasure',\n",
       " 'scheme',\n",
       " 'speak',\n",
       " 'thought',\n",
       " 'arose',\n",
       " 'affection',\n",
       " 'fault',\n",
       " 'bear',\n",
       " 'change',\n",
       " 'true',\n",
       " 'friend',\n",
       " 'going',\n",
       " 'half',\n",
       " 'mile',\n",
       " 'emma',\n",
       " 'aware',\n",
       " 'great',\n",
       " 'difference',\n",
       " 'weston',\n",
       " 'half',\n",
       " 'mile',\n",
       " 'miss',\n",
       " 'taylor',\n",
       " 'house',\n",
       " 'advantages',\n",
       " 'natural',\n",
       " 'domestic',\n",
       " 'great',\n",
       " 'danger',\n",
       " 'suffering',\n",
       " 'intellectual',\n",
       " 'solitude',\n",
       " 'dearly',\n",
       " 'loved',\n",
       " 'father',\n",
       " 'companion',\n",
       " 'meet',\n",
       " 'conversation',\n",
       " 'rational',\n",
       " 'playful',\n",
       " 'evil',\n",
       " 'actual',\n",
       " 'disparity',\n",
       " 'ages',\n",
       " 'woodhouse',\n",
       " 'married',\n",
       " 'early',\n",
       " 'increased',\n",
       " 'constitution',\n",
       " 'habits',\n",
       " 'having',\n",
       " 'valetudinarian',\n",
       " 'life',\n",
       " 'activity',\n",
       " 'mind',\n",
       " 'body',\n",
       " 'older',\n",
       " 'man',\n",
       " 'ways',\n",
       " 'years',\n",
       " 'beloved',\n",
       " 'friendliness',\n",
       " 'heart',\n",
       " 'amiable',\n",
       " 'temper',\n",
       " 'talents',\n",
       " 'recommended',\n",
       " 'time',\n",
       " 'sister',\n",
       " 'comparatively',\n",
       " 'little',\n",
       " 'removed',\n",
       " 'matrimony',\n",
       " 'settled',\n",
       " 'london',\n",
       " 'sixteen',\n",
       " 'miles',\n",
       " 'daily',\n",
       " 'reach',\n",
       " 'long',\n",
       " 'october',\n",
       " 'november',\n",
       " 'evening',\n",
       " 'struggled',\n",
       " 'hartfield',\n",
       " 'christmas',\n",
       " 'brought',\n",
       " 'visit',\n",
       " 'isabella',\n",
       " 'husband',\n",
       " 'little',\n",
       " 'children',\n",
       " 'house',\n",
       " 'pleasant',\n",
       " 'society',\n",
       " 'highbury',\n",
       " 'large',\n",
       " 'populous',\n",
       " 'village',\n",
       " 'amounting',\n",
       " 'town',\n",
       " 'hartfield',\n",
       " 'spite',\n",
       " 'separate',\n",
       " 'lawn',\n",
       " 'shrubberies',\n",
       " 'belong',\n",
       " 'afforded',\n",
       " 'equals',\n",
       " 'woodhouses',\n",
       " 'consequence',\n",
       " 'looked',\n",
       " 'acquaintance',\n",
       " 'place',\n",
       " 'father',\n",
       " 'universally',\n",
       " 'civil',\n",
       " 'accepted',\n",
       " 'lieu',\n",
       " 'miss',\n",
       " 'taylor',\n",
       " 'half',\n",
       " 'day',\n",
       " 'melancholy',\n",
       " 'change',\n",
       " 'emma',\n",
       " 'sigh',\n",
       " 'wish',\n",
       " 'impossible',\n",
       " 'things',\n",
       " 'till',\n",
       " 'father',\n",
       " 'awoke',\n",
       " 'necessary',\n",
       " 'cheerful',\n",
       " 'spirits',\n",
       " 'required',\n",
       " 'support',\n",
       " 'nervous',\n",
       " 'man',\n",
       " 'easily',\n",
       " 'depressed',\n",
       " 'fond',\n",
       " 'body',\n",
       " 'hating',\n",
       " 'hating',\n",
       " 'change',\n",
       " 'kind',\n",
       " 'matrimony',\n",
       " 'origin',\n",
       " 'change',\n",
       " 'disagreeable',\n",
       " 'means',\n",
       " 'reconciled',\n",
       " 'daughter',\n",
       " 'marrying',\n",
       " 'speak',\n",
       " 'compassion',\n",
       " 'entirely',\n",
       " 'match',\n",
       " 'affection',\n",
       " 'obliged',\n",
       " 'miss',\n",
       " 'taylor',\n",
       " 'habits',\n",
       " 'gentle',\n",
       " 'selfishness',\n",
       " 'able',\n",
       " 'suppose',\n",
       " 'people',\n",
       " 'feel',\n",
       " 'differently',\n",
       " 'disposed',\n",
       " 'think',\n",
       " 'miss',\n",
       " 'taylor',\n",
       " 'sad',\n",
       " 'thing',\n",
       " 'great',\n",
       " 'deal',\n",
       " 'happier',\n",
       " 'spent',\n",
       " 'rest',\n",
       " 'life',\n",
       " 'hartfield',\n",
       " 'emma',\n",
       " 'smiled',\n",
       " 'chatted',\n",
       " 'cheerfully',\n",
       " 'thoughts',\n",
       " 'tea',\n",
       " 'came',\n",
       " 'impossible',\n",
       " 'exactly',\n",
       " 'dinner',\n",
       " 'poor',\n",
       " 'miss']"
      ]
     },
     "execution_count": 22,
     "metadata": {},
     "output_type": "execute_result"
    }
   ],
   "source": [
    "next(streaming_data) # Returns one document at a time from the generator"
   ]
  },
  {
   "cell_type": "markdown",
   "metadata": {},
   "source": [
    "### Gensim LDA Topic Modeling"
   ]
  },
  {
   "cell_type": "code",
   "execution_count": 23,
   "metadata": {},
   "outputs": [],
   "source": [
    "# A Dictionary Representation of all the words in our corpus\n",
    "id2word = corpora.Dictionary(doc_stream(path))"
   ]
  },
  {
   "cell_type": "code",
   "execution_count": 24,
   "metadata": {},
   "outputs": [
    {
     "data": {
      "text/plain": [
       "3986"
      ]
     },
     "execution_count": 24,
     "metadata": {},
     "output_type": "execute_result"
    }
   ],
   "source": [
    "id2word.token2id['england']"
   ]
  },
  {
   "cell_type": "code",
   "execution_count": 25,
   "metadata": {},
   "outputs": [
    {
     "data": {
      "text/plain": [
       "[(2753, 1), (3986, 3), (6601, 1), (6818, 1)]"
      ]
     },
     "execution_count": 25,
     "metadata": {},
     "output_type": "execute_result"
    }
   ],
   "source": [
    "id2word.doc2bow(tokenize(\"This is a sample message Darcy England England England\"))"
   ]
  },
  {
   "cell_type": "code",
   "execution_count": 26,
   "metadata": {},
   "outputs": [
    {
     "name": "stdout",
     "output_type": "stream",
     "text": [
      "48\n",
      "7048\n"
     ]
    }
   ],
   "source": [
    "# bytes of memory being used\n",
    "import sys\n",
    "print(sys.getsizeof(id2word))\n",
    "print(sys.getsizeof(tokens))"
   ]
  },
  {
   "cell_type": "code",
   "execution_count": 27,
   "metadata": {},
   "outputs": [
    {
     "data": {
      "text/plain": [
       "22095"
      ]
     },
     "execution_count": 27,
     "metadata": {},
     "output_type": "execute_result"
    }
   ],
   "source": [
    "len(id2word.keys())"
   ]
  },
  {
   "cell_type": "code",
   "execution_count": 28,
   "metadata": {},
   "outputs": [],
   "source": [
    "# Let's remove extreme values from the dataset\n",
    "id2word.filter_extremes(no_below=5, no_above=0.95)"
   ]
  },
  {
   "cell_type": "code",
   "execution_count": 29,
   "metadata": {},
   "outputs": [
    {
     "data": {
      "text/plain": [
       "8102"
      ]
     },
     "execution_count": 29,
     "metadata": {},
     "output_type": "execute_result"
    }
   ],
   "source": [
    "len(id2word.keys())"
   ]
  },
  {
   "cell_type": "code",
   "execution_count": 30,
   "metadata": {},
   "outputs": [],
   "source": [
    "# a bag of words(bow) representation of our corpus\n",
    "# Note: we haven't actually read any text into memory here\n",
    "# Although abstracted away - tokenization IS happening in the doc_stream f(x)\n",
    "corpus = [id2word.doc2bow(text) for text in doc_stream(path)]"
   ]
  },
  {
   "cell_type": "code",
   "execution_count": 31,
   "metadata": {},
   "outputs": [
    {
     "data": {
      "text/plain": [
       "[(0, 1),\n",
       " (2, 1),\n",
       " (11, 1),\n",
       " (21, 2),\n",
       " (32, 1),\n",
       " (34, 1),\n",
       " (35, 1),\n",
       " (37, 1),\n",
       " (53, 1),\n",
       " (54, 1)]"
      ]
     },
     "execution_count": 31,
     "metadata": {},
     "output_type": "execute_result"
    }
   ],
   "source": [
    "corpus[345][:10]"
   ]
  },
  {
   "cell_type": "code",
   "execution_count": 32,
   "metadata": {},
   "outputs": [],
   "source": [
    "lda = LdaMulticore(corpus=corpus,\n",
    "                   id2word=id2word,\n",
    "                   random_state=723812,\n",
    "                   num_topics = 15,\n",
    "                   passes=10,\n",
    "                   workers=12\n",
    "                  )"
   ]
  },
  {
   "cell_type": "code",
   "execution_count": 33,
   "metadata": {},
   "outputs": [
    {
     "data": {
      "text/plain": [
       "[(0,\n",
       "  '0.016*\"harriet\" + 0.015*\"emma\" + 0.009*\"weston\" + 0.008*\"elton\" + 0.008*\"good\" + 0.008*\"think\" + 0.008*\"man\" + 0.007*\"miss\" + 0.007*\"knightley\" + 0.006*\"know\"'),\n",
       " (1,\n",
       "  '0.006*\"like\" + 0.006*\"sir\" + 0.006*\"jane\" + 0.006*\"thought\" + 0.005*\"little\" + 0.005*\"good\" + 0.005*\"love\" + 0.004*\"old\" + 0.004*\"poor\" + 0.004*\"man\"'),\n",
       " (2,\n",
       "  '0.011*\"elinor\" + 0.009*\"marianne\" + 0.008*\"elizabeth\" + 0.007*\"sister\" + 0.007*\"miss\" + 0.005*\"time\" + 0.005*\"darcy\" + 0.005*\"mother\" + 0.005*\"soon\" + 0.005*\"lady\"'),\n",
       " (3,\n",
       "  '0.005*\"hand\" + 0.005*\"eyes\" + 0.005*\"john\" + 0.004*\"like\" + 0.004*\"saw\" + 0.004*\"asked\" + 0.004*\"little\" + 0.003*\"time\" + 0.003*\"know\" + 0.003*\"sir\"'),\n",
       " (4,\n",
       "  '0.014*\"miss\" + 0.011*\"jane\" + 0.008*\"emma\" + 0.008*\"know\" + 0.007*\"thing\" + 0.007*\"think\" + 0.006*\"good\" + 0.006*\"little\" + 0.006*\"shall\" + 0.006*\"dear\"'),\n",
       " (5,\n",
       "  '0.007*\"jane\" + 0.006*\"elizabeth\" + 0.006*\"darcy\" + 0.006*\"know\" + 0.005*\"wickham\" + 0.005*\"think\" + 0.004*\"miss\" + 0.004*\"good\" + 0.004*\"love\" + 0.004*\"letter\"'),\n",
       " (6,\n",
       "  '0.007*\"hunsden\" + 0.005*\"miss\" + 0.005*\"helen\" + 0.005*\"temple\" + 0.004*\"bread\" + 0.004*\"tea\" + 0.004*\"come\" + 0.004*\"tyrant\" + 0.004*\"having\" + 0.004*\"little\"'),\n",
       " (7,\n",
       "  '0.010*\"little\" + 0.005*\"madame\" + 0.005*\"like\" + 0.005*\"monsieur\" + 0.004*\"vous\" + 0.004*\"paul\" + 0.004*\"est\" + 0.004*\"bessie\" + 0.003*\"room\" + 0.003*\"think\"'),\n",
       " (8,\n",
       "  '0.005*\"burns\" + 0.005*\"thought\" + 0.005*\"like\" + 0.005*\"scatcherd\" + 0.004*\"miss\" + 0.004*\"day\" + 0.004*\"face\" + 0.004*\"girl\" + 0.003*\"little\" + 0.003*\"dr\"'),\n",
       " (9,\n",
       "  '0.009*\"man\" + 0.007*\"bennet\" + 0.007*\"young\" + 0.007*\"elizabeth\" + 0.006*\"collins\" + 0.006*\"time\" + 0.006*\"father\" + 0.005*\"darcy\" + 0.004*\"thought\" + 0.004*\"longbourn\"'),\n",
       " (10,\n",
       "  '0.006*\"like\" + 0.005*\"little\" + 0.004*\"thought\" + 0.004*\"long\" + 0.004*\"good\" + 0.004*\"know\" + 0.004*\"time\" + 0.004*\"day\" + 0.003*\"night\" + 0.003*\"hand\"'),\n",
       " (11,\n",
       "  '0.021*\"emma\" + 0.010*\"miss\" + 0.009*\"knightley\" + 0.009*\"harriet\" + 0.007*\"thing\" + 0.007*\"little\" + 0.007*\"fairfax\" + 0.006*\"woodhouse\" + 0.006*\"think\" + 0.006*\"elton\"'),\n",
       " (12,\n",
       "  '0.008*\"bretton\" + 0.007*\"know\" + 0.007*\"dr\" + 0.006*\"little\" + 0.005*\"lucy\" + 0.005*\"thought\" + 0.005*\"miss\" + 0.005*\"ginevra\" + 0.005*\"good\" + 0.005*\"graham\"'),\n",
       " (13,\n",
       "  '0.007*\"thousand\" + 0.006*\"mason\" + 0.005*\"like\" + 0.005*\"know\" + 0.004*\"sisters\" + 0.004*\"diana\" + 0.004*\"justice\" + 0.004*\"shall\" + 0.004*\"thought\" + 0.004*\"pounds\"'),\n",
       " (14,\n",
       "  '0.016*\"lydia\" + 0.010*\"mother\" + 0.010*\"wickham\" + 0.010*\"father\" + 0.007*\"uncle\" + 0.007*\"pounds\" + 0.006*\"dashwood\" + 0.006*\"thousand\" + 0.005*\"sure\" + 0.005*\"elizabeth\"')]"
      ]
     },
     "execution_count": 33,
     "metadata": {},
     "output_type": "execute_result"
    }
   ],
   "source": [
    "lda.print_topics()\n",
    "# the decimals represent the frequency of the word that follows\n",
    "# each topic is made up of a list of words/tokens"
   ]
  },
  {
   "cell_type": "code",
   "execution_count": null,
   "metadata": {},
   "outputs": [],
   "source": []
  },
  {
   "cell_type": "code",
   "execution_count": 34,
   "metadata": {},
   "outputs": [],
   "source": [
    "words = [re.findall(r'\"([^\"]*)\"',t[1]) for t in lda.print_topics()]"
   ]
  },
  {
   "cell_type": "code",
   "execution_count": 35,
   "metadata": {},
   "outputs": [],
   "source": [
    "topics = [' '.join(t[0:5]) for t in words]"
   ]
  },
  {
   "cell_type": "code",
   "execution_count": 36,
   "metadata": {},
   "outputs": [
    {
     "name": "stdout",
     "output_type": "stream",
     "text": [
      "------ Topic 0 ------\n",
      "harriet emma weston elton good\n",
      "\n",
      "------ Topic 1 ------\n",
      "like sir jane thought little\n",
      "\n",
      "------ Topic 2 ------\n",
      "elinor marianne elizabeth sister miss\n",
      "\n",
      "------ Topic 3 ------\n",
      "hand eyes john like saw\n",
      "\n",
      "------ Topic 4 ------\n",
      "miss jane emma know thing\n",
      "\n",
      "------ Topic 5 ------\n",
      "jane elizabeth darcy know wickham\n",
      "\n",
      "------ Topic 6 ------\n",
      "hunsden miss helen temple bread\n",
      "\n",
      "------ Topic 7 ------\n",
      "little madame like monsieur vous\n",
      "\n",
      "------ Topic 8 ------\n",
      "burns thought like scatcherd miss\n",
      "\n",
      "------ Topic 9 ------\n",
      "man bennet young elizabeth collins\n",
      "\n",
      "------ Topic 10 ------\n",
      "like little thought long good\n",
      "\n",
      "------ Topic 11 ------\n",
      "emma miss knightley harriet thing\n",
      "\n",
      "------ Topic 12 ------\n",
      "bretton know dr little lucy\n",
      "\n",
      "------ Topic 13 ------\n",
      "thousand mason like know sisters\n",
      "\n",
      "------ Topic 14 ------\n",
      "lydia mother wickham father uncle\n",
      "\n"
     ]
    }
   ],
   "source": [
    "for id, t in enumerate(topics): \n",
    "    print(f\"------ Topic {id} ------\")\n",
    "    print(t, end=\"\\n\\n\")"
   ]
  },
  {
   "cell_type": "markdown",
   "metadata": {},
   "source": [
    "## Challenge \n",
    "\n",
    "You will apply an LDA model to a customer review dataset to practice the fitting and estimation of LDA. "
   ]
  },
  {
   "cell_type": "markdown",
   "metadata": {},
   "source": [
    "# Interpret LDA Results (Learn)\n",
    "<a id=\"#p3\"></a>"
   ]
  },
  {
   "cell_type": "markdown",
   "metadata": {},
   "source": [
    "## Overview"
   ]
  },
  {
   "cell_type": "markdown",
   "metadata": {
    "toc-hr-collapsed": true
   },
   "source": [
    "## Follow Along"
   ]
  },
  {
   "cell_type": "markdown",
   "metadata": {},
   "source": [
    "### Topic Distance Visualization"
   ]
  },
  {
   "cell_type": "code",
   "execution_count": 37,
   "metadata": {},
   "outputs": [],
   "source": [
    "import pyLDAvis.gensim\n",
    "\n",
    "pyLDAvis.enable_notebook()"
   ]
  },
  {
   "cell_type": "code",
   "execution_count": 38,
   "metadata": {},
   "outputs": [
    {
     "data": {
      "text/html": [
       "\n",
       "<link rel=\"stylesheet\" type=\"text/css\" href=\"https://cdn.rawgit.com/bmabey/pyLDAvis/files/ldavis.v1.0.0.css\">\n",
       "\n",
       "\n",
       "<div id=\"ldavis_el871399644038171524212535966\"></div>\n",
       "<script type=\"text/javascript\">\n",
       "\n",
       "var ldavis_el871399644038171524212535966_data = {\"mdsDat\": {\"x\": [-0.08610818651915295, 0.09610758426354647, 0.06937717965104967, -0.12373254391609369, 0.11320035539594721, 0.10311346395047208, 0.11437831100790607, 0.1039180502260514, -0.011575878005094752, -0.0970321604727596, -0.14288630798544738, 0.07317449925479019, -0.0279977717189902, -0.10267618184247548, -0.08126041328974952], \"y\": [-0.00601237333019286, 0.014835010704306194, -0.06426653315048397, -0.057427229148663564, -0.08477458044174051, -0.09115054381011937, 0.018416196046983562, 0.1062541241492354, 0.029216173530454394, -0.02139435544426418, 0.006031963497476559, 0.10452145238623536, -0.05661454196118468, 0.02494558983112268, 0.07741964714083475], \"topics\": [1, 2, 3, 4, 5, 6, 7, 8, 9, 10, 11, 12, 13, 14, 15], \"cluster\": [1, 1, 1, 1, 1, 1, 1, 1, 1, 1, 1, 1, 1, 1, 1], \"Freq\": [41.97663497924805, 19.39718246459961, 11.417193412780762, 8.0346097946167, 4.910297393798828, 4.03164005279541, 3.992702007293701, 1.4895681142807007, 1.0136393308639526, 0.9997013807296753, 0.7705597281455994, 0.7670750617980957, 0.6461377739906311, 0.2971650958061218, 0.2558997571468353]}, \"tinfo\": {\"Term\": [\"like\", \"little\", \"miss\", \"know\", \"emma\", \"thought\", \"good\", \"elizabeth\", \"time\", \"jane\", \"think\", \"man\", \"elinor\", \"shall\", \"mother\", \"harriet\", \"eyes\", \"john\", \"soon\", \"hand\", \"come\", \"day\", \"saw\", \"sir\", \"young\", \"house\", \"darcy\", \"father\", \"heart\", \"bennet\", \"henri\", \"glorious\", \"brussels\", \"india\", \"vandenhuten\", \"francs\", \"oliver\", \"serene\", \"scholars\", \"hell\", \"europe\", \"sophie\", \"stool\", \"veil\", \"vocation\", \"seacombe\", \"frances\", \"briggs\", \"slip\", \"belgium\", \"swiss\", \"natures\", \"stile\", \"kneeling\", \"sunset\", \"wicket\", \"vale\", \"marchmont\", \"wardrobe\", \"practical\", \"godmother\", \"sustained\", \"stooped\", \"burning\", \"seal\", \"thornfield\", \"moon\", \"diana\", \"hunsden\", \"rochester\", \"crimsworth\", \"hannah\", \"lonely\", \"god\", \"rue\", \"blood\", \"flesh\", \"french\", \"rivers\", \"candle\", \"adele\", \"st\", \"ll\", \"english\", \"night\", \"dark\", \"hall\", \"black\", \"mdlle\", \"bright\", \"white\", \"face\", \"rose\", \"light\", \"ere\", \"strange\", \"like\", \"hand\", \"eye\", \"deep\", \"life\", \"stood\", \"eyes\", \"looked\", \"door\", \"long\", \"thought\", \"madame\", \"little\", \"saw\", \"old\", \"heart\", \"day\", \"house\", \"look\", \"come\", \"time\", \"good\", \"know\", \"room\", \"went\", \"took\", \"came\", \"left\", \"man\", \"way\", \"think\", \"shall\", \"felt\", \"jennings\", \"marianne\", \"willoughby\", \"margaret\", \"elinor\", \"steele\", \"berkeley\", \"cleveland\", \"middleton\", \"brandon\", \"charlotte\", \"dashwoods\", \"hurst\", \"middletons\", \"harley\", \"steeles\", \"palmers\", \"beaux\", \"lucas\", \"barton\", \"hunsford\", \"catherine\", \"rosings\", \"bingley\", \"thoughtfulness\", \"rapturous\", \"unwillingly\", \"magna\", \"salutation\", \"invariable\", \"ladyship\", \"collins\", \"netherfield\", \"delaford\", \"ferrars\", \"bourgh\", \"dashwood\", \"bennet\", \"elizabeth\", \"edward\", \"sister\", \"darcy\", \"palmer\", \"colonel\", \"lady\", \"mother\", \"behaviour\", \"family\", \"lucy\", \"town\", \"soon\", \"miss\", \"time\", \"replied\", \"think\", \"know\", \"great\", \"house\", \"good\", \"day\", \"little\", \"room\", \"away\", \"shall\", \"man\", \"ford\", \"patty\", \"grandmama\", \"cox\", \"friday\", \"pitcher\", \"vouchsafe\", \"harp\", \"undone\", \"longstaple\", \"rivet\", \"naivete\", \"butler\", \"charade\", \"cole\", \"larkins\", \"butcher\", \"significantly\", \"detaining\", \"banker\", \"pleasanter\", \"overtaken\", \"airing\", \"triumphantly\", \"shoot\", \"richard\", \"inequality\", \"pretending\", \"bates\", \"precise\", \"dixon\", \"campbells\", \"pianoforte\", \"crown\", \"smith\", \"campbell\", \"fairfax\", \"jane\", \"apples\", \"weston\", \"elton\", \"frank\", \"emma\", \"miss\", \"news\", \"thing\", \"perry\", \"oh\", \"dear\", \"churchill\", \"woodhouse\", \"knightley\", \"sir\", \"sure\", \"dancing\", \"shall\", \"going\", \"think\", \"know\", \"come\", \"harriet\", \"hear\", \"room\", \"great\", \"body\", \"soon\", \"good\", \"yes\", \"little\", \"heard\", \"time\", \"like\", \"came\", \"thought\", \"day\", \"away\", \"peu\", \"abbot\", \"avez\", \"grec\", \"votre\", \"athenee\", \"dans\", \"violets\", \"cholmondeley\", \"opaque\", \"assez\", \"une\", \"professors\", \"etre\", \"je\", \"tableau\", \"pens\", \"impromptu\", \"allez\", \"mal\", \"vous\", \"elle\", \"dire\", \"reflex\", \"garcon\", \"paletot\", \"isidore\", \"bourgeois\", \"ce\", \"que\", \"est\", \"cela\", \"zelie\", \"pas\", \"pierre\", \"bouquet\", \"qu\", \"bessie\", \"les\", \"ne\", \"et\", \"la\", \"comme\", \"estrade\", \"ginevra\", \"bien\", \"paul\", \"monsieur\", \"reed\", \"madame\", \"fanshawe\", \"mademoiselle\", \"emanuel\", \"dr\", \"little\", \"beck\", \"like\", \"school\", \"work\", \"door\", \"polly\", \"room\", \"bretton\", \"hand\", \"lucy\", \"eyes\", \"thought\", \"think\", \"good\", \"half\", \"day\", \"miss\", \"time\", \"know\", \"took\", \"john\", \"knew\", \"came\", \"selina\", \"knightleys\", \"approving\", \"gentility\", \"martin\", \"blindness\", \"nash\", \"surry\", \"bristol\", \"abbey\", \"farmer\", \"bath\", \"maple\", \"disgraced\", \"elegantly\", \"suckling\", \"westons\", \"resources\", \"intimately\", \"goddard\", \"gross\", \"jokes\", \"matches\", \"enscombe\", \"harriet\", \"inferred\", \"negligent\", \"grove\", \"connexion\", \"protest\", \"vicarage\", \"taylor\", \"elton\", \"weston\", \"churchills\", \"woodhouse\", \"emma\", \"knightley\", \"body\", \"hartfield\", \"highbury\", \"churchill\", \"friend\", \"man\", \"frank\", \"thing\", \"marry\", \"good\", \"young\", \"think\", \"assure\", \"people\", \"woman\", \"miss\", \"know\", \"ought\", \"little\", \"great\", \"father\", \"sure\", \"dear\", \"better\", \"like\", \"time\", \"thought\", \"mind\", \"shall\", \"isabella\", \"philosophic\", \"eltons\", \"hawkins\", \"regards\", \"saucy\", \"ostensible\", \"richmond\", \"grandmother\", \"supplying\", \"benefactress\", \"promoted\", \"bathing\", \"feelingly\", \"taylor\", \"secresy\", \"unexceptionable\", \"comprehending\", \"deceit\", \"beer\", \"windsor\", \"cooler\", \"amiss\", \"martins\", \"campbell\", \"hartfield\", \"competent\", \"dulness\", \"charmingly\", \"unfair\", \"emma\", \"knightley\", \"henry\", \"woodhouse\", \"highbury\", \"fairfax\", \"dixon\", \"harriet\", \"randalls\", \"elton\", \"perry\", \"shew\", \"weston\", \"bates\", \"poor\", \"body\", \"churchill\", \"chuse\", \"thing\", \"father\", \"miss\", \"children\", \"having\", \"home\", \"friend\", \"jane\", \"think\", \"little\", \"time\", \"dear\", \"soon\", \"good\", \"thought\", \"know\", \"shall\", \"man\", \"day\", \"great\", \"like\", \"yorkshire\", \"infamous\", \"lambton\", \"assertions\", \"create\", \"occurrences\", \"bewitching\", \"stating\", \"wilfully\", \"misconduct\", \"militia\", \"elopement\", \"inexpressibly\", \"reconciliation\", \"alluding\", \"blameless\", \"foresaw\", \"disadvantage\", \"creditable\", \"misunderstood\", \"indolence\", \"scotland\", \"unfair\", \"forwarded\", \"acquit\", \"inconveniences\", \"respectability\", \"liberally\", \"deplorable\", \"exercising\", \"involved\", \"churchills\", \"wickham\", \"gardiner\", \"fitzwilliam\", \"imprudent\", \"secrecy\", \"conduct\", \"supposing\", \"injured\", \"darcy\", \"pemberley\", \"robert\", \"elizabeth\", \"wishes\", \"aunt\", \"attachment\", \"churchill\", \"letter\", \"jane\", \"lydia\", \"engagement\", \"known\", \"particulars\", \"love\", \"affection\", \"hope\", \"marriage\", \"happiness\", \"marry\", \"know\", \"think\", \"family\", \"having\", \"frank\", \"feelings\", \"man\", \"present\", \"good\", \"miss\", \"time\", \"father\", \"soon\", \"little\", \"thought\", \"believe\", \"sister\", \"day\", \"felt\", \"brighton\", \"forster\", \"prevailing\", \"expenses\", \"lydia\", \"regiment\", \"sum\", \"gracechurch\", \"norland\", \"debts\", \"favourites\", \"despaired\", \"housekeeping\", \"pounds\", \"pledged\", \"settlement\", \"lamentations\", \"supplication\", \"disposal\", \"legal\", \"sixpence\", \"denny\", \"distresses\", \"pratt\", \"answerable\", \"accommodate\", \"cheap\", \"extravagant\", \"expressively\", \"prohibited\", \"wickham\", \"kitty\", \"uncle\", \"thousand\", \"gardiner\", \"income\", \"law\", \"longbourn\", \"dashwood\", \"father\", \"money\", \"estate\", \"mother\", \"addition\", \"ignorant\", \"married\", \"daughters\", \"assistance\", \"niece\", \"fortune\", \"bennet\", \"sure\", \"daughter\", \"elizabeth\", \"years\", \"sister\", \"soon\", \"house\", \"dear\", \"family\", \"know\", \"think\", \"great\", \"letter\", \"good\", \"time\", \"little\", \"stick\", \"eyelid\", \"rob\", \"irritating\", \"philanthropist\", \"lloyd\", \"reproaching\", \"mystic\", \"memories\", \"partners\", \"infirm\", \"henceforth\", \"establish\", \"staff\", \"vanishing\", \"lowered\", \"mud\", \"saucy\", \"acquitted\", \"grieving\", \"anecdote\", \"orphan\", \"stair\", \"flakes\", \"affianced\", \"enounced\", \"sacrificing\", \"restoration\", \"external\", \"abhorred\", \"prejudices\", \"severely\", \"merits\", \"aged\", \"tap\", \"flatter\", \"ruin\", \"pelet\", \"sisters\", \"walravens\", \"died\", \"sir\", \"poor\", \"old\", \"jane\", \"love\", \"thought\", \"like\", \"grief\", \"marie\", \"good\", \"little\", \"man\", \"false\", \"half\", \"sense\", \"lizzy\", \"bessie\", \"father\", \"oh\", \"character\", \"children\", \"mother\", \"time\", \"people\", \"think\", \"place\", \"child\", \"leave\", \"eyes\", \"young\", \"know\", \"heart\", \"shall\", \"house\", \"saw\", \"scatcherd\", \"burns\", \"doctrine\", \"tract\", \"knoll\", \"walnut\", \"reproaching\", \"print\", \"stem\", \"impunity\", \"mischievous\", \"contrasts\", \"amounted\", \"bunch\", \"bundle\", \"blossoms\", \"matched\", \"projected\", \"desiree\", \"spots\", \"pious\", \"bigben\", \"glove\", \"packing\", \"quickening\", \"scenery\", \"aimed\", \"borders\", \"brush\", \"slice\", \"infection\", \"lowood\", \"patient\", \"helen\", \"coffee\", \"dr\", \"firmness\", \"bible\", \"parents\", \"girl\", \"fully\", \"bearing\", \"madame\", \"face\", \"liked\", \"thought\", \"kept\", \"day\", \"like\", \"miss\", \"clock\", \"half\", \"chose\", \"man\", \"place\", \"long\", \"hunsden\", \"think\", \"little\", \"hand\", \"heart\", \"know\", \"time\", \"life\", \"john\", \"eyes\", \"morning\", \"victor\", \"scrutinised\", \"yorke\", \"georgette\", \"rests\", \"tints\", \"grisette\", \"portfolio\", \"sans\", \"clouded\", \"trop\", \"inquisitive\", \"nest\", \"infallibly\", \"apron\", \"rosine\", \"rien\", \"tasks\", \"puts\", \"quel\", \"fidelity\", \"scrupled\", \"bracelet\", \"walnut\", \"expanse\", \"combine\", \"elements\", \"wheeled\", \"roved\", \"obviously\", \"burdened\", \"indicated\", \"appetite\", \"midsummer\", \"doctor\", \"pictures\", \"incapacity\", \"pas\", \"hunsden\", \"hand\", \"eyes\", \"john\", \"asked\", \"dr\", \"st\", \"table\", \"saw\", \"sir\", \"like\", \"frances\", \"closed\", \"came\", \"till\", \"forehead\", \"near\", \"time\", \"heart\", \"know\", \"little\", \"kind\", \"head\", \"good\", \"face\", \"night\", \"days\", \"answer\", \"thought\", \"tell\", \"better\", \"reject\", \"prepossession\", \"pompous\", \"sanctioned\", \"supplanted\", \"refusal\", \"apologise\", \"privately\", \"affording\", \"estates\", \"proposals\", \"corps\", \"atonement\", \"assiduous\", \"forgiveness\", \"humility\", \"fare\", \"gracechurch\", \"denny\", \"cruelly\", \"uniformly\", \"disregarded\", \"olive\", \"rascal\", \"despaired\", \"philosophic\", \"clapped\", \"injurious\", \"inattentive\", \"treasured\", \"extravagance\", \"likelihood\", \"unguarded\", \"lucases\", \"conscientious\", \"falls\", \"procured\", \"nieces\", \"longbourn\", \"collins\", \"lizzy\", \"cousin\", \"bennet\", \"profession\", \"gardiner\", \"relations\", \"catherine\", \"thousand\", \"robert\", \"man\", \"young\", \"father\", \"elizabeth\", \"darcy\", \"pride\", \"living\", \"pounds\", \"daughters\", \"marriage\", \"time\", \"motive\", \"certain\", \"amiable\", \"cried\", \"friend\", \"wickham\", \"thought\", \"family\", \"letter\", \"lady\", \"given\", \"shall\", \"good\", \"house\", \"having\", \"soon\", \"jane\", \"cooled\", \"crack\", \"raving\", \"restlessly\", \"unfit\", \"softest\", \"displeasing\", \"harmless\", \"practising\", \"recur\", \"spending\", \"quadrille\", \"chicken\", \"wanderings\", \"iii\", \"encumbrance\", \"jenkinson\", \"disown\", \"gifted\", \"cake\", \"unequivocal\", \"bracelet\", \"survive\", \"wouldn\", \"beef\", \"combine\", \"fight\", \"graces\", \"verbal\", \"delirious\", \"dumb\", \"causes\", \"averted\", \"ginevra\", \"wholesome\", \"snowe\", \"bretton\", \"dr\", \"mamma\", \"fanshawe\", \"graham\", \"lucy\", \"liking\", \"know\", \"evening\", \"preferred\", \"john\", \"little\", \"thought\", \"tea\", \"old\", \"saw\", \"ladies\", \"miss\", \"acquaintance\", \"good\", \"friends\", \"seen\", \"mother\", \"certainly\", \"boy\", \"think\", \"lady\", \"knew\", \"tell\", \"thing\", \"way\", \"young\", \"like\", \"toast\", \"famished\", \"portfolio\", \"generation\", \"tyrant\", \"scent\", \"needful\", \"villain\", \"deviation\", \"rascal\", \"beef\", \"wheeled\", \"lloyd\", \"weekly\", \"unlocked\", \"petit\", \"fervid\", \"feasted\", \"hostess\", \"spurned\", \"harass\", \"sprain\", \"frigid\", \"supplication\", \"liberally\", \"fragrant\", \"strikingly\", \"statement\", \"brutal\", \"pencilled\", \"meat\", \"discerned\", \"helen\", \"tray\", \"butter\", \"cups\", \"temple\", \"irritated\", \"bread\", \"hunsden\", \"tea\", \"crimsworth\", \"depth\", \"owing\", \"adele\", \"dirty\", \"property\", \"rang\", \"salary\", \"servant\", \"burns\", \"live\", \"bell\", \"table\", \"having\", \"miss\", \"nature\", \"come\", \"suppose\", \"little\", \"taken\", \"family\", \"heart\", \"eyes\", \"shall\", \"soon\", \"good\", \"looking\", \"till\", \"felt\", \"think\", \"impediment\", \"whitcross\", \"earthquake\", \"misunderstand\", \"insuperable\", \"scenery\", \"moors\", \"solve\", \"winning\", \"brightening\", \"aghast\", \"abandon\", \"surmises\", \"misty\", \"beckoned\", \"ornamented\", \"hazardous\", \"superfluous\", \"wondrous\", \"traverse\", \"visitation\", \"accorded\", \"monitor\", \"craving\", \"musings\", \"bands\", \"aspirations\", \"argue\", \"contemplate\", \"strangeness\", \"mason\", \"lawyer\", \"coach\", \"thousand\", \"moor\", \"diana\", \"justice\", \"pounds\", \"thornfield\", \"inn\", \"sisters\", \"marry\", \"explained\", \"mary\", \"journey\", \"repeat\", \"shook\", \"free\", \"labour\", \"st\", \"sign\", \"like\", \"recalled\", \"home\", \"want\", \"asked\", \"mere\", \"know\", \"shall\", \"thought\", \"yes\", \"john\", \"tell\", \"brother\", \"rochester\", \"jane\", \"heard\", \"soon\", \"house\", \"doubt\"], \"Freq\": [1327.0, 1716.0, 1508.0, 1421.0, 819.0, 1130.0, 1344.0, 648.0, 1311.0, 907.0, 1298.0, 896.0, 700.0, 918.0, 668.0, 499.0, 640.0, 622.0, 922.0, 618.0, 829.0, 1062.0, 779.0, 591.0, 655.0, 758.0, 415.0, 495.0, 654.0, 321.0, 54.53590393066406, 29.842548370361328, 36.50960922241211, 21.046541213989258, 20.973661422729492, 22.89657974243164, 29.237354278564453, 20.94728660583496, 16.14946174621582, 18.02290916442871, 21.838768005371094, 26.59331512451172, 25.62060546875, 37.872196197509766, 15.102364540100098, 16.944730758666992, 111.97381591796875, 15.05104923248291, 20.644268035888672, 15.043269157409668, 14.087790489196777, 14.084270477294922, 14.088624000549316, 15.953422546386719, 14.073822975158691, 15.009242057800293, 13.120182991027832, 14.054675102233887, 15.94974136352539, 25.039087295532227, 28.896516799926758, 21.585718154907227, 17.78630256652832, 40.31827926635742, 22.252058029174805, 87.81771850585938, 69.84822845458984, 66.15176391601562, 125.28231048583984, 297.17315673828125, 86.28875732421875, 37.93431091308594, 33.665489196777344, 189.8876953125, 65.54437255859375, 77.76747131347656, 45.74671936035156, 135.12548828125, 52.001930236816406, 55.855228424072266, 112.59613800048828, 157.9791717529297, 124.191650390625, 183.99560546875, 451.5668640136719, 181.5941925048828, 139.7928009033203, 146.23118591308594, 95.3182373046875, 93.1007308959961, 182.59963989257812, 349.50701904296875, 177.1153564453125, 224.13478088378906, 109.62945556640625, 187.87973022460938, 768.4735107421875, 397.1271057128906, 273.8078308105469, 138.89256286621094, 353.5301818847656, 218.69300842285156, 371.213623046875, 396.58111572265625, 321.6070861816406, 485.41912841796875, 545.510986328125, 251.98231506347656, 705.6248779296875, 392.1100158691406, 275.6492004394531, 340.21630859375, 467.6456298828125, 358.14990234375, 316.70001220703125, 369.26318359375, 470.8909606933594, 475.4346008300781, 473.4025573730469, 361.0951232910156, 267.1246032714844, 264.5796813964844, 298.8508605957031, 268.95635986328125, 322.9649353027344, 289.86181640625, 336.01458740234375, 307.64599609375, 282.310791015625, 228.85093688964844, 559.9773559570312, 211.9817657470703, 35.737525939941406, 662.8995971679688, 37.59764099121094, 17.219566345214844, 26.866844177246094, 98.97901916503906, 139.20562744140625, 108.96630859375, 35.121429443359375, 35.269020080566406, 18.9477481842041, 16.012563705444336, 29.236412048339844, 10.282339096069336, 11.036614418029785, 65.69371032714844, 82.90989685058594, 23.60385513305664, 117.84317779541016, 45.4906120300293, 276.2759704589844, 7.116432189941406, 7.084925174713135, 6.1830267906188965, 10.680403709411621, 7.053989410400391, 6.142732620239258, 49.332725524902344, 154.61093139648438, 65.02564239501953, 27.257692337036133, 111.78723907470703, 34.62223815917969, 211.4933624267578, 259.1334228515625, 503.61370849609375, 255.04693603515625, 449.2288818359375, 313.33856201171875, 64.9303207397461, 198.07298278808594, 300.2381286621094, 311.0602111816406, 94.26667785644531, 177.45327758789062, 176.6448516845703, 127.61549377441406, 303.6811828613281, 411.9187927246094, 331.538330078125, 151.73501586914062, 281.24456787109375, 286.94537353515625, 214.32354736328125, 205.49256896972656, 248.799072265625, 221.0012969970703, 241.96177673339844, 197.16981506347656, 172.29351806640625, 180.5644073486328, 172.4757080078125, 14.732932090759277, 11.20015811920166, 11.966057777404785, 7.516475677490234, 6.541992664337158, 6.485713958740234, 4.679763317108154, 5.459221363067627, 4.37158203125, 6.538132190704346, 6.577264785766602, 5.5880961418151855, 5.591916084289551, 16.751501083374023, 43.15385055541992, 9.514986038208008, 4.704486846923828, 4.681623458862305, 5.385472297668457, 3.7718379497528076, 5.952303886413574, 3.76261830329895, 4.52081298828125, 3.8243536949157715, 4.45573091506958, 7.468571662902832, 3.7993266582489014, 4.958313465118408, 95.81903076171875, 4.715874671936035, 27.827457427978516, 16.642114639282227, 20.84311866760254, 25.018068313598633, 60.729408264160156, 29.049617767333984, 176.81130981445312, 380.4187927246094, 15.1282958984375, 175.638671875, 156.54241943359375, 103.4211654663086, 300.5136413574219, 495.087646484375, 51.15446090698242, 268.2508850097656, 38.85563659667969, 194.5441131591797, 200.07699584960938, 88.86528778076172, 110.20724487304688, 130.21812438964844, 182.59048461914062, 176.4849090576172, 34.35418701171875, 217.23179626464844, 114.09540557861328, 268.0814514160156, 283.46246337890625, 178.8483123779297, 127.60502624511719, 111.13433837890625, 182.27549743652344, 171.83514404296875, 85.21240234375, 179.84921264648438, 222.63128662109375, 136.36085510253906, 217.25979614257812, 132.3627471923828, 178.59324645996094, 140.61917114257812, 121.85317993164062, 130.97756958007812, 128.76596069335938, 119.0501708984375, 11.600332260131836, 22.949935913085938, 10.636560440063477, 13.111357688903809, 11.381409645080566, 8.710763931274414, 10.369791984558105, 8.52992057800293, 20.512718200683594, 5.849170207977295, 5.860101222991943, 33.272090911865234, 6.685284614562988, 5.8356218338012695, 62.055580139160156, 6.666391372680664, 7.339595317840576, 6.581936836242676, 5.7360758781433105, 4.873726844787598, 99.80790710449219, 22.063814163208008, 4.871988296508789, 5.666833877563477, 4.835779666900635, 16.797977447509766, 20.357980728149414, 8.142005920410156, 42.9742431640625, 52.99197006225586, 92.07917022705078, 16.2123966217041, 14.716730117797852, 48.71904373168945, 25.258033752441406, 11.306344032287598, 24.747957229614258, 91.55197143554688, 29.957416534423828, 27.445470809936523, 59.291934967041016, 70.24694061279297, 18.16936683654785, 26.838096618652344, 62.758846282958984, 32.21577835083008, 92.51174926757812, 127.04866027832031, 62.09306716918945, 138.39268493652344, 45.22941207885742, 57.027225494384766, 51.30478286743164, 83.84959411621094, 240.494384765625, 51.432281494140625, 137.2365264892578, 57.86956787109375, 57.08576202392578, 75.9276351928711, 35.780982971191406, 87.68495178222656, 53.8217658996582, 74.21894073486328, 61.628509521484375, 72.27506256103516, 84.72827911376953, 85.49651336669922, 83.58747100830078, 68.36077117919922, 75.07513427734375, 76.7952651977539, 74.99935150146484, 70.83348846435547, 62.50579071044922, 62.1943359375, 60.0583381652832, 59.50434875488281, 9.018301963806152, 6.348306655883789, 4.557223320007324, 6.846797466278076, 65.88252258300781, 6.7998151779174805, 10.115840911865234, 6.500765800476074, 6.540504455566406, 19.615018844604492, 8.593262672424316, 14.820816993713379, 18.9932918548584, 3.8346993923187256, 3.428067207336426, 7.744570732116699, 6.073241710662842, 10.173521041870117, 4.928796768188477, 29.171606063842773, 3.3529627323150635, 3.8391880989074707, 4.207883834838867, 17.583316802978516, 248.82237243652344, 3.7908082008361816, 4.070730686187744, 18.947641372680664, 9.597545623779297, 6.378721237182617, 8.160909652709961, 22.300830841064453, 129.5801239013672, 137.9866180419922, 7.1234211921691895, 97.26446533203125, 223.73316955566406, 103.1843032836914, 78.24658203125, 48.124000549316406, 32.72693634033203, 49.47618103027344, 72.44355010986328, 115.71952056884766, 47.15778732299805, 93.66323852539062, 40.77641677856445, 127.51852416992188, 82.26282501220703, 121.21583557128906, 34.54646682739258, 51.996620178222656, 61.1842155456543, 104.42008209228516, 99.18505096435547, 44.177406311035156, 97.96027374267578, 69.34242248535156, 56.10530471801758, 56.47564697265625, 54.33749771118164, 54.436195373535156, 67.11063385009766, 66.45915985107422, 61.0914421081543, 52.07807540893555, 48.33711624145508, 41.73904800415039, 2.8252949714660645, 11.080421447753906, 9.603262901306152, 2.7200074195861816, 2.8863563537597656, 2.823028326034546, 6.508803844451904, 6.463964939117432, 2.9494926929473877, 4.760266304016113, 3.778902292251587, 3.628443717956543, 2.828850507736206, 20.501792907714844, 2.783613920211792, 3.1326963901519775, 2.819474697113037, 3.5895421504974365, 4.3071699142456055, 2.626584053039551, 3.8255205154418945, 4.164274215698242, 5.135422706604004, 18.86250877380371, 58.55583190917969, 2.889187812805176, 2.5544095039367676, 2.8684234619140625, 2.0922224521636963, 263.8273010253906, 118.18125915527344, 10.32177734375, 81.53858947753906, 33.659305572509766, 86.006591796875, 13.479715347290039, 108.36019897460938, 24.07333755493164, 76.52792358398438, 20.995121002197266, 11.120281219482422, 74.19896697998047, 29.307785034179688, 56.63417053222656, 43.6652946472168, 36.304447174072266, 9.231353759765625, 88.49366760253906, 59.4926643371582, 123.68123626708984, 30.404775619506836, 52.72805404663086, 48.517948150634766, 43.40367889404297, 63.935428619384766, 76.75245666503906, 87.52355194091797, 71.75039672851562, 47.34100341796875, 55.15359878540039, 62.62916946411133, 54.47125244140625, 58.03160858154297, 50.58470916748047, 47.8052978515625, 45.61121368408203, 43.52128601074219, 43.1080436706543, 6.493326187133789, 6.47283411026001, 7.676290988922119, 3.854548692703247, 3.676046133041382, 4.667919635772705, 3.4461801052093506, 4.374156951904297, 3.8194191455841064, 5.952163219451904, 4.75542688369751, 5.853443145751953, 3.638162851333618, 5.027187347412109, 3.4703872203826904, 4.248002529144287, 2.9189703464508057, 5.17039680480957, 2.69938588142395, 6.041883945465088, 2.751037836074829, 6.152925968170166, 2.6566429138183594, 2.6260247230529785, 5.88374137878418, 3.657064914703369, 4.44219970703125, 2.7729275226593018, 2.8602144718170166, 2.3174729347229004, 7.92439603805542, 6.507399082183838, 68.82157897949219, 34.580467224121094, 14.250187873840332, 9.076278686523438, 10.31813907623291, 32.85659408569336, 13.75060749053955, 9.825536727905273, 75.20939636230469, 15.844932556152344, 19.77802276611328, 80.5359115600586, 24.581836700439453, 33.56355285644531, 25.639719009399414, 36.99467468261719, 54.03792953491211, 82.96405792236328, 28.85104751586914, 23.289348602294922, 38.86001968383789, 15.466482162475586, 54.61205291748047, 34.7248420715332, 49.88426971435547, 28.01419448852539, 34.764732360839844, 27.42909812927246, 73.7090072631836, 68.3602294921875, 37.34130859375, 41.21553421020508, 28.31928253173828, 34.58919143676758, 48.831356048583984, 35.04804611206055, 54.74052810668945, 55.31967544555664, 50.05504608154297, 36.616947174072266, 41.79471969604492, 47.53386306762695, 42.83272171020508, 33.9676513671875, 34.746097564697266, 35.95243453979492, 33.7803840637207, 19.339401245117188, 21.877641677856445, 2.675877571105957, 6.338188171386719, 73.6514663696289, 11.071549415588379, 11.497628211975098, 3.4961812496185303, 19.058307647705078, 7.061820030212402, 1.7863699197769165, 1.7897007465362549, 2.1936380863189697, 30.781509399414062, 1.8177237510681152, 1.7211731672286987, 2.2682290077209473, 1.7306619882583618, 2.7170591354370117, 2.5893747806549072, 1.8173179626464844, 3.3027279376983643, 2.099426031112671, 3.1255972385406494, 1.6393405199050903, 2.4236807823181152, 1.584488034248352, 3.0286197662353516, 1.5805801153182983, 1.6923291683197021, 46.58833312988281, 17.931365966796875, 33.28822708129883, 27.250396728515625, 18.62337875366211, 10.098645210266113, 14.89685344696045, 13.266077041625977, 29.939977645874023, 44.72132110595703, 16.61891746520996, 8.982024192810059, 48.90789794921875, 7.199955940246582, 8.375954627990723, 22.781143188476562, 12.615625381469727, 7.847005367279053, 7.493952751159668, 15.52309799194336, 22.229976654052734, 25.56130027770996, 17.19887924194336, 25.37289047241211, 18.02956199645996, 21.300939559936523, 23.472625732421875, 21.566516876220703, 19.457664489746094, 17.32400894165039, 23.472898483276367, 21.34928321838379, 18.83309555053711, 16.954833984375, 18.31106185913086, 18.090438842773438, 18.05626678466797, 3.424351215362549, 2.0741493701934814, 2.571533441543579, 1.8359736204147339, 1.9756096601486206, 3.4787373542785645, 1.4148144721984863, 2.117133140563965, 1.8243497610092163, 1.5265709161758423, 1.4241821765899658, 2.081873893737793, 2.014993190765381, 2.0580034255981445, 1.5520672798156738, 1.9706472158432007, 1.2975318431854248, 1.408311367034912, 1.4040651321411133, 1.9444372653961182, 1.4192003011703491, 4.4151482582092285, 2.7323174476623535, 1.1568076610565186, 1.2306952476501465, 1.2124547958374023, 1.3203721046447754, 1.345902681350708, 2.1147024631500244, 2.7413158416748047, 2.0748450756073, 2.3447682857513428, 3.5900213718414307, 2.1481587886810303, 1.6411890983581543, 4.151642799377441, 3.4601120948791504, 7.937189102172852, 10.787168502807617, 3.18577241897583, 5.487069129943848, 19.230127334594727, 13.74467658996582, 14.124618530273438, 18.882423400878906, 14.41866397857666, 18.233978271484375, 19.270870208740234, 4.66357421875, 3.4770700931549072, 16.828044891357422, 17.157136917114258, 12.867761611938477, 4.243380069732666, 10.19914436340332, 7.545932292938232, 5.1180291175842285, 5.56579065322876, 8.697278022766113, 8.430477142333984, 6.812328338623047, 6.1906352043151855, 8.382036209106445, 9.97553825378418, 6.922125339508057, 9.689228057861328, 7.5236663818359375, 6.6904520988464355, 6.943641185760498, 7.6387176513671875, 7.600593090057373, 8.562822341918945, 7.520331859588623, 7.782190322875977, 7.527803897857666, 6.842763900756836, 14.151189804077148, 14.740007400512695, 3.0904579162597656, 3.0683321952819824, 2.014608144760132, 1.6431692838668823, 1.485971212387085, 2.720154047012329, 2.127605676651001, 2.3839826583862305, 1.5269112586975098, 1.524166464805603, 1.4653425216674805, 1.4775004386901855, 1.455287218093872, 1.4325248003005981, 1.8750749826431274, 1.5229763984680176, 4.377888202667236, 1.344549536705017, 1.5578587055206299, 1.562342882156372, 1.521380066871643, 1.5244053602218628, 1.5372231006622314, 1.1935768127441406, 2.0929503440856934, 2.1588857173919678, 2.157557249069214, 2.248150587081909, 2.266528844833374, 7.842687606811523, 7.129091262817383, 7.390361309051514, 6.226179122924805, 10.609920501708984, 3.122101306915283, 2.4872782230377197, 4.62238883972168, 11.119014739990234, 4.934428691864014, 4.096166610717773, 10.490249633789062, 11.349650382995605, 7.188953399658203, 14.460043907165527, 7.315865516662598, 13.252108573913574, 14.156744003295898, 13.989447593688965, 5.6349382400512695, 9.11923599243164, 3.9224495887756348, 9.938103675842285, 8.161166191101074, 9.892404556274414, 5.348163604736328, 9.986837387084961, 10.738947868347168, 7.924622535705566, 7.825376033782959, 9.330562591552734, 8.710234642028809, 7.121378421783447, 6.945350170135498, 6.893011569976807, 6.5067548751831055, 7.810713291168213, 1.602901577949524, 3.5764729976654053, 4.061622142791748, 1.65449857711792, 2.4540233612060547, 2.4516026973724365, 1.6508548259735107, 1.6531944274902344, 1.650242805480957, 1.6540160179138184, 1.647230625152588, 1.6469658613204956, 1.651390790939331, 3.24838924407959, 7.248437404632568, 1.6495147943496704, 1.647261142730713, 1.6560724973678589, 1.6503831148147583, 1.6530132293701172, 0.8518799543380737, 1.6519958972930908, 0.8562721610069275, 0.8541598916053772, 0.8536476492881775, 1.6563749313354492, 0.8456568717956543, 0.8522590398788452, 0.8526058793067932, 1.6426032781600952, 2.455190896987915, 3.252838373184204, 1.6529709100723267, 5.666444778442383, 5.009011268615723, 1.652256965637207, 4.94405460357666, 7.187767028808594, 13.215612411499023, 12.498181343078613, 11.488195419311523, 8.986146926879883, 6.536528587341309, 5.726907730102539, 5.913450717926025, 9.37572956085205, 8.150507926940918, 10.220727920532227, 4.3423967361450195, 4.182377338409424, 7.375018119812012, 6.693480014801025, 3.3885111808776855, 5.841545581817627, 8.422185897827148, 6.7445526123046875, 8.414487838745117, 8.72140884399414, 5.832061290740967, 5.827068328857422, 7.602689266204834, 5.818053722381592, 5.77951192855835, 4.992377281188965, 4.928622722625732, 5.263107776641846, 5.055997848510742, 5.032902717590332, 2.351799488067627, 1.5784060955047607, 1.5768994092941284, 1.5727519989013672, 1.3598201274871826, 3.7636282444000244, 1.7800360918045044, 1.5643258094787598, 1.5214874744415283, 1.341181993484497, 3.353823661804199, 1.5654255151748657, 1.3712208271026611, 1.3602895736694336, 2.2867965698242188, 2.988646984100342, 1.574185848236084, 1.5792802572250366, 2.136376142501831, 2.081618547439575, 1.2909460067749023, 1.5435665845870972, 2.3362696170806885, 0.8122050762176514, 0.8160414099693298, 0.8230161666870117, 0.8172696232795715, 0.7835780382156372, 0.8146969676017761, 0.8012806177139282, 2.166268825531006, 1.5870081186294556, 1.4042643308639526, 2.0006797313690186, 1.5757383108139038, 1.5841013193130493, 3.0376884937286377, 1.76740562915802, 8.520381927490234, 15.348336219787598, 8.202997207641602, 7.186378002166748, 16.912250518798828, 3.534560203552246, 6.55224084854126, 5.175065517425537, 7.961493015289307, 7.61605167388916, 5.3338942527771, 20.724775314331055, 16.4465389251709, 14.158594131469727, 16.15338134765625, 11.79172420501709, 6.185202121734619, 7.144937992095947, 5.326171875, 5.606161117553711, 7.043461322784424, 14.938164710998535, 3.7719147205352783, 8.267926216125488, 5.117177486419678, 7.646904468536377, 8.039793014526367, 5.9805755615234375, 10.431543350219727, 7.366750717163086, 7.480920314788818, 7.879551887512207, 6.4808244705200195, 7.705230712890625, 7.561580657958984, 7.034682750701904, 6.532807350158691, 6.841786861419678, 6.597024440765381, 1.489372730255127, 1.3810029029846191, 1.4845216274261475, 1.306071400642395, 2.3904168605804443, 1.2113268375396729, 1.1908100843429565, 1.436344027519226, 1.4852198362350464, 1.2801194190979004, 2.8746860027313232, 1.362196683883667, 1.4828771352767944, 1.4885188341140747, 1.4744833707809448, 0.7458726167678833, 1.6131534576416016, 1.4882293939590454, 1.1595627069473267, 4.082098484039307, 0.7643622756004333, 1.4777936935424805, 0.7708064913749695, 1.5301321744918823, 0.7664393782615662, 0.7691565155982971, 1.3232407569885254, 2.2154197692871094, 0.7701481580734253, 1.4812133312225342, 2.3770313262939453, 1.6104202270507812, 1.2606167793273926, 10.474019050598145, 2.211097240447998, 6.060786247253418, 15.508418083190918, 14.796114921569824, 5.76670503616333, 5.554287910461426, 9.287400245666504, 10.942846298217773, 2.1123416423797607, 15.048293113708496, 8.898627281188965, 2.6222150325775146, 8.856764793395996, 13.140623092651367, 10.888041496276855, 4.583884239196777, 7.301578044891357, 8.659857749938965, 5.754085063934326, 10.866816520690918, 5.470506191253662, 10.205986976623535, 5.845070838928223, 6.392600059509277, 7.249908447265625, 5.661180019378662, 3.329869270324707, 7.804432392120361, 6.2938103675842285, 5.7644124031066895, 5.63522481918335, 6.019773483276367, 5.731730937957764, 5.686474323272705, 5.7356648445129395, 2.456228256225586, 1.7633178234100342, 1.8215796947479248, 1.2475452423095703, 3.665083885192871, 1.24764084815979, 1.8556280136108398, 1.2483294010162354, 0.6429603099822998, 0.645699679851532, 0.6443244814872742, 0.6432245969772339, 1.2499524354934692, 0.6449613571166992, 0.6434365510940552, 0.6340749859809875, 0.6453420519828796, 0.6449227333068848, 0.6428759098052979, 0.6415778994560242, 0.6305208206176758, 0.6057343482971191, 0.6021561026573181, 0.6438459753990173, 0.6456484198570251, 0.6442344784736633, 0.6373389363288879, 0.6427842974662781, 0.6471467018127441, 0.6455769538879395, 1.9493621587753296, 1.2477295398712158, 4.448059558868408, 1.8540716171264648, 1.3375862836837769, 1.2491428852081299, 4.334008693695068, 1.855961799621582, 3.7723371982574463, 6.201241493225098, 3.758094310760498, 3.1334950923919678, 1.1926971673965454, 1.2229293584823608, 3.0865237712860107, 1.2495454549789429, 1.7159582376480103, 1.7389509677886963, 1.2509803771972656, 2.4714434146881104, 1.313913106918335, 3.111407995223999, 2.3311939239501953, 2.966956615447998, 3.599674701690674, 4.850584506988525, 2.884377956390381, 3.751465320587158, 2.536877393722534, 3.3054935932159424, 2.269368886947632, 2.4119060039520264, 2.570171356201172, 2.5565412044525146, 2.5950064659118652, 2.5030605792999268, 2.4703211784362793, 2.2216172218322754, 2.219022750854492, 2.0419092178344727, 2.01934814453125, 2.284214973449707, 2.341815948486328, 1.087765097618103, 1.1819179058074951, 0.9998121857643127, 0.6087278723716736, 1.1831855773925781, 0.6093116402626038, 0.6106789112091064, 0.6097039580345154, 0.6080416440963745, 0.6110738515853882, 0.6037824153900146, 0.60997074842453, 0.6058076024055481, 0.5900974869728088, 0.6105207204818726, 0.6096634268760681, 0.613609254360199, 0.6101214289665222, 0.6097065210342407, 0.6091481447219849, 0.6093703508377075, 0.6085649728775024, 0.6061791777610779, 0.6081161499023438, 0.6078989505767822, 0.6089266538619995, 0.6105514168739319, 0.6073241829872131, 4.6074042320251465, 0.8254496455192566, 2.912984609603882, 5.893467426300049, 1.7572505474090576, 3.4831995964050293, 3.4790759086608887, 3.0229427814483643, 2.977620840072632, 1.7648826837539673, 3.5102291107177734, 2.9456241130828857, 1.4973496198654175, 2.347212314605713, 1.7654787302017212, 1.2595893144607544, 1.7712634801864624, 1.772269368171692, 1.1889575719833374, 2.350850820541382, 1.1910302639007568, 4.2890706062316895, 1.1817368268966675, 2.979055166244507, 2.5515551567077637, 2.692434072494507, 1.7826632261276245, 3.863961935043335, 3.1463544368743896, 3.0986363887786865, 2.553354263305664, 2.518174409866333, 2.3847897052764893, 2.070125102996826, 2.0300605297088623, 1.9638203382492065, 1.8989953994750977, 1.8746720552444458, 1.8633768558502197, 1.8216551542282104], \"Total\": [1327.0, 1716.0, 1508.0, 1421.0, 819.0, 1130.0, 1344.0, 648.0, 1311.0, 907.0, 1298.0, 896.0, 700.0, 918.0, 668.0, 499.0, 640.0, 622.0, 922.0, 618.0, 829.0, 1062.0, 779.0, 591.0, 655.0, 758.0, 415.0, 495.0, 654.0, 321.0, 56.220741271972656, 31.115392684936523, 38.15986633300781, 22.02349853515625, 21.986835479736328, 24.022565841674805, 30.70751953125, 22.030590057373047, 16.994653701782227, 19.00174331665039, 23.032089233398438, 28.049217224121094, 27.04318618774414, 40.00201416015625, 15.97864818572998, 17.94529914855957, 118.69865417480469, 15.961442947387695, 21.895021438598633, 15.954987525939941, 14.953006744384766, 14.961294174194336, 14.967308044433594, 16.96066665649414, 14.96750545501709, 15.963214874267578, 13.960885047912598, 14.959482192993164, 16.98253631591797, 26.67136001586914, 30.879716873168945, 23.021259307861328, 18.98270034790039, 43.93130874633789, 23.942960739135742, 98.66444396972656, 78.12376403808594, 74.16116333007812, 145.5833740234375, 362.9359436035156, 98.78202056884766, 41.87327194213867, 36.966407775878906, 230.24539184570312, 74.69477844238281, 89.9931411743164, 51.20766830444336, 163.1467742919922, 58.9036979675293, 63.629486083984375, 135.37852478027344, 196.4216766357422, 151.22474670410156, 233.0752410888672, 626.948974609375, 230.73672485351562, 174.22157287597656, 185.47462463378906, 115.30758666992188, 112.52693939208984, 237.90838623046875, 502.4181213378906, 235.68907165527344, 309.6033935546875, 137.51307678222656, 256.27996826171875, 1327.8983154296875, 618.946044921875, 402.9647216796875, 184.42649841308594, 585.0172729492188, 327.27801513671875, 640.6199951171875, 706.02783203125, 540.8363647460938, 943.9425659179688, 1130.95361328125, 410.19482421875, 1716.6597900390625, 779.0604248046875, 478.0061340332031, 654.98974609375, 1062.1043701171875, 758.7445678710938, 643.1641845703125, 829.0633544921875, 1311.2867431640625, 1344.4154052734375, 1421.55908203125, 890.5035400390625, 498.0842590332031, 498.4920959472656, 687.428955078125, 541.0220336914062, 896.0826416015625, 690.5780639648438, 1298.8768310546875, 918.6448974609375, 670.2940673828125, 236.7852325439453, 579.8754272460938, 221.30255126953125, 37.59911346435547, 700.3634033203125, 39.79792022705078, 18.301837921142578, 28.560691833496094, 105.2347183227539, 148.01873779296875, 116.49824523925781, 37.60784912109375, 37.77707290649414, 20.334230422973633, 17.260929107666016, 31.599084854125977, 11.126075744628906, 12.131194114685059, 72.32201385498047, 91.33929443359375, 26.08702278137207, 131.478271484375, 50.89112854003906, 311.1388854980469, 8.020185470581055, 8.011634826660156, 7.0034356117248535, 12.111346244812012, 8.01708698272705, 7.000110149383545, 56.408023834228516, 179.0019989013672, 74.77790069580078, 31.090328216552734, 131.2275848388672, 39.78105926513672, 253.1272430419922, 321.7660827636719, 648.1431884765625, 322.2552490234375, 598.0170288085938, 415.87310791015625, 78.90841674804688, 308.33575439453125, 628.122314453125, 668.0450439453125, 145.38739013671875, 379.60906982421875, 379.802734375, 240.18116760253906, 922.4537963867188, 1508.1148681640625, 1311.2867431640625, 347.3626708984375, 1298.8768310546875, 1421.55908203125, 820.7742919921875, 758.7445678710938, 1344.4154052734375, 1062.1043701171875, 1716.6597900390625, 890.5035400390625, 679.4675903320312, 918.6448974609375, 896.0826416015625, 15.828614234924316, 12.07765007019043, 13.018684387207031, 8.331920623779297, 7.3868608474731445, 7.348560333251953, 5.494349002838135, 6.448273658752441, 5.515427112579346, 8.249848365783691, 8.353365898132324, 7.28690767288208, 7.387791633605957, 22.45748519897461, 58.20212173461914, 13.045059204101562, 6.488324165344238, 6.477185249328613, 7.451512813568115, 5.257288455963135, 8.376480102539062, 5.316402912139893, 6.39426326751709, 5.496735572814941, 6.435981273651123, 10.843945503234863, 5.562034606933594, 7.376944065093994, 142.9168701171875, 7.0893425941467285, 42.247291564941406, 25.312992095947266, 32.45232391357422, 40.88859939575195, 108.41777038574219, 48.8957405090332, 360.1021423339844, 907.819091796875, 24.507709503173828, 417.4347839355469, 366.5627136230469, 227.97076416015625, 819.7149658203125, 1508.1148681640625, 104.28661346435547, 769.9541015625, 76.36157989501953, 549.5090942382812, 579.9534912109375, 213.0088653564453, 296.6419677734375, 369.0427551269531, 591.0789184570312, 609.24072265625, 69.0185775756836, 918.6448974609375, 378.702392578125, 1298.8768310546875, 1421.55908203125, 829.0633544921875, 499.28045654296875, 405.544677734375, 890.5035400390625, 820.7742919921875, 268.7906799316406, 922.4537963867188, 1344.4154052734375, 592.4498901367188, 1716.6597900390625, 621.6403198242188, 1311.2867431640625, 1327.8983154296875, 687.428955078125, 1130.95361328125, 1062.1043701171875, 679.4675903320312, 12.597092628479004, 25.06016731262207, 11.620368957519531, 14.497467994689941, 12.61154556274414, 9.658661842346191, 11.574233055114746, 9.663078308105469, 23.439319610595703, 6.702526092529297, 6.71942663192749, 38.1785888671875, 7.690414905548096, 6.715005874633789, 71.5169677734375, 7.695186614990234, 8.536219596862793, 7.693503379821777, 6.716296672821045, 5.723782062530518, 117.33219909667969, 25.975255966186523, 5.737246036529541, 6.7214179039001465, 5.739294052124023, 19.93669319152832, 24.18000602722168, 9.679302215576172, 51.09382247924805, 63.0875129699707, 109.74592590332031, 19.321308135986328, 17.551883697509766, 59.444053649902344, 31.37845802307129, 13.61894702911377, 31.186079025268555, 127.15211486816406, 39.29074478149414, 36.15663528442383, 85.04650115966797, 105.82605743408203, 23.506309509277344, 38.18714904785156, 107.93832397460938, 48.11981201171875, 184.15533447265625, 283.7609558105469, 128.02442932128906, 410.19482421875, 85.12496948242188, 120.7911605834961, 107.9979019165039, 227.34841918945312, 1716.6597900390625, 166.20602416992188, 1327.8983154296875, 247.43736267089844, 257.2961730957031, 540.8363647460938, 80.4112777709961, 890.5035400390625, 239.33480834960938, 618.946044921875, 379.802734375, 640.6199951171875, 1130.95361328125, 1298.8768310546875, 1344.4154052734375, 585.3181762695312, 1062.1043701171875, 1508.1148681640625, 1311.2867431640625, 1421.55908203125, 498.4920959472656, 622.1394653320312, 547.0242309570312, 687.428955078125, 10.409207344055176, 7.53377103805542, 5.629599571228027, 8.49817180633545, 81.94810485839844, 8.489712715148926, 13.243132591247559, 9.441630363464355, 9.525952339172363, 30.356464385986328, 13.48520565032959, 23.665355682373047, 30.35232162475586, 6.2412848472595215, 5.672065734863281, 14.136186599731445, 11.260431289672852, 19.353662490844727, 9.442097663879395, 55.954978942871094, 6.564345836639404, 7.516891956329346, 8.382675170898438, 35.085575103759766, 499.28045654296875, 7.626829624176025, 8.24217414855957, 39.13017654418945, 19.91703987121582, 13.241365432739258, 17.018321990966797, 48.492919921875, 366.5627136230469, 417.4347839355469, 15.163869857788086, 296.6419677734375, 819.7149658203125, 369.0427551269531, 268.7906799316406, 152.30604553222656, 118.60871124267578, 213.0088653564453, 430.93255615234375, 896.0826416015625, 227.97076416015625, 769.9541015625, 199.98275756835938, 1344.4154052734375, 655.4844970703125, 1298.8768310546875, 151.89620971679688, 336.38671875, 470.6153869628906, 1508.1148681640625, 1421.55908203125, 268.8470764160156, 1716.6597900390625, 820.7742919921875, 495.8571472167969, 609.24072265625, 579.9534912109375, 608.6268920898438, 1327.8983154296875, 1311.2867431640625, 1130.95361328125, 575.1890869140625, 918.6448974609375, 66.55352783203125, 5.399856090545654, 21.687236785888672, 18.861358642578125, 5.3959760665893555, 5.806450366973877, 5.682054042816162, 13.129861831665039, 13.156730651855469, 6.079695224761963, 10.569334030151367, 8.60876750946045, 8.36911392211914, 6.546566963195801, 48.492919921875, 6.597133636474609, 7.43308687210083, 6.710008144378662, 8.584712028503418, 10.657422065734863, 6.520881652832031, 9.623136520385742, 10.5303316116333, 13.209076881408691, 48.8957405090332, 152.30604553222656, 7.574760913848877, 6.699655055999756, 7.53515625, 5.593673229217529, 819.7149658203125, 369.0427551269531, 30.020788192749023, 296.6419677734375, 118.60871124267578, 360.1021423339844, 42.247291564941406, 499.28045654296875, 85.60416412353516, 366.5627136230469, 76.36157989501953, 36.021385192871094, 417.4347839355469, 142.9168701171875, 380.79644775390625, 268.7906799316406, 213.0088653564453, 30.181133270263672, 769.9541015625, 495.8571472167969, 1508.1148681640625, 207.61029052734375, 533.9445190429688, 489.4727478027344, 430.93255615234375, 907.819091796875, 1298.8768310546875, 1716.6597900390625, 1311.2867431640625, 579.9534912109375, 922.4537963867188, 1344.4154052734375, 1130.95361328125, 1421.55908203125, 918.6448974609375, 896.0826416015625, 1062.1043701171875, 820.7742919921875, 1327.8983154296875, 8.447579383850098, 8.450754165649414, 10.518550872802734, 5.593129634857178, 5.562685012817383, 7.490851879119873, 5.5627121925354, 7.326757431030273, 6.628725528717041, 10.391053199768066, 8.448546409606934, 10.568921089172363, 6.660984039306641, 9.579995155334473, 6.642933368682861, 8.297625541687012, 5.754665374755859, 10.382712364196777, 5.526625156402588, 12.490864753723145, 5.7058868408203125, 12.92572021484375, 5.593673229217529, 5.535555839538574, 12.452465057373047, 7.741053104400635, 9.6148681640625, 6.027450084686279, 6.447245121002197, 5.224635124206543, 18.287944793701172, 15.163869857788086, 184.51535034179688, 90.81008911132812, 36.74996566772461, 22.82839012145996, 27.8702449798584, 117.41849517822266, 39.9461784362793, 27.54456901550293, 415.87310791015625, 53.5582160949707, 75.47402954101562, 648.1431884765625, 110.7013931274414, 177.86180114746094, 120.12258911132812, 213.0088653564453, 425.1668701171875, 907.819091796875, 160.92274475097656, 115.33563232421875, 273.349853515625, 59.625362396240234, 567.3367309570312, 261.4759826660156, 503.17877197265625, 182.12008666992188, 277.1397705078125, 199.98275756835938, 1421.55908203125, 1298.8768310546875, 379.60906982421875, 533.9445190429688, 227.97076416015625, 379.3539123535156, 896.0826416015625, 410.9885559082031, 1344.4154052734375, 1508.1148681640625, 1311.2867431640625, 495.8571472167969, 922.4537963867188, 1716.6597900390625, 1130.95361328125, 455.9915771484375, 598.0170288085938, 1062.1043701171875, 670.2940673828125, 22.331510543823242, 36.504150390625, 5.278599262237549, 12.866180419921875, 160.92274475097656, 24.94223976135254, 28.23868751525879, 8.759200096130371, 51.820064544677734, 19.815183639526367, 5.303014755249023, 5.3392815589904785, 6.580012321472168, 93.62004089355469, 5.566330909729004, 5.631660461425781, 7.559150695800781, 5.992067337036133, 9.626640319824219, 9.248283386230469, 6.498366355895996, 11.863247871398926, 7.544120788574219, 11.25509262084961, 6.032145023345947, 8.946995735168457, 5.9384765625, 11.372394561767578, 5.954452037811279, 6.565293788909912, 184.51535034179688, 71.11000061035156, 149.89080810546875, 129.65953063964844, 90.81008911132812, 49.63254928588867, 88.31861114501953, 85.50310516357422, 253.1272430419922, 495.8571472167969, 131.6226348876953, 54.80339813232422, 668.0450439453125, 41.044315338134766, 52.767417907714844, 243.69580078125, 106.0498046875, 50.74677276611328, 47.406105041503906, 168.9977569580078, 321.7660827636719, 609.24072265625, 272.2898254394531, 648.1431884765625, 314.25592041015625, 598.0170288085938, 922.4537963867188, 758.7445678710938, 579.9534912109375, 379.60906982421875, 1421.55908203125, 1298.8768310546875, 820.7742919921875, 425.1668701171875, 1344.4154052734375, 1311.2867431640625, 1716.6597900390625, 4.245922088623047, 4.869738578796387, 6.624996662139893, 5.02130651473999, 5.755512714385986, 10.400627136230469, 4.615805149078369, 6.927215099334717, 6.042677879333496, 5.10171365737915, 5.207815647125244, 7.871260166168213, 7.657686710357666, 7.933851718902588, 6.104855060577393, 7.827945709228516, 5.181715488433838, 5.806450366973877, 5.838866233825684, 8.08901309967041, 5.926259994506836, 18.577598571777344, 11.655427932739258, 4.969724655151367, 5.32294225692749, 5.303813457489014, 5.919677734375, 6.0493645668029785, 9.505411148071289, 12.339125633239746, 9.884024620056152, 11.584022521972656, 21.05453872680664, 10.939626693725586, 7.837982654571533, 28.952585220336914, 25.95219612121582, 106.9736328125, 183.24990844726562, 23.533891677856445, 61.94131088256836, 591.0789184570312, 380.79644775390625, 478.0061340332031, 907.819091796875, 567.3367309570312, 1130.95361328125, 1327.8983154296875, 58.82024002075195, 29.43385124206543, 1344.4154052734375, 1716.6597900390625, 896.0826416015625, 53.28239059448242, 585.3181762695312, 276.0174255371094, 92.61238098144531, 127.15211486816406, 495.8571472167969, 549.5090942382812, 289.24945068359375, 207.61029052734375, 668.0450439453125, 1311.2867431640625, 336.38671875, 1298.8768310546875, 504.4615478515625, 297.7615661621094, 383.26318359375, 640.6199951171875, 655.4844970703125, 1421.55908203125, 654.98974609375, 918.6448974609375, 758.7445678710938, 779.0604248046875, 18.942413330078125, 26.938289642333984, 8.804021835327148, 8.756633758544922, 6.124768257141113, 5.062514305114746, 4.615805149078369, 8.957123756408691, 7.099897384643555, 7.985763072967529, 5.267825603485107, 5.342305660247803, 5.233664035797119, 5.310473442077637, 5.348503112792969, 5.328589916229248, 7.167206764221191, 5.9296464920043945, 17.445737838745117, 5.386646270751953, 6.285040855407715, 6.316723823547363, 6.231975555419922, 6.258354187011719, 6.341605186462402, 4.974432468414307, 8.742806434631348, 9.110087394714355, 9.146674156188965, 9.736616134643555, 9.957231521606445, 53.23227310180664, 53.57999801635742, 58.38899612426758, 48.527217864990234, 227.34841918945312, 22.901430130004883, 14.967327117919922, 51.692630767822266, 304.9573669433594, 62.69025802612305, 44.87459182739258, 410.19482421875, 502.4181213378906, 193.50575256347656, 1130.95361328125, 209.72613525390625, 1062.1043701171875, 1327.8983154296875, 1508.1148681640625, 133.1426239013672, 585.3181762695312, 51.83258056640625, 896.0826416015625, 504.4615478515625, 943.9425659179688, 145.5833740234375, 1298.8768310546875, 1716.6597900390625, 618.946044921875, 654.98974609375, 1421.55908203125, 1311.2867431640625, 585.0172729492188, 622.1394653320312, 640.6199951171875, 511.173583984375, 21.52127456665039, 5.100592613220215, 12.731549263000488, 15.168315887451172, 6.473465442657471, 9.869010925292969, 10.231100082397461, 7.1328558921813965, 7.145633697509766, 7.1610870361328125, 7.351251125335693, 7.4166741371154785, 7.434502124786377, 7.471770286560059, 15.15351676940918, 35.153995513916016, 8.32448673248291, 9.239092826843262, 9.309028625488281, 9.341216087341309, 9.461316108703613, 4.915973663330078, 9.67368221282959, 5.062514305114746, 5.087342262268066, 5.193533420562744, 10.227706909179688, 5.233825206756592, 5.278170585632324, 5.326350212097168, 10.510173797607422, 16.307205200195312, 24.020055770874023, 11.213726043701172, 48.4514045715332, 43.46185302734375, 11.35727596282959, 59.444053649902344, 145.5833740234375, 618.946044921875, 640.6199951171875, 622.1394653320312, 397.8523864746094, 227.34841918945312, 196.4216766357422, 236.3556365966797, 779.0604248046875, 591.0789184570312, 1327.8983154296875, 118.69865417480469, 115.4183578491211, 687.428955078125, 516.4208984375, 63.78544616699219, 362.56585693359375, 1311.2867431640625, 654.98974609375, 1421.55908203125, 1716.6597900390625, 407.0159606933594, 411.2638244628906, 1344.4154052734375, 502.4181213378906, 626.948974609375, 288.95880126953125, 349.7893981933594, 1130.95361328125, 540.1314697265625, 608.6268920898438, 7.101290225982666, 5.238177299499512, 5.336915969848633, 5.397181510925293, 5.256697654724121, 14.615663528442383, 7.970510482788086, 7.236701011657715, 7.198140621185303, 6.3524489402771, 16.116958618164062, 8.091538429260254, 7.200192928314209, 7.286745071411133, 12.338229179382324, 16.44260025024414, 8.728571891784668, 8.759200096130371, 11.863247871398926, 12.085594177246094, 7.514378547668457, 9.196657180786133, 13.953652381896973, 5.062422752380371, 5.3392815589904785, 5.399856090545654, 5.367523193359375, 5.152315139770508, 5.397023677825928, 5.33438777923584, 14.893340110778809, 10.825237274169922, 9.531869888305664, 14.569979667663574, 11.143339157104492, 11.263114929199219, 23.775312423706055, 12.834063529968262, 85.50310516357422, 179.0019989013672, 92.61238098144531, 90.987548828125, 321.7660827636719, 34.6512336730957, 90.81008911132812, 64.5831527709961, 131.478271484375, 129.65953063964844, 75.47402954101562, 896.0826416015625, 655.4844970703125, 495.8571472167969, 648.1431884765625, 415.87310791015625, 124.7978286743164, 171.68263244628906, 93.62004089355469, 106.0498046875, 182.12008666992188, 1311.2867431640625, 45.17389678955078, 340.2809753417969, 102.67269134521484, 367.1308288574219, 430.93255615234375, 184.51535034179688, 1130.95361328125, 379.60906982421875, 425.1668701171875, 628.122314453125, 329.469970703125, 918.6448974609375, 1344.4154052734375, 758.7445678710938, 533.9445190429688, 922.4537963867188, 907.819091796875, 5.246014595031738, 5.321938991546631, 5.956885814666748, 5.365128517150879, 9.995226860046387, 5.330883502960205, 5.329675197601318, 6.828031063079834, 7.14133358001709, 6.257478713989258, 14.83552360534668, 7.377843856811523, 8.070971488952637, 8.131196975708008, 8.124611854553223, 4.143798351287842, 9.4443359375, 9.343216896057129, 7.397614479064941, 26.160179138183594, 4.958049297332764, 9.67368221282959, 5.079748630523682, 10.202742576599121, 5.113838195800781, 5.193533420562744, 9.112199783325195, 15.350931167602539, 5.377138614654541, 10.355229377746582, 16.652070999145508, 11.743917465209961, 8.971916198730469, 107.93832397460938, 17.352760314941406, 58.21965026855469, 239.33480834960938, 227.34841918945312, 66.5361328125, 85.12496948242188, 222.82028198242188, 379.802734375, 19.61382484436035, 1421.55908203125, 487.5951843261719, 32.9832878112793, 622.1394653320312, 1716.6597900390625, 1130.95361328125, 134.25982666015625, 478.0061340332031, 779.0604248046875, 266.77044677734375, 1508.1148681640625, 242.4579620361328, 1344.4154052734375, 309.3077697753906, 446.63702392578125, 668.0450439453125, 331.67913818359375, 66.84112548828125, 1298.8768310546875, 628.122314453125, 547.0242309570312, 540.1314697265625, 769.9541015625, 690.5780639648438, 655.4844970703125, 1327.8983154296875, 7.261703968048096, 6.3664398193359375, 7.1328558921813965, 5.642975807189941, 17.40736961364746, 6.775529384613037, 11.53293514251709, 7.9818878173828125, 5.022143840789795, 5.062422752380371, 5.113838195800781, 5.233825206756592, 10.400627136230469, 5.411377906799316, 5.405318737030029, 5.355437278747559, 5.469457149505615, 5.472241401672363, 5.481777191162109, 5.48408842086792, 5.390367031097412, 5.462594509124756, 5.465054512023926, 5.992067337036133, 6.027450084686279, 6.184792518615723, 6.148475646972656, 6.301778793334961, 6.390701770782471, 6.398835182189941, 19.47701644897461, 12.670541763305664, 58.38899612426758, 21.68815040588379, 14.822427749633789, 13.968499183654785, 72.29208374023438, 24.831830978393555, 71.47865295410156, 145.5833740234375, 134.25982666015625, 98.78202056884766, 18.17995262145996, 19.85721206665039, 135.37852478027344, 22.1451473236084, 44.80978012084961, 51.02962112426758, 23.8369140625, 120.93863677978516, 26.938289642333984, 212.26614379882812, 108.19699096679688, 236.3556365966797, 533.9445190429688, 1508.1148681640625, 310.1371765136719, 829.0633544921875, 341.96453857421875, 1716.6597900390625, 251.48194885253906, 379.60906982421875, 654.98974609375, 640.6199951171875, 918.6448974609375, 922.4537963867188, 1344.4154052734375, 375.1781005859375, 516.4208984375, 670.2940673828125, 1298.8768310546875, 6.996689319610596, 9.120141983032227, 5.067083835601807, 6.905231475830078, 6.054958343505859, 4.974432468414307, 10.051750183105469, 5.19884729385376, 5.322065353393555, 5.350581169128418, 5.38437557220459, 5.425882339477539, 5.366827011108398, 5.433303356170654, 5.444713115692139, 5.390523433685303, 6.180295944213867, 6.228649139404297, 6.353395462036133, 6.424041748046875, 6.4240312576293945, 6.445520877838135, 6.452558994293213, 6.445854663848877, 6.420639991760254, 6.44997501373291, 6.44985294342041, 7.171694278717041, 7.317676067352295, 7.331250190734863, 56.88555908203125, 10.124013900756836, 40.554832458496094, 129.65953063964844, 27.7626953125, 74.16116333007812, 86.37442779541016, 93.62004089355469, 98.66444396972656, 43.1832275390625, 183.24990844726562, 199.98275756835938, 45.04149627685547, 149.41488647460938, 78.7688217163086, 34.439395904541016, 85.91018676757812, 87.57022094726562, 31.219755172729492, 196.4216766357422, 33.393070220947266, 1327.8983154296875, 33.581233978271484, 489.4727478027344, 321.7320861816406, 397.8523864746094, 116.13294982910156, 1421.55908203125, 918.6448974609375, 1130.95361328125, 592.4498901367188, 622.1394653320312, 540.1314697265625, 284.6687316894531, 362.9359436035156, 907.819091796875, 621.6403198242188, 922.4537963867188, 758.7445678710938, 313.7321472167969], \"Category\": [\"Default\", \"Default\", \"Default\", \"Default\", \"Default\", \"Default\", \"Default\", \"Default\", \"Default\", \"Default\", \"Default\", \"Default\", \"Default\", \"Default\", \"Default\", \"Default\", \"Default\", \"Default\", \"Default\", \"Default\", \"Default\", \"Default\", \"Default\", \"Default\", \"Default\", \"Default\", \"Default\", \"Default\", \"Default\", \"Default\", \"Topic1\", \"Topic1\", \"Topic1\", \"Topic1\", \"Topic1\", \"Topic1\", \"Topic1\", \"Topic1\", \"Topic1\", \"Topic1\", \"Topic1\", \"Topic1\", \"Topic1\", \"Topic1\", \"Topic1\", \"Topic1\", \"Topic1\", \"Topic1\", \"Topic1\", \"Topic1\", \"Topic1\", \"Topic1\", \"Topic1\", \"Topic1\", \"Topic1\", \"Topic1\", \"Topic1\", \"Topic1\", \"Topic1\", \"Topic1\", \"Topic1\", \"Topic1\", \"Topic1\", \"Topic1\", \"Topic1\", \"Topic1\", \"Topic1\", \"Topic1\", \"Topic1\", \"Topic1\", \"Topic1\", \"Topic1\", \"Topic1\", \"Topic1\", \"Topic1\", \"Topic1\", \"Topic1\", \"Topic1\", \"Topic1\", \"Topic1\", \"Topic1\", \"Topic1\", \"Topic1\", \"Topic1\", \"Topic1\", \"Topic1\", \"Topic1\", \"Topic1\", \"Topic1\", \"Topic1\", \"Topic1\", \"Topic1\", \"Topic1\", \"Topic1\", \"Topic1\", \"Topic1\", \"Topic1\", \"Topic1\", \"Topic1\", \"Topic1\", \"Topic1\", \"Topic1\", \"Topic1\", \"Topic1\", \"Topic1\", \"Topic1\", \"Topic1\", \"Topic1\", \"Topic1\", \"Topic1\", \"Topic1\", \"Topic1\", \"Topic1\", \"Topic1\", \"Topic1\", \"Topic1\", \"Topic1\", \"Topic1\", \"Topic1\", \"Topic1\", \"Topic1\", \"Topic1\", \"Topic1\", \"Topic1\", \"Topic1\", \"Topic1\", \"Topic1\", \"Topic1\", \"Topic1\", \"Topic2\", \"Topic2\", \"Topic2\", \"Topic2\", \"Topic2\", \"Topic2\", \"Topic2\", \"Topic2\", \"Topic2\", \"Topic2\", \"Topic2\", \"Topic2\", \"Topic2\", \"Topic2\", \"Topic2\", \"Topic2\", \"Topic2\", \"Topic2\", \"Topic2\", \"Topic2\", \"Topic2\", \"Topic2\", \"Topic2\", \"Topic2\", \"Topic2\", \"Topic2\", \"Topic2\", \"Topic2\", \"Topic2\", \"Topic2\", \"Topic2\", \"Topic2\", \"Topic2\", \"Topic2\", \"Topic2\", \"Topic2\", \"Topic2\", \"Topic2\", \"Topic2\", \"Topic2\", \"Topic2\", \"Topic2\", \"Topic2\", \"Topic2\", \"Topic2\", \"Topic2\", \"Topic2\", \"Topic2\", \"Topic2\", \"Topic2\", \"Topic2\", \"Topic2\", \"Topic2\", \"Topic2\", \"Topic2\", \"Topic2\", \"Topic2\", \"Topic2\", \"Topic2\", \"Topic2\", \"Topic2\", \"Topic2\", \"Topic2\", \"Topic2\", \"Topic2\", \"Topic3\", \"Topic3\", \"Topic3\", \"Topic3\", \"Topic3\", \"Topic3\", \"Topic3\", \"Topic3\", \"Topic3\", \"Topic3\", \"Topic3\", \"Topic3\", \"Topic3\", \"Topic3\", \"Topic3\", \"Topic3\", \"Topic3\", \"Topic3\", \"Topic3\", \"Topic3\", \"Topic3\", \"Topic3\", \"Topic3\", \"Topic3\", \"Topic3\", \"Topic3\", \"Topic3\", \"Topic3\", \"Topic3\", \"Topic3\", \"Topic3\", \"Topic3\", \"Topic3\", \"Topic3\", \"Topic3\", \"Topic3\", \"Topic3\", \"Topic3\", \"Topic3\", \"Topic3\", \"Topic3\", \"Topic3\", \"Topic3\", \"Topic3\", \"Topic3\", \"Topic3\", \"Topic3\", \"Topic3\", \"Topic3\", \"Topic3\", \"Topic3\", \"Topic3\", \"Topic3\", \"Topic3\", \"Topic3\", \"Topic3\", \"Topic3\", \"Topic3\", \"Topic3\", \"Topic3\", \"Topic3\", \"Topic3\", \"Topic3\", \"Topic3\", \"Topic3\", \"Topic3\", \"Topic3\", \"Topic3\", \"Topic3\", \"Topic3\", \"Topic3\", \"Topic3\", \"Topic3\", \"Topic3\", \"Topic3\", \"Topic3\", \"Topic4\", \"Topic4\", \"Topic4\", \"Topic4\", \"Topic4\", \"Topic4\", \"Topic4\", \"Topic4\", \"Topic4\", \"Topic4\", \"Topic4\", \"Topic4\", \"Topic4\", \"Topic4\", \"Topic4\", \"Topic4\", \"Topic4\", \"Topic4\", \"Topic4\", \"Topic4\", \"Topic4\", \"Topic4\", \"Topic4\", \"Topic4\", \"Topic4\", \"Topic4\", \"Topic4\", \"Topic4\", \"Topic4\", \"Topic4\", \"Topic4\", \"Topic4\", \"Topic4\", \"Topic4\", \"Topic4\", \"Topic4\", \"Topic4\", \"Topic4\", \"Topic4\", \"Topic4\", \"Topic4\", \"Topic4\", \"Topic4\", \"Topic4\", \"Topic4\", \"Topic4\", \"Topic4\", \"Topic4\", \"Topic4\", \"Topic4\", \"Topic4\", \"Topic4\", \"Topic4\", \"Topic4\", \"Topic4\", \"Topic4\", \"Topic4\", \"Topic4\", \"Topic4\", \"Topic4\", \"Topic4\", \"Topic4\", \"Topic4\", \"Topic4\", \"Topic4\", \"Topic4\", \"Topic4\", \"Topic4\", \"Topic4\", \"Topic4\", \"Topic4\", \"Topic4\", \"Topic4\", \"Topic4\", \"Topic4\", \"Topic4\", \"Topic4\", \"Topic4\", \"Topic5\", \"Topic5\", \"Topic5\", \"Topic5\", \"Topic5\", \"Topic5\", \"Topic5\", \"Topic5\", \"Topic5\", \"Topic5\", \"Topic5\", \"Topic5\", \"Topic5\", \"Topic5\", \"Topic5\", \"Topic5\", \"Topic5\", \"Topic5\", \"Topic5\", \"Topic5\", \"Topic5\", \"Topic5\", \"Topic5\", \"Topic5\", \"Topic5\", \"Topic5\", \"Topic5\", \"Topic5\", \"Topic5\", \"Topic5\", \"Topic5\", \"Topic5\", \"Topic5\", \"Topic5\", \"Topic5\", \"Topic5\", \"Topic5\", \"Topic5\", \"Topic5\", \"Topic5\", \"Topic5\", \"Topic5\", \"Topic5\", \"Topic5\", \"Topic5\", \"Topic5\", \"Topic5\", \"Topic5\", \"Topic5\", \"Topic5\", \"Topic5\", \"Topic5\", \"Topic5\", \"Topic5\", \"Topic5\", \"Topic5\", \"Topic5\", \"Topic5\", \"Topic5\", \"Topic5\", \"Topic5\", \"Topic5\", \"Topic5\", \"Topic5\", \"Topic5\", \"Topic5\", \"Topic5\", \"Topic6\", \"Topic6\", \"Topic6\", \"Topic6\", \"Topic6\", \"Topic6\", \"Topic6\", \"Topic6\", \"Topic6\", \"Topic6\", \"Topic6\", \"Topic6\", \"Topic6\", \"Topic6\", \"Topic6\", \"Topic6\", \"Topic6\", \"Topic6\", \"Topic6\", \"Topic6\", \"Topic6\", \"Topic6\", \"Topic6\", \"Topic6\", \"Topic6\", \"Topic6\", \"Topic6\", \"Topic6\", \"Topic6\", \"Topic6\", \"Topic6\", \"Topic6\", \"Topic6\", \"Topic6\", \"Topic6\", \"Topic6\", \"Topic6\", \"Topic6\", \"Topic6\", \"Topic6\", \"Topic6\", \"Topic6\", \"Topic6\", \"Topic6\", \"Topic6\", \"Topic6\", \"Topic6\", \"Topic6\", \"Topic6\", \"Topic6\", \"Topic6\", \"Topic6\", \"Topic6\", \"Topic6\", \"Topic6\", \"Topic6\", \"Topic6\", \"Topic6\", \"Topic6\", \"Topic6\", \"Topic6\", \"Topic6\", \"Topic6\", \"Topic6\", \"Topic6\", \"Topic6\", \"Topic6\", \"Topic6\", \"Topic6\", \"Topic7\", \"Topic7\", \"Topic7\", \"Topic7\", \"Topic7\", \"Topic7\", \"Topic7\", \"Topic7\", \"Topic7\", \"Topic7\", \"Topic7\", \"Topic7\", \"Topic7\", \"Topic7\", \"Topic7\", \"Topic7\", \"Topic7\", \"Topic7\", \"Topic7\", \"Topic7\", \"Topic7\", \"Topic7\", \"Topic7\", \"Topic7\", \"Topic7\", \"Topic7\", \"Topic7\", \"Topic7\", \"Topic7\", \"Topic7\", \"Topic7\", \"Topic7\", \"Topic7\", \"Topic7\", \"Topic7\", \"Topic7\", \"Topic7\", \"Topic7\", \"Topic7\", \"Topic7\", \"Topic7\", \"Topic7\", \"Topic7\", \"Topic7\", \"Topic7\", \"Topic7\", \"Topic7\", \"Topic7\", \"Topic7\", \"Topic7\", \"Topic7\", \"Topic7\", \"Topic7\", \"Topic7\", \"Topic7\", \"Topic7\", \"Topic7\", \"Topic7\", \"Topic7\", \"Topic7\", \"Topic7\", \"Topic7\", \"Topic7\", \"Topic7\", \"Topic7\", \"Topic7\", \"Topic7\", \"Topic7\", \"Topic7\", \"Topic7\", \"Topic7\", \"Topic7\", \"Topic7\", \"Topic7\", \"Topic7\", \"Topic7\", \"Topic7\", \"Topic7\", \"Topic7\", \"Topic8\", \"Topic8\", \"Topic8\", \"Topic8\", \"Topic8\", \"Topic8\", \"Topic8\", \"Topic8\", \"Topic8\", \"Topic8\", \"Topic8\", \"Topic8\", \"Topic8\", \"Topic8\", \"Topic8\", \"Topic8\", \"Topic8\", \"Topic8\", \"Topic8\", \"Topic8\", \"Topic8\", \"Topic8\", \"Topic8\", \"Topic8\", \"Topic8\", \"Topic8\", \"Topic8\", \"Topic8\", \"Topic8\", \"Topic8\", \"Topic8\", \"Topic8\", \"Topic8\", \"Topic8\", \"Topic8\", \"Topic8\", \"Topic8\", \"Topic8\", \"Topic8\", \"Topic8\", \"Topic8\", \"Topic8\", \"Topic8\", \"Topic8\", \"Topic8\", \"Topic8\", \"Topic8\", \"Topic8\", \"Topic8\", \"Topic8\", \"Topic8\", \"Topic8\", \"Topic8\", \"Topic8\", \"Topic8\", \"Topic8\", \"Topic8\", \"Topic8\", \"Topic8\", \"Topic8\", \"Topic8\", \"Topic8\", \"Topic8\", \"Topic8\", \"Topic8\", \"Topic8\", \"Topic8\", \"Topic9\", \"Topic9\", \"Topic9\", \"Topic9\", \"Topic9\", \"Topic9\", \"Topic9\", \"Topic9\", \"Topic9\", \"Topic9\", \"Topic9\", \"Topic9\", \"Topic9\", \"Topic9\", \"Topic9\", \"Topic9\", \"Topic9\", \"Topic9\", \"Topic9\", \"Topic9\", \"Topic9\", \"Topic9\", \"Topic9\", \"Topic9\", \"Topic9\", \"Topic9\", \"Topic9\", \"Topic9\", \"Topic9\", \"Topic9\", \"Topic9\", \"Topic9\", \"Topic9\", \"Topic9\", \"Topic9\", \"Topic9\", \"Topic9\", \"Topic9\", \"Topic9\", \"Topic9\", \"Topic9\", \"Topic9\", \"Topic9\", \"Topic9\", \"Topic9\", \"Topic9\", \"Topic9\", \"Topic9\", \"Topic9\", \"Topic9\", \"Topic9\", \"Topic9\", \"Topic9\", \"Topic9\", \"Topic9\", \"Topic9\", \"Topic9\", \"Topic9\", \"Topic9\", \"Topic9\", \"Topic9\", \"Topic9\", \"Topic9\", \"Topic9\", \"Topic9\", \"Topic9\", \"Topic9\", \"Topic9\", \"Topic9\", \"Topic9\", \"Topic9\", \"Topic9\", \"Topic9\", \"Topic9\", \"Topic9\", \"Topic9\", \"Topic10\", \"Topic10\", \"Topic10\", \"Topic10\", \"Topic10\", \"Topic10\", \"Topic10\", \"Topic10\", \"Topic10\", \"Topic10\", \"Topic10\", \"Topic10\", \"Topic10\", \"Topic10\", \"Topic10\", \"Topic10\", \"Topic10\", \"Topic10\", \"Topic10\", \"Topic10\", \"Topic10\", \"Topic10\", \"Topic10\", \"Topic10\", \"Topic10\", \"Topic10\", \"Topic10\", \"Topic10\", \"Topic10\", \"Topic10\", \"Topic10\", \"Topic10\", \"Topic10\", \"Topic10\", \"Topic10\", \"Topic10\", \"Topic10\", \"Topic10\", \"Topic10\", \"Topic10\", \"Topic10\", \"Topic10\", \"Topic10\", \"Topic10\", \"Topic10\", \"Topic10\", \"Topic10\", \"Topic10\", \"Topic10\", \"Topic10\", \"Topic10\", \"Topic10\", \"Topic10\", \"Topic10\", \"Topic10\", \"Topic10\", \"Topic10\", \"Topic10\", \"Topic10\", \"Topic10\", \"Topic10\", \"Topic10\", \"Topic10\", \"Topic10\", \"Topic10\", \"Topic10\", \"Topic10\", \"Topic11\", \"Topic11\", \"Topic11\", \"Topic11\", \"Topic11\", \"Topic11\", \"Topic11\", \"Topic11\", \"Topic11\", \"Topic11\", \"Topic11\", \"Topic11\", \"Topic11\", \"Topic11\", \"Topic11\", \"Topic11\", \"Topic11\", \"Topic11\", \"Topic11\", \"Topic11\", \"Topic11\", \"Topic11\", \"Topic11\", \"Topic11\", \"Topic11\", \"Topic11\", \"Topic11\", \"Topic11\", \"Topic11\", \"Topic11\", \"Topic11\", \"Topic11\", \"Topic11\", \"Topic11\", \"Topic11\", \"Topic11\", \"Topic11\", \"Topic11\", \"Topic11\", \"Topic11\", \"Topic11\", \"Topic11\", \"Topic11\", \"Topic11\", \"Topic11\", \"Topic11\", \"Topic11\", \"Topic11\", \"Topic11\", \"Topic11\", \"Topic11\", \"Topic11\", \"Topic11\", \"Topic11\", \"Topic11\", \"Topic11\", \"Topic11\", \"Topic11\", \"Topic11\", \"Topic11\", \"Topic11\", \"Topic11\", \"Topic11\", \"Topic11\", \"Topic11\", \"Topic11\", \"Topic11\", \"Topic11\", \"Topic11\", \"Topic12\", \"Topic12\", \"Topic12\", \"Topic12\", \"Topic12\", \"Topic12\", \"Topic12\", \"Topic12\", \"Topic12\", \"Topic12\", \"Topic12\", \"Topic12\", \"Topic12\", \"Topic12\", \"Topic12\", \"Topic12\", \"Topic12\", \"Topic12\", \"Topic12\", \"Topic12\", \"Topic12\", \"Topic12\", \"Topic12\", \"Topic12\", \"Topic12\", \"Topic12\", \"Topic12\", \"Topic12\", \"Topic12\", \"Topic12\", \"Topic12\", \"Topic12\", \"Topic12\", \"Topic12\", \"Topic12\", \"Topic12\", \"Topic12\", \"Topic12\", \"Topic12\", \"Topic12\", \"Topic12\", \"Topic12\", \"Topic12\", \"Topic12\", \"Topic12\", \"Topic12\", \"Topic12\", \"Topic12\", \"Topic12\", \"Topic12\", \"Topic12\", \"Topic12\", \"Topic12\", \"Topic12\", \"Topic12\", \"Topic12\", \"Topic12\", \"Topic12\", \"Topic12\", \"Topic12\", \"Topic12\", \"Topic12\", \"Topic12\", \"Topic12\", \"Topic12\", \"Topic12\", \"Topic12\", \"Topic12\", \"Topic12\", \"Topic12\", \"Topic12\", \"Topic12\", \"Topic12\", \"Topic12\", \"Topic12\", \"Topic12\", \"Topic12\", \"Topic13\", \"Topic13\", \"Topic13\", \"Topic13\", \"Topic13\", \"Topic13\", \"Topic13\", \"Topic13\", \"Topic13\", \"Topic13\", \"Topic13\", \"Topic13\", \"Topic13\", \"Topic13\", \"Topic13\", \"Topic13\", \"Topic13\", \"Topic13\", \"Topic13\", \"Topic13\", \"Topic13\", \"Topic13\", \"Topic13\", \"Topic13\", \"Topic13\", \"Topic13\", \"Topic13\", \"Topic13\", \"Topic13\", \"Topic13\", \"Topic13\", \"Topic13\", \"Topic13\", \"Topic13\", \"Topic13\", \"Topic13\", \"Topic13\", \"Topic13\", \"Topic13\", \"Topic13\", \"Topic13\", \"Topic13\", \"Topic13\", \"Topic13\", \"Topic13\", \"Topic13\", \"Topic13\", \"Topic13\", \"Topic13\", \"Topic13\", \"Topic13\", \"Topic13\", \"Topic13\", \"Topic13\", \"Topic13\", \"Topic13\", \"Topic13\", \"Topic13\", \"Topic13\", \"Topic13\", \"Topic13\", \"Topic13\", \"Topic13\", \"Topic13\", \"Topic13\", \"Topic13\", \"Topic13\", \"Topic13\", \"Topic13\", \"Topic14\", \"Topic14\", \"Topic14\", \"Topic14\", \"Topic14\", \"Topic14\", \"Topic14\", \"Topic14\", \"Topic14\", \"Topic14\", \"Topic14\", \"Topic14\", \"Topic14\", \"Topic14\", \"Topic14\", \"Topic14\", \"Topic14\", \"Topic14\", \"Topic14\", \"Topic14\", \"Topic14\", \"Topic14\", \"Topic14\", \"Topic14\", \"Topic14\", \"Topic14\", \"Topic14\", \"Topic14\", \"Topic14\", \"Topic14\", \"Topic14\", \"Topic14\", \"Topic14\", \"Topic14\", \"Topic14\", \"Topic14\", \"Topic14\", \"Topic14\", \"Topic14\", \"Topic14\", \"Topic14\", \"Topic14\", \"Topic14\", \"Topic14\", \"Topic14\", \"Topic14\", \"Topic14\", \"Topic14\", \"Topic14\", \"Topic14\", \"Topic14\", \"Topic14\", \"Topic14\", \"Topic14\", \"Topic14\", \"Topic14\", \"Topic14\", \"Topic14\", \"Topic14\", \"Topic14\", \"Topic14\", \"Topic14\", \"Topic14\", \"Topic14\", \"Topic14\", \"Topic14\", \"Topic14\", \"Topic14\", \"Topic14\", \"Topic14\", \"Topic14\", \"Topic15\", \"Topic15\", \"Topic15\", \"Topic15\", \"Topic15\", \"Topic15\", \"Topic15\", \"Topic15\", \"Topic15\", \"Topic15\", \"Topic15\", \"Topic15\", \"Topic15\", \"Topic15\", \"Topic15\", \"Topic15\", \"Topic15\", \"Topic15\", \"Topic15\", \"Topic15\", \"Topic15\", \"Topic15\", \"Topic15\", \"Topic15\", \"Topic15\", \"Topic15\", \"Topic15\", \"Topic15\", \"Topic15\", \"Topic15\", \"Topic15\", \"Topic15\", \"Topic15\", \"Topic15\", \"Topic15\", \"Topic15\", \"Topic15\", \"Topic15\", \"Topic15\", \"Topic15\", \"Topic15\", \"Topic15\", \"Topic15\", \"Topic15\", \"Topic15\", \"Topic15\", \"Topic15\", \"Topic15\", \"Topic15\", \"Topic15\", \"Topic15\", \"Topic15\", \"Topic15\", \"Topic15\", \"Topic15\", \"Topic15\", \"Topic15\", \"Topic15\", \"Topic15\", \"Topic15\", \"Topic15\", \"Topic15\", \"Topic15\", \"Topic15\", \"Topic15\", \"Topic15\", \"Topic15\", \"Topic15\", \"Topic15\", \"Topic15\"], \"logprob\": [30.0, 29.0, 28.0, 27.0, 26.0, 25.0, 24.0, 23.0, 22.0, 21.0, 20.0, 19.0, 18.0, 17.0, 16.0, 15.0, 14.0, 13.0, 12.0, 11.0, 10.0, 9.0, 8.0, 7.0, 6.0, 5.0, 4.0, 3.0, 2.0, 1.0, -7.788400173187256, -8.391400337219238, -8.18970012664795, -8.740599632263184, -8.744000434875488, -8.656299591064453, -8.411800384521484, -8.74530029296875, -9.005399703979492, -8.895700454711914, -8.70359992980957, -8.506600379943848, -8.543899536132812, -8.15310001373291, -9.072400093078613, -8.957300186157227, -7.068999767303467, -9.075799942016602, -8.759900093078613, -9.076399803161621, -9.142000198364258, -9.142200469970703, -9.141900062561035, -9.017600059509277, -9.142999649047852, -9.07859992980957, -9.21310043334961, -9.14430046081543, -9.017900466918945, -8.566900253295898, -8.423600196838379, -8.715299606323242, -8.908900260925293, -8.090499877929688, -8.684900283813477, -7.311999797821045, -7.540999889373779, -7.595300197601318, -6.956699848175049, -6.0929999351501465, -7.329599857330322, -8.151399612426758, -8.27079963684082, -6.540900230407715, -7.604599952697754, -7.433599948883057, -7.964200019836426, -6.881100177764893, -7.835999965667725, -7.764500141143799, -7.063499927520752, -6.724800109863281, -6.9654998779296875, -6.572400093078613, -5.674600124359131, -6.5854997634887695, -6.847099781036377, -6.80210018157959, -7.230100154876709, -7.253600120544434, -6.579999923706055, -5.930799961090088, -6.610499858856201, -6.375, -7.090199947357178, -6.551499843597412, -5.142899990081787, -5.802999973297119, -6.174900054931641, -6.853600025177002, -5.919300079345703, -6.399600028991699, -5.870500087738037, -5.8043999671936035, -6.013999938964844, -5.60230016708374, -5.485599994659424, -6.257900238037109, -5.2281999588012695, -5.815800189971924, -6.1682000160217285, -5.957699775695801, -5.639599800109863, -5.906300067901611, -6.029300212860107, -5.875800132751465, -5.632699966430664, -5.6230998039245605, -5.627299785614014, -5.898200035095215, -6.1996002197265625, -6.209199905395508, -6.087399959564209, -6.192699909210205, -6.009799957275391, -6.1178998947143555, -5.970099925994873, -6.058300018310547, -6.1442999839782715, -5.582200050354004, -4.687399864196777, -5.65880012512207, -7.4390997886657715, -4.518700122833252, -7.388400077819824, -8.169300079345703, -7.724400043487549, -6.420400142669678, -6.079400062561035, -6.3242998123168945, -7.456500053405762, -7.452300071716309, -8.073599815368652, -8.241900444030762, -7.639900207519531, -8.684900283813477, -8.614100456237793, -6.8302998542785645, -6.597599983215332, -7.853899955749512, -6.245999813079834, -7.197800159454346, -5.393899917602539, -9.052900314331055, -9.057299613952637, -9.193499565124512, -8.646900177001953, -9.061699867248535, -9.199999809265137, -7.116700172424316, -5.974400043487549, -6.8404998779296875, -7.710000038146973, -6.298699855804443, -7.470799922943115, -5.661099910736084, -5.458000183105469, -4.793499946594238, -5.473899841308594, -4.907800197601318, -5.26800012588501, -6.8420000076293945, -5.7266998291015625, -5.310699939727783, -5.275300025939941, -6.469200134277344, -5.836599826812744, -5.84119987487793, -6.166299819946289, -5.299300193786621, -4.994500160217285, -5.211599826812744, -5.993199825286865, -5.376100063323975, -5.355999946594238, -5.647799968719482, -5.689899921417236, -5.498700141906738, -5.617099761962891, -5.526500225067139, -5.731200218200684, -5.866099834442139, -5.819200038909912, -5.865099906921387, -7.795199871063232, -8.0693998336792, -8.003199577331543, -8.468199729919434, -8.607099533081055, -8.615699768066406, -8.942099571228027, -8.788000106811523, -9.010199546813965, -8.60770034790039, -8.601699829101562, -8.764699935913086, -8.763999938964844, -7.666800022125244, -6.7204999923706055, -8.232399940490723, -8.936800003051758, -8.941699981689453, -8.801600456237793, -9.157699584960938, -8.701499938964844, -9.160200119018555, -8.97659969329834, -9.143899917602539, -8.991100311279297, -8.474599838256836, -9.150500297546387, -8.884200096130371, -5.922800064086914, -8.934399604797363, -7.159299850463867, -7.673399925231934, -7.448299884796143, -7.265699863433838, -6.378900051116943, -7.116300106048584, -5.310200214385986, -4.544000148773193, -7.768700122833252, -5.31689977645874, -5.432000160217285, -5.846499919891357, -4.779799938201904, -4.280600070953369, -6.55049991607666, -4.893400192260742, -6.825399875640869, -5.214600086212158, -5.186600208282471, -5.998199939727783, -5.782899856567383, -5.616099834442139, -5.27810001373291, -5.312099933624268, -6.948599815368652, -5.104300022125244, -5.748300075531006, -4.894000053405762, -4.838200092315674, -5.298799991607666, -5.63640022277832, -5.774600028991699, -5.279799938201904, -5.338799953460693, -6.040200233459473, -5.2932000160217285, -5.079800128936768, -5.570000171661377, -5.1041998863220215, -5.599800109863281, -5.30019998550415, -5.5391998291015625, -5.682499885559082, -5.610300064086914, -5.627299785614014, -5.7058000564575195, -7.6828999519348145, -7.0005998611450195, -7.769599914550781, -7.560500144958496, -7.702000141143799, -7.969399929046631, -7.795000076293945, -7.9903998374938965, -7.1128997802734375, -8.367600440979004, -8.365799903869629, -6.629199981689453, -8.234000205993652, -8.369999885559082, -6.005899906158447, -8.236900329589844, -8.140700340270996, -8.249600410461426, -8.387200355529785, -8.550100326538086, -5.530700206756592, -7.039999961853027, -8.550399780273438, -8.399299621582031, -8.557900428771973, -7.312699794769287, -7.120500087738037, -8.03689956665039, -6.373300075531006, -6.16379976272583, -5.611299991607666, -7.348199844360352, -7.445000171661377, -6.247900009155273, -6.904799938201904, -7.708600044250488, -6.92519998550415, -5.617000102996826, -6.7342000007629395, -6.821700096130371, -6.051499843597412, -5.881899833679199, -7.2342000007629395, -6.844099998474121, -5.99459981918335, -6.661499977111816, -5.606599807739258, -5.289400100708008, -6.005300045013428, -5.203800201416016, -6.322199821472168, -6.090400218963623, -6.196199893951416, -5.704899787902832, -4.651199817657471, -6.193699836730957, -5.212200164794922, -6.075699806213379, -6.089399814605713, -5.804200172424316, -6.55649995803833, -5.660200119018555, -6.1483001708984375, -5.826900005340576, -6.012800216674805, -5.853499889373779, -5.694499969482422, -5.685500144958496, -5.708000183105469, -5.90910005569458, -5.815499782562256, -5.792799949645996, -5.816500186920166, -5.873600006103516, -5.998700141906738, -6.003699779510498, -6.038599967956543, -6.047900199890137, -7.442299842834473, -7.793300151824951, -8.124799728393555, -7.717700004577637, -5.45359992980957, -7.724599838256836, -7.327400207519531, -7.769599914550781, -7.763500213623047, -6.665200233459473, -7.490499973297119, -6.945499897003174, -6.697400093078613, -8.29740047454834, -8.409500122070312, -7.5945000648498535, -7.837600231170654, -7.321700096130371, -8.04640007019043, -6.2683000564575195, -8.431699752807617, -8.296299934387207, -8.20460033416748, -6.774600028991699, -4.124800205230713, -8.308899879455566, -8.237700462341309, -6.69980001449585, -7.380000114440918, -7.78849983215332, -7.542200088500977, -6.536900043487549, -4.777200222015381, -4.714399814605713, -7.678100109100342, -5.0640997886657715, -4.231100082397461, -5.005000114440918, -5.281700134277344, -5.7677001953125, -6.153299808502197, -5.739999771118164, -5.358699798583984, -4.8902997970581055, -5.788000106811523, -5.101799964904785, -5.9334001541137695, -4.793300151824951, -5.231599807739258, -4.843900203704834, -6.0991997718811035, -5.690299987792969, -5.527599811553955, -4.993100166320801, -5.04449987411499, -5.853300094604492, -5.057000160217285, -5.402500152587891, -5.614299774169922, -5.607699871063232, -5.646299839019775, -5.644499778747559, -5.435200214385986, -5.444900035858154, -5.529099941253662, -5.688799858093262, -5.763299942016602, -5.712900161743164, -8.405699729919434, -7.0391998291015625, -7.182300090789795, -8.443699836730957, -8.384400367736816, -8.406499862670898, -7.571199893951416, -7.578100204467773, -8.362700462341309, -7.884099960327148, -8.114899635314941, -8.155599594116211, -8.404500007629395, -6.423799991607666, -8.420599937438965, -8.302499771118164, -8.40779972076416, -8.166299819946289, -7.984099864959717, -8.478699684143066, -8.102700233459473, -8.017800331115723, -7.808199882507324, -6.507199764251709, -5.3744001388549805, -8.383399963378906, -8.506500244140625, -8.390600204467773, -8.706100463867188, -3.8691000938415527, -4.672100067138672, -7.110099792480469, -5.043300151824951, -5.928100109100342, -4.9899001121521, -6.843200206756592, -4.758900165557861, -6.263299942016602, -5.1066999435424805, -6.400100231170654, -7.035600185394287, -5.137599945068359, -6.066500186920166, -5.407700061798096, -5.667799949645996, -5.852399826049805, -7.221799850463867, -4.961400032043457, -5.358500003814697, -4.6265997886657715, -6.029799938201904, -5.4791998863220215, -5.562399864196777, -5.673799991607666, -5.286499977111816, -5.103799819946289, -4.972400188446045, -5.171199798583984, -5.586999893188477, -5.434199810028076, -5.30709981918335, -5.446700096130371, -5.383399963378906, -5.520699977874756, -5.577199935913086, -5.624199867248535, -5.67110013961792, -5.680600166320801, -7.563899993896484, -7.566999912261963, -7.396500110626221, -8.085399627685547, -8.132800102233887, -7.893899917602539, -8.197400093078613, -7.958899974822998, -8.094599723815918, -7.650899887084961, -7.875400066375732, -7.667600154876709, -8.143199920654297, -7.819799900054932, -8.190400123596191, -7.9882001876831055, -8.36340045928955, -7.7916998863220215, -8.44159984588623, -7.635900020599365, -8.422699928283691, -7.617700099945068, -8.457599639892578, -8.469200134277344, -7.662499904632568, -8.137999534606934, -7.94350004196167, -8.41469955444336, -8.38379955291748, -8.594200134277344, -7.364699840545654, -7.561699867248535, -5.203100204467773, -5.89139986038208, -6.777900218963623, -7.229000091552734, -7.1006999015808105, -5.942500114440918, -6.813600063323975, -7.149700164794922, -5.1143999099731445, -6.671800136566162, -6.450099945068359, -5.045899868011475, -6.232600212097168, -5.921199798583984, -6.190499782562256, -5.82390022277832, -5.445000171661377, -5.016200065612793, -6.072500228881836, -6.2866997718811035, -5.774700164794922, -6.696000099182129, -5.4344000816345215, -5.887199878692627, -5.524899959564209, -6.101900100708008, -5.886000156402588, -6.123000144958496, -5.134500026702881, -5.20989990234375, -5.814599990844727, -5.715799808502197, -6.091100215911865, -5.89109992980957, -5.546299934387207, -5.877900123596191, -5.432000160217285, -5.421500205993652, -5.521500110626221, -5.834099769592285, -5.701900005340576, -5.573200225830078, -5.677299976348877, -5.909200191497803, -5.886600017547607, -5.852499961853027, -5.91480016708374, -5.486499786376953, -5.3632001876831055, -7.464399814605713, -6.602099895477295, -4.1493000984191895, -6.044300079345703, -6.006499767303467, -7.197000026702881, -5.501200199127197, -6.49399995803833, -7.868500232696533, -7.866600036621094, -7.663099765777588, -5.0218000411987305, -7.851099967956543, -7.905700206756592, -7.629700183868408, -7.900199890136719, -7.449100017547607, -7.497300148010254, -7.85129976272583, -7.253900051116943, -7.706999778747559, -7.309000015258789, -7.954400062561035, -7.563399791717529, -7.988399982452393, -7.34060001373291, -7.990900039672852, -7.922599792480469, -4.6072998046875, -5.562099933624268, -4.94350004196167, -5.143599987030029, -5.5243000984191895, -6.136300086975098, -5.747499942779541, -5.863500118255615, -5.049499988555908, -4.648200035095215, -5.6381001472473145, -6.253399848937988, -4.558700084686279, -6.474599838256836, -6.323299884796143, -5.322700023651123, -5.913700103759766, -6.388500213623047, -6.434599876403809, -5.706299781799316, -5.3471999168396, -5.207600116729736, -5.603799819946289, -5.215000152587891, -5.556700229644775, -5.389900207519531, -5.292799949645996, -5.377500057220459, -5.480400085449219, -5.59660005569458, -5.292799949645996, -5.387700080871582, -5.5131001472473145, -5.618100166320801, -5.541200160980225, -5.553299903869629, -5.555200099945068, -6.832799911499023, -7.334199905395508, -7.119200229644775, -7.456200122833252, -7.382900238037109, -6.8171000480651855, -7.716700077056885, -7.313700199127197, -7.462500095367432, -7.640699863433838, -7.710100173950195, -7.33050012588501, -7.363100051879883, -7.3420000076293945, -7.624100208282471, -7.38539981842041, -7.803299903869629, -7.72130012512207, -7.724400043487549, -7.398799896240234, -7.713600158691406, -6.578700065612793, -7.058599948883057, -7.918099880218506, -7.856200218200684, -7.871099948883057, -7.785799980163574, -7.76669979095459, -7.314799785614014, -7.055300235748291, -7.333799839019775, -7.21150016784668, -6.785600185394287, -7.299099922180176, -7.568299770355225, -6.640200138092041, -6.822400093078613, -5.992199897766113, -5.685400009155273, -6.90500020980835, -6.361299991607666, -5.1072998046875, -5.4430999755859375, -5.415800094604492, -5.125500202178955, -5.395199775695801, -5.160399913787842, -5.105100154876709, -6.523900032043457, -6.817500114440918, -5.240699768066406, -5.22130012512207, -5.508999824523926, -6.6184000968933105, -5.741399765014648, -6.042699813842773, -6.431000232696533, -6.347099781036377, -5.900700092315674, -5.9319000244140625, -6.144999980926514, -6.240699768066406, -5.937600135803223, -5.763599872589111, -6.129000186920166, -5.792699813842773, -6.0457000732421875, -6.163000106811523, -6.125899791717529, -6.0304999351501465, -6.0355000495910645, -5.916299819946289, -6.04610013961792, -6.011899948120117, -6.045100212097168, -6.140500068664551, -5.400100231170654, -5.359300136566162, -6.921599864959717, -6.928699970245361, -7.3495001792907715, -7.553299903869629, -7.653800010681152, -7.049200057983398, -7.294899940490723, -7.181099891662598, -7.6265997886657715, -7.628399848937988, -7.667799949645996, -7.6595001220703125, -7.674699783325195, -7.690400123596191, -7.421199798583984, -7.629199981689453, -6.573299884796143, -7.753799915313721, -7.606599807739258, -7.603700160980225, -7.630300045013428, -7.628300189971924, -7.619900226593018, -7.872900009155273, -7.311299800872803, -7.280300140380859, -7.280900001525879, -7.239799976348877, -7.231599807739258, -5.990300178527832, -6.085700035095215, -6.049699783325195, -6.221099853515625, -5.6880998611450195, -6.911399841308594, -7.138700008392334, -6.519000053405762, -5.641200065612793, -6.45359992980957, -6.639800071716309, -5.699399948120117, -5.620699882507324, -6.077300071716309, -5.378499984741211, -6.059800148010254, -5.465700149536133, -5.399700164794922, -5.411600112915039, -6.320899963378906, -5.8394999504089355, -6.683199882507324, -5.753499984741211, -5.950500011444092, -5.7581000328063965, -6.3730998039245605, -5.748600006103516, -5.676000118255615, -5.979899883270264, -5.992499828338623, -5.8165998458862305, -5.88539981842041, -6.0868000984191895, -6.111800193786621, -6.1194000244140625, -6.177000045776367, -5.734000205993652, -7.317699909210205, -6.515200138092041, -6.388000011444092, -7.285999774932861, -6.8917999267578125, -6.8927998542785645, -7.288300037384033, -7.286799907684326, -7.288599967956543, -7.286300182342529, -7.29040002822876, -7.290599822998047, -7.287899971008301, -6.611400127410889, -5.808800220489502, -7.289100170135498, -7.29040002822876, -7.285099983215332, -7.28849983215332, -7.286900043487549, -7.949900150299072, -7.287600040435791, -7.944699764251709, -7.947199821472168, -7.947800159454346, -7.284900188446045, -7.957200050354004, -7.949399948120117, -7.948999881744385, -7.293300151824951, -6.891300201416016, -6.610000133514404, -7.2870001792907715, -6.054999828338623, -6.178299903869629, -7.287399768829346, -6.191400051116943, -5.817200183868408, -5.208099842071533, -5.263999938964844, -5.348199844360352, -5.593900203704834, -5.912099838256836, -6.044400215148926, -6.01230001449585, -5.551400184631348, -5.691500186920166, -5.465099811553955, -6.321100234985352, -6.358699798583984, -5.791399955749512, -5.888400077819824, -6.569200038909912, -6.024499893188477, -5.658699989318848, -5.880799770355225, -5.659599781036377, -5.623799800872803, -6.026199817657471, -6.0269999504089355, -5.761000156402588, -6.028600215911865, -6.035200119018555, -6.181600093841553, -6.194499969482422, -6.128799915313721, -6.169000148773193, -6.173500061035156, -6.929800033569336, -7.32859992980957, -7.329599857330322, -7.332200050354004, -7.477700233459473, -6.45959997177124, -7.208399772644043, -7.337600231170654, -7.365300178527832, -7.491499900817871, -6.574900150299072, -7.336900234222412, -7.469299793243408, -7.47730016708374, -6.957900047302246, -6.690199851989746, -7.331299781799316, -7.328000068664551, -7.025899887084961, -7.0518999099731445, -7.529600143432617, -7.350900173187256, -6.936500072479248, -7.993000030517578, -7.98829984664917, -7.979800224304199, -7.986800193786621, -8.028900146484375, -7.989999771118164, -8.006600379943848, -7.01200008392334, -7.323200225830078, -7.445499897003174, -7.0914998054504395, -7.3302998542785645, -7.324999809265137, -6.673900127410889, -7.2154998779296875, -5.642600059509277, -5.053999900817871, -5.680500030517578, -5.81279993057251, -4.956999778747559, -6.52239990234375, -5.905200004577637, -6.141200065612793, -5.710400104522705, -5.754799842834473, -6.110899925231934, -4.753699779510498, -4.984899997711182, -5.134699821472168, -5.002900123596191, -5.317599773406982, -5.962900161743164, -5.818600177764893, -6.112400054931641, -6.061100006103516, -5.832900047302246, -5.081099987030029, -6.457399845123291, -5.672599792480469, -6.152400016784668, -5.750699996948242, -5.7006001472473145, -5.996500015258789, -5.440199851989746, -5.788000106811523, -5.77269983291626, -5.720699787139893, -5.916200160980225, -5.743100166320801, -5.761899948120117, -5.834199905395508, -5.908199787139893, -5.861999988555908, -5.898399829864502, -7.215099811553955, -7.290599822998047, -7.218299865722656, -7.346399784088135, -6.742000102996826, -7.4217000007629395, -7.438799858093262, -7.251299858093262, -7.217899799346924, -7.366499900817871, -6.557499885559082, -7.304299831390381, -7.2195000648498535, -7.215700149536133, -7.225100040435791, -7.906599998474121, -7.135200023651123, -7.21589994430542, -7.465400218963623, -6.2067999839782715, -7.882199764251709, -7.222899913787842, -7.873799800872803, -7.1880998611450195, -7.87939977645874, -7.875899791717529, -7.333399772644043, -6.817999839782715, -7.874599933624268, -7.220600128173828, -6.747600078582764, -7.136899948120117, -7.381800174713135, -5.264500141143799, -6.820000171661377, -5.811600208282471, -4.872099876403809, -4.919099807739258, -5.861299991607666, -5.898900032043457, -5.384799957275391, -5.220799922943115, -6.865600109100342, -4.902200222015381, -5.427499771118164, -6.649400234222412, -5.432300090789795, -5.037700176239014, -5.225800037384033, -6.09089994430542, -5.62529993057251, -5.454699993133545, -5.863500118255615, -5.227700233459473, -5.914100170135498, -5.290500164031982, -5.847799777984619, -5.758299827575684, -5.632500171661377, -5.879799842834473, -6.4105000495910645, -5.558700084686279, -5.773900032043457, -5.861700057983398, -5.884399890899658, -5.818399906158447, -5.867400169372559, -5.87529993057251, -5.866700172424316, -5.9380998611450195, -6.269499778747559, -6.236999988555908, -6.615499973297119, -5.537899971008301, -6.615499973297119, -6.218500137329102, -6.6149001121521, -7.27839994430542, -7.274099826812744, -7.276299953460693, -7.2779998779296875, -6.61359977722168, -7.275300025939941, -7.277599811553955, -7.292300224304199, -7.274700164794922, -7.275300025939941, -7.278500080108643, -7.2804999351501465, -7.297900199890137, -7.3379998207092285, -7.343999862670898, -7.2769999504089355, -7.274199962615967, -7.276400089263916, -7.287199974060059, -7.27869987487793, -7.271900177001953, -7.2743000984191895, -6.1691999435424805, -6.6153998374938965, -5.344200134277344, -6.219299793243408, -6.54580020904541, -6.614299774169922, -5.370200157165527, -6.218299865722656, -5.508999824523926, -5.01200008392334, -5.512800216674805, -5.6946001052856445, -6.6605000495910645, -6.635499954223633, -5.709700107574463, -6.613900184631348, -6.2967000007629395, -6.283400058746338, -6.612800121307373, -5.9319000244140625, -6.563700199127197, -5.701600074768066, -5.990300178527832, -5.749199867248535, -5.5559000968933105, -5.257599830627441, -5.777400016784668, -5.514599800109863, -5.905799865722656, -5.64109992980957, -6.017199993133545, -5.956299781799316, -5.8927001953125, -5.898099899291992, -5.8831000328063965, -5.9191999435424805, -5.932400226593018, -6.03849983215332, -6.039599895477295, -6.122799873352051, -6.133900165557861, -5.861199855804443, -5.836299896240234, -6.603099822998047, -6.520100116729736, -6.687399864196777, -7.183599948883057, -6.519000053405762, -7.182600021362305, -7.1803998947143555, -7.182000160217285, -7.184700012207031, -7.179800033569336, -7.191800117492676, -7.181600093841553, -7.188399791717529, -7.214700222015381, -7.180699825286865, -7.18209981918335, -7.175600051879883, -7.181300163269043, -7.182000160217285, -7.1828999519348145, -7.182499885559082, -7.183899879455566, -7.18779993057251, -7.184599876403809, -7.184999942779541, -7.183300018310547, -7.180600166320801, -7.1859002113342285, -5.1595001220703125, -6.879000186920166, -5.618000030517578, -4.913400173187256, -6.123499870300293, -5.439300060272217, -5.440400123596191, -5.580999851226807, -5.596099853515625, -6.119100093841553, -5.43149995803833, -5.606900215148926, -6.2835001945495605, -5.834000110626221, -6.118800163269043, -6.456399917602539, -6.115499973297119, -6.114999771118164, -6.514100074768066, -5.832399845123291, -6.512400150299072, -5.231100082397461, -6.520199775695801, -5.595600128173828, -5.750500202178955, -5.696800231933594, -6.109099864959717, -5.3354997634887695, -5.540999889373779, -5.556300163269043, -5.749800205230713, -5.763700008392334, -5.8180999755859375, -5.95959997177124, -5.979100227355957, -6.01230001449585, -6.045899868011475, -6.058800220489502, -6.064799785614014, -6.087500095367432], \"loglift\": [30.0, 29.0, 28.0, 27.0, 26.0, 25.0, 24.0, 23.0, 22.0, 21.0, 20.0, 19.0, 18.0, 17.0, 16.0, 15.0, 14.0, 13.0, 12.0, 11.0, 10.0, 9.0, 8.0, 7.0, 6.0, 5.0, 4.0, 3.0, 2.0, 1.0, 0.8375999927520752, 0.8263000249862671, 0.8238000273704529, 0.822700023651123, 0.820900022983551, 0.8201000094413757, 0.8190000057220459, 0.8176000118255615, 0.8169999718666077, 0.8151999711990356, 0.8148999810218811, 0.8148000240325928, 0.8140000104904175, 0.8133000135421753, 0.8116999864578247, 0.810699999332428, 0.8097000122070312, 0.8093000054359436, 0.8091999888420105, 0.8091999888420105, 0.8084999918937683, 0.8076000213623047, 0.8076000213623047, 0.8068000078201294, 0.8065000176429749, 0.8064000010490417, 0.805899977684021, 0.8057000041007996, 0.8052999973297119, 0.8048999905586243, 0.8016999959945679, 0.8036999702453613, 0.8029999732971191, 0.7821999788284302, 0.7947999835014343, 0.7516000270843506, 0.7560999989509583, 0.7537999749183655, 0.7178999781608582, 0.6680999994277954, 0.7328000068664551, 0.7692999839782715, 0.7745000123977661, 0.6753000020980835, 0.7373999953269958, 0.722000002861023, 0.755299985408783, 0.6796000003814697, 0.743399977684021, 0.7376999855041504, 0.6837999820709229, 0.6503000259399414, 0.6711000204086304, 0.631600022315979, 0.539900004863739, 0.628600001335144, 0.6478999853134155, 0.630299985408783, 0.6776999831199646, 0.6784999966621399, 0.6035000085830688, 0.5051000118255615, 0.5823000073432922, 0.5450000166893005, 0.6413999795913696, 0.5576000213623047, 0.32109999656677246, 0.4242999851703644, 0.48159998655319214, 0.5845000147819519, 0.3643999993801117, 0.4648999869823456, 0.3224000036716461, 0.2912999987602234, 0.3483000099658966, 0.2029999941587448, 0.13899999856948853, 0.3808000087738037, -0.020999999716877937, 0.18150000274181366, 0.3176000118255615, 0.21299999952316284, 0.04780000075697899, 0.11729999631643295, 0.15960000455379486, 0.059300001710653305, -0.15610000491142273, -0.17139999568462372, -0.23149999976158142, -0.03460000082850456, 0.24500000476837158, 0.2345999926328659, 0.03500000014901161, 0.16910000145435333, -0.15240000188350677, -9.999999747378752e-05, -0.48399999737739563, -0.22589999437332153, 0.0032999999821186066, 1.6059999465942383, 1.6051000356674194, 1.597000002861023, 1.5893000364303589, 1.5851000547409058, 1.5831999778747559, 1.5791000127792358, 1.5788999795913696, 1.5787999629974365, 1.5786999464035034, 1.573199987411499, 1.5715999603271484, 1.5713000297546387, 1.5693999528884888, 1.565000057220459, 1.5622999668121338, 1.5612000226974487, 1.5455000400543213, 1.5439000129699707, 1.5432000160217285, 1.5399999618530273, 1.5305999517440796, 1.527899980545044, 1.5211999416351318, 1.5204999446868896, 1.5170999765396118, 1.5154000520706177, 1.514299988746643, 1.5120999813079834, 1.5094000101089478, 1.50600004196167, 1.4936000108718872, 1.5003000497817993, 1.5084999799728394, 1.479699969291687, 1.501099944114685, 1.4602999687194824, 1.4235999584197998, 1.3876999616622925, 1.4061000347137451, 1.3539999723434448, 1.3568999767303467, 1.445099949836731, 1.1974999904632568, 0.9018999934196472, 0.8756999969482422, 1.2067999839782715, 0.8795999884605408, 0.8744999766349792, 1.007699966430664, 0.5289999842643738, 0.3422999978065491, 0.26499998569488525, 0.8118000030517578, 0.10999999940395355, 0.039799999445676804, 0.2973000109195709, 0.33379998803138733, -0.04699999839067459, 0.07020000368356705, -0.31929999589920044, 0.13230000436306, 0.2678999900817871, 0.013199999928474426, -0.007699999958276749, 2.098299980163574, 2.094599962234497, 2.085700035095215, 2.0671000480651855, 2.0485999584198, 2.045099973678589, 2.0095999240875244, 2.003499984741211, 1.937600016593933, 1.9375, 1.930999994277954, 1.9046000242233276, 1.8914999961853027, 1.8768999576568604, 1.87090003490448, 1.8545000553131104, 1.8486000299453735, 1.8453999757766724, 1.8452999591827393, 1.8380000591278076, 1.8284000158309937, 1.8243999481201172, 1.8233000040054321, 1.8072999715805054, 1.802299976348877, 1.7970999479293823, 1.7889000177383423, 1.7727999687194824, 1.7702000141143799, 1.7624000310897827, 1.752500057220459, 1.7506999969482422, 1.7273000478744507, 1.6787999868392944, 1.590499997138977, 1.649399995803833, 1.4586999416351318, 1.3003000020980835, 1.687600016593933, 1.3043999671936035, 1.319200038909912, 1.3796000480651855, 1.166599988937378, 1.0562000274658203, 1.457800030708313, 1.1155999898910522, 1.4944000244140625, 1.131700038909912, 1.1058000326156616, 1.295799970626831, 1.179900050163269, 1.1282999515533447, 0.9952999949455261, 0.9311000108718872, 1.4723999500274658, 0.7281000018119812, 0.970300018787384, 0.5921000242233276, 0.5576000213623047, 0.6363000273704529, 0.8058000206947327, 0.8755999803543091, 0.5838000178337097, 0.6062999963760376, 1.021299958229065, 0.535099983215332, 0.3718999922275543, 0.7010999917984009, 0.10300000011920929, 0.623199999332428, 0.17640000581741333, -0.07519999891519547, 0.4399000108242035, 0.014299999922513962, 0.05999999865889549, 0.42829999327659607, 2.438999891281128, 2.4333999156951904, 2.4328999519348145, 2.4209001064300537, 2.418800115585327, 2.418100118637085, 2.4114999771118164, 2.396699905395508, 2.388000011444092, 2.385200023651123, 2.3845999240875244, 2.3838999271392822, 2.3812999725341797, 2.38100004196167, 2.379499912261963, 2.3778998851776123, 2.3703999519348145, 2.3654000759124756, 2.3636999130249023, 2.360599994659424, 2.359600067138672, 2.3582000732421875, 2.3578999042510986, 2.3506999015808105, 2.350100040435791, 2.350100040435791, 2.349400043487549, 2.3485000133514404, 2.348299980163574, 2.3469998836517334, 2.345900058746338, 2.3459999561309814, 2.3452000617980957, 2.3224000930786133, 2.3043999671936035, 2.3352999687194824, 2.2901999950408936, 2.1928999423980713, 2.250200033187866, 2.245800018310547, 2.1607000827789307, 2.111599922180176, 2.2639000415802, 2.1686999797821045, 1.979200005531311, 2.1201999187469482, 1.8329999446868896, 1.7178000211715698, 1.7977999448776245, 1.4349000453948975, 1.8890000581741333, 1.770900011062622, 1.7770999670028687, 1.5240000486373901, 0.5559999942779541, 1.3483999967575073, 0.251800000667572, 1.0684000253677368, 1.0156999826431274, 0.5580999851226807, 1.7116999626159668, 0.20340000092983246, 1.0291999578475952, 0.4004000127315521, 0.7028999924659729, 0.3395000100135803, -0.07000000029802322, -0.19939999282360077, -0.2563999891281128, 0.374099999666214, -0.12809999287128448, -0.4560999870300293, -0.3398999869823456, -0.47780001163482666, 0.44510000944137573, 0.21850000321865082, 0.31220000982284546, 0.07450000196695328, 2.8703999519348145, 2.842600107192993, 2.802500009536743, 2.797800064086914, 2.795599937438965, 2.7918999195098877, 2.744499921798706, 2.6405999660491943, 2.6377999782562256, 2.5771000385284424, 2.563199996948242, 2.5459001064300537, 2.5450000762939453, 2.526700019836426, 2.5102999210357666, 2.412100076675415, 2.396399974822998, 2.370699882507324, 2.363800048828125, 2.362499952316284, 2.3420000076293945, 2.341900110244751, 2.3245999813079834, 2.322999954223633, 2.3173999786376953, 2.31469988822937, 2.3083999156951904, 2.288599967956543, 2.283799886703491, 2.2834999561309814, 2.278899908065796, 2.236999988555908, 1.9739999771118164, 1.9069000482559204, 2.2583000659942627, 1.8986999988555908, 1.7152999639511108, 1.739400029182434, 1.7798000574111938, 1.8617000579833984, 1.726199984550476, 1.5540000200271606, 1.2307000160217285, 0.9670000076293945, 1.438099980354309, 0.9071999788284302, 1.423699975013733, 0.6583999991416931, 0.9383999705314636, 0.6421999931335449, 1.5328999757766724, 1.1468000411987305, 0.9736999869346619, 0.34360000491142273, 0.3513000011444092, 1.207900047302246, 0.15029999613761902, 0.5425999760627747, 0.8348000049591064, 0.6353999972343445, 0.6460999846458435, 0.5996999740600586, 0.02879999950528145, 0.031700000166893005, 0.09539999812841415, 0.6118999719619751, 0.06909999996423721, 2.7444000244140625, 2.563199996948242, 2.5394999980926514, 2.5360000133514404, 2.5260000228881836, 2.51200008392334, 2.5114998817443848, 2.5092999935150146, 2.5002999305725098, 2.4876999855041504, 2.413300037384033, 2.3875999450683594, 2.3752999305725098, 2.3719000816345215, 2.350100040435791, 2.348099946975708, 2.34689998626709, 2.343899965286255, 2.3389999866485596, 2.305000066757202, 2.3017001152038574, 2.2885000705718994, 2.2832999229431152, 2.2662999629974365, 2.258500099182129, 2.2551000118255615, 2.2472000122070312, 2.246799945831299, 2.2451999187469482, 2.22760009765625, 2.0773000717163086, 2.0722999572753906, 2.143399953842163, 1.9194999933242798, 1.9515000581741333, 1.7790000438690186, 2.0685999393463135, 1.6833000183105469, 1.9423999786376953, 1.6445000171661377, 1.919800043106079, 2.0357000827789307, 1.4836000204086304, 1.6266000270843506, 1.305299997329712, 1.3935999870300293, 1.44159996509552, 2.026400089263916, 1.0476000308990479, 1.0906000137329102, 0.710099995136261, 1.2898999452590942, 0.8959000110626221, 0.8996000289916992, 0.9156000018119812, 0.5577999949455261, 0.3822999894618988, 0.23479999601840973, 0.305400013923645, 0.7053999900817871, 0.39410001039505005, 0.1445000022649765, 0.17790000140666962, 0.012500000186264515, 0.3116999864578247, 0.2800999879837036, 0.06310000270605087, 0.27399998903274536, -0.21660000085830688, 2.9576001167297363, 2.9540998935699463, 2.9056999683380127, 2.848400115966797, 2.80649995803833, 2.7476999759674072, 2.7418999671936035, 2.704900026321411, 2.6693999767303467, 2.6635000705718994, 2.6459999084472656, 2.6298000812530518, 2.6159000396728516, 2.575900077819824, 2.5713999271392822, 2.5511999130249023, 2.5418999195098877, 2.5234999656677246, 2.5041000843048096, 2.4944000244140625, 2.4911999702453613, 2.4783999919891357, 2.476099967956543, 2.4749999046325684, 2.4709999561309814, 2.4707999229431152, 2.448499917984009, 2.4442999362945557, 2.407900094985962, 2.4077999591827393, 2.384399890899658, 2.3747000694274902, 2.234499931335449, 2.255199909210205, 2.2732999324798584, 2.2983999252319336, 2.2269999980926514, 1.947100043296814, 2.1542999744415283, 2.1898999214172363, 1.510599970817566, 2.0027999877929688, 1.881500005722046, 1.1353000402450562, 1.71589994430542, 1.5530999898910522, 1.676300048828125, 1.4701000452041626, 1.1578999757766724, 0.8281000256538391, 1.5018999576568604, 1.62090003490448, 1.2698999643325806, 1.8712999820709229, 0.8799999952316284, 1.201799988746643, 0.909500002861023, 1.3487000465393066, 1.1447999477386475, 1.2340999841690063, 0.2612999975681305, 0.27619999647140503, 0.9017000198364258, 0.6592000126838684, 1.1349999904632568, 0.8258000016212463, 0.3109999895095825, 0.758899986743927, 0.019600000232458115, -0.08479999750852585, -0.04490000009536743, 0.6148999929428101, 0.12639999389648438, -0.3659999966621399, -0.052799999713897705, 0.6236000061035156, 0.3752000033855438, -0.16509999334812164, 0.2328999936580658, 4.06279993057251, 3.694700002670288, 3.5272998809814453, 3.498699903488159, 3.425100088119507, 3.3945000171661377, 3.3080999851226807, 3.288300037384033, 3.206399917602539, 3.1749000549316406, 3.1185998916625977, 3.113600015640259, 3.1082000732421875, 3.094399929046631, 3.0875000953674316, 3.0213000774383545, 3.0028998851776123, 2.9647998809814453, 2.941699981689453, 2.9337000846862793, 2.932499885559082, 2.927999973297119, 2.9275999069213867, 2.92549991607666, 2.903899908065796, 2.900700092315674, 2.885499954223633, 2.8835999965667725, 2.8803000450134277, 2.8510000705718994, 2.8303000926971436, 2.8289999961853027, 2.7019999027252197, 2.6468000411987305, 2.622299909591675, 2.6143999099731445, 2.4268999099731445, 2.3433001041412354, 2.072000026702881, 1.8007999658584595, 2.1373000144958496, 2.398200035095215, 1.5923000574111938, 2.466099977493286, 2.3661999702453613, 1.8366999626159668, 2.077699899673462, 2.3399999141693115, 2.361999988555908, 1.819100022315979, 1.5342999696731567, 1.035599946975708, 1.444700002670288, 0.9663000106811523, 1.3485000133514404, 0.8718000054359436, 0.5354999899864197, 0.6462000012397766, 0.8119999766349792, 1.1196000576019287, 0.10300000011920929, 0.09839999675750732, 0.43209999799728394, 0.9847999811172485, -0.08950000256299973, -0.07670000195503235, -0.3479999899864197, 4.3765997886657715, 3.738100051879883, 3.6452999114990234, 3.5855000019073486, 3.5223000049591064, 3.4964001178741455, 3.40910005569458, 3.4061999320983887, 3.3940000534057617, 3.3850998878479004, 3.295099973678589, 3.261699914932251, 3.256500005722046, 3.2421998977661133, 3.222100019454956, 3.2123000621795654, 3.2070000171661377, 3.174999952316284, 3.1665000915527344, 3.166100025177002, 3.1623001098632812, 3.1547000408172607, 3.1410000324249268, 3.1338999271392822, 3.12719988822937, 3.115799903869629, 3.0913000106811523, 3.08870005607605, 3.08870005607605, 3.0873000621795654, 3.030600070953369, 2.9941999912261963, 2.822700023651123, 2.9637999534606934, 3.02810001373291, 2.6494998931884766, 2.57669997215271, 1.9905999898910522, 1.7590999603271484, 2.591900110244751, 2.167799949645996, 1.166200041770935, 1.2699999809265137, 1.0699000358581543, 0.7188000082969666, 0.9192000031471252, 0.4641000032424927, 0.3589000105857849, 2.0569000244140625, 2.455699920654297, 0.210999995470047, -0.014100000262260437, 0.3483000099658966, 2.0613999366760254, 0.5418000221252441, 0.9922000169754028, 1.6959999799728394, 1.4629000425338745, 0.54830002784729, 0.41449999809265137, 0.8431000113487244, 1.0789999961853027, 0.2134000062942505, -0.28700000047683716, 0.7081000208854675, -0.30660000443458557, 0.3862000107765198, 0.7960000038146973, 0.5806999802589417, 0.1624000072479248, 0.13449999690055847, -0.5205000042915344, 0.12460000067949295, -0.1793999969959259, -0.021400000900030136, -0.14329999685287476, 4.313899993896484, 4.002500057220459, 3.5585999488830566, 3.55679988861084, 3.4935998916625977, 3.4802000522613525, 3.472100019454956, 3.4137001037597656, 3.400399923324585, 3.3966000080108643, 3.3671000003814697, 3.351300001144409, 3.33240008354187, 3.3261001110076904, 3.3039000034332275, 3.291800022125244, 3.2646000385284424, 3.2462000846862793, 3.222899913787842, 3.217600107192993, 3.210599899291992, 3.2084999084472656, 3.1953999996185303, 3.19320011138916, 3.1882998943328857, 3.178100109100342, 3.175800085067749, 3.1656999588012695, 3.161099910736084, 3.139699935913086, 3.1254000663757324, 2.6903998851776123, 2.5885000228881836, 2.5385000705718994, 2.5520999431610107, 1.5407999753952026, 2.612799882888794, 2.810800075531006, 2.1910998821258545, 1.2940000295639038, 2.063499927520752, 2.2116000652313232, 0.939300000667572, 0.8151999711990356, 1.3127000331878662, 0.2460000067949295, 1.2496999502182007, 0.2215999960899353, 0.06430000066757202, -0.07479999959468842, 1.4429999589920044, 0.44369998574256897, 2.024199962615967, 0.10379999876022339, 0.4814000129699707, 0.047200001776218414, 1.3014999628067017, -0.26249998807907104, -0.46880000829696655, 0.24740000069141388, 0.17820000648498535, -0.4207000136375427, -0.40880000591278076, 0.19689999520778656, 0.1103999987244606, 0.07349999994039536, 0.24160000681877136, 3.852299928665161, 3.7083001136779785, 3.596100091934204, 3.5481998920440674, 3.5016000270843506, 3.474100112915039, 3.4370999336242676, 3.402400016784668, 3.4019999504089355, 3.398099899291992, 3.3740999698638916, 3.3612000942230225, 3.358599901199341, 3.356300115585327, 3.325700044631958, 3.286900043487549, 3.2471001148223877, 3.1414999961853027, 3.1393001079559326, 3.1324000358581543, 3.1212000846862793, 3.11299991607666, 3.098400115966797, 3.0887999534606934, 3.081399917602539, 3.0601999759674072, 3.045300006866455, 3.0429999828338623, 3.0423998832702637, 3.0336999893188477, 3.009700059890747, 2.972399950027466, 2.8664000034332275, 2.951200008392334, 2.7197999954223633, 2.705199956893921, 2.9381000995635986, 2.378999948501587, 1.8573999404907227, 1.0191999673843384, 0.9290000200271606, 0.8740000128746033, 1.0753999948501587, 1.3166999816894531, 1.3307000398635864, 1.1777000427246094, 0.4458000063896179, 0.5819000005722046, -0.0010999999940395355, 1.5576000213623047, 1.5480999946594238, 0.33090001344680786, 0.5199999809265137, 1.9306999444961548, 0.7376000285148621, -0.18209999799728394, 0.289900004863739, -0.263700008392334, -0.4165000021457672, 0.6202999949455261, 0.6090999841690063, -0.3093999922275543, 0.4072999954223633, 0.179299995303154, 0.8073999881744385, 0.6035000085830688, -0.5042999982833862, 0.19460000097751617, 0.0706000030040741, 3.765199899673462, 3.670799970626831, 3.65120005607605, 3.6373000144958496, 3.518199920654297, 3.5136001110076904, 3.3712000846862793, 3.338599920272827, 3.316200017929077, 3.3150999546051025, 3.300600051879883, 3.2276999950408936, 3.211899995803833, 3.191999912261963, 3.184799909591675, 3.165299892425537, 3.1575000286102295, 3.1572000980377197, 3.1559998989105225, 3.1115000247955322, 3.1089000701904297, 3.085599899291992, 3.083199977874756, 3.0404999256134033, 2.992000102996826, 2.9892001152038574, 2.9881999492645264, 2.986999988555908, 2.979599952697754, 2.974600076675415, 2.9423999786376953, 2.9502999782562256, 2.955199956893921, 2.8849000930786133, 2.9142000675201416, 2.908799886703491, 2.8127999305725098, 2.8877999782562256, 2.564199924468994, 2.4140000343322754, 2.4463999271392822, 2.3317999839782715, 1.9246000051498413, 2.587599992752075, 2.2414000034332275, 2.3461999893188477, 2.0660998821258545, 2.0357000827789307, 2.220599889755249, 1.103600025177002, 1.1850999593734741, 1.3143999576568604, 1.1784000396728516, 1.3073999881744385, 1.8658000230789185, 1.691100001335144, 2.003700017929077, 1.930299997329712, 1.617799997329712, 0.3955000042915344, 2.387399911880493, 1.152999997138977, 1.871399998664856, 0.9988999962806702, 0.8888000249862671, 1.441100001335144, 0.18440000712871552, 0.9282000064849854, 0.8302000164985657, 0.4918999969959259, 0.9416999816894531, 0.0892999991774559, -0.31029999256134033, 0.18950000405311584, 0.4668999910354614, -0.03359999880194664, -0.054099999368190765, 3.7827999591827393, 3.6928999423980713, 3.6524999141693115, 3.628999948501587, 3.611299991607666, 3.5601000785827637, 3.543299913406372, 3.4830000400543213, 3.47160005569458, 3.4551000595092773, 3.4007999897003174, 3.3524999618530273, 3.347599983215332, 3.3440001010894775, 3.3352999687194824, 3.3271000385284424, 3.2746999263763428, 3.2047998905181885, 3.188800096511841, 3.184299945831299, 3.1721999645233154, 3.163100004196167, 3.1563000679016113, 3.1445999145507812, 3.1440000534057617, 3.131999969482422, 3.1124000549316406, 3.1061999797821045, 3.098599910736084, 3.0973000526428223, 3.0952000617980957, 3.0550999641418457, 3.079400062561035, 2.7093000411987305, 2.9816999435424805, 2.7795000076293945, 2.3053998947143555, 2.309799909591675, 2.596299886703491, 2.3124001026153564, 1.8641999959945679, 1.4948999881744385, 2.813499927520752, 0.4936999976634979, 1.0383000373840332, 2.5099000930786133, 0.789900004863739, 0.16949999332427979, 0.39879998564720154, 1.6647000312805176, 0.8604000210762024, 0.5425000190734863, 1.205399990081787, 0.10899999737739563, 1.250499963760376, 0.16120000183582306, 1.073199987411499, 0.7953000068664551, 0.5184999704360962, 0.9714000225067139, 2.0425000190734863, -0.07270000129938126, 0.43869999051094055, 0.48910000920295715, 0.47909998893737793, 0.19059999287128448, 0.25040000677108765, 0.2946000099182129, -0.4027000069618225, 4.734600067138672, 4.534800052642822, 4.45359992980957, 4.3094000816345215, 4.2606000900268555, 4.1265997886657715, 3.9916999340057373, 3.9632999897003174, 3.7630999088287354, 3.759399890899658, 3.7471001148223877, 3.7221999168395996, 3.699899911880493, 3.6916000843048096, 3.6902999877929688, 3.6849000453948975, 3.68149995803833, 3.680299997329712, 3.6754000186920166, 3.6730000972747803, 3.672800064086914, 3.6194000244140625, 3.61299991607666, 3.587899923324585, 3.5848000049591064, 3.5569000244140625, 3.552000045776367, 3.535900115966797, 3.528599977493286, 3.524899959564209, 3.516900062561035, 3.500699996948242, 3.24399995803833, 3.359299898147583, 3.4133999347686768, 3.4042999744415283, 3.0044000148773193, 3.224900007247925, 2.8768999576568604, 2.662600040435791, 2.242799997329712, 2.3678998947143555, 3.0945000648498535, 3.0313000679016113, 2.037600040435791, 2.9437999725341797, 2.5562000274658203, 2.439500093460083, 2.871299982070923, 1.9282000064849854, 2.798099994659424, 1.595900058746338, 1.9810999631881714, 1.4407999515533447, 0.8191999793052673, 0.07909999787807465, 1.1409000158309937, 0.4205000102519989, 0.914900004863739, -0.43389999866485596, 1.11080002784729, 0.7598999738693237, 0.27799999713897705, 0.29490000009536743, -0.050700001418590546, -0.0908999964594841, -0.48069998621940613, 0.6894999742507935, 0.36880001425743103, 0.024800000712275505, -0.6478000283241272, 4.848700046539307, 4.60860013961792, 4.429500102996826, 4.203000068664551, 4.167099952697754, 3.8673999309539795, 3.8285999298095703, 3.8243000507354736, 3.803100109100342, 3.7962000370025635, 3.787100076675415, 3.78439998626709, 3.783400058746338, 3.7811999320983887, 3.7723000049591064, 3.75600004196167, 3.6533000469207764, 3.6440999507904053, 3.6308000087738037, 3.614000082015991, 3.613300085067749, 3.609100103378296, 3.608299970626831, 3.608099937438965, 3.6080000400543213, 3.6066999435424805, 3.606300115585327, 3.5018999576568604, 3.484499931335449, 3.477299928665161, 3.4547998905181885, 3.461400032043457, 3.334700107574463, 2.8770999908447266, 3.208199977874756, 2.909899950027466, 2.756200075149536, 2.535099983215332, 2.4674999713897705, 2.7708001136779785, 2.013000011444092, 1.7502000331878662, 2.564300060272217, 1.8145999908447266, 2.1700000762939453, 2.6596999168395996, 2.0864999294281006, 2.068000078201294, 2.700200080871582, 1.5427000522613525, 2.6345999240875244, 0.2328999936580658, 2.6212000846862793, 0.8664000034332275, 1.131100058555603, 0.9725000262260437, 1.7914999723434448, 0.06030000001192093, 0.2915000021457672, 0.06830000132322311, 0.5213000178337097, 0.4584999978542328, 0.5454000234603882, 1.0443999767303467, 0.7820000052452087, -0.1679999977350235, 0.17710000276565552, -0.2304999977350235, -0.041099999099969864, 0.8192999958992004]}, \"token.table\": {\"Topic\": [1, 15, 3, 5, 6, 1, 4, 9, 1, 3, 9, 10, 1, 3, 8, 10, 1, 15, 1, 2, 3, 4, 5, 6, 7, 8, 9, 10, 11, 12, 13, 14, 2, 5, 6, 7, 1, 3, 9, 10, 1, 2, 3, 4, 5, 6, 7, 8, 9, 1, 3, 4, 9, 11, 14, 1, 2, 3, 4, 5, 6, 7, 8, 9, 10, 11, 12, 15, 1, 9, 2, 3, 8, 12, 1, 9, 1, 5, 15, 1, 2, 3, 9, 10, 3, 8, 4, 1, 4, 7, 1, 2, 3, 4, 5, 6, 7, 8, 9, 10, 12, 1, 2, 6, 7, 1, 5, 10, 2, 4, 5, 9, 13, 1, 2, 3, 4, 5, 6, 7, 8, 9, 10, 11, 12, 14, 3, 8, 9, 3, 7, 12, 1, 2, 3, 4, 11, 1, 3, 4, 10, 5, 1, 11, 1, 2, 10, 15, 1, 2, 3, 4, 5, 6, 7, 8, 9, 10, 11, 12, 14, 15, 1, 15, 5, 7, 4, 1, 4, 12, 1, 2, 3, 5, 6, 7, 8, 9, 12, 1, 2, 3, 4, 5, 6, 7, 9, 12, 13, 4, 2, 7, 12, 13, 1, 2, 3, 5, 6, 7, 8, 9, 10, 12, 15, 1, 2, 3, 4, 5, 6, 7, 8, 9, 12, 1, 3, 11, 13, 4, 1, 2, 3, 4, 5, 6, 7, 8, 9, 10, 11, 12, 13, 14, 1, 15, 3, 9, 2, 3, 5, 8, 3, 5, 6, 7, 13, 2, 3, 5, 6, 3, 5, 6, 1, 2, 3, 4, 10, 11, 2, 1, 4, 10, 1, 15, 1, 3, 13, 14, 1, 6, 1, 2, 3, 4, 5, 6, 7, 8, 9, 12, 13, 1, 1, 2, 3, 4, 5, 6, 7, 8, 9, 10, 12, 13, 14, 15, 1, 2, 3, 4, 5, 6, 8, 9, 10, 11, 14, 1, 2, 3, 6, 2, 3, 7, 8, 9, 12, 2, 1, 3, 4, 9, 1, 2, 3, 4, 5, 6, 7, 8, 9, 10, 11, 12, 13, 14, 15, 5, 7, 1, 3, 4, 10, 1, 4, 11, 1, 10, 2, 3, 7, 9, 12, 1, 2, 3, 4, 6, 10, 11, 1, 6, 7, 9, 5, 7, 1, 3, 4, 5, 7, 8, 9, 11, 1, 4, 10, 1, 2, 3, 4, 5, 6, 7, 9, 10, 11, 13, 15, 1, 4, 10, 1, 4, 1, 4, 2, 7, 12, 1, 2, 3, 4, 5, 6, 7, 9, 11, 13, 3, 4, 11, 13, 2, 3, 5, 10, 12, 1, 3, 4, 6, 10, 14, 1, 3, 4, 10, 13, 1, 1, 3, 4, 9, 10, 11, 14, 1, 4, 7, 15, 3, 7, 8, 2, 5, 7, 1, 2, 3, 4, 5, 6, 7, 8, 9, 10, 11, 12, 14, 15, 1, 10, 1, 4, 1, 3, 14, 1, 4, 10, 1, 10, 1, 11, 1, 3, 4, 11, 1, 3, 10, 14, 3, 4, 3, 6, 1, 4, 6, 14, 1, 2, 3, 4, 10, 11, 13, 14, 1, 2, 3, 4, 5, 6, 7, 8, 9, 10, 11, 12, 13, 14, 15, 3, 6, 3, 5, 6, 1, 3, 4, 9, 11, 2, 3, 7, 12, 13, 2, 3, 7, 13, 14, 1, 4, 10, 11, 1, 4, 11, 1, 2, 3, 4, 5, 6, 7, 8, 9, 10, 11, 12, 13, 15, 1, 2, 3, 4, 5, 6, 7, 8, 9, 10, 12, 13, 1, 2, 3, 4, 5, 6, 7, 8, 9, 10, 11, 12, 13, 14, 15, 3, 5, 6, 1, 2, 3, 7, 12, 2, 3, 6, 3, 8, 11, 12, 1, 2, 5, 13, 1, 2, 3, 4, 5, 6, 7, 8, 9, 10, 11, 14, 1, 2, 3, 4, 5, 6, 7, 8, 9, 10, 11, 12, 13, 1, 4, 1, 2, 3, 4, 5, 7, 10, 11, 12, 13, 14, 3, 5, 6, 7, 3, 5, 7, 2, 3, 5, 6, 12, 1, 10, 12, 2, 5, 1, 2, 3, 4, 5, 6, 10, 12, 15, 1, 2, 3, 4, 6, 7, 9, 10, 11, 13, 14, 15, 1, 7, 10, 11, 1, 2, 3, 7, 8, 12, 15, 1, 2, 3, 4, 10, 3, 5, 6, 2, 3, 7, 12, 13, 1, 2, 3, 4, 5, 6, 7, 8, 10, 12, 1, 11, 13, 1, 2, 3, 4, 5, 6, 7, 8, 9, 10, 11, 12, 13, 14, 15, 1, 4, 1, 6, 1, 6, 1, 2, 3, 4, 5, 6, 7, 8, 9, 10, 12, 13, 14, 3, 5, 6, 7, 1, 4, 9, 10, 12, 1, 4, 5, 15, 1, 10, 1, 4, 13, 1, 4, 6, 1, 7, 8, 12, 1, 2, 3, 4, 7, 8, 9, 12, 13, 15, 3, 1, 13, 1, 15, 3, 7, 5, 7, 8, 1, 2, 3, 4, 5, 6, 7, 8, 9, 10, 12, 13, 14, 1, 4, 10, 11, 14, 1, 2, 3, 4, 6, 11, 1, 2, 4, 12, 1, 4, 14, 1, 2, 3, 4, 7, 4, 2, 3, 4, 7, 8, 9, 12, 1, 2, 3, 4, 5, 6, 7, 9, 10, 11, 14, 2, 3, 5, 8, 9, 10, 2, 8, 1, 2, 3, 4, 5, 6, 7, 8, 9, 10, 12, 13, 1, 2, 3, 5, 6, 8, 9, 12, 1, 2, 3, 4, 5, 6, 7, 8, 9, 10, 11, 12, 13, 14, 15, 1, 2, 3, 4, 5, 6, 7, 8, 9, 10, 11, 12, 13, 15, 1, 2, 3, 4, 5, 6, 7, 8, 9, 10, 11, 12, 13, 1, 2, 4, 8, 9, 1, 4, 6, 1, 2, 3, 4, 5, 6, 7, 9, 10, 11, 12, 2, 3, 7, 12, 1, 13, 2, 7, 8, 12, 1, 7, 12, 1, 4, 14, 1, 10, 1, 5, 8, 12, 1, 3, 1, 6, 7, 9, 14, 1, 11, 15, 1, 2, 3, 4, 5, 6, 7, 8, 9, 10, 4, 1, 2, 3, 9, 10, 14, 2, 7, 9, 1, 3, 6, 10, 14, 5, 11, 12, 1, 13, 4, 13, 1, 2, 8, 1, 2, 8, 12, 1, 2, 3, 8, 3, 6, 1, 2, 3, 4, 10, 11, 1, 10, 1, 2, 3, 4, 6, 7, 8, 9, 10, 11, 13, 14, 15, 1, 2, 3, 4, 5, 6, 7, 8, 9, 10, 12, 13, 15, 1, 2, 3, 4, 10, 11, 13, 1, 6, 1, 4, 9, 13, 1, 15, 1, 2, 3, 5, 7, 8, 10, 12, 14, 1, 5, 1, 9, 11, 1, 2, 3, 5, 7, 8, 9, 10, 12, 1, 2, 3, 4, 5, 6, 7, 8, 9, 12, 1, 4, 9, 11, 2, 4, 7, 3, 5, 6, 7, 3, 5, 6, 7, 1, 4, 10, 11, 1, 2, 3, 5, 6, 7, 13, 3, 9, 13, 2, 3, 4, 5, 6, 7, 8, 12, 1, 4, 5, 6, 9, 10, 11, 13, 1, 4, 9, 3, 5, 6, 7, 1, 2, 3, 4, 9, 10, 12, 15, 1, 4, 11, 1, 3, 4, 5, 9, 1, 2, 3, 5, 7, 8, 9, 12, 14, 1, 2, 12, 1, 4, 11, 1, 4, 9, 10, 11, 4, 1, 1, 2, 3, 4, 5, 6, 7, 8, 9, 10, 11, 13, 14, 15, 1, 7, 9, 1, 9, 10, 11, 1, 2, 5, 8, 10, 1, 2, 3, 6, 8, 9, 11, 14, 15, 1, 7, 8, 9, 10, 1, 9, 15, 1, 2, 5, 7, 10, 12, 1, 2, 5, 8, 1, 2, 3, 4, 5, 6, 7, 10, 11, 12, 13, 15, 4, 9, 1, 2, 3, 4, 5, 6, 7, 8, 9, 10, 11, 13, 14, 1, 2, 3, 4, 5, 6, 7, 8, 9, 10, 11, 14, 15, 1, 3, 4, 5, 6, 7, 9, 11, 1, 3, 5, 12, 1, 2, 4, 5, 7, 8, 9, 10, 11, 13, 1, 2, 3, 4, 5, 6, 7, 8, 9, 10, 12, 13, 14, 15, 3, 14, 1, 4, 13, 1, 4, 10, 12, 13, 14, 15, 1, 5, 1, 2, 3, 4, 5, 6, 7, 8, 9, 10, 11, 12, 13, 2, 5, 8, 10, 1, 14, 6, 7, 1, 2, 3, 4, 5, 6, 7, 8, 9, 10, 11, 12, 13, 15, 1, 2, 3, 4, 5, 6, 7, 8, 9, 10, 11, 12, 13, 14, 15, 2, 3, 7, 8, 12, 1, 14, 1, 4, 11, 1, 5, 8, 13, 1, 2, 4, 10, 2, 7, 3, 4, 6, 9, 1, 2, 3, 4, 5, 6, 7, 9, 12, 1, 3, 4, 15, 3, 1, 4, 10, 11, 14, 2, 7, 1, 2, 12, 2, 3, 7, 8, 12, 1, 2, 3, 5, 6, 7, 8, 9, 10, 12, 13, 15, 6, 7, 8, 1, 4, 10, 14, 1, 4, 11, 1, 1, 2, 3, 4, 5, 6, 7, 8, 1, 2, 3, 4, 5, 6, 7, 9, 10, 11, 15, 1, 2, 4, 5, 9, 11, 3, 1, 2, 3, 4, 5, 6, 7, 8, 9, 10, 12, 13, 14, 15, 1, 2, 3, 4, 5, 6, 7, 8, 9, 10, 11, 13, 15, 1, 4, 14, 1, 2, 3, 4, 5, 6, 7, 8, 9, 10, 11, 13, 14, 15, 4, 2, 7, 8, 12, 1, 4, 9, 14, 5, 7, 4, 10, 11, 1, 5, 13, 1, 4, 13, 1, 2, 3, 4, 5, 6, 7, 8, 9, 10, 11, 12, 13, 14, 1, 2, 3, 4, 5, 6, 7, 8, 9, 10, 11, 12, 13, 15, 1, 1, 3, 4, 10, 1, 2, 3, 4, 5, 7, 9, 10, 11, 12, 13, 3, 5, 6, 13, 1, 11, 1, 2, 3, 4, 5, 6, 7, 8, 9, 10, 12, 15, 1, 2, 3, 4, 5, 6, 7, 8, 9, 10, 11, 12, 13, 14, 3, 8, 12, 1, 2, 4, 5, 10, 12, 13, 1, 3, 4, 6, 10, 11, 13, 3, 1, 3, 5, 6, 9, 1, 2, 3, 4, 5, 6, 7, 8, 9, 10, 12, 13, 15, 4, 1, 2, 3, 4, 5, 6, 9, 11, 2, 9, 1, 4, 6, 11, 5, 7, 1, 2, 3, 5, 6, 10, 1, 2, 3, 4, 5, 6, 7, 8, 9, 10, 11, 12, 14, 1, 2, 3, 4, 5, 6, 7, 9, 10, 15, 1, 2, 3, 4, 5, 6, 7, 8, 9, 10, 11, 12, 14, 15, 1, 3, 11, 1, 2, 3, 4, 5, 6, 7, 8, 9, 10, 11, 12, 13, 15, 1, 4, 14, 2, 1, 5, 11, 12, 13, 3, 1, 2, 3, 5, 6, 7, 3, 5, 6, 7, 13, 1, 2, 3, 4, 5, 6, 7, 8, 9, 10, 11, 12, 13, 14, 15, 3, 5, 6, 1, 4, 11, 15, 1, 2, 3, 4, 5, 6, 7, 8, 9, 10, 11, 12, 15, 1, 2, 3, 4, 5, 6, 7, 8, 9, 10, 11, 13, 14, 15, 1, 2, 3, 4, 5, 6, 7, 8, 9, 10, 11, 12, 13, 14, 15, 1, 2, 3, 4, 5, 6, 7, 8, 9, 10, 11, 12, 13, 14, 15, 1, 2, 3, 10, 14, 1, 1, 6, 9, 1, 1, 3, 4, 5, 6, 8, 3, 5, 6, 7, 13, 1, 2, 3, 4, 5, 6, 7, 8, 9, 10, 11, 13, 14, 15, 1, 2, 3, 4, 5, 6, 7, 8, 9, 10, 11, 12, 13, 14, 15, 1, 2, 14, 1, 2, 3, 4, 5, 6, 7, 8, 9, 10, 11, 12, 13, 15, 2, 6, 8, 1, 2, 3, 7, 9, 12, 1, 10, 11, 14, 2, 12, 2, 4, 1, 2, 3, 4, 5, 7, 8, 11, 1, 3, 4, 13, 2, 3, 15, 4, 1, 2, 3, 5, 7, 8, 1, 7, 10, 1, 3, 5, 12, 1, 4, 11, 1, 2, 3, 5, 6, 7, 8, 12, 13, 2, 7, 1, 1, 2, 6, 11, 1, 7, 1, 3, 1, 7, 1, 11, 3, 7, 1, 2, 4, 5, 10, 1, 3, 5, 2, 7, 9, 1, 2, 6, 7, 1, 3, 9, 12, 1, 2, 3, 7, 15, 1, 7, 11, 1, 4, 7, 15, 2, 5, 8, 2, 1, 2, 3, 5, 6, 7, 8, 1, 2, 3, 4, 10, 12, 14, 1, 9, 3, 5, 6, 7, 1, 4, 13, 1, 2, 3, 4, 5, 6, 7, 8, 9, 11, 12, 14, 15, 1, 4, 2, 13, 2, 3, 5, 10, 1, 2, 3, 4, 5, 6, 7, 8, 9, 10, 11, 13, 15, 1, 3, 5, 1, 2, 3, 4, 5, 7, 8, 15, 1, 2, 3, 4, 5, 6, 7, 8, 9, 10, 11, 12, 15, 1, 2, 3, 4, 5, 6, 7, 8, 9, 10, 11, 13, 15, 1, 2, 3, 4, 5, 6, 7, 8, 9, 10, 11, 12, 13, 14, 2, 3, 7, 8, 9, 12, 1, 1, 2, 3, 4, 5, 6, 7, 8, 9, 10, 11, 12, 13, 15, 3, 5, 6, 7, 13, 5, 1, 4, 10, 1, 2, 3, 4, 5, 6, 7, 8, 9, 10, 11, 12, 13, 14, 15, 1, 2, 3, 4, 5, 6, 7, 8, 9, 10, 11, 12, 13, 15, 1, 2, 3, 4, 6, 11, 1, 3, 4, 6, 9, 15, 1, 2, 3, 4, 5, 6, 7, 11, 12, 13, 14, 1, 2, 3, 4, 5, 6, 7, 8, 9, 10, 11, 12, 13, 2, 3, 4, 12, 13, 2, 7, 2, 6, 8, 3, 6, 1, 2, 3, 4, 5, 6, 7, 8, 9, 10, 12, 13, 15, 1, 2, 3, 6, 15, 1, 2, 3, 4, 5, 6, 7, 8, 9, 11, 12, 13, 15, 1, 2, 3, 4, 5, 6, 7, 8, 9, 10, 11, 12, 13, 15, 1, 5, 8, 12, 1, 4, 1, 2, 3, 4, 5, 6, 7, 8, 9, 12, 13, 1, 7, 10, 14, 1, 2, 3, 4, 5, 6, 7, 8, 9, 10, 11, 12, 13, 15, 1, 2, 3, 4, 6, 7, 9, 10, 11, 12, 13, 15, 1, 2, 3, 4, 5, 6, 7, 8, 9, 10, 11, 12, 13, 14, 15, 1, 2, 3, 4, 5, 6, 7, 9, 10, 11, 12, 13, 14, 2, 3, 4, 5, 10, 12, 1, 2, 3, 7, 13, 1, 2, 3, 4, 5, 6, 7, 8, 9, 10, 11, 12, 13, 14, 15, 1, 2, 3, 4, 5, 6, 7, 8, 9, 10, 11, 12, 13, 14, 15, 1, 2, 3, 4, 5, 6, 7, 8, 11, 12, 2, 3, 4, 7, 8, 9, 12, 1, 2, 3, 4, 8, 9, 14, 4, 9, 14, 1, 3, 4, 1, 2, 3, 4, 5, 6, 7, 8, 9, 10, 11, 12, 13, 14, 2, 3, 7, 8, 12, 3, 8, 1, 2, 3, 4, 5, 6, 7, 8, 9, 10, 11, 12, 13, 14, 1, 2, 3, 4, 5, 6, 7, 8, 9, 10, 11, 12, 13, 14, 15, 1, 2, 3, 4, 5, 6, 7, 8, 9, 10, 11, 13, 14, 15, 1, 2, 3, 4, 5, 6, 7, 8, 9, 10, 11, 12, 13, 15, 4, 9, 1, 4, 10, 11, 2, 7, 8, 2, 12, 1, 2, 3, 4, 6, 7, 8, 10, 12, 13, 2, 3, 7, 8, 9, 12, 1, 2, 4, 6, 9, 10, 11, 13, 1, 4, 10, 11, 2, 5, 4, 1, 2, 3, 4, 6, 9, 13, 1, 2, 3, 4, 5, 6, 7, 8, 9, 10, 11, 12, 13, 14, 15, 3, 5, 6, 1, 2, 1, 2, 3, 5, 7, 8, 9, 10, 1, 4, 9, 1, 2, 3, 5, 6, 7, 8, 9, 10, 11, 12, 15, 1, 2, 3, 4, 5, 6, 7, 8, 9, 11, 12, 13, 1, 2, 3, 4, 5, 6, 7, 8, 9, 10, 11, 15, 3, 5, 6, 3, 5, 6, 1, 2, 3, 4, 7, 8, 10, 11, 12, 15, 1, 3, 4, 11, 15, 1, 6, 10, 1, 5, 6, 13, 1, 4, 1, 2, 3, 6, 14, 1, 9, 1, 2, 3, 4, 5, 6, 7, 9, 10, 15, 1, 2, 4, 5, 6, 7, 9, 10, 13, 2, 3, 5, 8, 2, 1, 2, 3, 11, 2, 7, 8, 1, 2, 3, 4, 5, 6, 7, 8, 9, 10, 11, 12, 13, 14, 15, 2, 4, 6, 10, 2, 3, 7, 1, 2, 3, 4, 5, 6, 7, 8, 9, 10, 13, 14, 15, 1, 15, 2, 7, 15, 1, 7, 1, 2, 3, 4, 5, 7, 8, 9, 10, 11, 12, 13, 15, 1, 15, 1, 4, 9, 10, 11, 1, 3, 4, 10, 1, 4, 15, 1, 15, 1, 2, 3, 4, 5, 6, 7, 8, 9, 10, 11, 12, 13, 15, 1, 2, 3, 4, 5, 6, 7, 8, 9, 10, 11, 12, 13, 1, 2, 3, 5, 6, 7, 8, 10, 12, 2, 3, 4, 9, 1, 4, 15, 1, 9, 3, 3, 5, 1, 2, 3, 4, 5, 6, 7, 8, 9, 10, 11, 12, 13, 14, 1, 1, 4, 11, 1, 2, 3, 4, 5, 6, 7, 8, 9, 10, 11, 13, 14, 15, 1, 11, 14, 1, 3, 5, 12, 1, 4, 11, 2, 3, 7, 9, 12, 1, 2, 3, 5, 6, 7, 8, 9, 12, 15, 1, 2, 3, 6, 7, 8, 2, 3, 6, 12, 15, 1, 2, 3, 4, 5, 6, 7, 8, 9, 10, 11, 12, 13, 14, 15, 2, 8, 9, 1, 4, 9, 11, 3, 4, 7, 1, 2, 3, 4, 5, 6, 7, 8, 9, 10, 11, 12, 13, 14, 15, 1, 2, 3, 4, 5, 6, 7, 8, 9, 10, 11, 12, 13, 14, 1, 3, 11, 12, 1, 15, 4, 1, 15, 1, 2, 6, 9, 10, 1, 6, 1, 2, 3, 4, 5, 6, 7, 8, 9, 10, 11, 12, 13, 3, 10, 1, 4, 5, 6, 8, 11, 12, 14, 1, 2, 3, 10, 1, 4, 10, 2, 3, 5, 2, 1, 2, 3, 4, 5, 6, 8, 10, 1, 2, 3, 7, 8, 2, 3, 9, 1, 4, 11, 13, 1, 2, 3, 4, 10, 11, 13, 3, 1, 4, 10, 11, 15, 1, 4, 9, 12, 2, 7, 8, 12, 1, 3, 14, 4, 1, 2, 3, 4, 5, 6, 7, 8, 9, 10, 11, 12, 13, 14, 15, 3, 5, 6, 7, 4, 14, 4, 1, 4, 9, 11, 1, 6, 12, 2, 3, 7, 8, 1, 3, 4, 6, 7, 11, 1, 4, 1, 10, 3, 1, 2, 3, 4, 5, 6, 7, 8, 9, 10, 11, 12, 13, 14, 15, 1, 3, 6, 1, 4, 8, 1, 3, 4, 1, 7, 12, 1, 2, 3, 4, 5, 6, 7, 8, 9, 10, 12, 13, 14, 1, 3, 11, 14, 1, 2, 3, 5, 6, 7, 8, 9, 12, 15, 1, 14, 2, 4, 6, 13, 2, 3, 5, 8, 3, 11, 1, 2, 3, 5, 6, 8, 9, 13, 1, 6, 9, 5, 7, 12, 1, 2, 3, 4, 5, 6, 7, 8, 9, 10, 12, 13, 15, 3, 4, 3, 5, 8, 1, 2, 3, 4, 5, 6, 7, 8, 9, 11, 12, 1, 2, 10, 1, 2, 3, 12, 1, 2, 4, 5, 8, 12, 13, 1, 2, 3, 4, 5, 6, 11, 12, 4, 2, 4, 5, 8, 3, 10, 11, 1, 2, 6, 7, 1, 2, 3, 4, 5, 6, 7, 8, 9, 12, 14, 1, 2, 3, 5, 7, 11, 12, 13, 1, 3, 5, 7, 1, 3, 4, 11, 1, 4, 11, 2, 4, 13, 1, 4, 9, 11, 1, 4, 11, 1, 10, 3, 5, 6, 7, 13, 1, 3, 4, 9, 10, 14, 2, 1, 3, 12, 14, 1, 6, 9, 13, 1, 2, 4, 7, 10, 15, 2, 3, 7, 1, 5, 6, 13, 1, 3, 4, 9, 14, 4, 1, 2, 5, 6, 12, 3, 6, 11, 1, 2, 3, 4, 6, 7, 8, 12, 1, 7, 12, 1, 2, 3, 4, 5, 6, 7, 8, 9, 10, 12, 14, 1, 2, 3, 7, 14, 15, 1, 2, 3, 4, 5, 6, 7, 8, 9, 10, 11, 12, 14, 15, 6, 9, 10, 1, 3, 4, 5, 2, 3, 7, 1, 13, 1, 3, 9, 1, 11, 3, 4, 15, 3, 6, 7, 4, 11, 1, 3, 9, 11, 15, 3, 4, 1, 7, 9, 1, 2, 3, 5, 6, 7, 8, 12, 1, 3, 4, 9, 11, 14, 15, 1, 2, 3, 4, 5, 6, 7, 8, 9, 10, 11, 12, 13, 14, 15, 1, 2, 3, 4, 5, 6, 7, 10, 11, 1, 4, 11, 2, 7, 1, 10, 11, 1, 4, 10, 13, 1, 2, 3, 7, 9, 10, 12, 1, 5, 9, 13, 1, 3, 5, 6, 14, 2, 1, 12, 1, 4, 10, 11, 6, 9, 10, 1, 2, 3, 4, 5, 6, 7, 8, 9, 10, 11, 12, 13, 15, 1, 10, 1, 4, 10, 15, 1, 4, 10, 14, 1, 1, 2, 3, 4, 5, 7, 10, 11, 13, 1, 2, 3, 7, 9, 12, 7, 8, 9, 10, 11, 4, 10, 11, 1, 1, 8, 2, 3, 7, 8, 1, 6, 1, 2, 3, 4, 5, 6, 7, 8, 9, 10, 11, 12, 13, 14, 5, 1, 2, 3, 4, 5, 6, 7, 8, 9, 11, 13, 14, 1, 1, 2, 3, 4, 5, 7, 8, 9, 14, 1, 8, 1, 2, 4, 9, 10, 1, 2, 3, 4, 5, 6, 7, 8, 9, 10, 11, 12, 13, 14, 15, 2, 3, 5, 6, 7, 8, 1, 2, 3, 4, 6, 7, 9, 10, 15, 3, 7, 1, 2, 3, 4, 6, 9, 15, 3, 4, 1, 2, 3, 4, 5, 6, 7, 8, 9, 10, 11, 12, 13, 1, 2, 3, 4, 5, 6, 7, 8, 9, 10, 12, 13, 1, 2, 3, 4, 5, 6, 7, 8, 9, 11, 15, 4, 5, 8, 1, 6, 10, 13, 1, 1, 2, 3, 5, 6, 7, 10, 13, 1, 4, 13, 1, 3, 13, 1, 13, 15, 1, 2, 3, 4, 5, 6, 7, 8, 9, 10, 11, 12, 13, 14, 15, 1, 3, 1, 2, 5, 6, 8, 9, 13, 2, 4, 10, 1, 4, 14, 1, 2, 14, 1, 2, 3, 4, 6, 9, 11, 15, 1, 4, 9, 1, 4, 9, 2, 4, 5, 7, 14, 1, 7, 13, 2, 3, 2, 5, 1, 10, 9, 1, 1, 2, 3, 4, 5, 6, 7, 8, 9, 10, 11, 12, 13, 15, 1, 1, 1, 2, 3, 4, 5, 6, 7, 8, 9, 10, 11, 12, 13, 1, 3, 7, 15, 1, 2, 5, 9, 14, 3, 5, 6, 1, 7, 8, 9, 11, 15, 1, 1, 11, 15, 3, 6, 12, 3, 8, 14, 3, 6, 10, 13, 1, 2, 3, 4, 5, 6, 7, 8, 9, 10, 11, 12, 13, 14, 1, 2, 3, 4, 5, 6, 7, 8, 1, 2, 3, 4, 5, 6, 7, 8, 9, 10, 12, 13, 14, 15, 1, 2, 3, 15, 5, 6, 6, 7, 9, 13, 1, 4, 1, 1, 2, 3, 4, 5, 6, 7, 8, 9, 11, 13, 14, 4, 1, 2, 3, 4, 5, 6, 7, 8, 9, 10, 11, 13, 14, 1, 4, 9, 13, 1, 10, 11, 2, 3, 5, 6, 7, 1, 2, 3, 4, 5, 6, 7, 11, 13, 14, 1, 2, 3, 4, 5, 6, 7, 8, 9, 10, 11, 12, 13, 14, 15, 1, 2, 3, 4, 10, 14, 1, 2, 3, 4, 5, 6, 7, 8, 9, 10, 11, 12, 13, 14, 1, 2, 3, 4, 5, 6, 7, 8, 9, 10, 11, 12, 13, 14, 15, 1, 3, 9, 11, 15, 1, 2, 3, 4, 5, 6, 7, 8, 9, 10, 11, 12, 13, 14, 15, 2, 1, 2, 3, 4, 5, 7, 8, 9, 12, 15, 1, 2, 3, 4, 5, 6, 7, 8, 9, 10, 11, 12, 13, 14, 15, 1, 2, 3, 4, 5, 6, 7, 8, 9, 10, 11, 12, 13, 14, 15, 4, 11, 13, 1, 4, 14, 1, 2, 3, 4, 5, 6, 7, 8, 9, 10, 11, 12, 13, 14, 15, 1, 2, 3, 4, 5, 6, 7, 8, 10, 12, 14, 1, 2, 4, 10, 1, 15, 1, 3, 4, 14, 1, 10, 12, 3, 6, 4, 11, 1, 4, 14, 1, 2, 3, 4, 5, 6, 7, 8, 12, 13, 15, 3, 1, 4, 1, 5, 9, 10, 13, 3, 6, 6, 7, 2, 6, 13, 1, 2, 12, 1, 2, 3, 12, 1, 5, 14, 2, 1, 1, 1, 9, 1, 11, 3, 4, 13, 3, 5, 6, 1, 10, 11, 1, 2, 5, 7, 14, 4, 1, 15, 1, 4, 3, 1, 4, 11, 1, 10, 11, 1, 4, 9, 1, 11, 13, 1, 2, 3, 4, 5, 6, 7, 8, 9, 12, 13, 15, 1, 1, 2, 3, 4, 5, 6, 7, 8, 9, 10, 11, 12, 13, 14, 15, 1, 5, 14, 1, 2, 3, 4, 5, 6, 7, 8, 9, 10, 11, 12, 13, 14, 3, 5, 6, 7, 13, 3, 5, 1, 11, 14, 1, 15, 1, 2, 3, 4, 5, 10, 11, 13, 14, 1, 3, 10, 11, 13, 1, 2, 3, 7, 8, 9, 12, 1, 7, 1, 2, 3, 5, 7, 9, 3, 6, 7, 1, 6, 15, 1, 2, 3, 4, 5, 6, 7, 8, 11, 1, 2, 3, 4, 5, 6, 7, 8, 9, 10, 11, 12, 13, 14, 1, 4, 15, 3, 5, 6, 7, 13, 1, 2, 3, 4, 5, 6, 7, 10, 11, 13, 14, 1, 4, 13, 1, 2, 3, 4, 5, 6, 7, 8, 9, 10, 11, 12, 13, 14, 1, 2, 3, 4, 5, 6, 7, 8, 9, 10, 11, 12, 13, 14, 15, 1, 7, 10, 11, 3, 7, 1, 2, 3, 4, 5, 6, 7, 8, 9, 10, 11, 12, 13, 14, 1, 4], \"Freq\": [0.737207293510437, 0.18430182337760925, 0.23059338331222534, 0.6588382720947266, 0.09882573783397675, 0.03990396484732628, 0.9177911877632141, 0.03990396484732628, 0.5673011541366577, 0.08104301989078522, 0.24312905967235565, 0.08104301989078522, 0.3353080749511719, 0.22353872656822205, 0.22353872656822205, 0.11176936328411102, 0.7757325172424316, 0.1551464945077896, 0.19384804368019104, 0.37532278895378113, 0.09073738008737564, 0.02887098491191864, 0.123732790350914, 0.04536869004368782, 0.06599082052707672, 0.02062213234603405, 0.004124426282942295, 0.00824885256588459, 0.004124426282942295, 0.00824885256588459, 0.02062213234603405, 0.004124426282942295, 0.2409161478281021, 0.08030538260936737, 0.16061076521873474, 0.4818322956562042, 0.1712661236524582, 0.3425322473049164, 0.1712661236524582, 0.1712661236524582, 0.3167308270931244, 0.09745564311742783, 0.07309173047542572, 0.04872782155871391, 0.09745564311742783, 0.09745564311742783, 0.024363910779356956, 0.17054736614227295, 0.024363910779356956, 0.8346966505050659, 0.05909356847405434, 0.036933477967977524, 0.022160088643431664, 0.014773392118513584, 0.022160088643431664, 0.23711547255516052, 0.4053909480571747, 0.034419987350702286, 0.011473328806459904, 0.04971775785088539, 0.05736664682626724, 0.13385550677776337, 0.022946657612919807, 0.015297772362828255, 0.007648886181414127, 0.011473328806459904, 0.015297772362828255, 0.0038244430907070637, 0.563598096370697, 0.18786601722240448, 0.2778495252132416, 0.1389247626066208, 0.2778495252132416, 0.2778495252132416, 0.7312864065170288, 0.1828216016292572, 0.557167649269104, 0.18572255969047546, 0.18572255969047546, 0.2287594974040985, 0.11437974870204926, 0.2287594974040985, 0.11437974870204926, 0.2287594974040985, 0.7819508910179138, 0.15639017522335052, 0.8933494687080383, 0.15053591132164001, 0.15053591132164001, 0.45160773396492004, 0.1168762594461441, 0.3603684604167938, 0.09739688038825989, 0.029219064861536026, 0.1168762594461441, 0.1168762594461441, 0.048698440194129944, 0.029219064861536026, 0.019479377195239067, 0.009739688597619534, 0.048698440194129944, 0.18992754817008972, 0.09496377408504486, 0.37985509634017944, 0.18992754817008972, 0.19107073545455933, 0.38214147090911865, 0.19107073545455933, 0.16874048113822937, 0.16874048113822937, 0.16874048113822937, 0.16874048113822937, 0.16874048113822937, 0.3830876648426056, 0.20012041926383972, 0.14580202102661133, 0.09148361533880234, 0.04860067367553711, 0.0343063585460186, 0.028588630259037018, 0.0171531792730093, 0.014294315129518509, 0.011435451917350292, 0.014294315129518509, 0.005717725958675146, 0.002858862979337573, 0.4973355233669281, 0.3315570056438446, 0.1657785028219223, 0.501849889755249, 0.12546247243881226, 0.2509249448776245, 0.49958252906799316, 0.16652750968933105, 0.12489563226699829, 0.041631877422332764, 0.12489563226699829, 0.16321395337581635, 0.612052321434021, 0.16321395337581635, 0.040803488343954086, 0.8881626129150391, 0.725904107093811, 0.1979738473892212, 0.5577482581138611, 0.13943706452846527, 0.13943706452846527, 0.13943706452846527, 0.5881578326225281, 0.10808029025793076, 0.11562076956033707, 0.09802630543708801, 0.012567475438117981, 0.012567475438117981, 0.01005398016422987, 0.005026990082114935, 0.007540484890341759, 0.0025134950410574675, 0.022621454671025276, 0.007540484890341759, 0.0025134950410574675, 0.007540484890341759, 0.7752114534378052, 0.15504229068756104, 0.17879077792167664, 0.7151631116867065, 0.8929333090782166, 0.548941969871521, 0.13723549246788025, 0.13723549246788025, 0.177351176738739, 0.2561739385128021, 0.07882274687290192, 0.11823412030935287, 0.07882274687290192, 0.05911706015467644, 0.15764549374580383, 0.01970568671822548, 0.01970568671822548, 0.08558475226163864, 0.3225886821746826, 0.21067017316818237, 0.039500657469034195, 0.23042050004005432, 0.046084098517894745, 0.026333771646022797, 0.006583442911505699, 0.026333771646022797, 0.013166885823011398, 0.9318060874938965, 0.4166555106639862, 0.13888517022132874, 0.13888517022132874, 0.13888517022132874, 0.06659863144159317, 0.3163434863090515, 0.1415220946073532, 0.09157311916351318, 0.09989794343709946, 0.21644555032253265, 0.016649657860398293, 0.008324828930199146, 0.016649657860398293, 0.008324828930199146, 0.008324828930199146, 0.11806919425725937, 0.2586277723312378, 0.19115965068340302, 0.04497874155640602, 0.03373405709862709, 0.11806919425725937, 0.19115965068340302, 0.02248937077820301, 0.011244685389101505, 0.016867028549313545, 0.334376722574234, 0.334376722574234, 0.1114589124917984, 0.1114589124917984, 0.9466136693954468, 0.3502742350101471, 0.2531393766403198, 0.17513711750507355, 0.06034136191010475, 0.03532177209854126, 0.044152215123176575, 0.038265254348516464, 0.010302184149622917, 0.008830443024635315, 0.008830443024635315, 0.0044152215123176575, 0.001471740542910993, 0.008830443024635315, 0.001471740542910993, 0.7751967906951904, 0.15503935515880585, 0.7608485221862793, 0.19021213054656982, 0.9086998105049133, 0.010948190465569496, 0.010948190465569496, 0.05474095419049263, 0.6717191338539124, 0.09795904159545898, 0.20291516184806824, 0.013994148932397366, 0.006997074466198683, 0.08451172709465027, 0.16902345418930054, 0.6338379383087158, 0.08451172709465027, 0.3584608733654022, 0.238973930478096, 0.477947860956192, 0.5125395059585571, 0.04456865042448044, 0.08913730084896088, 0.2228432595729828, 0.08913730084896088, 0.02228432521224022, 0.9067533016204834, 0.6497959494590759, 0.30684807896614075, 0.030083145946264267, 0.7346576452255249, 0.18366441130638123, 0.39109566807746887, 0.19554783403873444, 0.19554783403873444, 0.19554783403873444, 0.5629879236221313, 0.3753252923488617, 0.006878175772726536, 0.6465485095977783, 0.06878175586462021, 0.013756351545453072, 0.020634526386857033, 0.04814722761511803, 0.1238071620464325, 0.041269052773714066, 0.006878175772726536, 0.013756351545453072, 0.006878175772726536, 0.9401448965072632, 0.28289997577667236, 0.26535576581954956, 0.1403534710407257, 0.05482557415962219, 0.08772091567516327, 0.04166743531823158, 0.07456278055906296, 0.02631627582013607, 0.0065790689550340176, 0.010965114459395409, 0.004386045970022678, 0.004386045970022678, 0.002193022985011339, 0.002193022985011339, 0.6469680666923523, 0.05545440688729286, 0.02772720344364643, 0.1756056249141693, 0.009242401458323002, 0.018484802916646004, 0.009242401458323002, 0.018484802916646004, 0.009242401458323002, 0.009242401458323002, 0.018484802916646004, 0.3784533739089966, 0.09461334347724915, 0.09461334347724915, 0.4730667173862457, 0.8049325942993164, 0.027970630675554276, 0.0372941717505455, 0.06837265193462372, 0.006215695291757584, 0.05283341184258461, 0.9288684725761414, 0.15729191899299622, 0.07078136503696442, 0.7235428094863892, 0.047187574207782745, 0.3302516043186188, 0.17744861543178558, 0.18730686604976654, 0.0509343259036541, 0.08872430771589279, 0.06900779902935028, 0.04271911084651947, 0.008215214125812054, 0.009858256205916405, 0.006572171114385128, 0.008215214125812054, 0.009858256205916405, 0.003286085557192564, 0.003286085557192564, 0.001643042778596282, 0.1797684282064438, 0.5393052697181702, 0.6013097763061523, 0.0668121948838234, 0.1336243897676468, 0.1336243897676468, 0.29094046354293823, 0.6650067567825317, 0.020781461149454117, 0.6332396268844604, 0.3166198134422302, 0.8870636820793152, 0.006427997723221779, 0.08034996688365936, 0.009641996584832668, 0.009641996584832668, 0.7871696949005127, 0.010783146135509014, 0.016174718737602234, 0.15096405148506165, 0.010783146135509014, 0.005391573067754507, 0.016174718737602234, 0.24103280901908875, 0.12051640450954437, 0.4820656180381775, 0.12051640450954437, 0.8245273232460022, 0.1177896186709404, 0.8667327165603638, 0.01111195795238018, 0.02222391590476036, 0.03333587199449539, 0.01111195795238018, 0.01111195795238018, 0.02222391590476036, 0.02222391590476036, 0.3753338158130646, 0.1876669079065323, 0.1876669079065323, 0.07440733909606934, 0.10417027771472931, 0.3162311911582947, 0.011161101050674915, 0.29018864035606384, 0.16369615495204926, 0.014881468378007412, 0.003720367094501853, 0.003720367094501853, 0.003720367094501853, 0.011161101050674915, 0.003720367094501853, 0.5488421320915222, 0.10976842790842056, 0.21953685581684113, 0.1468542367219925, 0.8076982498168945, 0.10331322997808456, 0.8265058398246765, 0.8798156976699829, 0.025137590244412422, 0.07541277259588242, 0.43386462330818176, 0.08976509422063828, 0.08976509422063828, 0.1196867972612381, 0.04488254711031914, 0.05984339863061905, 0.04488254711031914, 0.029921699315309525, 0.029921699315309525, 0.04488254711031914, 0.20674650371074677, 0.41349300742149353, 0.20674650371074677, 0.10337325185537338, 0.9390702843666077, 0.01351180300116539, 0.020267704501748085, 0.006755901500582695, 0.006755901500582695, 0.7134997248649597, 0.0279803816229105, 0.13990190625190735, 0.0279803816229105, 0.041970573365688324, 0.055960763245821, 0.6977672576904297, 0.004178247414529324, 0.22562535107135773, 0.004178247414529324, 0.06685195863246918, 0.939764678478241, 0.8264687657356262, 0.026660282164812088, 0.09775436669588089, 0.008886761032044888, 0.008886761032044888, 0.008886761032044888, 0.008886761032044888, 0.3737911581993103, 0.18689557909965515, 0.18689557909965515, 0.18689557909965515, 0.04477977380156517, 0.04477977380156517, 0.8508157134056091, 0.10497637838125229, 0.7348346710205078, 0.10497637838125229, 0.1615913361310959, 0.4320811629295349, 0.0737699568271637, 0.003512855153530836, 0.06323139369487762, 0.06674424558877945, 0.09133423119783401, 0.05620568245649338, 0.003512855153530836, 0.010538564994931221, 0.010538564994931221, 0.014051420614123344, 0.007025710307061672, 0.007025710307061672, 0.6559761166572571, 0.2186587154865265, 0.9696050882339478, 0.02620554342865944, 0.6259093284606934, 0.15647733211517334, 0.15647733211517334, 0.3766142427921295, 0.18830712139606476, 0.18830712139606476, 0.5609046220779419, 0.18696820735931396, 0.7611672282218933, 0.19029180705547333, 0.910512387752533, 0.022762808948755264, 0.022762808948755264, 0.022762808948755264, 0.3340969383716583, 0.03712188079953194, 0.5568282008171082, 0.03712188079953194, 0.7706149816513062, 0.15412300825119019, 0.8121506571769714, 0.13535845279693604, 0.33732664585113525, 0.4047919809818268, 0.13493065536022186, 0.06746532768011093, 0.30580830574035645, 0.038226038217544556, 0.15290415287017822, 0.2675822675228119, 0.038226038217544556, 0.038226038217544556, 0.15290415287017822, 0.038226038217544556, 0.43495404720306396, 0.1585618406534195, 0.17747288942337036, 0.08728174865245819, 0.027639219537377357, 0.03636739403009415, 0.027639219537377357, 0.01600165292620659, 0.004364087246358395, 0.004364087246358395, 0.010182870551943779, 0.007273478899151087, 0.004364087246358395, 0.002909391652792692, 0.001454695826396346, 0.5930987000465393, 0.38858190178871155, 0.6715918779373169, 0.039505403488874435, 0.27653783559799194, 0.8800951242446899, 0.03143196925520897, 0.047147952020168304, 0.015715984627604485, 0.015715984627604485, 0.897486686706543, 0.015211638994514942, 0.015211638994514942, 0.06084655597805977, 0.007605819497257471, 0.42575231194496155, 0.08515046536922455, 0.25545138120651245, 0.1703009307384491, 0.08515046536922455, 0.07828734815120697, 0.8415890336036682, 0.039143674075603485, 0.039143674075603485, 0.05175632983446121, 0.8281012773513794, 0.05175632983446121, 0.5289745926856995, 0.16750863194465637, 0.04408121854066849, 0.10873366892337799, 0.03232622519135475, 0.011754991486668587, 0.04114247113466263, 0.008816244080662727, 0.0029387478716671467, 0.011754991486668587, 0.008816244080662727, 0.023509982973337173, 0.0029387478716671467, 0.0029387478716671467, 0.20803238451480865, 0.3014962077140808, 0.1537630558013916, 0.05426931753754616, 0.08441893756389618, 0.08140397071838379, 0.04522443190217018, 0.03316458314657211, 0.009044885635375977, 0.006029923912137747, 0.006029923912137747, 0.018089771270751953, 0.3837518095970154, 0.21089063584804535, 0.08297336101531982, 0.08297336101531982, 0.04148668050765991, 0.02765778824687004, 0.07951614260673523, 0.02765778824687004, 0.02420056425035, 0.017286118119955063, 0.010371670126914978, 0.003457223530858755, 0.00691444706171751, 0.003457223530858755, 0.003457223530858755, 0.7569859027862549, 0.04452858492732048, 0.17811433970928192, 0.01716764084994793, 0.9356364011764526, 0.008583820424973965, 0.02575146034359932, 0.008583820424973965, 0.1327112466096878, 0.3981337547302246, 0.3981337547302246, 0.3367867171764374, 0.3367867171764374, 0.1683933585882187, 0.1683933585882187, 0.24780164659023285, 0.24780164659023285, 0.12390082329511642, 0.12390082329511642, 0.5138339400291443, 0.12090210616588593, 0.07724300771951675, 0.1410524547100067, 0.013433567248284817, 0.057092659175395966, 0.023508742451667786, 0.01679195836186409, 0.023508742451667786, 0.006716783624142408, 0.006716783624142408, 0.003358391812071204, 0.25528600811958313, 0.16858509182929993, 0.12041792273521423, 0.12523463368415833, 0.033717017620801926, 0.14450150728225708, 0.028900301083922386, 0.06261731684207916, 0.028900301083922386, 0.019266868010163307, 0.004816717002540827, 0.004816717002540827, 0.004816717002540827, 0.08532670885324478, 0.8959304690361023, 0.1350501924753189, 0.32797902822494507, 0.15434308350086212, 0.11575730890035629, 0.07717154175043106, 0.03858577087521553, 0.07717154175043106, 0.019292885437607765, 0.019292885437607765, 0.019292885437607765, 0.019292885437607765, 0.4178229868412018, 0.2300373762845993, 0.1690070480108261, 0.1737016886472702, 0.06594622880220413, 0.46162357926368713, 0.46162357926368713, 0.09939984232187271, 0.4307326674461365, 0.13253313302993774, 0.29819953441619873, 0.033133283257484436, 0.5589169859886169, 0.1863056719303131, 0.1863056719303131, 0.945355236530304, 0.03501315787434578, 0.6609453558921814, 0.09012891352176666, 0.09763965755701065, 0.07510742545127869, 0.007510742638260126, 0.007510742638260126, 0.04506445676088333, 0.007510742638260126, 0.007510742638260126, 0.5458403825759888, 0.06931306421756744, 0.03465653210878372, 0.2166033238172531, 0.00866413302719593, 0.0433206632733345, 0.00866413302719593, 0.01732826605439186, 0.03465653210878372, 0.00866413302719593, 0.00866413302719593, 0.00866413302719593, 0.4189307987689972, 0.1396436095237732, 0.1396436095237732, 0.2792872190475464, 0.4438435435295105, 0.12328986823558807, 0.22192177176475525, 0.04931594803929329, 0.024657974019646645, 0.04931594803929329, 0.07397392392158508, 0.3709258735179901, 0.1648559421300888, 0.06182097643613815, 0.26789090037345886, 0.1236419528722763, 0.7388046979904175, 0.03436300903558731, 0.22335955500602722, 0.865912139415741, 0.005586529616266489, 0.03351917862892151, 0.08379794657230377, 0.005586529616266489, 0.022702524438500404, 0.6421571373939514, 0.18486341834068298, 0.006486435420811176, 0.016216088086366653, 0.025945741683244705, 0.07135079056024551, 0.012972870841622353, 0.003243217710405588, 0.009729653596878052, 0.3850942850112915, 0.19254714250564575, 0.19254714250564575, 0.44508057832717896, 0.14956636726856232, 0.2159062922000885, 0.06754610687494278, 0.03618541359901428, 0.04101013392210007, 0.008443263359367847, 0.01085562352091074, 0.00603090226650238, 0.0024123608600348234, 0.0024123608600348234, 0.00603090226650238, 0.003618541406467557, 0.004824721720069647, 0.0012061804300174117, 0.21270884573459625, 0.765751838684082, 0.3960520923137665, 0.3960520923137665, 0.44709333777427673, 0.44709333777427673, 0.19588056206703186, 0.2810460031032562, 0.051099274307489395, 0.034066181629896164, 0.051099274307489395, 0.034066181629896164, 0.2810460031032562, 0.04258272796869278, 0.008516545407474041, 0.008516545407474041, 0.008516545407474041, 0.008516545407474041, 0.008516545407474041, 0.05020826309919357, 0.5020826458930969, 0.3514578640460968, 0.10041652619838715, 0.3589588403701782, 0.1794794201850891, 0.1794794201850891, 0.08973971009254456, 0.1794794201850891, 0.5466216206550598, 0.13665540516376495, 0.2733108103275299, 0.13665540516376495, 0.5615552663803101, 0.37437018752098083, 0.3812417984008789, 0.19062089920043945, 0.19062089920043945, 0.4156648814678192, 0.1039162203669548, 0.4156648814678192, 0.2471717894077301, 0.2471717894077301, 0.2471717894077301, 0.2471717894077301, 0.2308008074760437, 0.4616016149520874, 0.032971546053886414, 0.021981028839945793, 0.13188618421554565, 0.010990514419972897, 0.010990514419972897, 0.0769336000084877, 0.010990514419972897, 0.010990514419972897, 0.9601627588272095, 0.5637043118476868, 0.18790143728256226, 0.775692343711853, 0.15513846278190613, 0.17976930737495422, 0.7190772294998169, 0.18094225227832794, 0.542826771736145, 0.18094225227832794, 0.14708653092384338, 0.3241351246833801, 0.25331568717956543, 0.09805768728256226, 0.04630501940846443, 0.03813354671001434, 0.02723824605345726, 0.024514421820640564, 0.005447649396955967, 0.005447649396955967, 0.021790597587823868, 0.005447649396955967, 0.0027238246984779835, 0.8706037998199463, 0.02024659886956215, 0.0404931977391243, 0.02024659886956215, 0.030369898304343224, 0.2690236568450928, 0.024456694722175598, 0.6114173531532288, 0.024456694722175598, 0.024456694722175598, 0.024456694722175598, 0.24822941422462463, 0.08274313807487488, 0.4137156903743744, 0.16548627614974976, 0.42953792214393616, 0.42953792214393616, 0.0715896487236023, 0.028977705165743828, 0.34773245453834534, 0.4926210045814514, 0.10142196714878082, 0.014488852582871914, 0.8639881610870361, 0.7526333928108215, 0.002404579659923911, 0.002404579659923911, 0.18034347891807556, 0.01923663727939129, 0.012022898532450199, 0.02885495498776436, 0.788777768611908, 0.013001831248402596, 0.02600366249680519, 0.12135042995214462, 0.004333943594247103, 0.008667887188494205, 0.004333943594247103, 0.008667887188494205, 0.008667887188494205, 0.013001831248402596, 0.004333943594247103, 0.8335728645324707, 0.01975291222333908, 0.003950582351535559, 0.11851746588945389, 0.011851746588945389, 0.007901164703071117, 0.9306567907333374, 0.026590194553136826, 0.22402599453926086, 0.3525654971599579, 0.07712370157241821, 0.04774324595928192, 0.07712370157241821, 0.0807962641119957, 0.03672557324171066, 0.06243347376585007, 0.011017671786248684, 0.0036725574173033237, 0.011017671786248684, 0.011017671786248684, 0.19802016019821167, 0.5186242461204529, 0.047147657722234726, 0.028288595378398895, 0.01885906420648098, 0.12258391082286835, 0.01885906420648098, 0.05657719075679779, 0.44063466787338257, 0.20807747542858124, 0.12145698815584183, 0.0706145316362381, 0.04236871749162674, 0.043310243636369705, 0.03389497473835945, 0.012239851988852024, 0.0018830541521310806, 0.012239851988852024, 0.0037661083042621613, 0.0037661083042621613, 0.002824581228196621, 0.0018830541521310806, 0.0009415270760655403, 0.4914195239543915, 0.19033855199813843, 0.13496734201908112, 0.031146308407187462, 0.03460700809955597, 0.024224907159805298, 0.031146308407187462, 0.017303504049777985, 0.0034607008565217257, 0.006921401713043451, 0.017303504049777985, 0.006921401713043451, 0.0034607008565217257, 0.006921401713043451, 0.07931670546531677, 0.28278130292892456, 0.34485524892807007, 0.0189670380204916, 0.09311091154813766, 0.08104097843170166, 0.044831182807683945, 0.03276124596595764, 0.010345657356083393, 0.0017242762260138988, 0.0017242762260138988, 0.0051728286780416965, 0.0017242762260138988, 0.3027980923652649, 0.15139904618263245, 0.15139904618263245, 0.3532644510269165, 0.050466351211071014, 0.11648614704608917, 0.3494584262371063, 0.4659445881843567, 0.7536877989768982, 0.037955500185489655, 0.054222144186496735, 0.07591100037097931, 0.010844429023563862, 0.021688858047127724, 0.01626664213836193, 0.005422214511781931, 0.005422214511781931, 0.01626664213836193, 0.005422214511781931, 0.8684372901916504, 0.03216434270143509, 0.03216434270143509, 0.03216434270143509, 0.7725565433502197, 0.09656956791877747, 0.33717578649520874, 0.08429394662380219, 0.25288185477256775, 0.16858789324760437, 0.3102100193500519, 0.4653150141239166, 0.15510500967502594, 0.7700790166854858, 0.11001128703355789, 0.055005643516778946, 0.6878470778465271, 0.22928236424922943, 0.18729111552238464, 0.18729111552238464, 0.3745822310447693, 0.18729111552238464, 0.13420093059539795, 0.6710047125816345, 0.19911815226078033, 0.19911815226078033, 0.39823630452156067, 0.19911815226078033, 0.19911815226078033, 0.8899536728858948, 0.040452439337968826, 0.040452439337968826, 0.6296282410621643, 0.08072157204151154, 0.016144314780831337, 0.032288629561662674, 0.016144314780831337, 0.016144314780831337, 0.032288629561662674, 0.04843294247984886, 0.08072157204151154, 0.016144314780831337, 0.8714982867240906, 0.2257830947637558, 0.2709397077560425, 0.31609633564949036, 0.04515662044286728, 0.04515662044286728, 0.04515662044286728, 0.3852557837963104, 0.48156973719596863, 0.0963139459490776, 0.5524625778198242, 0.15784645080566406, 0.07892322540283203, 0.07892322540283203, 0.07892322540283203, 0.6408936977386475, 0.16022342443466187, 0.16022342443466187, 0.7492066025733948, 0.1070295199751854, 0.5628860592842102, 0.18762870132923126, 0.20775680243968964, 0.4155136048793793, 0.31163519620895386, 0.4349406361579895, 0.21747031807899475, 0.10873515903949738, 0.21747031807899475, 0.13255354762077332, 0.39766064286231995, 0.13255354762077332, 0.26510709524154663, 0.6627643704414368, 0.30771204829216003, 0.5159808993339539, 0.18575312197208405, 0.020639237016439438, 0.14447465538978577, 0.020639237016439438, 0.12383542209863663, 0.5679222345352173, 0.34075334668159485, 0.5953741669654846, 0.09429839253425598, 0.1294291615486145, 0.14052309095859528, 0.01479190494865179, 0.0018489881185814738, 0.0018489881185814738, 0.0055469642393291, 0.0055469642393291, 0.007395952474325895, 0.0018489881185814738, 0.0018489881185814738, 0.0018489881185814738, 0.3251180946826935, 0.16574648022651672, 0.16255904734134674, 0.05099891871213913, 0.12430986016988754, 0.05418635159730911, 0.0764983743429184, 0.006374864839017391, 0.0031874324195086956, 0.006374864839017391, 0.006374864839017391, 0.0095622967928648, 0.006374864839017391, 0.46624472737312317, 0.008797070011496544, 0.008797070011496544, 0.36947694420814514, 0.048383887857198715, 0.030789745971560478, 0.0659780278801918, 0.4477842450141907, 0.4477842450141907, 0.7206310629844666, 0.06005259230732918, 0.06005259230732918, 0.12010518461465836, 0.5920565128326416, 0.19735217094421387, 0.11481581628322601, 0.7912982106208801, 0.018618781119585037, 0.0062062605284154415, 0.012412521056830883, 0.021721910685300827, 0.009309390559792519, 0.018618781119585037, 0.0062062605284154415, 0.17630261182785034, 0.528907835483551, 0.6844154000282288, 0.09777362644672394, 0.19554725289344788, 0.001427830196917057, 0.9466513991355896, 0.012850471772253513, 0.005711320787668228, 0.001427830196917057, 0.022845283150672913, 0.004283490590751171, 0.002855660393834114, 0.001427830196917057, 0.0046286070719361305, 0.7776059508323669, 0.020057296380400658, 0.0015428689075633883, 0.0015428689075633883, 0.0030857378151267767, 0.1249723881483078, 0.03857172280550003, 0.0015428689075633883, 0.024685902521014214, 0.07699635624885559, 0.8469598889350891, 0.038498178124427795, 0.038498178124427795, 0.28385111689567566, 0.09461703896522522, 0.5677022337913513, 0.42830324172973633, 0.3546459972858429, 0.21005955338478088, 0.005456092301756144, 0.27666041254997253, 0.13833020627498627, 0.5072107911109924, 0.04611007124185562, 0.472231388092041, 0.472231388092041, 0.027778318151831627, 0.009259439073503017, 0.001219936297275126, 0.001219936297275126, 0.3672008216381073, 0.2732657194137573, 0.3220631778240204, 0.030498405918478966, 0.004879745189100504, 0.48264896869659424, 0.24132448434829712, 0.24132448434829712, 0.5549022555351257, 0.06936278194189072, 0.00867034774273634, 0.026011042296886444, 0.08670347183942795, 0.19941799342632294, 0.03468139097094536, 0.00867034774273634, 0.789444625377655, 0.15445655584335327, 0.017161840572953224, 0.008580920286476612, 0.004290460143238306, 0.008580920286476612, 0.008580920286476612, 0.004290460143238306, 0.5656307339668274, 0.18854358792304993, 0.18854358792304993, 0.22801393270492554, 0.5130313634872437, 0.17101044952869415, 0.08550522476434708, 0.7999238967895508, 0.01454407162964344, 0.00727203581482172, 0.1454407125711441, 0.00727203581482172, 0.01454407162964344, 0.00727203581482172, 0.00727203581482172, 0.13667933642864227, 0.8382999300956726, 0.01822391152381897, 0.13058774173259735, 0.2611754834651947, 0.13058774173259735, 0.13058774173259735, 0.2611754834651947, 0.14597634971141815, 0.4014349579811096, 0.10948225855827332, 0.01824704371392727, 0.03649408742785454, 0.16422338783740997, 0.01824704371392727, 0.07298817485570908, 0.01824704371392727, 0.1574196070432663, 0.4722588062286377, 0.1574196070432663, 0.2618682086467743, 0.7070441246032715, 0.02618682011961937, 0.22340719401836395, 0.6937381029129028, 0.011758273467421532, 0.035274818539619446, 0.023516546934843063, 0.8935211896896362, 0.955189049243927, 0.40607455372810364, 0.22559697926044464, 0.12510377168655396, 0.10459496080875397, 0.03896674886345863, 0.036915868520736694, 0.020508816465735435, 0.0020508815068751574, 0.0020508815068751574, 0.00820352602750063, 0.004101763013750315, 0.018457934260368347, 0.004101763013750315, 0.0020508815068751574, 0.1914009302854538, 0.3828018605709076, 0.1914009302854538, 0.3931325674057007, 0.19656628370285034, 0.19656628370285034, 0.19656628370285034, 0.07772314548492432, 0.23316943645477295, 0.07772314548492432, 0.4663388729095459, 0.07772314548492432, 0.39963147044181824, 0.377429723739624, 0.022201748564839363, 0.022201748564839363, 0.044403497129678726, 0.022201748564839363, 0.022201748564839363, 0.022201748564839363, 0.022201748564839363, 0.16794157028198242, 0.16794157028198242, 0.33588314056396484, 0.16794157028198242, 0.16794157028198242, 0.6312193870544434, 0.21040646731853485, 0.10520323365926743, 0.3357205390930176, 0.20143231749534607, 0.13428820669651031, 0.06714410334825516, 0.06714410334825516, 0.13428820669651031, 0.26379668712615967, 0.26379668712615967, 0.17586445808410645, 0.26379668712615967, 0.6799602508544922, 0.062040168792009354, 0.04218731448054314, 0.14641480147838593, 0.017371248453855515, 0.019852854311466217, 0.004963213577866554, 0.009926427155733109, 0.009926427155733109, 0.002481606788933277, 0.002481606788933277, 0.002481606788933277, 0.41069966554641724, 0.41069966554641724, 0.5791264772415161, 0.13892792165279388, 0.08117136359214783, 0.11239112168550491, 0.01248790230602026, 0.009365926496684551, 0.009365926496684551, 0.003121975576505065, 0.01248790230602026, 0.010926914401352406, 0.018731852993369102, 0.00624395115301013, 0.004682963248342276, 0.6966308951377869, 0.06966309249401093, 0.06966309249401093, 0.08558608591556549, 0.01194224413484335, 0.007961496710777283, 0.009951869957149029, 0.0019903741776943207, 0.007961496710777283, 0.021894114091992378, 0.01194224413484335, 0.0019903741776943207, 0.0019903741776943207, 0.18883530795574188, 0.4915271997451782, 0.022215919569134712, 0.013884949497878551, 0.2388211339712143, 0.024992909282445908, 0.008330969139933586, 0.005553979892283678, 0.5327123403549194, 0.08878538757562637, 0.17757077515125275, 0.17757077515125275, 0.4128943979740143, 0.056303780525922775, 0.1313754916191101, 0.01876792684197426, 0.187679260969162, 0.01876792684197426, 0.07507170736789703, 0.03753585368394852, 0.01876792684197426, 0.01876792684197426, 0.1290801614522934, 0.4662691652774811, 0.09746869653463364, 0.005268577951937914, 0.07639437913894653, 0.03424575552344322, 0.09746869653463364, 0.044782914221286774, 0.005268577951937914, 0.007902867160737514, 0.018440023064613342, 0.002634288975968957, 0.005268577951937914, 0.002634288975968957, 0.6282946467399597, 0.31414732336997986, 0.387665331363678, 0.5286345481872559, 0.07048460841178894, 0.11456628143787384, 0.22913256287574768, 0.22913256287574768, 0.22913256287574768, 0.11456628143787384, 0.11456628143787384, 0.11456628143787384, 0.2966213524341583, 0.6673980355262756, 0.19763757288455963, 0.12906943261623383, 0.18957072496414185, 0.03025064803659916, 0.11293575167655945, 0.11898588389158249, 0.07461826503276825, 0.09075194597244263, 0.018150389194488525, 0.0020167098846286535, 0.0020167098846286535, 0.028233937919139862, 0.004033419769257307, 0.1885719746351242, 0.1885719746351242, 0.3771439492702484, 0.1885719746351242, 0.7309619188308716, 0.1827404797077179, 0.45825543999671936, 0.45825543999671936, 0.25306183099746704, 0.30578306317329407, 0.1080784946680069, 0.026360608637332916, 0.08435394614934921, 0.07380970567464828, 0.09226212650537491, 0.01845242641866207, 0.013180304318666458, 0.002636060817167163, 0.002636060817167163, 0.010544243268668652, 0.005272121634334326, 0.002636060817167163, 0.42071086168289185, 0.24317684769630432, 0.0701184794306755, 0.07608600705862045, 0.04028082638978958, 0.0492321215569973, 0.050724007189273834, 0.017902590334415436, 0.004475647583603859, 0.007459412794560194, 0.005967529956251383, 0.0029837649781256914, 0.004475647583603859, 0.0029837649781256914, 0.0014918824890628457, 0.8534790873527527, 0.03048139624297619, 0.007620349060744047, 0.05334244295954704, 0.038101743906736374, 0.7313340306282043, 0.1828335076570511, 0.6341612339019775, 0.10569354146718979, 0.21138708293437958, 0.43897193670272827, 0.10974298417568207, 0.21948596835136414, 0.10974298417568207, 0.6113155484199524, 0.1746615767478943, 0.08733078837394714, 0.13099618256092072, 0.5714291334152222, 0.38095274567604065, 0.2012183964252472, 0.2012183964252472, 0.2012183964252472, 0.2012183964252472, 0.03453923016786575, 0.276313841342926, 0.20723538100719452, 0.0690784603357315, 0.138156920671463, 0.03453923016786575, 0.0690784603357315, 0.138156920671463, 0.0690784603357315, 0.8983029723167419, 0.05858497694134712, 0.019528325647115707, 0.019528325647115707, 0.9476508498191833, 0.8309105634689331, 0.0783877894282341, 0.01567755825817585, 0.0470326729118824, 0.01567755825817585, 0.3475441038608551, 0.5213161706924438, 0.24314671754837036, 0.4862934350967407, 0.16209781169891357, 0.16436487436294556, 0.054788291454315186, 0.13697072863578796, 0.602671205997467, 0.054788291454315186, 0.27811020612716675, 0.21893781423568726, 0.053255144506692886, 0.10059305280447006, 0.0650896206498146, 0.13609647750854492, 0.09467580914497375, 0.029586192220449448, 0.00591723807156086, 0.01775171421468258, 0.00591723807156086, 0.01183447614312172, 0.18065033853054047, 0.5419510006904602, 0.18065033853054047, 0.4850607216358185, 0.16168691217899323, 0.16168691217899323, 0.16168691217899323, 0.9435659050941467, 0.008424695581197739, 0.033698782324790955, 0.9574331045150757, 0.07018443942070007, 0.00877305492758751, 0.4518123269081116, 0.004386527463793755, 0.20616678893566132, 0.12720929086208344, 0.12282276898622513, 0.004386527463793755, 0.582389771938324, 0.17129111289978027, 0.022838814184069633, 0.05709703639149666, 0.034258220344781876, 0.034258220344781876, 0.022838814184069633, 0.011419407092034817, 0.011419407092034817, 0.022838814184069633, 0.022838814184069633, 0.8274757266044617, 0.006129450164735317, 0.14097735285758972, 0.006129450164735317, 0.006129450164735317, 0.006129450164735317, 0.9476284980773926, 0.14387401938438416, 0.280786395072937, 0.18100279569625854, 0.023205487057566643, 0.16707950830459595, 0.09978359937667847, 0.05569316819310188, 0.006961646024137735, 0.004641097504645586, 0.004641097504645586, 0.018564390018582344, 0.006961646024137735, 0.002320548752322793, 0.002320548752322793, 0.23601087927818298, 0.30067139863967896, 0.19074852764606476, 0.07112656533718109, 0.04202933609485626, 0.04849538579583168, 0.038796309381723404, 0.02263118140399456, 0.009699077345430851, 0.009699077345430851, 0.006466051563620567, 0.019398154690861702, 0.0032330257818102837, 0.5489423871040344, 0.18298079073429108, 0.18298079073429108, 0.3190288245677948, 0.0797572061419487, 0.14356297254562378, 0.0797572061419487, 0.06380576640367508, 0.06380576640367508, 0.11166009306907654, 0.01595144160091877, 0.01595144160091877, 0.0797572061419487, 0.01595144160091877, 0.01595144160091877, 0.01595144160091877, 0.01595144160091877, 0.8711872696876526, 0.3303597569465637, 0.38541972637176514, 0.20922785997390747, 0.07708394527435303, 0.1772114634513855, 0.354422926902771, 0.1772114634513855, 0.1772114634513855, 0.8237065672874451, 0.11767236888408661, 0.5933420658111572, 0.13185378909111023, 0.26370757818222046, 0.5407148599624634, 0.13517871499061584, 0.13517871499061584, 0.3057301640510559, 0.5836666226387024, 0.09264550358057022, 0.4590805768966675, 0.15411990880966187, 0.07542037963867188, 0.07542037963867188, 0.06230379268527031, 0.06558293849229813, 0.0393497608602047, 0.003279146971181035, 0.003279146971181035, 0.03607061505317688, 0.00655829394236207, 0.003279146971181035, 0.009837440215051174, 0.003279146971181035, 0.34297510981559753, 0.24888458847999573, 0.1335478276014328, 0.06070356070995331, 0.057668380439281464, 0.057668380439281464, 0.036422137171030045, 0.015175890177488327, 0.012140711769461632, 0.006070355884730816, 0.006070355884730816, 0.018211068585515022, 0.003035177942365408, 0.003035177942365408, 0.9641530513763428, 0.3209255337715149, 0.16046276688575745, 0.16046276688575745, 0.3209255337715149, 0.8252065181732178, 0.017372768372297287, 0.05211830511689186, 0.034745536744594574, 0.008686384186148643, 0.017372768372297287, 0.017372768372297287, 0.008686384186148643, 0.008686384186148643, 0.004343192093074322, 0.004343192093074322, 0.35743021965026855, 0.5182738304138184, 0.053614530712366104, 0.053614530712366104, 0.9391278028488159, 0.032383717596530914, 0.2719813883304596, 0.19012290239334106, 0.30102792382240295, 0.047530725598335266, 0.05545251443982124, 0.06601490080356598, 0.03168715164065361, 0.015843575820326805, 0.005281191784888506, 0.005281191784888506, 0.005281191784888506, 0.002640595892444253, 0.3533134162425995, 0.18521061539649963, 0.16587135195732117, 0.06248068809509277, 0.09520866721868515, 0.04686051607131958, 0.04090997576713562, 0.013388718478381634, 0.012644900940358639, 0.004462906159460545, 0.005950541701167822, 0.005950541701167822, 0.007438177242875099, 0.0014876354252919555, 0.3424970209598541, 0.3424970209598541, 0.22833135724067688, 0.45599839091300964, 0.13028526306152344, 0.06514263153076172, 0.06514263153076172, 0.06514263153076172, 0.06514263153076172, 0.13028526306152344, 0.6956278681755066, 0.017951687797904015, 0.2288840115070343, 0.004487921949476004, 0.008975843898952007, 0.004487921949476004, 0.04039129614830017, 0.9217521548271179, 0.22802017629146576, 0.15201345086097717, 0.07600672543048859, 0.4560403525829315, 0.07600672543048859, 0.26194778084754944, 0.2607294023036957, 0.20955821871757507, 0.043861024081707, 0.0840669572353363, 0.053607918322086334, 0.038987576961517334, 0.023148873820900917, 0.0060918089002370834, 0.004873447120189667, 0.0060918089002370834, 0.0060918089002370834, 0.0012183617800474167, 0.8967083096504211, 0.5270294547080994, 0.22101235389709473, 0.034001901745796204, 0.051002852618694305, 0.017000950872898102, 0.034001901745796204, 0.08500475436449051, 0.017000950872898102, 0.618122398853302, 0.24724894762039185, 0.48870599269866943, 0.09774120151996613, 0.09774120151996613, 0.19548240303993225, 0.4570143222808838, 0.30467620491981506, 0.12777861952781677, 0.0766671746969223, 0.17889006435871124, 0.48555874824523926, 0.0766671746969223, 0.025555724278092384, 0.4185757637023926, 0.12642696499824524, 0.17084725201129913, 0.11617612838745117, 0.029044032096862793, 0.044420283287763596, 0.02733555994927883, 0.020501669496297836, 0.017084725201129913, 0.015376252122223377, 0.006833889987319708, 0.005125417374074459, 0.001708472496829927, 0.8035744428634644, 0.0459185391664505, 0.07461762428283691, 0.017219452187418938, 0.0057398173958063126, 0.0057398173958063126, 0.011479634791612625, 0.02295926958322525, 0.0057398173958063126, 0.0057398173958063126, 0.6414129137992859, 0.0727042406797409, 0.06947293877601624, 0.11955808103084564, 0.017772147431969643, 0.017772147431969643, 0.011309548281133175, 0.0016156496712937951, 0.0064625986851751804, 0.012925197370350361, 0.021003445610404015, 0.0032312993425875902, 0.0032312993425875902, 0.0016156496712937951, 0.907500147819519, 0.0477631650865078, 0.0238815825432539, 0.20206411182880402, 0.4005199372768402, 0.10103205591440201, 0.0036082875449210405, 0.04690773785114288, 0.08659890294075012, 0.12629006803035736, 0.007216575089842081, 0.0036082875449210405, 0.0036082875449210405, 0.0036082875449210405, 0.007216575089842081, 0.007216575089842081, 0.0036082875449210405, 0.1855161190032959, 0.5565483570098877, 0.1855161190032959, 0.9269489645957947, 0.29291021823883057, 0.14645510911941528, 0.14645510911941528, 0.14645510911941528, 0.14645510911941528, 0.7754013538360596, 0.008011529222130775, 0.002002882305532694, 0.2563689351081848, 0.49871769547462463, 0.2163112908601761, 0.014020176604390144, 0.27576056122779846, 0.31515491008758545, 0.38737791776657104, 0.006565727759152651, 0.013131455518305302, 0.31838515400886536, 0.1910310834646225, 0.11049836874008179, 0.0936426892876625, 0.058058466762304306, 0.09926124662160873, 0.07678700238466263, 0.007491414900869131, 0.011237122118473053, 0.0056185610592365265, 0.0037457074504345655, 0.013109976425766945, 0.0037457074504345655, 0.007491414900869131, 0.0018728537252172828, 0.26509225368499756, 0.21207380294799805, 0.5301845073699951, 0.3236090838909149, 0.3236090838909149, 0.16180454194545746, 0.16180454194545746, 0.5811354517936707, 0.10698728263378143, 0.09482964128255844, 0.10941881686449051, 0.014589175581932068, 0.029178351163864136, 0.017020704224705696, 0.009726116433739662, 0.009726116433739662, 0.007294587790966034, 0.014589175581932068, 0.004863058216869831, 0.0024315291084349155, 0.3057616353034973, 0.2539794147014618, 0.27370595932006836, 0.027124015614390373, 0.039453111588954926, 0.034521475434303284, 0.027124015614390373, 0.004931638948619366, 0.004931638948619366, 0.004931638948619366, 0.007397458888590336, 0.007397458888590336, 0.002465819474309683, 0.002465819474309683, 0.4134223461151123, 0.17534254491329193, 0.21234144270420074, 0.06756318360567093, 0.03056429885327816, 0.022521061822772026, 0.038607534021139145, 0.011260530911386013, 0.004825941752642393, 0.00643458915874362, 0.004825941752642393, 0.00321729457937181, 0.00321729457937181, 0.001608647289685905, 0.00321729457937181, 0.5190920829772949, 0.20611009001731873, 0.05190920829772949, 0.07481033354997635, 0.024427862837910652, 0.025954604148864746, 0.03969527781009674, 0.007633707486093044, 0.012213931418955326, 0.012213931418955326, 0.010687190108001232, 0.0030534828547388315, 0.004580224398523569, 0.004580224398523569, 0.0015267414273694158, 0.6679340600967407, 0.01712651550769806, 0.10275908559560776, 0.11988560110330582, 0.06850606203079224, 0.9472814798355103, 0.5081778168678284, 0.1270444542169571, 0.2540889084339142, 0.978286623954773, 0.03331025317311287, 0.4330332577228546, 0.03331025317311287, 0.03331025317311287, 0.3331025242805481, 0.09993075579404831, 0.27822577953338623, 0.27822577953338623, 0.28665685653686523, 0.12646625936031342, 0.025293251499533653, 0.37387168407440186, 0.19408638775348663, 0.1389250010251999, 0.04698933660984039, 0.05311838164925575, 0.10010772198438644, 0.028602205216884613, 0.02451617643237114, 0.010215072892606258, 0.006129044108092785, 0.006129044108092785, 0.010215072892606258, 0.0020430146250873804, 0.006129044108092785, 0.2643195688724518, 0.27028167247772217, 0.1609765887260437, 0.009936826303601265, 0.055646225810050964, 0.07750724256038666, 0.09936825931072235, 0.029810478910803795, 0.011924191378057003, 0.0019873653072863817, 0.0019873653072863817, 0.009936826303601265, 0.0019873653072863817, 0.0019873653072863817, 0.0019873653072863817, 0.5472677946090698, 0.18242259323596954, 0.18242259323596954, 0.4718320369720459, 0.27018314599990845, 0.07776002585887909, 0.03031323105096817, 0.04481086507439613, 0.027677299454808235, 0.01845153234899044, 0.028995264321565628, 0.010543732903897762, 0.006589833181351423, 0.0013179666129872203, 0.00922576617449522, 0.0013179666129872203, 0.0026359332259744406, 0.45592620968818665, 0.15197539329528809, 0.30395078659057617, 0.30408814549446106, 0.24327053129673004, 0.12163526564836502, 0.06081763282418251, 0.06081763282418251, 0.18245288729667664, 0.8586145043373108, 0.03434458002448082, 0.048082415014505386, 0.0412134975194931, 0.9199976921081543, 0.038333237171173096, 0.9264878630638123, 0.026471082121133804, 0.3221684992313385, 0.09475544095039368, 0.056853264570236206, 0.03790217638015747, 0.15160870552062988, 0.13265761733055115, 0.15160870552062988, 0.018951088190078735, 0.3692484200000763, 0.24616560339927673, 0.12308280169963837, 0.12308280169963837, 0.1429247409105301, 0.4287742078304291, 0.2858494818210602, 0.9098585844039917, 0.08761020749807358, 0.04380510374903679, 0.21902552247047424, 0.13141530752182007, 0.3942459225654602, 0.04380510374903679, 0.500891387462616, 0.125222846865654, 0.250445693731308, 0.18528731167316437, 0.37057462334632874, 0.18528731167316437, 0.18528731167316437, 0.35219714045524597, 0.4402464032173157, 0.17609857022762299, 0.1410364806652069, 0.3223690986633301, 0.02014806866645813, 0.1410364806652069, 0.06044420599937439, 0.04029613733291626, 0.2014806866645813, 0.04029613733291626, 0.02014806866645813, 0.3875441551208496, 0.5167255401611328, 0.9535269737243652, 0.6745484471321106, 0.06132258474826813, 0.06132258474826813, 0.12264516949653625, 0.3505151867866516, 0.5257728099822998, 0.17979031801223755, 0.7191612720489502, 0.3002559244632721, 0.6005118489265442, 0.6691854596138, 0.26767417788505554, 0.1183326318860054, 0.7099958062171936, 0.10042952001094818, 0.20085904002189636, 0.10042952001094818, 0.30128857493400574, 0.20085904002189636, 0.2622321546077728, 0.1311160773038864, 0.5244643092155457, 0.38403818011283875, 0.19201909005641937, 0.19201909005641937, 0.25413358211517334, 0.29043838381767273, 0.03630479797720909, 0.3630479872226715, 0.19408750534057617, 0.38817501068115234, 0.19408750534057617, 0.19408750534057617, 0.5789284706115723, 0.09262855350971222, 0.18525710701942444, 0.06947141885757446, 0.04631427675485611, 0.5393252968788147, 0.13483132421970367, 0.26966264843940735, 0.33030781149864197, 0.16515390574932098, 0.16515390574932098, 0.16515390574932098, 0.21181733906269073, 0.5295433402061462, 0.21181733906269073, 0.8571293950080872, 0.16404248774051666, 0.16404248774051666, 0.1093616634607315, 0.05468083173036575, 0.05468083173036575, 0.437446653842926, 0.05468083173036575, 0.4429798126220703, 0.08054178208112717, 0.12081267684698105, 0.16108356416225433, 0.04027089104056358, 0.04027089104056358, 0.08054178208112717, 0.39830270409584045, 0.39830270409584045, 0.06010199710726738, 0.2854844927787781, 0.6310709714889526, 0.015025499276816845, 0.08271296322345734, 0.8271296620368958, 0.04135648161172867, 0.19607430696487427, 0.1520126610994339, 0.4185855984687805, 0.014320033602416515, 0.004406164400279522, 0.07049863040447235, 0.09142790734767914, 0.017624657601118088, 0.020929280668497086, 0.003304623067378998, 0.00771078746765852, 0.0011015411000698805, 0.002203082200139761, 0.11186156421899796, 0.8669271469116211, 0.7411850094795227, 0.21176713705062866, 0.9671211242675781, 0.016892945393919945, 0.004223236348479986, 0.004223236348479986, 0.4195200800895691, 0.21699315309524536, 0.06590162217617035, 0.0996561124920845, 0.05143541097640991, 0.06429426372051239, 0.0032147131860256195, 0.024110348895192146, 0.006429426372051239, 0.011251496151089668, 0.017680922523140907, 0.014466209337115288, 0.004822069779038429, 0.13303370773792267, 0.26606741547584534, 0.5321348309516907, 0.15234453976154327, 0.4316428601741791, 0.21582143008708954, 0.012695378623902798, 0.03808613494038582, 0.08886764943599701, 0.012695378623902798, 0.025390757247805595, 0.21997252106666565, 0.20839501917362213, 0.15050750970840454, 0.05788750201463699, 0.023155001923441887, 0.08104250580072403, 0.11577500402927399, 0.011577500961720943, 0.011577500961720943, 0.046310003846883774, 0.023155001923441887, 0.011577500961720943, 0.034732501953840256, 0.5197253823280334, 0.15734805166721344, 0.08582621067762375, 0.09536246210336685, 0.023840615525841713, 0.01907249167561531, 0.01907249167561531, 0.014304368756711483, 0.004768122918903828, 0.03337686136364937, 0.014304368756711483, 0.004768122918903828, 0.004768122918903828, 0.32676851749420166, 0.27271658182144165, 0.14004364609718323, 0.05159502848982811, 0.07370718568563461, 0.027025967836380005, 0.029482873156666756, 0.031939778476953506, 0.012284530326724052, 0.007370718289166689, 0.014741436578333378, 0.0049138120375573635, 0.0049138120375573635, 0.0024569060187786818, 0.4359443187713623, 0.12656447291374207, 0.0984390377998352, 0.25312894582748413, 0.01406271941959858, 0.05625087767839432, 0.9433591365814209, 0.48809537291526794, 0.15538616478443146, 0.12613700330257416, 0.10968435555696487, 0.021936871111392975, 0.021936871111392975, 0.023764943704009056, 0.01645265333354473, 0.010968435555696487, 0.007312290370464325, 0.0018280725926160812, 0.0036561451852321625, 0.010968435555696487, 0.0018280725926160812, 0.3522627055644989, 0.2791004478931427, 0.31974613666534424, 0.03522627055644989, 0.005419426131993532, 0.7964138984680176, 0.3265429735183716, 0.1632714867591858, 0.3265429735183716, 0.33273327350616455, 0.2018910050392151, 0.19907720386981964, 0.0499451644718647, 0.0696418434381485, 0.040800273418426514, 0.05205552279949188, 0.016179418191313744, 0.006331076845526695, 0.006331076845526695, 0.005627624224871397, 0.004220718052238226, 0.010551795363426208, 0.0014069060562178493, 0.0028138121124356985, 0.27803197503089905, 0.2707153558731079, 0.0768246278166771, 0.036583155393600464, 0.04755810275673866, 0.06950799375772476, 0.1426742970943451, 0.0329248383641243, 0.00731663079932332, 0.00731663079932332, 0.00731663079932332, 0.010974946431815624, 0.01463326159864664, 0.00365831539966166, 0.1984388381242752, 0.037797875702381134, 0.06614627689123154, 0.6614627838134766, 0.009449468925595284, 0.018898937851190567, 0.6085889935493469, 0.12812399864196777, 0.12812399864196777, 0.03203099966049194, 0.03203099966049194, 0.03203099966049194, 0.29613474011421204, 0.3598599433898926, 0.20616976916790009, 0.048731036484241486, 0.02623978815972805, 0.011245623230934143, 0.007497082464396954, 0.007497082464396954, 0.014994164928793907, 0.022491246461868286, 0.003748541232198477, 0.27064791321754456, 0.47761398553848267, 0.08915460854768753, 0.025472745299339294, 0.05094549059867859, 0.01751251332461834, 0.02069660648703575, 0.011144326068460941, 0.006368186324834824, 0.004776139743626118, 0.003184093162417412, 0.012736372649669647, 0.009552279487252235, 0.8686707615852356, 0.01772797480225563, 0.03545594960451126, 0.03545594960451126, 0.01772797480225563, 0.1901402622461319, 0.7605610489845276, 0.3968699872493744, 0.13228999078273773, 0.26457998156547546, 0.7665737271308899, 0.1533147543668747, 0.16983962059020996, 0.2830660343170166, 0.1019037738442421, 0.011322641745209694, 0.12454906105995178, 0.03396792709827423, 0.045290566980838776, 0.16983962059020996, 0.011322641745209694, 0.011322641745209694, 0.022645283490419388, 0.011322641745209694, 0.011322641745209694, 0.3951002061367035, 0.09877505153417587, 0.09877505153417587, 0.19755010306835175, 0.09877505153417587, 0.44616860151290894, 0.22438888251781464, 0.14872287213802338, 0.04435594379901886, 0.013045866042375565, 0.03391925245523453, 0.028700904920697212, 0.023482557386159897, 0.01826421171426773, 0.0052183461375534534, 0.007827519439160824, 0.0026091730687767267, 0.0026091730687767267, 0.4972071051597595, 0.236589252948761, 0.08687261492013931, 0.04620883986353874, 0.03696707263588905, 0.020331889390945435, 0.035118717700242996, 0.014786828309297562, 0.009241768158972263, 0.0036967070773243904, 0.0036967070773243904, 0.0036967070773243904, 0.0036967070773243904, 0.0018483535386621952, 0.43251270055770874, 0.10812817513942719, 0.32438451051712036, 0.10812817513942719, 0.20361028611660004, 0.7635385990142822, 0.26813000440597534, 0.30105826258659363, 0.09408070892095566, 0.02587219513952732, 0.06585649400949478, 0.05174439027905464, 0.12700895965099335, 0.03998430073261261, 0.0023520176764577627, 0.016464123502373695, 0.009408070705831051, 0.16590763628482819, 0.49772292375564575, 0.16590763628482819, 0.16590763628482819, 0.6051103472709656, 0.1196545884013176, 0.054699238389730453, 0.039315078407526016, 0.07008340209722519, 0.02393091656267643, 0.030768321827054024, 0.017093513160943985, 0.006837404798716307, 0.011965458281338215, 0.0034187023993581533, 0.008546756580471992, 0.006837404798716307, 0.0017093511996790767, 0.7235062718391418, 0.0387592650949955, 0.04198920354247093, 0.1162777915596962, 0.012919754721224308, 0.022609570994973183, 0.009689816273748875, 0.012919754721224308, 0.009689816273748875, 0.003229938680306077, 0.006459877360612154, 0.003229938680306077, 0.5783575177192688, 0.06777627766132355, 0.10618282854557037, 0.10317055135965347, 0.050455670803785324, 0.032381996512413025, 0.015814464539289474, 0.0022592090535908937, 0.014308324083685875, 0.0105429757386446, 0.007530697155743837, 0.0007530697039328516, 0.0045184181071817875, 0.001506139407865703, 0.003012278815731406, 0.5839619636535645, 0.12919512391090393, 0.0465102456510067, 0.08785268664360046, 0.025839025154709816, 0.020671220496296883, 0.015503414906561375, 0.005167805124074221, 0.03617463633418083, 0.010335610248148441, 0.010335610248148441, 0.010335610248148441, 0.010335610248148441, 0.2771301865577698, 0.09237673133611679, 0.09237673133611679, 0.18475346267223358, 0.09237673133611679, 0.18475346267223358, 0.35689112544059753, 0.10196889191865921, 0.3059066832065582, 0.10196889191865921, 0.10196889191865921, 0.4112637937068939, 0.14097143709659576, 0.12640827894210815, 0.13980638980865479, 0.05708760768175125, 0.05126234143972397, 0.027961276471614838, 0.010485478676855564, 0.00990295223891735, 0.006407792679965496, 0.005242739338427782, 0.0034951595589518547, 0.00757284602150321, 0.0017475797794759274, 0.0005825266125611961, 0.5841723084449768, 0.13662093877792358, 0.06595493853092194, 0.02355533465743065, 0.0471106693148613, 0.014133200980722904, 0.01884426735341549, 0.05182173475623131, 0.009422133676707745, 0.014133200980722904, 0.004711066838353872, 0.009422133676707745, 0.004711066838353872, 0.014133200980722904, 0.004711066838353872, 0.48927488923072815, 0.20968922972679138, 0.04659760743379593, 0.02912350557744503, 0.04659760743379593, 0.02912350557744503, 0.07572111487388611, 0.011649401858448982, 0.017474103718996048, 0.04077290743589401, 0.539884626865387, 0.04319076985120773, 0.010797692462801933, 0.17276307940483093, 0.08638153970241547, 0.05398846045136452, 0.08638153970241547, 0.8199716210365295, 0.006612674333155155, 0.07273941487073898, 0.0661267414689064, 0.006612674333155155, 0.01322534866631031, 0.01322534866631031, 0.4807402491569519, 0.2884441316127777, 0.0961480513215065, 0.9197539687156677, 0.027051586657762527, 0.027051586657762527, 0.5138024687767029, 0.17903631925582886, 0.1069980338215828, 0.06250379979610443, 0.02224711701273918, 0.042375460267066956, 0.03601913899183273, 0.007415705360472202, 0.006356318946927786, 0.010593865066766739, 0.004237546119838953, 0.0021187730599194765, 0.0052969325333833694, 0.0010593865299597383, 0.5847740769386292, 0.011695481836795807, 0.14034578204154968, 0.1520412564277649, 0.10525933653116226, 0.8485004305839539, 0.1212143525481224, 0.49287569522857666, 0.13215909898281097, 0.17724867165088654, 0.0839598998427391, 0.029541445896029472, 0.04197994992136955, 0.017102941870689392, 0.00155481300316751, 0.00621925201267004, 0.0046644387766718864, 0.0046644387766718864, 0.00310962600633502, 0.0046644387766718864, 0.00310962600633502, 0.5623008012771606, 0.15013572573661804, 0.13030648231506348, 0.08073335886001587, 0.018412871286273003, 0.019829247146844864, 0.014163747429847717, 0.0014163748128339648, 0.004249124322086573, 0.004249124322086573, 0.005665499251335859, 0.0028327496256679296, 0.0028327496256679296, 0.0014163748128339648, 0.0014163748128339648, 0.5357455611228943, 0.09062362462282181, 0.1625894457101822, 0.10128522664308548, 0.03731561079621315, 0.021323205903172493, 0.015992404893040657, 0.007996202446520329, 0.005330801475793123, 0.005330801475793123, 0.007996202446520329, 0.0026654007378965616, 0.005330801475793123, 0.0026654007378965616, 0.40364035964012146, 0.19388838112354279, 0.11457040905952454, 0.03701505437493324, 0.05287864804267883, 0.05287864804267883, 0.09694419056177139, 0.008813108317553997, 0.024676702916622162, 0.0017626216867938638, 0.007050486747175455, 0.0017626216867938638, 0.0035252433735877275, 0.0017626216867938638, 0.6387372016906738, 0.2554948627948761, 0.7702094316482544, 0.05635678768157959, 0.1502847671508789, 0.018785595893859863, 0.9125851988792419, 0.05530819296836853, 0.013827048242092133, 0.823611319065094, 0.1372685581445694, 0.28699108958244324, 0.46603140234947205, 0.021063566207885742, 0.1632426381111145, 0.0026329457759857178, 0.0026329457759857178, 0.013164728879928589, 0.010531783103942871, 0.0052658915519714355, 0.028962403535842896, 0.27342313528060913, 0.05592745915055275, 0.18021069467067719, 0.45984798669815063, 0.006214161869138479, 0.012428323738276958, 0.614342212677002, 0.002437866060063243, 0.3364255130290985, 0.002437866060063243, 0.004875732120126486, 0.024378659203648567, 0.007313597947359085, 0.002437866060063243, 0.5050038695335388, 0.47188884019851685, 0.008278751745820045, 0.008278751745820045, 0.9082392454147339, 0.08256720751523972, 0.8735482692718506, 0.40579456090927124, 0.27052968740463257, 0.045088283717632294, 0.15029427409172058, 0.015029427595436573, 0.015029427595436573, 0.09017656743526459, 0.3604578375816345, 0.1919465810060501, 0.0970892608165741, 0.046870678663253784, 0.12945234775543213, 0.05356648936867714, 0.05468245595693588, 0.010043716058135033, 0.014507590793073177, 0.0111596854403615, 0.003347905585542321, 0.023435339331626892, 0.002231936901807785, 0.0011159684509038925, 0.0011159684509038925, 0.23062486946582794, 0.6259817481040955, 0.09883922338485718, 0.9358612895011902, 0.9574694037437439, 0.0017245083581656218, 0.9657246470451355, 0.005173524841666222, 0.008622542023658752, 0.0017245083581656218, 0.005173524841666222, 0.006898033432662487, 0.0034490167163312435, 0.7474387288093567, 0.10192345827817917, 0.10192345827817917, 0.17570823431015015, 0.3898526728153229, 0.02745441347360611, 0.07138147205114365, 0.0658905878663063, 0.15374471247196198, 0.05490882694721222, 0.005490882322192192, 0.005490882322192192, 0.005490882322192192, 0.038436178117990494, 0.010981764644384384, 0.26262250542640686, 0.270829439163208, 0.18055297434329987, 0.012310429476201534, 0.10669039189815521, 0.02051738277077675, 0.02462085895240307, 0.0943799614906311, 0.008206953294575214, 0.012310429476201534, 0.008206953294575214, 0.004103476647287607, 0.24002069234848022, 0.12501077353954315, 0.14001207053661346, 0.010000862181186676, 0.20501767098903656, 0.040003448724746704, 0.13501164317131042, 0.05000431090593338, 0.015001293271780014, 0.005000431090593338, 0.015001293271780014, 0.015001293271780014, 0.12202844768762589, 0.8053877353668213, 0.048811379820108414, 0.1514110416173935, 0.37852758169174194, 0.37852758169174194, 0.6558918356895447, 0.20078320801258087, 0.033463869243860245, 0.013385547325015068, 0.006692773662507534, 0.040156640112400055, 0.013385547325015068, 0.013385547325015068, 0.013385547325015068, 0.013385547325015068, 0.4394788444042206, 0.40432053804397583, 0.03515830636024475, 0.017579153180122375, 0.08789577335119247, 0.5580974817276001, 0.13952437043190002, 0.27904874086380005, 0.11929365992546082, 0.47717463970184326, 0.23858731985092163, 0.11929365992546082, 0.8238833546638489, 0.16477666795253754, 0.462083101272583, 0.15402770042419434, 0.15402770042419434, 0.051342565566301346, 0.10268513113260269, 0.4964686334133148, 0.3309790790081024, 0.5597033500671387, 0.07749738544225693, 0.07749738544225693, 0.13777312636375427, 0.05166492238640785, 0.03444328159093857, 0.025832461193203926, 0.008610820397734642, 0.008610820397734642, 0.017221640795469284, 0.04749569669365883, 0.04749569669365883, 0.14248709380626678, 0.23747847974300385, 0.04749569669365883, 0.18998278677463531, 0.18998278677463531, 0.04749569669365883, 0.04749569669365883, 0.9407541751861572, 0.00950256735086441, 0.01900513470172882, 0.01900513470172882, 0.9343850016593933, 0.3567056953907013, 0.08917642384767532, 0.3567056953907013, 0.17835284769535065, 0.11836355924606323, 0.5918177962303162, 0.23672711849212646, 0.4329011142253876, 0.20862704515457153, 0.10257496684789658, 0.03824829310178757, 0.09040505439043045, 0.045202527195215225, 0.045202527195215225, 0.006954235024750233, 0.006954235024750233, 0.006954235024750233, 0.005215676035732031, 0.0017385587561875582, 0.006954235024750233, 0.0017385587561875582, 0.0017385587561875582, 0.18983164429664612, 0.18983164429664612, 0.18983164429664612, 0.37966328859329224, 0.09623663872480392, 0.19247327744960785, 0.5774198174476624, 0.13195280730724335, 0.2731887400150299, 0.3282243311405182, 0.051057118922472, 0.0689602643251419, 0.0822218507528305, 0.03646937012672424, 0.002652317751199007, 0.003978476859629154, 0.009283112362027168, 0.007293873932212591, 0.0033153973054140806, 0.0006630794377997518, 0.7362003922462463, 0.18405009806156158, 0.28963547945022583, 0.28963547945022583, 0.14481773972511292, 0.4002925455570221, 0.480351060628891, 0.402666300535202, 0.12155964225530624, 0.15194955468177795, 0.053182341158390045, 0.03038991056382656, 0.053182341158390045, 0.12915711104869843, 0.00759747764095664, 0.01519495528191328, 0.00759747764095664, 0.00759747764095664, 0.00759747764095664, 0.00759747764095664, 0.7748863697052002, 0.15497727692127228, 0.5215657353401184, 0.44755980372428894, 0.0035240929573774338, 0.0070481859147548676, 0.010572278872132301, 0.8960141539573669, 0.012800202704966068, 0.07680121809244156, 0.012800202704966068, 0.8644694089889526, 0.03601955622434616, 0.07203911244869232, 0.7958812713623047, 0.09948515892028809, 0.35017457604408264, 0.252360463142395, 0.19758453965187073, 0.0528196319937706, 0.025431673973798752, 0.033256806433200836, 0.044994499534368515, 0.007825130596756935, 0.0039125652983784676, 0.01369397807866335, 0.005868847947567701, 0.0039125652983784676, 0.0019562826491892338, 0.0019562826491892338, 0.200585275888443, 0.4655374586582184, 0.10628025978803635, 0.05538548529148102, 0.01646595634520054, 0.01646595634520054, 0.026944290846586227, 0.07334835082292557, 0.011975239962339401, 0.0044907149858772755, 0.0044907149858772755, 0.005987619981169701, 0.010478335432708263, 0.1992301046848297, 0.37632352113723755, 0.08854670822620392, 0.04427335411310196, 0.06641003489494324, 0.04427335411310196, 0.04427335411310196, 0.02213667705655098, 0.08854670822620392, 0.19298627972602844, 0.19298627972602844, 0.19298627972602844, 0.19298627972602844, 0.6229908466339111, 0.15574771165847778, 0.15574771165847778, 0.5774326324462891, 0.28871631622314453, 0.8233945369720459, 0.15102167427539825, 0.7551083564758301, 0.541695773601532, 0.1257508099079132, 0.0677119717001915, 0.10318014770746231, 0.03869255632162094, 0.032243795692920685, 0.02257065661251545, 0.009673139080405235, 0.006448759231716394, 0.016121897846460342, 0.006448759231716394, 0.009673139080405235, 0.009673139080405235, 0.009673139080405235, 0.9357479214668274, 0.1936020851135254, 0.7467508912086487, 0.027657439932227135, 0.548865795135498, 0.14618034660816193, 0.14618034660816193, 0.06343675404787064, 0.019306836649775505, 0.013790598139166832, 0.01654871739447117, 0.005516239441931248, 0.008274358697235584, 0.005516239441931248, 0.01654871739447117, 0.005516239441931248, 0.002758119720965624, 0.002758119720965624, 0.6936655640602112, 0.0867081955075264, 0.1734163910150528, 0.12132721394300461, 0.12132721394300461, 0.48530885577201843, 0.12132721394300461, 0.4035239815711975, 0.26901599764823914, 0.26901599764823914, 0.8692407608032227, 0.02674587070941925, 0.06686467677354813, 0.013372935354709625, 0.013372935354709625, 0.14383438229560852, 0.14383438229560852, 0.48903688788414, 0.019177917391061783, 0.038355834782123566, 0.038355834782123566, 0.07671166956424713, 0.019177917391061783, 0.019177917391061783, 0.009588958695530891, 0.04218865931034088, 0.18984895944595337, 0.44298091530799866, 0.04218865931034088, 0.1054716482758522, 0.1476603001356125, 0.5454235076904297, 0.07791764289140701, 0.07791764289140701, 0.15583528578281403, 0.07791764289140701, 0.7209517955780029, 0.07177617400884628, 0.06699109822511673, 0.054230887442827225, 0.009570157155394554, 0.011165183037519455, 0.02392539195716381, 0.003190052229911089, 0.007975130341947079, 0.009570157155394554, 0.009570157155394554, 0.0015950261149555445, 0.006380104459822178, 0.003190052229911089, 0.0015950261149555445, 0.5789263248443604, 0.36665335297584534, 0.019297543913125992, 0.3754916489124298, 0.1877458244562149, 0.1877458244562149, 0.1877458244562149, 0.13349616527557373, 0.13349616527557373, 0.6674808263778687, 0.24749362468719482, 0.14558449387550354, 0.35486218333244324, 0.040035735815763474, 0.08189127594232559, 0.052774377167224884, 0.030936703085899353, 0.016378255560994148, 0.01455844845622778, 0.0018198060570284724, 0.0018198060570284724, 0.003639612114056945, 0.005459418520331383, 0.0018198060570284724, 0.0018198060570284724, 0.577398419380188, 0.06485272198915482, 0.10250914841890335, 0.06903677433729172, 0.05857665464282036, 0.04602451249957085, 0.016736187040805817, 0.010460116900503635, 0.02928832732141018, 0.002092023380100727, 0.006276070140302181, 0.002092023380100727, 0.01464416366070509, 0.002092023380100727, 0.6449924111366272, 0.07166582345962524, 0.07166582345962524, 0.1433316469192505, 0.9443941116333008, 0.03256531432271004, 0.8951848745346069, 0.7420429587364197, 0.18551073968410492, 0.5382826924324036, 0.053828269243240356, 0.053828269243240356, 0.21531307697296143, 0.053828269243240356, 0.3519853949546814, 0.5279780626296997, 0.23805354535579681, 0.19713808596134186, 0.13390511274337769, 0.07811132073402405, 0.16366180777549744, 0.06323297321796417, 0.07439173012971878, 0.0037195866461843252, 0.018597932532429695, 0.0074391732923686504, 0.0074391732923686504, 0.0074391732923686504, 0.0037195866461843252, 0.7523884177207947, 0.18809710443019867, 0.20143814384937286, 0.2517976760864258, 0.050359535962343216, 0.15107861161231995, 0.15107861161231995, 0.10071907192468643, 0.050359535962343216, 0.050359535962343216, 0.3195728361606598, 0.1597864180803299, 0.1597864180803299, 0.3195728361606598, 0.05015876889228821, 0.8526991009712219, 0.10031753778457642, 0.823739767074585, 0.12672919034957886, 0.038018759340047836, 0.8987894654273987, 0.44493770599365234, 0.09672558307647705, 0.038690235465765, 0.21279628574848175, 0.038690235465765, 0.038690235465765, 0.038690235465765, 0.09672558307647705, 0.1006283164024353, 0.4192846715450287, 0.11739970743656158, 0.25157079100608826, 0.08385693281888962, 0.19601257145404816, 0.19601257145404816, 0.3920251429080963, 0.06729016453027725, 0.824304461479187, 0.08411270380020142, 0.016822541132569313, 0.541246771812439, 0.0746547281742096, 0.0559910424053669, 0.1119820848107338, 0.1306457668542862, 0.0373273640871048, 0.0186636820435524, 0.9107732176780701, 0.45613667368888855, 0.5050084590911865, 0.005430198274552822, 0.02172079309821129, 0.005430198274552822, 0.6076263785362244, 0.2897910475730896, 0.0747847855091095, 0.009348098188638687, 0.6534944772720337, 0.29874035716056824, 0.018671272322535515, 0.018671272322535515, 0.6251137852668762, 0.15627844631671906, 0.15627844631671906, 0.8200351595878601, 0.2853858172893524, 0.2110666036605835, 0.17539337277412415, 0.05648260936141014, 0.15458399057388306, 0.050537072122097015, 0.017836613580584526, 0.0059455381706357, 0.02080938220024109, 0.0059455381706357, 0.0059455381706357, 0.00297276908531785, 0.00297276908531785, 0.00297276908531785, 0.00297276908531785, 0.5107280611991882, 0.18333826959133148, 0.2750073969364166, 0.02619118243455887, 0.7469044327735901, 0.18672610819339752, 0.9526007771492004, 0.34749293327331543, 0.17374646663665771, 0.34749293327331543, 0.17374646663665771, 0.1851901262998581, 0.5555703639984131, 0.1851901262998581, 0.24651546776294708, 0.6471031308174133, 0.030814433470368385, 0.030814433470368385, 0.575217068195343, 0.0230086836963892, 0.20707814395427704, 0.0230086836963892, 0.0460173673927784, 0.11504341661930084, 0.15934498608112335, 0.7967249155044556, 0.6364318132400513, 0.31821590662002563, 0.8164864778518677, 0.4043915867805481, 0.2081427276134491, 0.10704483091831207, 0.053522415459156036, 0.07136321812868118, 0.029734674841165543, 0.061451662331819534, 0.013876181095838547, 0.015858493745326996, 0.015858493745326996, 0.0019823117181658745, 0.007929246872663498, 0.003964623436331749, 0.003964623436331749, 0.0019823117181658745, 0.11938188970088959, 0.7162913084030151, 0.11938188970088959, 0.17965155839920044, 0.3593031167984009, 0.3593031167984009, 0.5347508788108826, 0.012436066754162312, 0.4476983845233917, 0.37474825978279114, 0.18737412989139557, 0.37474825978279114, 0.25735533237457275, 0.15756449103355408, 0.15493841469287872, 0.04989542439579964, 0.10241692513227463, 0.1496862769126892, 0.04726934805512428, 0.010504299774765968, 0.036765050143003464, 0.002626074943691492, 0.015756448730826378, 0.010504299774765968, 0.002626074943691492, 0.280392587184906, 0.140196293592453, 0.280392587184906, 0.280392587184906, 0.13885915279388428, 0.14954063296318054, 0.18158505856990814, 0.010681473650038242, 0.010681473650038242, 0.0640888437628746, 0.3311256766319275, 0.021362947300076485, 0.05340736731886864, 0.0320444218814373, 0.9373350143432617, 0.037493400275707245, 0.14002986252307892, 0.28005972504615784, 0.28005972504615784, 0.14002986252307892, 0.26654601097106934, 0.26654601097106934, 0.08884867280721664, 0.26654601097106934, 0.7052839994430542, 0.14105680584907532, 0.4244573712348938, 0.09095515310764313, 0.2122286856174469, 0.09095515310764313, 0.030318384990096092, 0.030318384990096092, 0.030318384990096092, 0.09095515310764313, 0.6070401668548584, 0.10117336362600327, 0.20234672725200653, 0.3818122148513794, 0.1909061074256897, 0.3818122148513794, 0.32847630977630615, 0.2141178846359253, 0.15085577964782715, 0.06082894280552864, 0.0437968410551548, 0.041363682597875595, 0.0851605236530304, 0.03893052414059639, 0.009732631035149097, 0.007299473509192467, 0.012165788561105728, 0.0024331577587872744, 0.0024331577587872744, 0.6777874231338501, 0.2711149752140045, 0.18944419920444489, 0.18944419920444489, 0.5683326125144958, 0.3285313546657562, 0.28846654295921326, 0.04807775840163231, 0.03205183893442154, 0.08012960106134415, 0.01602591946721077, 0.09615551680326462, 0.008012959733605385, 0.024038879200816154, 0.01602591946721077, 0.04807775840163231, 0.4465719163417816, 0.1116429790854454, 0.3349289298057556, 0.13818451762199402, 0.27636903524398804, 0.27636903524398804, 0.27636903524398804, 0.1682417392730713, 0.46266478300094604, 0.12618130445480347, 0.04206043481826782, 0.04206043481826782, 0.12618130445480347, 0.04206043481826782, 0.31744900345802307, 0.4040260314941406, 0.028859000653028488, 0.028859000653028488, 0.028859000653028488, 0.028859000653028488, 0.028859000653028488, 0.11543600261211395, 0.9102239608764648, 0.1523161083459854, 0.3046322166919708, 0.1523161083459854, 0.3046322166919708, 0.5059323310852051, 0.3372882306575775, 0.16864411532878876, 0.11616064608097076, 0.23232129216194153, 0.46464258432388306, 0.11616064608097076, 0.4016980230808258, 0.13389934599399567, 0.02231655642390251, 0.04463311284780502, 0.06694967299699783, 0.06694967299699783, 0.02231655642390251, 0.11158278584480286, 0.02231655642390251, 0.06694967299699783, 0.04463311284780502, 0.12409289181232452, 0.1861393302679062, 0.24818578362464905, 0.06204644590616226, 0.06204644590616226, 0.06204644590616226, 0.1861393302679062, 0.06204644590616226, 0.07552091032266617, 0.3020836412906647, 0.4531254768371582, 0.07552091032266617, 0.4296903610229492, 0.2148451805114746, 0.1074225902557373, 0.2148451805114746, 0.1603279411792755, 0.8016397356987, 0.03206558898091316, 0.40662285685539246, 0.2710818946361542, 0.1355409473180771, 0.11095698177814484, 0.8401028513908386, 0.01585099659860134, 0.03170199319720268, 0.10705244541168213, 0.6423146724700928, 0.21410489082336426, 0.6307551264762878, 0.3153775632381439, 0.40885862708091736, 0.21027015149593353, 0.2803601920604706, 0.07009004801511765, 0.023363349959254265, 0.8034549355506897, 0.03919292241334915, 0.0783858448266983, 0.019596461206674576, 0.019596461206674576, 0.03919292241334915, 0.8737292885780334, 0.19753387570381165, 0.3950677514076233, 0.19753387570381165, 0.19753387570381165, 0.3357459008693695, 0.16787295043468475, 0.16787295043468475, 0.16787295043468475, 0.6551278233528137, 0.11911414563655853, 0.059557072818279266, 0.059557072818279266, 0.059557072818279266, 0.029778536409139633, 0.20876836776733398, 0.10438418388366699, 0.521920919418335, 0.31961753964424133, 0.15980876982212067, 0.15980876982212067, 0.15980876982212067, 0.42960551381111145, 0.04686605557799339, 0.48428258299827576, 0.023433027788996696, 0.007811009418219328, 0.8926687836647034, 0.06841974705457687, 0.2736789882183075, 0.20525923371315002, 0.06841974705457687, 0.2736789882183075, 0.18532328307628632, 0.5559698343276978, 0.18532328307628632, 0.04009263217449188, 0.12027788907289505, 0.08018526434898376, 0.04009263217449188, 0.04009263217449188, 0.20046314597129822, 0.4410189390182495, 0.04009263217449188, 0.4224584400653839, 0.1408194750547409, 0.2816389501094818, 0.17032305896282196, 0.49548524618148804, 0.061935655772686005, 0.015483913943171501, 0.015483913943171501, 0.030967827886343002, 0.030967827886343002, 0.015483913943171501, 0.030967827886343002, 0.015483913943171501, 0.07741957157850266, 0.015483913943171501, 0.5516937375068665, 0.1451825648546219, 0.11614605784416199, 0.08710954338312149, 0.029036514461040497, 0.029036514461040497, 0.11803225427865982, 0.43758299946784973, 0.21879149973392487, 0.023030683398246765, 0.05757671222090721, 0.04030369594693184, 0.05181904137134552, 0.028788356110453606, 0.005757670849561691, 0.0028788354247808456, 0.0028788354247808456, 0.011515341699123383, 0.0028788354247808456, 0.0028788354247808456, 0.2166469246149063, 0.2166469246149063, 0.2166469246149063, 0.3100188374519348, 0.051669806241989136, 0.051669806241989136, 0.5166980624198914, 0.3120167553424835, 0.10400558263063431, 0.41602233052253723, 0.5591664910316467, 0.18638882040977478, 0.33061322569847107, 0.33061322569847107, 0.16530661284923553, 0.6179070472717285, 0.30895352363586426, 0.6455215215682983, 0.184434711933136, 0.092217355966568, 0.38081133365631104, 0.5331358313560486, 0.07616226375102997, 0.7207651734352112, 0.24025505781173706, 0.8827968835830688, 0.016976863145828247, 0.05093058943748474, 0.016976863145828247, 0.016976863145828247, 0.8379855751991272, 0.1197122260928154, 0.3018869459629059, 0.15094347298145294, 0.45283040404319763, 0.06624795496463776, 0.09274713695049286, 0.17224468290805817, 0.3047405779361725, 0.013249590992927551, 0.264991819858551, 0.026499181985855103, 0.06624795496463776, 0.8183262348175049, 0.14052066206932068, 0.016531843692064285, 0.002755307126790285, 0.008265921846032143, 0.00551061425358057, 0.00551061425358057, 0.40538862347602844, 0.2212231457233429, 0.20437875390052795, 0.09882049262523651, 0.02133624255657196, 0.006737761199474335, 0.012352561578154564, 0.006737761199474335, 0.007860721088945866, 0.004491840489208698, 0.004491840489208698, 0.0011229601223021746, 0.0033688805997371674, 0.0011229601223021746, 0.0011229601223021746, 0.7509894371032715, 0.0594002939760685, 0.03394302353262901, 0.10607194900512695, 0.016971511766314507, 0.008485755883157253, 0.004242877941578627, 0.004242877941578627, 0.012728634290397167, 0.5973716378211975, 0.19912387430667877, 0.19912387430667877, 0.8842405676841736, 0.07859916239976883, 0.568378746509552, 0.18945957720279694, 0.18945957720279694, 0.883595883846283, 0.08032689988613129, 0.013387816958129406, 0.013387816958129406, 0.4238562285900116, 0.2697266936302185, 0.03853238373994827, 0.03853238373994827, 0.11559715121984482, 0.03853238373994827, 0.03853238373994827, 0.3378562331199646, 0.1689281165599823, 0.1689281165599823, 0.1689281165599823, 0.6712278127670288, 0.1258552223443985, 0.0839034765958786, 0.0419517382979393, 0.0419517382979393, 0.8731350898742676, 0.5558456778526306, 0.3705637753009796, 0.41983678936958313, 0.1399455964565277, 0.1399455964565277, 0.2798911929130554, 0.5166667699813843, 0.17222225666046143, 0.17222225666046143, 0.5031701922416687, 0.20537559688091278, 0.12450895458459854, 0.034657131880521774, 0.029522741213440895, 0.015403170138597488, 0.03722432628273964, 0.01026877947151661, 0.008985182270407677, 0.005134389735758305, 0.011552377603948116, 0.0012835974339395761, 0.011552377603948116, 0.0012835974339395761, 0.15837475657463074, 0.7390821576118469, 0.20102795958518982, 0.20102795958518982, 0.20102795958518982, 0.20102795958518982, 0.4427698254585266, 0.14758993685245514, 0.14758993685245514, 0.14758993685245514, 0.9414725303649902, 0.642586886882782, 0.004041426815092564, 0.020207135006785393, 0.23440276086330414, 0.0363728404045105, 0.008082853630185127, 0.024248560890555382, 0.012124280445277691, 0.016165707260370255, 0.15473026037216187, 0.07736513018608093, 0.07736513018608093, 0.4641907811164856, 0.07736513018608093, 0.07736513018608093, 0.20341850817203522, 0.20341850817203522, 0.20341850817203522, 0.20341850817203522, 0.20341850817203522, 0.39211130142211914, 0.19605565071105957, 0.39211130142211914, 0.9473233222961426, 0.9188504219055176, 0.04176592826843262, 0.3588055968284607, 0.143522247672081, 0.3588055968284607, 0.0717611238360405, 0.4547429382801056, 0.4547429382801056, 0.3940559923648834, 0.21046173572540283, 0.1074698194861412, 0.10523086786270142, 0.04925699904561043, 0.03806222602725029, 0.04030118137598038, 0.01343372743576765, 0.006716863717883825, 0.006716863717883825, 0.0022389546502381563, 0.006716863717883825, 0.01343372743576765, 0.0022389546502381563, 0.8646191358566284, 0.4238862693309784, 0.1412954330444336, 0.050721436738967896, 0.08695103228092194, 0.10868878662586212, 0.04709847643971443, 0.07608215510845184, 0.014491838403046131, 0.028983676806092262, 0.010868879035115242, 0.003622959600761533, 0.003622959600761533, 0.9532200694084167, 0.5126566886901855, 0.2728656530380249, 0.0909552201628685, 0.04134327918291092, 0.016537312418222427, 0.02480596862733364, 0.008268656209111214, 0.016537312418222427, 0.016537312418222427, 0.5327025651931763, 0.355135053396225, 0.5179547667503357, 0.08632580190896988, 0.08632580190896988, 0.17265160381793976, 0.08632580190896988, 0.33527645468711853, 0.19702933728694916, 0.23621749877929688, 0.04789663478732109, 0.052250877022743225, 0.0555165559053421, 0.034833915531635284, 0.013062719255685806, 0.008708478882908821, 0.0010885598603636026, 0.0043542394414544106, 0.008708478882908821, 0.0010885598603636026, 0.0032656798139214516, 0.0032656798139214516, 0.08328385651111603, 0.22209028899669647, 0.19432900846004486, 0.3053741455078125, 0.13880643248558044, 0.05552257224917412, 0.5354428887367249, 0.11640062928199768, 0.11640062928199768, 0.11640062928199768, 0.034920189529657364, 0.011640063486993313, 0.023280126973986626, 0.011640063486993313, 0.023280126973986626, 0.621505856513977, 0.15537646412849426, 0.6887656450271606, 0.05989266559481621, 0.11978533118963242, 0.029946332797408104, 0.029946332797408104, 0.029946332797408104, 0.029946332797408104, 0.7719402313232422, 0.15438805520534515, 0.31298696994781494, 0.2453141063451767, 0.30960333347320557, 0.0033836429938673973, 0.05752192810177803, 0.0033836429938673973, 0.005075464490801096, 0.006767285987734795, 0.03214460611343384, 0.0016918214969336987, 0.01353457197546959, 0.005075464490801096, 0.0033836429938673973, 0.0685599222779274, 0.7508147358894348, 0.038460444658994675, 0.0016721931751817465, 0.025082897394895554, 0.010033159516751766, 0.05852676182985306, 0.035116057842969894, 0.005016579758375883, 0.0016721931751817465, 0.006688772700726986, 0.0016721931751817465, 0.18553897738456726, 0.5511599183082581, 0.027285143733024597, 0.01637108623981476, 0.043656229972839355, 0.005457028746604919, 0.03274217247962952, 0.049113258719444275, 0.060027316212654114, 0.005457028746604919, 0.021828114986419678, 0.4616544842720032, 0.15388482809066772, 0.30776965618133545, 0.410820335149765, 0.2054101675748825, 0.2054101675748825, 0.10270508378744125, 0.9591221213340759, 0.027670741081237793, 0.03689432144165039, 0.5626384019851685, 0.15680086612701416, 0.12913012504577637, 0.04611790180206299, 0.018447160720825195, 0.027670741081237793, 0.4294082820415497, 0.4465846121311188, 0.10305798798799515, 0.37517234683036804, 0.18758617341518402, 0.18758617341518402, 0.5770509839057922, 0.1923503279685974, 0.1923503279685974, 0.2580074965953827, 0.32955580949783325, 0.19513171911239624, 0.03252195566892624, 0.031437888741493225, 0.059623584151268005, 0.045530736446380615, 0.024933498352766037, 0.004336260724812746, 0.002168130362406373, 0.0032521954271942377, 0.00758845591917634, 0.0010840651812031865, 0.0032521954271942377, 0.002168130362406373, 0.9625937342643738, 0.03565162047743797, 0.06740577518939972, 0.20221732556819916, 0.20221732556819916, 0.06740577518939972, 0.06740577518939972, 0.13481155037879944, 0.20221732556819916, 0.371288537979126, 0.185644268989563, 0.185644268989563, 0.549189567565918, 0.18306319415569305, 0.18306319415569305, 0.3646914064884186, 0.3646914064884186, 0.1823457032442093, 0.8043918609619141, 0.04072870314121246, 0.005091087892651558, 0.09163957834243774, 0.005091087892651558, 0.010182175785303116, 0.030546527355909348, 0.010182175785303116, 0.5041687488555908, 0.1260421872138977, 0.2520843744277954, 0.6005785465240479, 0.08579693734645844, 0.2573907971382141, 0.1586853563785553, 0.1586853563785553, 0.1586853563785553, 0.3173707127571106, 0.1586853563785553, 0.1364860236644745, 0.545944094657898, 0.1364860236644745, 0.9548237919807434, 0.02512694150209427, 0.9177480936050415, 0.0316464863717556, 0.5633884072303772, 0.2816942036151886, 0.7065603137016296, 0.9353719353675842, 0.6691558361053467, 0.04888809844851494, 0.030555061995983124, 0.17721936106681824, 0.021388543769717216, 0.009166518226265907, 0.009166518226265907, 0.0030555061530321836, 0.0030555061530321836, 0.015277530997991562, 0.009166518226265907, 0.0030555061530321836, 0.0030555061530321836, 0.0030555061530321836, 0.9614251852035522, 0.9482318162918091, 0.7335727214813232, 0.07803965359926224, 0.054627757519483566, 0.04292181134223938, 0.027313878759741783, 0.007803965359926224, 0.007803965359926224, 0.011705948039889336, 0.011705948039889336, 0.007803965359926224, 0.011705948039889336, 0.007803965359926224, 0.003901982679963112, 0.5456095337867737, 0.13640238344669342, 0.13640238344669342, 0.13640238344669342, 0.16264194250106812, 0.32528388500213623, 0.16264194250106812, 0.16264194250106812, 0.16264194250106812, 0.353702187538147, 0.5659235119819641, 0.07074043899774551, 0.3895365297794342, 0.03541241213679314, 0.3895365297794342, 0.03541241213679314, 0.03541241213679314, 0.03541241213679314, 0.9353595972061157, 0.6421937942504883, 0.16054844856262207, 0.16054844856262207, 0.3804669976234436, 0.3804669976234436, 0.1902334988117218, 0.5006619095802307, 0.3337746262550354, 0.1668873131275177, 0.16448192298412323, 0.4934457838535309, 0.16448192298412323, 0.16448192298412323, 0.32459506392478943, 0.21054814755916595, 0.16375966370105743, 0.07895555347204208, 0.08480411767959595, 0.046788476407527924, 0.05263703688979149, 0.014621399343013763, 0.0029242797754704952, 0.0058485595509409904, 0.0029242797754704952, 0.0029242797754704952, 0.0029242797754704952, 0.008772839792072773, 0.1752357929944992, 0.25033682584762573, 0.050067368894815445, 0.025033684447407722, 0.07510104775428772, 0.07510104775428772, 0.3504715859889984, 0.025033684447407722, 0.20189064741134644, 0.23964254558086395, 0.28888416290283203, 0.029544971883296967, 0.09191769361495972, 0.06893827021121979, 0.02133803442120552, 0.04267606884241104, 0.004924161825329065, 0.001641387352719903, 0.001641387352719903, 0.001641387352719903, 0.001641387352719903, 0.001641387352719903, 0.37265968322753906, 0.18632984161376953, 0.18632984161376953, 0.18632984161376953, 0.7413973808288574, 0.2118278294801712, 0.19686013460159302, 0.39372026920318604, 0.19686013460159302, 0.19686013460159302, 0.9556384086608887, 0.04343811050057411, 0.9362665414810181, 0.44847673177719116, 0.22846926748752594, 0.13538919389247894, 0.08884916454553604, 0.012692737393081188, 0.012692737393081188, 0.008461824618279934, 0.004230912309139967, 0.004230912309139967, 0.025385474786162376, 0.016923649236559868, 0.012692737393081188, 0.9096595644950867, 0.42150142788887024, 0.13917499780654907, 0.14712785184383392, 0.0477171428501606, 0.0477171428501606, 0.051693569868803024, 0.07157571613788605, 0.019882142543792725, 0.0039764284156262875, 0.01590571366250515, 0.01192928571254015, 0.01192928571254015, 0.007952856831252575, 0.38275155425071716, 0.255167692899704, 0.255167692899704, 0.127583846449852, 0.6494144201278687, 0.10823573172092438, 0.21647146344184875, 0.020621567964553833, 0.0618647001683712, 0.45367446541786194, 0.4330528974533081, 0.020621567964553833, 0.46179115772247314, 0.14896488189697266, 0.16386137902736664, 0.05213771015405655, 0.05213771015405655, 0.02234473265707493, 0.02234473265707493, 0.01489648874849081, 0.037241220474243164, 0.02979297749698162, 0.4295250475406647, 0.21846532821655273, 0.14626069366931915, 0.06479904055595398, 0.04258222505450249, 0.016662610694766045, 0.016662610694766045, 0.012959808111190796, 0.011108406819403172, 0.009257005527615547, 0.009257005527615547, 0.0037028021179139614, 0.011108406819403172, 0.0018514010589569807, 0.0037028021179139614, 0.5533109307289124, 0.06916386634111404, 0.027665546163916588, 0.23515714704990387, 0.027665546163916588, 0.055331092327833176, 0.12987786531448364, 0.1857253611087799, 0.34807270765304565, 0.028573131188750267, 0.12208519876003265, 0.11429252475500107, 0.031170688569545746, 0.011689008213579655, 0.009091450832784176, 0.002597557380795479, 0.0038963360711932182, 0.0038963360711932182, 0.0077926721423864365, 0.0012987786903977394, 0.25868502259254456, 0.21634076535701752, 0.20633211731910706, 0.06544115394353867, 0.09315741062164307, 0.05928198620676994, 0.05235292389988899, 0.016167813912034035, 0.007698959205299616, 0.007698959205299616, 0.002309687901288271, 0.004619375802576542, 0.0061591677367687225, 0.0015397919341921806, 0.0007698959670960903, 0.8919119834899902, 0.05067681893706322, 0.010135363787412643, 0.010135363787412643, 0.03040608949959278, 0.4827784299850464, 0.11848407983779907, 0.11583144962787628, 0.07515781372785568, 0.053936783224344254, 0.04774731770157814, 0.03802100941538811, 0.01237893383949995, 0.015915771946310997, 0.01237893383949995, 0.004421047866344452, 0.008842095732688904, 0.009726305492222309, 0.0008842095849104226, 0.002652628580108285, 0.8727977871894836, 0.19281266629695892, 0.16196264326572418, 0.11568760126829147, 0.00771250668913126, 0.023137520998716354, 0.16196264326572418, 0.2082376778125763, 0.01542501337826252, 0.06170005351305008, 0.04627504199743271, 0.3446801006793976, 0.2362414002418518, 0.1820220649242401, 0.05228293314576149, 0.01742764562368393, 0.04453731328248978, 0.04647371917963028, 0.0290460754185915, 0.01161842979490757, 0.007745619863271713, 0.013554834760725498, 0.005809214897453785, 0.0038728099316358566, 0.0038728099316358566, 0.0019364049658179283, 0.3591891825199127, 0.25318643450737, 0.13650713860988617, 0.05719572678208351, 0.050332240760326385, 0.0549078993499279, 0.03813048452138901, 0.013726974837481976, 0.007626097183674574, 0.006863487418740988, 0.006100877653807402, 0.011439145542681217, 0.003050438826903701, 0.0007626097067259252, 0.0007626097067259252, 0.6079636812210083, 0.20265455543994904, 0.10132727771997452, 0.4131261706352234, 0.13770872354507446, 0.2754174470901489, 0.531603217124939, 0.15045374631881714, 0.09629039466381073, 0.12638114392757416, 0.008024199865758419, 0.024072598665952682, 0.014042348600924015, 0.014042348600924015, 0.006018149666488171, 0.008024199865758419, 0.006018149666488171, 0.006018149666488171, 0.0040120999328792095, 0.0040120999328792095, 0.0020060499664396048, 0.2040126621723175, 0.5329310297966003, 0.08327047526836395, 0.012490571476519108, 0.024981142953038216, 0.020817618817090988, 0.058289334177970886, 0.0374717153608799, 0.012490571476519108, 0.012490571476519108, 0.00416352367028594, 0.22839826345443726, 0.11419913172721863, 0.22839826345443726, 0.3425973951816559, 0.7783262133598328, 0.15566523373126984, 0.783838152885437, 0.09221625328063965, 0.046108126640319824, 0.09221625328063965, 0.5623888373374939, 0.1874629408121109, 0.1874629408121109, 0.727704644203186, 0.1819261610507965, 0.6801563501358032, 0.2720625400543213, 0.6319162845611572, 0.11489386856555939, 0.22978773713111877, 0.18680265545845032, 0.24017482995986938, 0.060043707489967346, 0.033357616513967514, 0.02668609283864498, 0.060043707489967346, 0.14010198414325714, 0.22016026079654694, 0.01334304641932249, 0.006671523209661245, 0.006671523209661245, 0.7252385020256042, 0.10477076470851898, 0.8643588423728943, 0.20169222354888916, 0.20169222354888916, 0.20169222354888916, 0.20169222354888916, 0.20169222354888916, 0.403600811958313, 0.403600811958313, 0.3575468063354492, 0.5363202095031738, 0.5002387762069702, 0.1000477522611618, 0.2000955045223236, 0.419644832611084, 0.314733624458313, 0.104911208152771, 0.266156405210495, 0.3992346227169037, 0.1330782026052475, 0.1330782026052475, 0.5550088882446289, 0.18500296771526337, 0.18500296771526337, 0.856722354888916, 0.9311730861663818, 0.9551169872283936, 0.6552162170410156, 0.3276081085205078, 0.9499521851539612, 0.02499874122440815, 0.37194502353668213, 0.37194502353668213, 0.18597251176834106, 0.17628060281276703, 0.4700815975666046, 0.2938010096549988, 0.5111221671104431, 0.09293130040168762, 0.3717252016067505, 0.2505672872066498, 0.2505672872066498, 0.1252836436033249, 0.2505672872066498, 0.1252836436033249, 0.9313802123069763, 0.778327465057373, 0.15566548705101013, 0.9387527704238892, 0.8722166419029236, 0.9100258946418762, 0.11931933462619781, 0.8522809743881226, 0.01704561896622181, 0.39506059885025024, 0.39506059885025024, 0.19753029942512512, 0.7223624587059021, 0.12747572362422943, 0.12747572362422943, 0.6149156093597412, 0.12298312038183212, 0.12298312038183212, 0.3512239158153534, 0.14297610521316528, 0.158516988158226, 0.052838996052742004, 0.11189433932304382, 0.05905534699559212, 0.06527169793844223, 0.021757233887910843, 0.01554088108241558, 0.0031081761699169874, 0.009324528276920319, 0.009324528276920319, 0.9421443343162537, 0.41993802785873413, 0.19838452339172363, 0.15494266152381897, 0.05502636358141899, 0.062266673892736435, 0.03475349396467209, 0.03475349396467209, 0.008688373491168022, 0.004344186745584011, 0.005792248994112015, 0.004344186745584011, 0.005792248994112015, 0.008688373491168022, 0.0014480622485280037, 0.0014480622485280037, 0.5543874502182007, 0.1847958117723465, 0.1847958117723465, 0.5360538959503174, 0.16061539947986603, 0.1084153950214386, 0.09436154365539551, 0.014053846709430218, 0.020076924934983253, 0.024092309176921844, 0.014053846709430218, 0.006023077294230461, 0.006023077294230461, 0.004015384707599878, 0.004015384707599878, 0.004015384707599878, 0.004015384707599878, 0.42162275314331055, 0.3305905759334564, 0.1772731989622116, 0.06468076258897781, 0.0023955837823450565, 0.35522618889808655, 0.532839298248291, 0.5731945633888245, 0.19106484949588776, 0.19106484949588776, 0.6578844785690308, 0.21929483115673065, 0.7692036628723145, 0.025219792500138283, 0.02942308969795704, 0.13030226528644562, 0.004203298594802618, 0.016813194379210472, 0.012609896250069141, 0.004203298594802618, 0.004203298594802618, 0.5186494588851929, 0.230510875582695, 0.05762771889567375, 0.05762771889567375, 0.1152554377913475, 0.939660370349884, 0.31433698534965515, 0.010839206166565418, 0.37395262718200684, 0.25472134351730347, 0.016258809715509415, 0.03251761943101883, 0.3017171323299408, 0.6034342646598816, 0.004518700763583183, 0.9579645395278931, 0.004518700763583183, 0.01355610229074955, 0.004518700763583183, 0.01355610229074955, 0.3067069947719574, 0.4600604772567749, 0.3067069947719574, 0.5636909604072571, 0.1878969818353653, 0.1878969818353653, 0.15356627106666565, 0.370365709066391, 0.12646633386611938, 0.027099929749965668, 0.027099929749965668, 0.027099929749965668, 0.2258327454328537, 0.027099929749965668, 0.01806662045419216, 0.39947694540023804, 0.19336384534835815, 0.07862046360969543, 0.02549852803349495, 0.12961752712726593, 0.05949656665325165, 0.05524681136012077, 0.019123896956443787, 0.012749264016747475, 0.006374632008373737, 0.006374632008373737, 0.006374632008373737, 0.006374632008373737, 0.0021248774137347937, 0.47218844294548035, 0.31479230523109436, 0.15739615261554718, 0.3708173930644989, 0.32699352502822876, 0.2764275074005127, 0.010113201104104519, 0.010113201104104519, 0.528573751449585, 0.12048371881246567, 0.05829857289791107, 0.2215345799922943, 0.015546286478638649, 0.0116597143933177, 0.015546286478638649, 0.0077731432393193245, 0.0077731432393193245, 0.0116597143933177, 0.0077731432393193245, 0.39205145835876465, 0.39205145835876465, 0.19602572917938232, 0.4741358458995819, 0.12092055380344391, 0.0668245181441307, 0.041367556899785995, 0.0540960356593132, 0.08591723442077637, 0.04773179814219475, 0.05727815628051758, 0.015910599380731583, 0.0031821199227124453, 0.009546359069645405, 0.012728479690849781, 0.0031821199227124453, 0.0031821199227124453, 0.42028871178627014, 0.12490507960319519, 0.22955527901649475, 0.04726137965917587, 0.0658283531665802, 0.028694409877061844, 0.03375812992453575, 0.011815344914793968, 0.01012743916362524, 0.0033758128993213177, 0.00506371958181262, 0.00506371958181262, 0.006751625798642635, 0.0033758128993213177, 0.00506371958181262, 0.5498152375221252, 0.07854503393173218, 0.07854503393173218, 0.3141801357269287, 0.11837710440158844, 0.710262656211853, 0.2883363366127014, 0.22731277346611023, 0.1632380336523056, 0.03356295824050903, 0.1250983029603958, 0.05644679814577103, 0.03661413863301277, 0.013730301521718502, 0.012204713188111782, 0.0030511782970279455, 0.006102356594055891, 0.024409426376223564, 0.009153534658253193, 0.0015255891485139728, 0.11394788324832916, 0.8546091318130493], \"Term\": [\"abandon\", \"abandon\", \"abbey\", \"abbey\", \"abbey\", \"abbot\", \"abbot\", \"abbot\", \"abhorred\", \"abhorred\", \"abhorred\", \"abhorred\", \"accommodate\", \"accommodate\", \"accommodate\", \"accommodate\", \"accorded\", \"accorded\", \"acquaintance\", \"acquaintance\", \"acquaintance\", \"acquaintance\", \"acquaintance\", \"acquaintance\", \"acquaintance\", \"acquaintance\", \"acquaintance\", \"acquaintance\", \"acquaintance\", \"acquaintance\", \"acquaintance\", \"acquaintance\", \"acquit\", \"acquit\", \"acquit\", \"acquit\", \"acquitted\", \"acquitted\", \"acquitted\", \"acquitted\", \"addition\", \"addition\", \"addition\", \"addition\", \"addition\", \"addition\", \"addition\", \"addition\", \"addition\", \"adele\", \"adele\", \"adele\", \"adele\", \"adele\", \"adele\", \"affection\", \"affection\", \"affection\", \"affection\", \"affection\", \"affection\", \"affection\", \"affection\", \"affection\", \"affection\", \"affection\", \"affection\", \"affection\", \"affianced\", \"affianced\", \"affording\", \"affording\", \"affording\", \"affording\", \"aged\", \"aged\", \"aghast\", \"aghast\", \"aghast\", \"aimed\", \"aimed\", \"aimed\", \"aimed\", \"aimed\", \"airing\", \"airing\", \"allez\", \"alluding\", \"alluding\", \"alluding\", \"amiable\", \"amiable\", \"amiable\", \"amiable\", \"amiable\", \"amiable\", \"amiable\", \"amiable\", \"amiable\", \"amiable\", \"amiable\", \"amiss\", \"amiss\", \"amiss\", \"amiss\", \"amounted\", \"amounted\", \"amounted\", \"anecdote\", \"anecdote\", \"anecdote\", \"anecdote\", \"anecdote\", \"answer\", \"answer\", \"answer\", \"answer\", \"answer\", \"answer\", \"answer\", \"answer\", \"answer\", \"answer\", \"answer\", \"answer\", \"answer\", \"answerable\", \"answerable\", \"answerable\", \"apologise\", \"apologise\", \"apologise\", \"appetite\", \"appetite\", \"appetite\", \"appetite\", \"appetite\", \"apples\", \"apples\", \"apples\", \"apples\", \"approving\", \"apron\", \"apron\", \"argue\", \"argue\", \"argue\", \"argue\", \"asked\", \"asked\", \"asked\", \"asked\", \"asked\", \"asked\", \"asked\", \"asked\", \"asked\", \"asked\", \"asked\", \"asked\", \"asked\", \"asked\", \"aspirations\", \"aspirations\", \"assertions\", \"assertions\", \"assez\", \"assiduous\", \"assiduous\", \"assiduous\", \"assistance\", \"assistance\", \"assistance\", \"assistance\", \"assistance\", \"assistance\", \"assistance\", \"assistance\", \"assistance\", \"assure\", \"assure\", \"assure\", \"assure\", \"assure\", \"assure\", \"assure\", \"assure\", \"assure\", \"assure\", \"athenee\", \"atonement\", \"atonement\", \"atonement\", \"atonement\", \"attachment\", \"attachment\", \"attachment\", \"attachment\", \"attachment\", \"attachment\", \"attachment\", \"attachment\", \"attachment\", \"attachment\", \"attachment\", \"aunt\", \"aunt\", \"aunt\", \"aunt\", \"aunt\", \"aunt\", \"aunt\", \"aunt\", \"aunt\", \"aunt\", \"averted\", \"averted\", \"averted\", \"averted\", \"avez\", \"away\", \"away\", \"away\", \"away\", \"away\", \"away\", \"away\", \"away\", \"away\", \"away\", \"away\", \"away\", \"away\", \"away\", \"bands\", \"bands\", \"banker\", \"banker\", \"barton\", \"barton\", \"barton\", \"barton\", \"bates\", \"bates\", \"bates\", \"bates\", \"bates\", \"bath\", \"bath\", \"bath\", \"bath\", \"bathing\", \"bathing\", \"bathing\", \"bearing\", \"bearing\", \"bearing\", \"bearing\", \"bearing\", \"bearing\", \"beaux\", \"beck\", \"beck\", \"beck\", \"beckoned\", \"beckoned\", \"beef\", \"beef\", \"beef\", \"beef\", \"beer\", \"beer\", \"behaviour\", \"behaviour\", \"behaviour\", \"behaviour\", \"behaviour\", \"behaviour\", \"behaviour\", \"behaviour\", \"behaviour\", \"behaviour\", \"behaviour\", \"belgium\", \"believe\", \"believe\", \"believe\", \"believe\", \"believe\", \"believe\", \"believe\", \"believe\", \"believe\", \"believe\", \"believe\", \"believe\", \"believe\", \"believe\", \"bell\", \"bell\", \"bell\", \"bell\", \"bell\", \"bell\", \"bell\", \"bell\", \"bell\", \"bell\", \"bell\", \"benefactress\", \"benefactress\", \"benefactress\", \"benefactress\", \"bennet\", \"bennet\", \"bennet\", \"bennet\", \"bennet\", \"bennet\", \"berkeley\", \"bessie\", \"bessie\", \"bessie\", \"bessie\", \"better\", \"better\", \"better\", \"better\", \"better\", \"better\", \"better\", \"better\", \"better\", \"better\", \"better\", \"better\", \"better\", \"better\", \"better\", \"bewitching\", \"bewitching\", \"bible\", \"bible\", \"bible\", \"bible\", \"bien\", \"bien\", \"bien\", \"bigben\", \"bigben\", \"bingley\", \"bingley\", \"bingley\", \"bingley\", \"bingley\", \"black\", \"black\", \"black\", \"black\", \"black\", \"black\", \"black\", \"blameless\", \"blameless\", \"blameless\", \"blameless\", \"blindness\", \"blindness\", \"blood\", \"blood\", \"blood\", \"blood\", \"blood\", \"blood\", \"blood\", \"blood\", \"blossoms\", \"blossoms\", \"blossoms\", \"body\", \"body\", \"body\", \"body\", \"body\", \"body\", \"body\", \"body\", \"body\", \"body\", \"body\", \"body\", \"borders\", \"borders\", \"borders\", \"bouquet\", \"bouquet\", \"bourgeois\", \"bourgeois\", \"bourgh\", \"bourgh\", \"bourgh\", \"boy\", \"boy\", \"boy\", \"boy\", \"boy\", \"boy\", \"boy\", \"boy\", \"boy\", \"boy\", \"bracelet\", \"bracelet\", \"bracelet\", \"bracelet\", \"brandon\", \"brandon\", \"brandon\", \"brandon\", \"brandon\", \"bread\", \"bread\", \"bread\", \"bread\", \"bread\", \"bread\", \"bretton\", \"bretton\", \"bretton\", \"bretton\", \"bretton\", \"briggs\", \"bright\", \"bright\", \"bright\", \"bright\", \"bright\", \"bright\", \"bright\", \"brightening\", \"brightening\", \"brightening\", \"brightening\", \"brighton\", \"brighton\", \"brighton\", \"bristol\", \"bristol\", \"bristol\", \"brother\", \"brother\", \"brother\", \"brother\", \"brother\", \"brother\", \"brother\", \"brother\", \"brother\", \"brother\", \"brother\", \"brother\", \"brother\", \"brother\", \"brush\", \"brush\", \"brussels\", \"brussels\", \"brutal\", \"brutal\", \"brutal\", \"bunch\", \"bunch\", \"bunch\", \"bundle\", \"bundle\", \"burdened\", \"burdened\", \"burning\", \"burning\", \"burning\", \"burning\", \"burns\", \"burns\", \"burns\", \"burns\", \"butcher\", \"butcher\", \"butler\", \"butler\", \"butter\", \"butter\", \"butter\", \"butter\", \"cake\", \"cake\", \"cake\", \"cake\", \"cake\", \"cake\", \"cake\", \"cake\", \"came\", \"came\", \"came\", \"came\", \"came\", \"came\", \"came\", \"came\", \"came\", \"came\", \"came\", \"came\", \"came\", \"came\", \"came\", \"campbell\", \"campbell\", \"campbells\", \"campbells\", \"campbells\", \"candle\", \"candle\", \"candle\", \"candle\", \"candle\", \"catherine\", \"catherine\", \"catherine\", \"catherine\", \"catherine\", \"causes\", \"causes\", \"causes\", \"causes\", \"causes\", \"ce\", \"ce\", \"ce\", \"ce\", \"cela\", \"cela\", \"cela\", \"certain\", \"certain\", \"certain\", \"certain\", \"certain\", \"certain\", \"certain\", \"certain\", \"certain\", \"certain\", \"certain\", \"certain\", \"certain\", \"certain\", \"certainly\", \"certainly\", \"certainly\", \"certainly\", \"certainly\", \"certainly\", \"certainly\", \"certainly\", \"certainly\", \"certainly\", \"certainly\", \"certainly\", \"character\", \"character\", \"character\", \"character\", \"character\", \"character\", \"character\", \"character\", \"character\", \"character\", \"character\", \"character\", \"character\", \"character\", \"character\", \"charade\", \"charade\", \"charade\", \"charlotte\", \"charlotte\", \"charlotte\", \"charlotte\", \"charlotte\", \"charmingly\", \"charmingly\", \"charmingly\", \"cheap\", \"cheap\", \"cheap\", \"cheap\", \"chicken\", \"chicken\", \"chicken\", \"chicken\", \"child\", \"child\", \"child\", \"child\", \"child\", \"child\", \"child\", \"child\", \"child\", \"child\", \"child\", \"child\", \"children\", \"children\", \"children\", \"children\", \"children\", \"children\", \"children\", \"children\", \"children\", \"children\", \"children\", \"children\", \"children\", \"cholmondeley\", \"cholmondeley\", \"chose\", \"chose\", \"chose\", \"chose\", \"chose\", \"chose\", \"chose\", \"chose\", \"chose\", \"chose\", \"chose\", \"churchill\", \"churchill\", \"churchill\", \"churchill\", \"churchills\", \"churchills\", \"churchills\", \"chuse\", \"chuse\", \"chuse\", \"chuse\", \"chuse\", \"clapped\", \"clapped\", \"clapped\", \"cleveland\", \"cleveland\", \"clock\", \"clock\", \"clock\", \"clock\", \"clock\", \"clock\", \"clock\", \"clock\", \"clock\", \"closed\", \"closed\", \"closed\", \"closed\", \"closed\", \"closed\", \"closed\", \"closed\", \"closed\", \"closed\", \"closed\", \"closed\", \"clouded\", \"clouded\", \"clouded\", \"clouded\", \"coach\", \"coach\", \"coach\", \"coach\", \"coach\", \"coach\", \"coach\", \"coffee\", \"coffee\", \"coffee\", \"coffee\", \"coffee\", \"cole\", \"cole\", \"cole\", \"collins\", \"collins\", \"collins\", \"collins\", \"collins\", \"colonel\", \"colonel\", \"colonel\", \"colonel\", \"colonel\", \"colonel\", \"colonel\", \"colonel\", \"colonel\", \"colonel\", \"combine\", \"combine\", \"combine\", \"come\", \"come\", \"come\", \"come\", \"come\", \"come\", \"come\", \"come\", \"come\", \"come\", \"come\", \"come\", \"come\", \"come\", \"come\", \"comme\", \"comme\", \"competent\", \"competent\", \"comprehending\", \"comprehending\", \"conduct\", \"conduct\", \"conduct\", \"conduct\", \"conduct\", \"conduct\", \"conduct\", \"conduct\", \"conduct\", \"conduct\", \"conduct\", \"conduct\", \"conduct\", \"connexion\", \"connexion\", \"connexion\", \"connexion\", \"conscientious\", \"conscientious\", \"conscientious\", \"conscientious\", \"conscientious\", \"contemplate\", \"contemplate\", \"contemplate\", \"contemplate\", \"contrasts\", \"contrasts\", \"cooled\", \"cooled\", \"cooled\", \"cooler\", \"cooler\", \"cooler\", \"corps\", \"corps\", \"corps\", \"corps\", \"cousin\", \"cousin\", \"cousin\", \"cousin\", \"cousin\", \"cousin\", \"cousin\", \"cousin\", \"cousin\", \"cousin\", \"cox\", \"crack\", \"crack\", \"craving\", \"craving\", \"create\", \"create\", \"creditable\", \"creditable\", \"creditable\", \"cried\", \"cried\", \"cried\", \"cried\", \"cried\", \"cried\", \"cried\", \"cried\", \"cried\", \"cried\", \"cried\", \"cried\", \"cried\", \"crimsworth\", \"crimsworth\", \"crimsworth\", \"crimsworth\", \"crimsworth\", \"crown\", \"crown\", \"crown\", \"crown\", \"crown\", \"crown\", \"cruelly\", \"cruelly\", \"cruelly\", \"cruelly\", \"cups\", \"cups\", \"cups\", \"dancing\", \"dancing\", \"dancing\", \"dancing\", \"dancing\", \"dans\", \"darcy\", \"darcy\", \"darcy\", \"darcy\", \"darcy\", \"darcy\", \"darcy\", \"dark\", \"dark\", \"dark\", \"dark\", \"dark\", \"dark\", \"dark\", \"dark\", \"dark\", \"dark\", \"dark\", \"dashwood\", \"dashwood\", \"dashwood\", \"dashwood\", \"dashwood\", \"dashwood\", \"dashwoods\", \"dashwoods\", \"daughter\", \"daughter\", \"daughter\", \"daughter\", \"daughter\", \"daughter\", \"daughter\", \"daughter\", \"daughter\", \"daughter\", \"daughter\", \"daughter\", \"daughters\", \"daughters\", \"daughters\", \"daughters\", \"daughters\", \"daughters\", \"daughters\", \"daughters\", \"day\", \"day\", \"day\", \"day\", \"day\", \"day\", \"day\", \"day\", \"day\", \"day\", \"day\", \"day\", \"day\", \"day\", \"day\", \"days\", \"days\", \"days\", \"days\", \"days\", \"days\", \"days\", \"days\", \"days\", \"days\", \"days\", \"days\", \"days\", \"days\", \"dear\", \"dear\", \"dear\", \"dear\", \"dear\", \"dear\", \"dear\", \"dear\", \"dear\", \"dear\", \"dear\", \"dear\", \"dear\", \"debts\", \"debts\", \"debts\", \"debts\", \"debts\", \"deceit\", \"deceit\", \"deceit\", \"deep\", \"deep\", \"deep\", \"deep\", \"deep\", \"deep\", \"deep\", \"deep\", \"deep\", \"deep\", \"deep\", \"delaford\", \"delaford\", \"delaford\", \"delaford\", \"delirious\", \"delirious\", \"denny\", \"denny\", \"denny\", \"denny\", \"deplorable\", \"deplorable\", \"deplorable\", \"depth\", \"depth\", \"depth\", \"desiree\", \"desiree\", \"despaired\", \"despaired\", \"despaired\", \"despaired\", \"detaining\", \"detaining\", \"deviation\", \"deviation\", \"deviation\", \"deviation\", \"deviation\", \"diana\", \"diana\", \"diana\", \"died\", \"died\", \"died\", \"died\", \"died\", \"died\", \"died\", \"died\", \"died\", \"died\", \"dire\", \"dirty\", \"dirty\", \"dirty\", \"dirty\", \"dirty\", \"dirty\", \"disadvantage\", \"disadvantage\", \"disadvantage\", \"discerned\", \"discerned\", \"discerned\", \"discerned\", \"discerned\", \"disgraced\", \"disgraced\", \"disgraced\", \"disown\", \"disown\", \"displeasing\", \"displeasing\", \"disposal\", \"disposal\", \"disposal\", \"disregarded\", \"disregarded\", \"disregarded\", \"disregarded\", \"distresses\", \"distresses\", \"distresses\", \"distresses\", \"dixon\", \"dixon\", \"doctor\", \"doctor\", \"doctor\", \"doctor\", \"doctor\", \"doctor\", \"doctrine\", \"doctrine\", \"door\", \"door\", \"door\", \"door\", \"door\", \"door\", \"door\", \"door\", \"door\", \"door\", \"door\", \"door\", \"door\", \"doubt\", \"doubt\", \"doubt\", \"doubt\", \"doubt\", \"doubt\", \"doubt\", \"doubt\", \"doubt\", \"doubt\", \"doubt\", \"doubt\", \"doubt\", \"dr\", \"dr\", \"dr\", \"dr\", \"dr\", \"dr\", \"dr\", \"dulness\", \"dulness\", \"dumb\", \"dumb\", \"dumb\", \"dumb\", \"earthquake\", \"earthquake\", \"edward\", \"edward\", \"edward\", \"edward\", \"edward\", \"edward\", \"edward\", \"edward\", \"edward\", \"elegantly\", \"elegantly\", \"elements\", \"elements\", \"elements\", \"elinor\", \"elinor\", \"elinor\", \"elinor\", \"elinor\", \"elinor\", \"elinor\", \"elinor\", \"elinor\", \"elizabeth\", \"elizabeth\", \"elizabeth\", \"elizabeth\", \"elizabeth\", \"elizabeth\", \"elizabeth\", \"elizabeth\", \"elizabeth\", \"elizabeth\", \"elle\", \"elle\", \"elle\", \"elle\", \"elopement\", \"elopement\", \"elopement\", \"elton\", \"elton\", \"elton\", \"elton\", \"eltons\", \"eltons\", \"eltons\", \"eltons\", \"emanuel\", \"emanuel\", \"emanuel\", \"emanuel\", \"emma\", \"emma\", \"emma\", \"emma\", \"emma\", \"emma\", \"emma\", \"encumbrance\", \"encumbrance\", \"encumbrance\", \"engagement\", \"engagement\", \"engagement\", \"engagement\", \"engagement\", \"engagement\", \"engagement\", \"engagement\", \"english\", \"english\", \"english\", \"english\", \"english\", \"english\", \"english\", \"english\", \"enounced\", \"enounced\", \"enounced\", \"enscombe\", \"enscombe\", \"enscombe\", \"enscombe\", \"ere\", \"ere\", \"ere\", \"ere\", \"ere\", \"ere\", \"ere\", \"ere\", \"est\", \"est\", \"est\", \"establish\", \"establish\", \"establish\", \"establish\", \"establish\", \"estate\", \"estate\", \"estate\", \"estate\", \"estate\", \"estate\", \"estate\", \"estate\", \"estate\", \"estates\", \"estates\", \"estates\", \"estrade\", \"estrade\", \"estrade\", \"et\", \"et\", \"et\", \"et\", \"et\", \"etre\", \"europe\", \"evening\", \"evening\", \"evening\", \"evening\", \"evening\", \"evening\", \"evening\", \"evening\", \"evening\", \"evening\", \"evening\", \"evening\", \"evening\", \"evening\", \"exercising\", \"exercising\", \"exercising\", \"expanse\", \"expanse\", \"expanse\", \"expanse\", \"expenses\", \"expenses\", \"expenses\", \"expenses\", \"expenses\", \"explained\", \"explained\", \"explained\", \"explained\", \"explained\", \"explained\", \"explained\", \"explained\", \"explained\", \"expressively\", \"expressively\", \"expressively\", \"expressively\", \"expressively\", \"external\", \"external\", \"external\", \"extravagance\", \"extravagance\", \"extravagance\", \"extravagance\", \"extravagance\", \"extravagance\", \"extravagant\", \"extravagant\", \"extravagant\", \"extravagant\", \"eye\", \"eye\", \"eye\", \"eye\", \"eye\", \"eye\", \"eye\", \"eye\", \"eye\", \"eye\", \"eye\", \"eye\", \"eyelid\", \"eyelid\", \"eyes\", \"eyes\", \"eyes\", \"eyes\", \"eyes\", \"eyes\", \"eyes\", \"eyes\", \"eyes\", \"eyes\", \"eyes\", \"eyes\", \"eyes\", \"face\", \"face\", \"face\", \"face\", \"face\", \"face\", \"face\", \"face\", \"face\", \"face\", \"face\", \"face\", \"face\", \"fairfax\", \"fairfax\", \"fairfax\", \"fairfax\", \"fairfax\", \"fairfax\", \"fairfax\", \"fairfax\", \"falls\", \"falls\", \"falls\", \"falls\", \"false\", \"false\", \"false\", \"false\", \"false\", \"false\", \"false\", \"false\", \"false\", \"false\", \"family\", \"family\", \"family\", \"family\", \"family\", \"family\", \"family\", \"family\", \"family\", \"family\", \"family\", \"family\", \"family\", \"family\", \"famished\", \"famished\", \"fanshawe\", \"fanshawe\", \"fanshawe\", \"fare\", \"fare\", \"fare\", \"fare\", \"fare\", \"fare\", \"fare\", \"farmer\", \"farmer\", \"father\", \"father\", \"father\", \"father\", \"father\", \"father\", \"father\", \"father\", \"father\", \"father\", \"father\", \"father\", \"father\", \"favourites\", \"favourites\", \"favourites\", \"favourites\", \"feasted\", \"feasted\", \"feelingly\", \"feelingly\", \"feelings\", \"feelings\", \"feelings\", \"feelings\", \"feelings\", \"feelings\", \"feelings\", \"feelings\", \"feelings\", \"feelings\", \"feelings\", \"feelings\", \"feelings\", \"feelings\", \"felt\", \"felt\", \"felt\", \"felt\", \"felt\", \"felt\", \"felt\", \"felt\", \"felt\", \"felt\", \"felt\", \"felt\", \"felt\", \"felt\", \"felt\", \"ferrars\", \"ferrars\", \"ferrars\", \"ferrars\", \"ferrars\", \"fervid\", \"fervid\", \"fidelity\", \"fidelity\", \"fidelity\", \"fight\", \"fight\", \"fight\", \"fight\", \"firmness\", \"firmness\", \"firmness\", \"firmness\", \"fitzwilliam\", \"fitzwilliam\", \"flakes\", \"flakes\", \"flakes\", \"flakes\", \"flatter\", \"flatter\", \"flatter\", \"flatter\", \"flatter\", \"flatter\", \"flatter\", \"flatter\", \"flatter\", \"flesh\", \"flesh\", \"flesh\", \"flesh\", \"ford\", \"forehead\", \"forehead\", \"forehead\", \"forehead\", \"forehead\", \"foresaw\", \"foresaw\", \"forgiveness\", \"forgiveness\", \"forgiveness\", \"forster\", \"forster\", \"forster\", \"forster\", \"forster\", \"fortune\", \"fortune\", \"fortune\", \"fortune\", \"fortune\", \"fortune\", \"fortune\", \"fortune\", \"fortune\", \"fortune\", \"fortune\", \"fortune\", \"forwarded\", \"forwarded\", \"forwarded\", \"fragrant\", \"fragrant\", \"fragrant\", \"fragrant\", \"frances\", \"frances\", \"frances\", \"francs\", \"frank\", \"frank\", \"frank\", \"frank\", \"frank\", \"frank\", \"frank\", \"frank\", \"free\", \"free\", \"free\", \"free\", \"free\", \"free\", \"free\", \"free\", \"free\", \"free\", \"free\", \"french\", \"french\", \"french\", \"french\", \"french\", \"french\", \"friday\", \"friend\", \"friend\", \"friend\", \"friend\", \"friend\", \"friend\", \"friend\", \"friend\", \"friend\", \"friend\", \"friend\", \"friend\", \"friend\", \"friend\", \"friends\", \"friends\", \"friends\", \"friends\", \"friends\", \"friends\", \"friends\", \"friends\", \"friends\", \"friends\", \"friends\", \"friends\", \"friends\", \"frigid\", \"frigid\", \"frigid\", \"fully\", \"fully\", \"fully\", \"fully\", \"fully\", \"fully\", \"fully\", \"fully\", \"fully\", \"fully\", \"fully\", \"fully\", \"fully\", \"fully\", \"garcon\", \"gardiner\", \"gardiner\", \"gardiner\", \"gardiner\", \"generation\", \"generation\", \"generation\", \"generation\", \"gentility\", \"gentility\", \"georgette\", \"georgette\", \"georgette\", \"gifted\", \"gifted\", \"gifted\", \"ginevra\", \"ginevra\", \"ginevra\", \"girl\", \"girl\", \"girl\", \"girl\", \"girl\", \"girl\", \"girl\", \"girl\", \"girl\", \"girl\", \"girl\", \"girl\", \"girl\", \"girl\", \"given\", \"given\", \"given\", \"given\", \"given\", \"given\", \"given\", \"given\", \"given\", \"given\", \"given\", \"given\", \"given\", \"given\", \"glorious\", \"glove\", \"glove\", \"glove\", \"glove\", \"god\", \"god\", \"god\", \"god\", \"god\", \"god\", \"god\", \"god\", \"god\", \"god\", \"god\", \"goddard\", \"goddard\", \"goddard\", \"goddard\", \"godmother\", \"godmother\", \"going\", \"going\", \"going\", \"going\", \"going\", \"going\", \"going\", \"going\", \"going\", \"going\", \"going\", \"going\", \"good\", \"good\", \"good\", \"good\", \"good\", \"good\", \"good\", \"good\", \"good\", \"good\", \"good\", \"good\", \"good\", \"good\", \"gracechurch\", \"gracechurch\", \"gracechurch\", \"graces\", \"graces\", \"graces\", \"graces\", \"graces\", \"graces\", \"graces\", \"graham\", \"graham\", \"graham\", \"graham\", \"graham\", \"graham\", \"graham\", \"grandmama\", \"grandmother\", \"grandmother\", \"grandmother\", \"grandmother\", \"grandmother\", \"great\", \"great\", \"great\", \"great\", \"great\", \"great\", \"great\", \"great\", \"great\", \"great\", \"great\", \"great\", \"great\", \"grec\", \"grief\", \"grief\", \"grief\", \"grief\", \"grief\", \"grief\", \"grief\", \"grief\", \"grieving\", \"grieving\", \"grisette\", \"grisette\", \"grisette\", \"grisette\", \"gross\", \"gross\", \"grove\", \"grove\", \"grove\", \"grove\", \"grove\", \"grove\", \"half\", \"half\", \"half\", \"half\", \"half\", \"half\", \"half\", \"half\", \"half\", \"half\", \"half\", \"half\", \"half\", \"hall\", \"hall\", \"hall\", \"hall\", \"hall\", \"hall\", \"hall\", \"hall\", \"hall\", \"hall\", \"hand\", \"hand\", \"hand\", \"hand\", \"hand\", \"hand\", \"hand\", \"hand\", \"hand\", \"hand\", \"hand\", \"hand\", \"hand\", \"hand\", \"hannah\", \"hannah\", \"hannah\", \"happiness\", \"happiness\", \"happiness\", \"happiness\", \"happiness\", \"happiness\", \"happiness\", \"happiness\", \"happiness\", \"happiness\", \"happiness\", \"happiness\", \"happiness\", \"happiness\", \"harass\", \"harass\", \"harass\", \"harley\", \"harmless\", \"harmless\", \"harmless\", \"harmless\", \"harmless\", \"harp\", \"harriet\", \"harriet\", \"harriet\", \"harriet\", \"harriet\", \"harriet\", \"hartfield\", \"hartfield\", \"hartfield\", \"hartfield\", \"hartfield\", \"having\", \"having\", \"having\", \"having\", \"having\", \"having\", \"having\", \"having\", \"having\", \"having\", \"having\", \"having\", \"having\", \"having\", \"having\", \"hawkins\", \"hawkins\", \"hawkins\", \"hazardous\", \"hazardous\", \"hazardous\", \"hazardous\", \"head\", \"head\", \"head\", \"head\", \"head\", \"head\", \"head\", \"head\", \"head\", \"head\", \"head\", \"head\", \"head\", \"hear\", \"hear\", \"hear\", \"hear\", \"hear\", \"hear\", \"hear\", \"hear\", \"hear\", \"hear\", \"hear\", \"hear\", \"hear\", \"hear\", \"heard\", \"heard\", \"heard\", \"heard\", \"heard\", \"heard\", \"heard\", \"heard\", \"heard\", \"heard\", \"heard\", \"heard\", \"heard\", \"heard\", \"heard\", \"heart\", \"heart\", \"heart\", \"heart\", \"heart\", \"heart\", \"heart\", \"heart\", \"heart\", \"heart\", \"heart\", \"heart\", \"heart\", \"heart\", \"heart\", \"helen\", \"helen\", \"helen\", \"helen\", \"helen\", \"hell\", \"henceforth\", \"henceforth\", \"henceforth\", \"henri\", \"henry\", \"henry\", \"henry\", \"henry\", \"henry\", \"henry\", \"highbury\", \"highbury\", \"highbury\", \"highbury\", \"highbury\", \"home\", \"home\", \"home\", \"home\", \"home\", \"home\", \"home\", \"home\", \"home\", \"home\", \"home\", \"home\", \"home\", \"home\", \"hope\", \"hope\", \"hope\", \"hope\", \"hope\", \"hope\", \"hope\", \"hope\", \"hope\", \"hope\", \"hope\", \"hope\", \"hope\", \"hope\", \"hope\", \"hostess\", \"hostess\", \"hostess\", \"house\", \"house\", \"house\", \"house\", \"house\", \"house\", \"house\", \"house\", \"house\", \"house\", \"house\", \"house\", \"house\", \"house\", \"housekeeping\", \"housekeeping\", \"housekeeping\", \"humility\", \"humility\", \"humility\", \"humility\", \"humility\", \"humility\", \"hunsden\", \"hunsden\", \"hunsden\", \"hunsden\", \"hunsford\", \"hunsford\", \"hurst\", \"hurst\", \"ignorant\", \"ignorant\", \"ignorant\", \"ignorant\", \"ignorant\", \"ignorant\", \"ignorant\", \"ignorant\", \"iii\", \"iii\", \"iii\", \"iii\", \"impediment\", \"impediment\", \"impediment\", \"impromptu\", \"imprudent\", \"imprudent\", \"imprudent\", \"imprudent\", \"imprudent\", \"imprudent\", \"impunity\", \"impunity\", \"impunity\", \"inattentive\", \"inattentive\", \"inattentive\", \"inattentive\", \"incapacity\", \"incapacity\", \"incapacity\", \"income\", \"income\", \"income\", \"income\", \"income\", \"income\", \"income\", \"income\", \"income\", \"inconveniences\", \"inconveniences\", \"india\", \"indicated\", \"indicated\", \"indicated\", \"indicated\", \"indolence\", \"indolence\", \"inequality\", \"inequality\", \"inexpressibly\", \"inexpressibly\", \"infallibly\", \"infallibly\", \"infamous\", \"infamous\", \"infection\", \"infection\", \"infection\", \"infection\", \"infection\", \"inferred\", \"inferred\", \"inferred\", \"infirm\", \"infirm\", \"infirm\", \"injured\", \"injured\", \"injured\", \"injured\", \"injurious\", \"injurious\", \"injurious\", \"injurious\", \"inn\", \"inn\", \"inn\", \"inn\", \"inn\", \"inquisitive\", \"inquisitive\", \"inquisitive\", \"insuperable\", \"insuperable\", \"insuperable\", \"insuperable\", \"intimately\", \"intimately\", \"intimately\", \"invariable\", \"involved\", \"involved\", \"involved\", \"involved\", \"involved\", \"involved\", \"involved\", \"irritated\", \"irritated\", \"irritated\", \"irritated\", \"irritated\", \"irritated\", \"irritated\", \"irritating\", \"irritating\", \"isabella\", \"isabella\", \"isabella\", \"isabella\", \"isidore\", \"isidore\", \"isidore\", \"jane\", \"jane\", \"jane\", \"jane\", \"jane\", \"jane\", \"jane\", \"jane\", \"jane\", \"jane\", \"jane\", \"jane\", \"jane\", \"je\", \"je\", \"jenkinson\", \"jenkinson\", \"jennings\", \"jennings\", \"jennings\", \"jennings\", \"john\", \"john\", \"john\", \"john\", \"john\", \"john\", \"john\", \"john\", \"john\", \"john\", \"john\", \"john\", \"john\", \"jokes\", \"jokes\", \"jokes\", \"journey\", \"journey\", \"journey\", \"journey\", \"journey\", \"journey\", \"journey\", \"journey\", \"justice\", \"justice\", \"justice\", \"justice\", \"justice\", \"justice\", \"justice\", \"justice\", \"justice\", \"justice\", \"justice\", \"justice\", \"justice\", \"kept\", \"kept\", \"kept\", \"kept\", \"kept\", \"kept\", \"kept\", \"kept\", \"kept\", \"kept\", \"kept\", \"kept\", \"kept\", \"kind\", \"kind\", \"kind\", \"kind\", \"kind\", \"kind\", \"kind\", \"kind\", \"kind\", \"kind\", \"kind\", \"kind\", \"kind\", \"kind\", \"kitty\", \"kitty\", \"kitty\", \"kitty\", \"kitty\", \"kitty\", \"kneeling\", \"knew\", \"knew\", \"knew\", \"knew\", \"knew\", \"knew\", \"knew\", \"knew\", \"knew\", \"knew\", \"knew\", \"knew\", \"knew\", \"knew\", \"knightley\", \"knightley\", \"knightley\", \"knightley\", \"knightley\", \"knightleys\", \"knoll\", \"knoll\", \"knoll\", \"know\", \"know\", \"know\", \"know\", \"know\", \"know\", \"know\", \"know\", \"know\", \"know\", \"know\", \"know\", \"know\", \"know\", \"know\", \"known\", \"known\", \"known\", \"known\", \"known\", \"known\", \"known\", \"known\", \"known\", \"known\", \"known\", \"known\", \"known\", \"known\", \"la\", \"la\", \"la\", \"la\", \"la\", \"la\", \"labour\", \"labour\", \"labour\", \"labour\", \"labour\", \"labour\", \"ladies\", \"ladies\", \"ladies\", \"ladies\", \"ladies\", \"ladies\", \"ladies\", \"ladies\", \"ladies\", \"ladies\", \"ladies\", \"lady\", \"lady\", \"lady\", \"lady\", \"lady\", \"lady\", \"lady\", \"lady\", \"lady\", \"lady\", \"lady\", \"lady\", \"lady\", \"ladyship\", \"ladyship\", \"ladyship\", \"ladyship\", \"ladyship\", \"lambton\", \"lambton\", \"lamentations\", \"lamentations\", \"lamentations\", \"larkins\", \"larkins\", \"law\", \"law\", \"law\", \"law\", \"law\", \"law\", \"law\", \"law\", \"law\", \"law\", \"law\", \"law\", \"law\", \"lawyer\", \"lawyer\", \"lawyer\", \"lawyer\", \"lawyer\", \"leave\", \"leave\", \"leave\", \"leave\", \"leave\", \"leave\", \"leave\", \"leave\", \"leave\", \"leave\", \"leave\", \"leave\", \"leave\", \"left\", \"left\", \"left\", \"left\", \"left\", \"left\", \"left\", \"left\", \"left\", \"left\", \"left\", \"left\", \"left\", \"left\", \"legal\", \"legal\", \"legal\", \"legal\", \"les\", \"les\", \"letter\", \"letter\", \"letter\", \"letter\", \"letter\", \"letter\", \"letter\", \"letter\", \"letter\", \"letter\", \"letter\", \"liberally\", \"liberally\", \"liberally\", \"liberally\", \"life\", \"life\", \"life\", \"life\", \"life\", \"life\", \"life\", \"life\", \"life\", \"life\", \"life\", \"life\", \"life\", \"life\", \"light\", \"light\", \"light\", \"light\", \"light\", \"light\", \"light\", \"light\", \"light\", \"light\", \"light\", \"light\", \"like\", \"like\", \"like\", \"like\", \"like\", \"like\", \"like\", \"like\", \"like\", \"like\", \"like\", \"like\", \"like\", \"like\", \"like\", \"liked\", \"liked\", \"liked\", \"liked\", \"liked\", \"liked\", \"liked\", \"liked\", \"liked\", \"liked\", \"liked\", \"liked\", \"liked\", \"likelihood\", \"likelihood\", \"likelihood\", \"likelihood\", \"likelihood\", \"likelihood\", \"liking\", \"liking\", \"liking\", \"liking\", \"liking\", \"little\", \"little\", \"little\", \"little\", \"little\", \"little\", \"little\", \"little\", \"little\", \"little\", \"little\", \"little\", \"little\", \"little\", \"little\", \"live\", \"live\", \"live\", \"live\", \"live\", \"live\", \"live\", \"live\", \"live\", \"live\", \"live\", \"live\", \"live\", \"live\", \"live\", \"living\", \"living\", \"living\", \"living\", \"living\", \"living\", \"living\", \"living\", \"living\", \"living\", \"lizzy\", \"lizzy\", \"lizzy\", \"lizzy\", \"lizzy\", \"lizzy\", \"lizzy\", \"ll\", \"ll\", \"ll\", \"ll\", \"ll\", \"ll\", \"ll\", \"lloyd\", \"lloyd\", \"lloyd\", \"lonely\", \"lonely\", \"lonely\", \"long\", \"long\", \"long\", \"long\", \"long\", \"long\", \"long\", \"long\", \"long\", \"long\", \"long\", \"long\", \"long\", \"long\", \"longbourn\", \"longbourn\", \"longbourn\", \"longbourn\", \"longbourn\", \"longstaple\", \"longstaple\", \"look\", \"look\", \"look\", \"look\", \"look\", \"look\", \"look\", \"look\", \"look\", \"look\", \"look\", \"look\", \"look\", \"look\", \"looked\", \"looked\", \"looked\", \"looked\", \"looked\", \"looked\", \"looked\", \"looked\", \"looked\", \"looked\", \"looked\", \"looked\", \"looked\", \"looked\", \"looked\", \"looking\", \"looking\", \"looking\", \"looking\", \"looking\", \"looking\", \"looking\", \"looking\", \"looking\", \"looking\", \"looking\", \"looking\", \"looking\", \"looking\", \"love\", \"love\", \"love\", \"love\", \"love\", \"love\", \"love\", \"love\", \"love\", \"love\", \"love\", \"love\", \"love\", \"love\", \"lowered\", \"lowered\", \"lowood\", \"lowood\", \"lowood\", \"lowood\", \"lucas\", \"lucas\", \"lucas\", \"lucases\", \"lucases\", \"lucy\", \"lucy\", \"lucy\", \"lucy\", \"lucy\", \"lucy\", \"lucy\", \"lucy\", \"lucy\", \"lucy\", \"lydia\", \"lydia\", \"lydia\", \"lydia\", \"lydia\", \"lydia\", \"madame\", \"madame\", \"madame\", \"madame\", \"madame\", \"madame\", \"madame\", \"madame\", \"mademoiselle\", \"mademoiselle\", \"mademoiselle\", \"mademoiselle\", \"magna\", \"magna\", \"mal\", \"mamma\", \"mamma\", \"mamma\", \"mamma\", \"mamma\", \"mamma\", \"mamma\", \"man\", \"man\", \"man\", \"man\", \"man\", \"man\", \"man\", \"man\", \"man\", \"man\", \"man\", \"man\", \"man\", \"man\", \"man\", \"maple\", \"maple\", \"maple\", \"marchmont\", \"margaret\", \"marianne\", \"marianne\", \"marianne\", \"marianne\", \"marianne\", \"marianne\", \"marianne\", \"marianne\", \"marie\", \"marie\", \"marie\", \"marriage\", \"marriage\", \"marriage\", \"marriage\", \"marriage\", \"marriage\", \"marriage\", \"marriage\", \"marriage\", \"marriage\", \"marriage\", \"marriage\", \"married\", \"married\", \"married\", \"married\", \"married\", \"married\", \"married\", \"married\", \"married\", \"married\", \"married\", \"married\", \"marry\", \"marry\", \"marry\", \"marry\", \"marry\", \"marry\", \"marry\", \"marry\", \"marry\", \"marry\", \"marry\", \"marry\", \"martin\", \"martin\", \"martin\", \"martins\", \"martins\", \"martins\", \"mary\", \"mary\", \"mary\", \"mary\", \"mary\", \"mary\", \"mary\", \"mary\", \"mary\", \"mary\", \"mason\", \"mason\", \"mason\", \"mason\", \"mason\", \"matched\", \"matched\", \"matched\", \"matches\", \"matches\", \"matches\", \"matches\", \"mdlle\", \"mdlle\", \"meat\", \"meat\", \"meat\", \"meat\", \"meat\", \"memories\", \"memories\", \"mere\", \"mere\", \"mere\", \"mere\", \"mere\", \"mere\", \"mere\", \"mere\", \"mere\", \"mere\", \"merits\", \"merits\", \"merits\", \"merits\", \"merits\", \"merits\", \"merits\", \"merits\", \"merits\", \"middleton\", \"middleton\", \"middleton\", \"middleton\", \"middletons\", \"midsummer\", \"midsummer\", \"midsummer\", \"midsummer\", \"militia\", \"militia\", \"militia\", \"mind\", \"mind\", \"mind\", \"mind\", \"mind\", \"mind\", \"mind\", \"mind\", \"mind\", \"mind\", \"mind\", \"mind\", \"mind\", \"mind\", \"mind\", \"mischievous\", \"mischievous\", \"mischievous\", \"mischievous\", \"misconduct\", \"misconduct\", \"misconduct\", \"miss\", \"miss\", \"miss\", \"miss\", \"miss\", \"miss\", \"miss\", \"miss\", \"miss\", \"miss\", \"miss\", \"miss\", \"miss\", \"misty\", \"misty\", \"misunderstand\", \"misunderstand\", \"misunderstand\", \"misunderstood\", \"misunderstood\", \"money\", \"money\", \"money\", \"money\", \"money\", \"money\", \"money\", \"money\", \"money\", \"money\", \"money\", \"money\", \"money\", \"monitor\", \"monitor\", \"monsieur\", \"monsieur\", \"monsieur\", \"monsieur\", \"monsieur\", \"moon\", \"moon\", \"moon\", \"moon\", \"moor\", \"moor\", \"moor\", \"moors\", \"moors\", \"morning\", \"morning\", \"morning\", \"morning\", \"morning\", \"morning\", \"morning\", \"morning\", \"morning\", \"morning\", \"morning\", \"morning\", \"morning\", \"morning\", \"mother\", \"mother\", \"mother\", \"mother\", \"mother\", \"mother\", \"mother\", \"mother\", \"mother\", \"mother\", \"mother\", \"mother\", \"mother\", \"motive\", \"motive\", \"motive\", \"motive\", \"motive\", \"motive\", \"motive\", \"motive\", \"motive\", \"mud\", \"mud\", \"mud\", \"mud\", \"musings\", \"musings\", \"musings\", \"mystic\", \"mystic\", \"naivete\", \"nash\", \"nash\", \"nature\", \"nature\", \"nature\", \"nature\", \"nature\", \"nature\", \"nature\", \"nature\", \"nature\", \"nature\", \"nature\", \"nature\", \"nature\", \"nature\", \"natures\", \"ne\", \"ne\", \"ne\", \"near\", \"near\", \"near\", \"near\", \"near\", \"near\", \"near\", \"near\", \"near\", \"near\", \"near\", \"near\", \"near\", \"near\", \"needful\", \"needful\", \"needful\", \"negligent\", \"negligent\", \"negligent\", \"negligent\", \"nest\", \"nest\", \"nest\", \"netherfield\", \"netherfield\", \"netherfield\", \"netherfield\", \"netherfield\", \"news\", \"news\", \"news\", \"news\", \"news\", \"news\", \"news\", \"news\", \"news\", \"news\", \"niece\", \"niece\", \"niece\", \"niece\", \"niece\", \"niece\", \"nieces\", \"nieces\", \"nieces\", \"nieces\", \"nieces\", \"night\", \"night\", \"night\", \"night\", \"night\", \"night\", \"night\", \"night\", \"night\", \"night\", \"night\", \"night\", \"night\", \"night\", \"night\", \"norland\", \"norland\", \"norland\", \"obviously\", \"obviously\", \"obviously\", \"obviously\", \"occurrences\", \"occurrences\", \"occurrences\", \"oh\", \"oh\", \"oh\", \"oh\", \"oh\", \"oh\", \"oh\", \"oh\", \"oh\", \"oh\", \"oh\", \"oh\", \"oh\", \"oh\", \"oh\", \"old\", \"old\", \"old\", \"old\", \"old\", \"old\", \"old\", \"old\", \"old\", \"old\", \"old\", \"old\", \"old\", \"old\", \"olive\", \"olive\", \"olive\", \"olive\", \"oliver\", \"oliver\", \"opaque\", \"ornamented\", \"ornamented\", \"orphan\", \"orphan\", \"orphan\", \"orphan\", \"orphan\", \"ostensible\", \"ostensible\", \"ought\", \"ought\", \"ought\", \"ought\", \"ought\", \"ought\", \"ought\", \"ought\", \"ought\", \"ought\", \"ought\", \"ought\", \"ought\", \"overtaken\", \"overtaken\", \"owing\", \"owing\", \"owing\", \"owing\", \"owing\", \"owing\", \"owing\", \"owing\", \"packing\", \"packing\", \"packing\", \"packing\", \"paletot\", \"paletot\", \"paletot\", \"palmer\", \"palmer\", \"palmer\", \"palmers\", \"parents\", \"parents\", \"parents\", \"parents\", \"parents\", \"parents\", \"parents\", \"parents\", \"particulars\", \"particulars\", \"particulars\", \"particulars\", \"particulars\", \"partners\", \"partners\", \"partners\", \"pas\", \"pas\", \"pas\", \"pas\", \"patient\", \"patient\", \"patient\", \"patient\", \"patient\", \"patient\", \"patient\", \"patty\", \"paul\", \"paul\", \"paul\", \"paul\", \"paul\", \"pelet\", \"pelet\", \"pelet\", \"pelet\", \"pemberley\", \"pemberley\", \"pemberley\", \"pemberley\", \"pencilled\", \"pencilled\", \"pencilled\", \"pens\", \"people\", \"people\", \"people\", \"people\", \"people\", \"people\", \"people\", \"people\", \"people\", \"people\", \"people\", \"people\", \"people\", \"people\", \"people\", \"perry\", \"perry\", \"perry\", \"perry\", \"petit\", \"petit\", \"peu\", \"philanthropist\", \"philanthropist\", \"philanthropist\", \"philanthropist\", \"philosophic\", \"philosophic\", \"philosophic\", \"pianoforte\", \"pianoforte\", \"pianoforte\", \"pianoforte\", \"pictures\", \"pictures\", \"pictures\", \"pictures\", \"pictures\", \"pictures\", \"pierre\", \"pierre\", \"pious\", \"pious\", \"pitcher\", \"place\", \"place\", \"place\", \"place\", \"place\", \"place\", \"place\", \"place\", \"place\", \"place\", \"place\", \"place\", \"place\", \"place\", \"place\", \"pleasanter\", \"pleasanter\", \"pleasanter\", \"pledged\", \"pledged\", \"pledged\", \"polly\", \"polly\", \"polly\", \"pompous\", \"pompous\", \"pompous\", \"poor\", \"poor\", \"poor\", \"poor\", \"poor\", \"poor\", \"poor\", \"poor\", \"poor\", \"poor\", \"poor\", \"poor\", \"poor\", \"portfolio\", \"portfolio\", \"portfolio\", \"portfolio\", \"pounds\", \"pounds\", \"pounds\", \"pounds\", \"pounds\", \"pounds\", \"pounds\", \"pounds\", \"pounds\", \"pounds\", \"practical\", \"practical\", \"practising\", \"practising\", \"practising\", \"practising\", \"pratt\", \"pratt\", \"pratt\", \"pratt\", \"precise\", \"precise\", \"preferred\", \"preferred\", \"preferred\", \"preferred\", \"preferred\", \"preferred\", \"preferred\", \"preferred\", \"prejudices\", \"prejudices\", \"prejudices\", \"prepossession\", \"prepossession\", \"prepossession\", \"present\", \"present\", \"present\", \"present\", \"present\", \"present\", \"present\", \"present\", \"present\", \"present\", \"present\", \"present\", \"present\", \"pretending\", \"pretending\", \"prevailing\", \"prevailing\", \"prevailing\", \"pride\", \"pride\", \"pride\", \"pride\", \"pride\", \"pride\", \"pride\", \"pride\", \"pride\", \"pride\", \"pride\", \"print\", \"print\", \"print\", \"privately\", \"privately\", \"privately\", \"privately\", \"procured\", \"procured\", \"procured\", \"procured\", \"procured\", \"procured\", \"procured\", \"profession\", \"profession\", \"profession\", \"profession\", \"profession\", \"profession\", \"profession\", \"profession\", \"professors\", \"prohibited\", \"prohibited\", \"prohibited\", \"prohibited\", \"projected\", \"projected\", \"projected\", \"promoted\", \"promoted\", \"promoted\", \"promoted\", \"property\", \"property\", \"property\", \"property\", \"property\", \"property\", \"property\", \"property\", \"property\", \"property\", \"property\", \"proposals\", \"proposals\", \"proposals\", \"proposals\", \"proposals\", \"proposals\", \"proposals\", \"proposals\", \"protest\", \"protest\", \"protest\", \"protest\", \"puts\", \"puts\", \"puts\", \"puts\", \"qu\", \"qu\", \"qu\", \"quadrille\", \"quadrille\", \"quadrille\", \"que\", \"que\", \"que\", \"que\", \"quel\", \"quel\", \"quel\", \"quickening\", \"quickening\", \"randalls\", \"randalls\", \"randalls\", \"randalls\", \"randalls\", \"rang\", \"rang\", \"rang\", \"rang\", \"rang\", \"rang\", \"rapturous\", \"rascal\", \"rascal\", \"rascal\", \"rascal\", \"raving\", \"raving\", \"raving\", \"raving\", \"recalled\", \"recalled\", \"recalled\", \"recalled\", \"recalled\", \"recalled\", \"reconciliation\", \"reconciliation\", \"reconciliation\", \"recur\", \"recur\", \"recur\", \"recur\", \"reed\", \"reed\", \"reed\", \"reed\", \"reed\", \"reflex\", \"refusal\", \"refusal\", \"refusal\", \"refusal\", \"refusal\", \"regards\", \"regards\", \"regards\", \"regiment\", \"regiment\", \"regiment\", \"regiment\", \"regiment\", \"regiment\", \"regiment\", \"regiment\", \"reject\", \"reject\", \"reject\", \"relations\", \"relations\", \"relations\", \"relations\", \"relations\", \"relations\", \"relations\", \"relations\", \"relations\", \"relations\", \"relations\", \"relations\", \"repeat\", \"repeat\", \"repeat\", \"repeat\", \"repeat\", \"repeat\", \"replied\", \"replied\", \"replied\", \"replied\", \"replied\", \"replied\", \"replied\", \"replied\", \"replied\", \"replied\", \"replied\", \"replied\", \"replied\", \"replied\", \"reproaching\", \"reproaching\", \"reproaching\", \"resources\", \"resources\", \"resources\", \"resources\", \"respectability\", \"respectability\", \"respectability\", \"restlessly\", \"restlessly\", \"restoration\", \"restoration\", \"restoration\", \"rests\", \"rests\", \"richard\", \"richard\", \"richard\", \"richmond\", \"richmond\", \"richmond\", \"rien\", \"rien\", \"rivers\", \"rivers\", \"rivers\", \"rivers\", \"rivers\", \"rivet\", \"rivet\", \"rob\", \"rob\", \"rob\", \"robert\", \"robert\", \"robert\", \"robert\", \"robert\", \"robert\", \"robert\", \"robert\", \"rochester\", \"rochester\", \"rochester\", \"rochester\", \"rochester\", \"rochester\", \"rochester\", \"room\", \"room\", \"room\", \"room\", \"room\", \"room\", \"room\", \"room\", \"room\", \"room\", \"room\", \"room\", \"room\", \"room\", \"room\", \"rose\", \"rose\", \"rose\", \"rose\", \"rose\", \"rose\", \"rose\", \"rose\", \"rose\", \"rosine\", \"rosine\", \"rosine\", \"rosings\", \"rosings\", \"roved\", \"roved\", \"roved\", \"rue\", \"rue\", \"rue\", \"rue\", \"ruin\", \"ruin\", \"ruin\", \"ruin\", \"ruin\", \"ruin\", \"ruin\", \"sacrificing\", \"sacrificing\", \"sacrificing\", \"sacrificing\", \"salary\", \"salary\", \"salary\", \"salary\", \"salary\", \"salutation\", \"sanctioned\", \"sanctioned\", \"sans\", \"sans\", \"sans\", \"sans\", \"saucy\", \"saucy\", \"saucy\", \"saw\", \"saw\", \"saw\", \"saw\", \"saw\", \"saw\", \"saw\", \"saw\", \"saw\", \"saw\", \"saw\", \"saw\", \"saw\", \"saw\", \"scatcherd\", \"scatcherd\", \"scenery\", \"scenery\", \"scenery\", \"scenery\", \"scent\", \"scent\", \"scent\", \"scent\", \"scholars\", \"school\", \"school\", \"school\", \"school\", \"school\", \"school\", \"school\", \"school\", \"school\", \"scotland\", \"scotland\", \"scotland\", \"scotland\", \"scotland\", \"scotland\", \"scrupled\", \"scrupled\", \"scrupled\", \"scrupled\", \"scrupled\", \"scrutinised\", \"scrutinised\", \"scrutinised\", \"seacombe\", \"seal\", \"seal\", \"secrecy\", \"secrecy\", \"secrecy\", \"secrecy\", \"secresy\", \"secresy\", \"seen\", \"seen\", \"seen\", \"seen\", \"seen\", \"seen\", \"seen\", \"seen\", \"seen\", \"seen\", \"seen\", \"seen\", \"seen\", \"seen\", \"selina\", \"sense\", \"sense\", \"sense\", \"sense\", \"sense\", \"sense\", \"sense\", \"sense\", \"sense\", \"sense\", \"sense\", \"sense\", \"serene\", \"servant\", \"servant\", \"servant\", \"servant\", \"servant\", \"servant\", \"servant\", \"servant\", \"servant\", \"settlement\", \"settlement\", \"severely\", \"severely\", \"severely\", \"severely\", \"severely\", \"shall\", \"shall\", \"shall\", \"shall\", \"shall\", \"shall\", \"shall\", \"shall\", \"shall\", \"shall\", \"shall\", \"shall\", \"shall\", \"shall\", \"shall\", \"shew\", \"shew\", \"shew\", \"shew\", \"shew\", \"shew\", \"shook\", \"shook\", \"shook\", \"shook\", \"shook\", \"shook\", \"shook\", \"shook\", \"shook\", \"shoot\", \"shoot\", \"sign\", \"sign\", \"sign\", \"sign\", \"sign\", \"sign\", \"sign\", \"significantly\", \"significantly\", \"sir\", \"sir\", \"sir\", \"sir\", \"sir\", \"sir\", \"sir\", \"sir\", \"sir\", \"sir\", \"sir\", \"sir\", \"sir\", \"sister\", \"sister\", \"sister\", \"sister\", \"sister\", \"sister\", \"sister\", \"sister\", \"sister\", \"sister\", \"sister\", \"sister\", \"sisters\", \"sisters\", \"sisters\", \"sisters\", \"sisters\", \"sisters\", \"sisters\", \"sisters\", \"sisters\", \"sisters\", \"sisters\", \"sixpence\", \"sixpence\", \"sixpence\", \"slice\", \"slice\", \"slice\", \"slice\", \"slip\", \"smith\", \"smith\", \"smith\", \"smith\", \"smith\", \"smith\", \"smith\", \"smith\", \"snowe\", \"snowe\", \"snowe\", \"softest\", \"softest\", \"softest\", \"solve\", \"solve\", \"solve\", \"soon\", \"soon\", \"soon\", \"soon\", \"soon\", \"soon\", \"soon\", \"soon\", \"soon\", \"soon\", \"soon\", \"soon\", \"soon\", \"soon\", \"soon\", \"sophie\", \"sophie\", \"spending\", \"spending\", \"spending\", \"spending\", \"spending\", \"spending\", \"spending\", \"spots\", \"spots\", \"spots\", \"sprain\", \"sprain\", \"sprain\", \"spurned\", \"spurned\", \"spurned\", \"st\", \"st\", \"st\", \"st\", \"st\", \"st\", \"st\", \"st\", \"staff\", \"staff\", \"staff\", \"stair\", \"stair\", \"stair\", \"statement\", \"statement\", \"statement\", \"statement\", \"statement\", \"stating\", \"stating\", \"stating\", \"steele\", \"steele\", \"steeles\", \"steeles\", \"stem\", \"stem\", \"stick\", \"stile\", \"stood\", \"stood\", \"stood\", \"stood\", \"stood\", \"stood\", \"stood\", \"stood\", \"stood\", \"stood\", \"stood\", \"stood\", \"stood\", \"stood\", \"stool\", \"stooped\", \"strange\", \"strange\", \"strange\", \"strange\", \"strange\", \"strange\", \"strange\", \"strange\", \"strange\", \"strange\", \"strange\", \"strange\", \"strange\", \"strangeness\", \"strangeness\", \"strangeness\", \"strangeness\", \"strikingly\", \"strikingly\", \"strikingly\", \"strikingly\", \"strikingly\", \"suckling\", \"suckling\", \"suckling\", \"sum\", \"sum\", \"sum\", \"sum\", \"sum\", \"sum\", \"sunset\", \"superfluous\", \"superfluous\", \"superfluous\", \"supplanted\", \"supplanted\", \"supplanted\", \"supplication\", \"supplication\", \"supplication\", \"supplying\", \"supplying\", \"supplying\", \"supplying\", \"suppose\", \"suppose\", \"suppose\", \"suppose\", \"suppose\", \"suppose\", \"suppose\", \"suppose\", \"suppose\", \"suppose\", \"suppose\", \"suppose\", \"suppose\", \"suppose\", \"supposing\", \"supposing\", \"supposing\", \"supposing\", \"supposing\", \"supposing\", \"supposing\", \"supposing\", \"sure\", \"sure\", \"sure\", \"sure\", \"sure\", \"sure\", \"sure\", \"sure\", \"sure\", \"sure\", \"sure\", \"sure\", \"sure\", \"sure\", \"surmises\", \"surmises\", \"surmises\", \"surmises\", \"surry\", \"surry\", \"survive\", \"survive\", \"survive\", \"survive\", \"sustained\", \"sustained\", \"swiss\", \"table\", \"table\", \"table\", \"table\", \"table\", \"table\", \"table\", \"table\", \"table\", \"table\", \"table\", \"table\", \"tableau\", \"taken\", \"taken\", \"taken\", \"taken\", \"taken\", \"taken\", \"taken\", \"taken\", \"taken\", \"taken\", \"taken\", \"taken\", \"taken\", \"tap\", \"tap\", \"tap\", \"tap\", \"tasks\", \"tasks\", \"tasks\", \"taylor\", \"taylor\", \"taylor\", \"taylor\", \"taylor\", \"tea\", \"tea\", \"tea\", \"tea\", \"tea\", \"tea\", \"tea\", \"tea\", \"tea\", \"tea\", \"tell\", \"tell\", \"tell\", \"tell\", \"tell\", \"tell\", \"tell\", \"tell\", \"tell\", \"tell\", \"tell\", \"tell\", \"tell\", \"tell\", \"tell\", \"temple\", \"temple\", \"temple\", \"temple\", \"temple\", \"temple\", \"thing\", \"thing\", \"thing\", \"thing\", \"thing\", \"thing\", \"thing\", \"thing\", \"thing\", \"thing\", \"thing\", \"thing\", \"thing\", \"thing\", \"think\", \"think\", \"think\", \"think\", \"think\", \"think\", \"think\", \"think\", \"think\", \"think\", \"think\", \"think\", \"think\", \"think\", \"think\", \"thornfield\", \"thornfield\", \"thornfield\", \"thornfield\", \"thornfield\", \"thought\", \"thought\", \"thought\", \"thought\", \"thought\", \"thought\", \"thought\", \"thought\", \"thought\", \"thought\", \"thought\", \"thought\", \"thought\", \"thought\", \"thought\", \"thoughtfulness\", \"thousand\", \"thousand\", \"thousand\", \"thousand\", \"thousand\", \"thousand\", \"thousand\", \"thousand\", \"thousand\", \"thousand\", \"till\", \"till\", \"till\", \"till\", \"till\", \"till\", \"till\", \"till\", \"till\", \"till\", \"till\", \"till\", \"till\", \"till\", \"till\", \"time\", \"time\", \"time\", \"time\", \"time\", \"time\", \"time\", \"time\", \"time\", \"time\", \"time\", \"time\", \"time\", \"time\", \"time\", \"tints\", \"tints\", \"tints\", \"toast\", \"toast\", \"toast\", \"took\", \"took\", \"took\", \"took\", \"took\", \"took\", \"took\", \"took\", \"took\", \"took\", \"took\", \"took\", \"took\", \"took\", \"took\", \"town\", \"town\", \"town\", \"town\", \"town\", \"town\", \"town\", \"town\", \"town\", \"town\", \"town\", \"tract\", \"tract\", \"tract\", \"tract\", \"traverse\", \"traverse\", \"tray\", \"tray\", \"tray\", \"tray\", \"treasured\", \"treasured\", \"treasured\", \"triumphantly\", \"triumphantly\", \"trop\", \"trop\", \"tyrant\", \"tyrant\", \"tyrant\", \"uncle\", \"uncle\", \"uncle\", \"uncle\", \"uncle\", \"uncle\", \"uncle\", \"uncle\", \"uncle\", \"uncle\", \"uncle\", \"undone\", \"une\", \"une\", \"unequivocal\", \"unequivocal\", \"unequivocal\", \"unequivocal\", \"unequivocal\", \"unexceptionable\", \"unexceptionable\", \"unfair\", \"unfair\", \"unfit\", \"unfit\", \"unfit\", \"unguarded\", \"unguarded\", \"unguarded\", \"uniformly\", \"uniformly\", \"uniformly\", \"uniformly\", \"unlocked\", \"unlocked\", \"unlocked\", \"unwillingly\", \"vale\", \"vandenhuten\", \"vanishing\", \"vanishing\", \"veil\", \"veil\", \"verbal\", \"verbal\", \"verbal\", \"vicarage\", \"vicarage\", \"vicarage\", \"victor\", \"victor\", \"victor\", \"villain\", \"villain\", \"villain\", \"villain\", \"villain\", \"violets\", \"visitation\", \"visitation\", \"vocation\", \"votre\", \"vouchsafe\", \"vous\", \"vous\", \"vous\", \"walnut\", \"walnut\", \"walnut\", \"walravens\", \"walravens\", \"walravens\", \"wanderings\", \"wanderings\", \"wanderings\", \"want\", \"want\", \"want\", \"want\", \"want\", \"want\", \"want\", \"want\", \"want\", \"want\", \"want\", \"want\", \"wardrobe\", \"way\", \"way\", \"way\", \"way\", \"way\", \"way\", \"way\", \"way\", \"way\", \"way\", \"way\", \"way\", \"way\", \"way\", \"way\", \"weekly\", \"weekly\", \"weekly\", \"went\", \"went\", \"went\", \"went\", \"went\", \"went\", \"went\", \"went\", \"went\", \"went\", \"went\", \"went\", \"went\", \"went\", \"weston\", \"weston\", \"weston\", \"weston\", \"weston\", \"westons\", \"westons\", \"wheeled\", \"wheeled\", \"wheeled\", \"whitcross\", \"whitcross\", \"white\", \"white\", \"white\", \"white\", \"white\", \"white\", \"white\", \"white\", \"white\", \"wholesome\", \"wholesome\", \"wholesome\", \"wholesome\", \"wholesome\", \"wicket\", \"wickham\", \"wickham\", \"wickham\", \"wickham\", \"wickham\", \"wickham\", \"wilfully\", \"wilfully\", \"willoughby\", \"willoughby\", \"willoughby\", \"willoughby\", \"willoughby\", \"willoughby\", \"windsor\", \"windsor\", \"windsor\", \"winning\", \"winning\", \"winning\", \"wishes\", \"wishes\", \"wishes\", \"wishes\", \"wishes\", \"wishes\", \"wishes\", \"wishes\", \"wishes\", \"woman\", \"woman\", \"woman\", \"woman\", \"woman\", \"woman\", \"woman\", \"woman\", \"woman\", \"woman\", \"woman\", \"woman\", \"woman\", \"woman\", \"wondrous\", \"wondrous\", \"wondrous\", \"woodhouse\", \"woodhouse\", \"woodhouse\", \"woodhouse\", \"woodhouse\", \"work\", \"work\", \"work\", \"work\", \"work\", \"work\", \"work\", \"work\", \"work\", \"work\", \"work\", \"wouldn\", \"wouldn\", \"wouldn\", \"years\", \"years\", \"years\", \"years\", \"years\", \"years\", \"years\", \"years\", \"years\", \"years\", \"years\", \"years\", \"years\", \"years\", \"yes\", \"yes\", \"yes\", \"yes\", \"yes\", \"yes\", \"yes\", \"yes\", \"yes\", \"yes\", \"yes\", \"yes\", \"yes\", \"yes\", \"yes\", \"yorke\", \"yorke\", \"yorke\", \"yorke\", \"yorkshire\", \"yorkshire\", \"young\", \"young\", \"young\", \"young\", \"young\", \"young\", \"young\", \"young\", \"young\", \"young\", \"young\", \"young\", \"young\", \"young\", \"zelie\", \"zelie\"]}, \"R\": 30, \"lambda.step\": 0.01, \"plot.opts\": {\"xlab\": \"PC1\", \"ylab\": \"PC2\"}, \"topic.order\": [11, 3, 5, 8, 1, 12, 6, 15, 2, 9, 4, 10, 13, 7, 14]};\n",
       "\n",
       "function LDAvis_load_lib(url, callback){\n",
       "  var s = document.createElement('script');\n",
       "  s.src = url;\n",
       "  s.async = true;\n",
       "  s.onreadystatechange = s.onload = callback;\n",
       "  s.onerror = function(){console.warn(\"failed to load library \" + url);};\n",
       "  document.getElementsByTagName(\"head\")[0].appendChild(s);\n",
       "}\n",
       "\n",
       "if(typeof(LDAvis) !== \"undefined\"){\n",
       "   // already loaded: just create the visualization\n",
       "   !function(LDAvis){\n",
       "       new LDAvis(\"#\" + \"ldavis_el871399644038171524212535966\", ldavis_el871399644038171524212535966_data);\n",
       "   }(LDAvis);\n",
       "}else if(typeof define === \"function\" && define.amd){\n",
       "   // require.js is available: use it to load d3/LDAvis\n",
       "   require.config({paths: {d3: \"https://cdnjs.cloudflare.com/ajax/libs/d3/3.5.5/d3.min\"}});\n",
       "   require([\"d3\"], function(d3){\n",
       "      window.d3 = d3;\n",
       "      LDAvis_load_lib(\"https://cdn.rawgit.com/bmabey/pyLDAvis/files/ldavis.v1.0.0.js\", function(){\n",
       "        new LDAvis(\"#\" + \"ldavis_el871399644038171524212535966\", ldavis_el871399644038171524212535966_data);\n",
       "      });\n",
       "    });\n",
       "}else{\n",
       "    // require.js not available: dynamically load d3 & LDAvis\n",
       "    LDAvis_load_lib(\"https://cdnjs.cloudflare.com/ajax/libs/d3/3.5.5/d3.min.js\", function(){\n",
       "         LDAvis_load_lib(\"https://cdn.rawgit.com/bmabey/pyLDAvis/files/ldavis.v1.0.0.js\", function(){\n",
       "                 new LDAvis(\"#\" + \"ldavis_el871399644038171524212535966\", ldavis_el871399644038171524212535966_data);\n",
       "            })\n",
       "         });\n",
       "}\n",
       "</script>"
      ],
      "text/plain": [
       "PreparedData(topic_coordinates=              x         y  topics  cluster       Freq\n",
       "topic                                                \n",
       "10    -0.086108 -0.006012       1        1  41.976635\n",
       "2      0.096108  0.014835       2        1  19.397182\n",
       "4      0.069377 -0.064267       3        1  11.417193\n",
       "7     -0.123733 -0.057427       4        1   8.034610\n",
       "0      0.113200 -0.084775       5        1   4.910297\n",
       "11     0.103113 -0.091151       6        1   4.031640\n",
       "5      0.114378  0.018416       7        1   3.992702\n",
       "14     0.103918  0.106254       8        1   1.489568\n",
       "1     -0.011576  0.029216       9        1   1.013639\n",
       "8     -0.097032 -0.021394      10        1   0.999701\n",
       "3     -0.142886  0.006032      11        1   0.770560\n",
       "9      0.073174  0.104521      12        1   0.767075\n",
       "12    -0.027998 -0.056615      13        1   0.646138\n",
       "6     -0.102676  0.024946      14        1   0.297165\n",
       "13    -0.081260  0.077420      15        1   0.255900, topic_info=       Term         Freq        Total Category  logprob  loglift\n",
       "403    like  1327.000000  1327.000000  Default  30.0000  30.0000\n",
       "159  little  1716.000000  1716.000000  Default  29.0000  29.0000\n",
       "183    miss  1508.000000  1508.000000  Default  28.0000  28.0000\n",
       "399    know  1421.000000  1421.000000  Default  27.0000  27.0000\n",
       "86     emma   819.000000   819.000000  Default  26.0000  26.0000\n",
       "..      ...          ...          ...      ...      ...      ...\n",
       "148    jane     1.963820   907.819092  Topic15  -6.0123  -0.1680\n",
       "856   heard     1.898995   621.640320  Topic15  -6.0459   0.1771\n",
       "260    soon     1.874672   922.453796  Topic15  -6.0588  -0.2305\n",
       "135   house     1.863377   758.744568  Topic15  -6.0648  -0.0411\n",
       "356   doubt     1.821655   313.732147  Topic15  -6.0875   0.8193\n",
       "\n",
       "[1129 rows x 6 columns], token_table=      Topic      Freq     Term\n",
       "term                          \n",
       "7784      1  0.737207  abandon\n",
       "7784     15  0.184302  abandon\n",
       "792       3  0.230593    abbey\n",
       "792       5  0.658838    abbey\n",
       "792       6  0.098826    abbey\n",
       "...     ...       ...      ...\n",
       "611      12  0.024409    young\n",
       "611      13  0.009154    young\n",
       "611      14  0.001526    young\n",
       "8084      1  0.113948    zelie\n",
       "8084      4  0.854609    zelie\n",
       "\n",
       "[4298 rows x 3 columns], R=30, lambda_step=0.01, plot_opts={'xlab': 'PC1', 'ylab': 'PC2'}, topic_order=[11, 3, 5, 8, 1, 12, 6, 15, 2, 9, 4, 10, 13, 7, 14])"
      ]
     },
     "execution_count": 38,
     "metadata": {},
     "output_type": "execute_result"
    }
   ],
   "source": [
    "pyLDAvis.gensim.prepare(lda, corpus, id2word)"
   ]
  },
  {
   "cell_type": "markdown",
   "metadata": {},
   "source": [
    "### Overall Model / Documents"
   ]
  },
  {
   "cell_type": "code",
   "execution_count": 39,
   "metadata": {},
   "outputs": [
    {
     "data": {
      "text/plain": [
       "[(2, 0.23454681), (11, 0.7634456)]"
      ]
     },
     "execution_count": 39,
     "metadata": {},
     "output_type": "execute_result"
    }
   ],
   "source": [
    "# the two outputs below are the topic number minus one and the percentage of the time that the word (lda[corpus[0]] is the word) shows up in those topics\n",
    "lda[corpus[0]]"
   ]
  },
  {
   "cell_type": "code",
   "execution_count": 40,
   "metadata": {},
   "outputs": [],
   "source": [
    "distro = [lda[d] for d in corpus]"
   ]
  },
  {
   "cell_type": "code",
   "execution_count": 41,
   "metadata": {},
   "outputs": [
    {
     "data": {
      "text/plain": [
       "[(2, 0.23454909), (11, 0.76344335)]"
      ]
     },
     "execution_count": 41,
     "metadata": {},
     "output_type": "execute_result"
    }
   ],
   "source": [
    "distro[0]"
   ]
  },
  {
   "cell_type": "code",
   "execution_count": 42,
   "metadata": {},
   "outputs": [],
   "source": [
    "distro = [lda[d] for d in corpus]\n",
    "\n",
    "def update(doc):\n",
    "        d_dist = {k:0 for k in range(0,15)}\n",
    "        for t in doc:\n",
    "            d_dist[t[0]] = t[1]\n",
    "        return d_dist\n",
    "    \n",
    "new_distro = [update(d) for d in distro]"
   ]
  },
  {
   "cell_type": "code",
   "execution_count": 43,
   "metadata": {},
   "outputs": [
    {
     "data": {
      "text/plain": [
       "813"
      ]
     },
     "execution_count": 43,
     "metadata": {},
     "output_type": "execute_result"
    }
   ],
   "source": [
    "len(new_distro)"
   ]
  },
  {
   "cell_type": "code",
   "execution_count": 44,
   "metadata": {},
   "outputs": [
    {
     "data": {
      "text/html": [
       "<div>\n",
       "<style scoped>\n",
       "    .dataframe tbody tr th:only-of-type {\n",
       "        vertical-align: middle;\n",
       "    }\n",
       "\n",
       "    .dataframe tbody tr th {\n",
       "        vertical-align: top;\n",
       "    }\n",
       "\n",
       "    .dataframe thead th {\n",
       "        text-align: right;\n",
       "    }\n",
       "</style>\n",
       "<table border=\"1\" class=\"dataframe\">\n",
       "  <thead>\n",
       "    <tr style=\"text-align: right;\">\n",
       "      <th></th>\n",
       "      <th>tokens</th>\n",
       "      <th>author</th>\n",
       "      <th>book</th>\n",
       "      <th>section</th>\n",
       "    </tr>\n",
       "  </thead>\n",
       "  <tbody>\n",
       "    <tr>\n",
       "      <th>Austen_Emma0000</th>\n",
       "      <td>[emma, jane, austen, volume, chapter, emma, wo...</td>\n",
       "      <td>1</td>\n",
       "      <td>Emma</td>\n",
       "      <td>0</td>\n",
       "    </tr>\n",
       "    <tr>\n",
       "      <th>Austen_Emma0001</th>\n",
       "      <td>[taylor, wish, pity, weston, thought, agree, p...</td>\n",
       "      <td>1</td>\n",
       "      <td>Emma</td>\n",
       "      <td>1</td>\n",
       "    </tr>\n",
       "    <tr>\n",
       "      <th>Austen_Emma0002</th>\n",
       "      <td>[behaved, charmingly, body, punctual, body, be...</td>\n",
       "      <td>1</td>\n",
       "      <td>Emma</td>\n",
       "      <td>2</td>\n",
       "    </tr>\n",
       "    <tr>\n",
       "      <th>Austen_Emma0003</th>\n",
       "      <td>[native, highbury, born, respectable, family, ...</td>\n",
       "      <td>1</td>\n",
       "      <td>Emma</td>\n",
       "      <td>3</td>\n",
       "    </tr>\n",
       "    <tr>\n",
       "      <th>Austen_Emma0004</th>\n",
       "      <td>[mention, handsome, letter, weston, received, ...</td>\n",
       "      <td>1</td>\n",
       "      <td>Emma</td>\n",
       "      <td>4</td>\n",
       "    </tr>\n",
       "  </tbody>\n",
       "</table>\n",
       "</div>"
      ],
      "text/plain": [
       "                                                            tokens  author  \\\n",
       "Austen_Emma0000  [emma, jane, austen, volume, chapter, emma, wo...       1   \n",
       "Austen_Emma0001  [taylor, wish, pity, weston, thought, agree, p...       1   \n",
       "Austen_Emma0002  [behaved, charmingly, body, punctual, body, be...       1   \n",
       "Austen_Emma0003  [native, highbury, born, respectable, family, ...       1   \n",
       "Austen_Emma0004  [mention, handsome, letter, weston, received, ...       1   \n",
       "\n",
       "                 book  section  \n",
       "Austen_Emma0000  Emma        0  \n",
       "Austen_Emma0001  Emma        1  \n",
       "Austen_Emma0002  Emma        2  \n",
       "Austen_Emma0003  Emma        3  \n",
       "Austen_Emma0004  Emma        4  "
      ]
     },
     "execution_count": 44,
     "metadata": {},
     "output_type": "execute_result"
    }
   ],
   "source": [
    "df.head()"
   ]
  },
  {
   "cell_type": "code",
   "execution_count": 45,
   "metadata": {},
   "outputs": [],
   "source": [
    "df = pd.DataFrame.from_records(new_distro, index=titles)\n",
    "df.columns = topics\n",
    "df['author'] = df.reset_index()['index'].apply(lambda x: x.split('_')[0]).tolist()"
   ]
  },
  {
   "cell_type": "code",
   "execution_count": 46,
   "metadata": {},
   "outputs": [
    {
     "data": {
      "text/html": [
       "<div>\n",
       "<style scoped>\n",
       "    .dataframe tbody tr th:only-of-type {\n",
       "        vertical-align: middle;\n",
       "    }\n",
       "\n",
       "    .dataframe tbody tr th {\n",
       "        vertical-align: top;\n",
       "    }\n",
       "\n",
       "    .dataframe thead th {\n",
       "        text-align: right;\n",
       "    }\n",
       "</style>\n",
       "<table border=\"1\" class=\"dataframe\">\n",
       "  <thead>\n",
       "    <tr style=\"text-align: right;\">\n",
       "      <th></th>\n",
       "      <th>harriet emma weston elton good</th>\n",
       "      <th>like sir jane thought little</th>\n",
       "      <th>elinor marianne elizabeth sister miss</th>\n",
       "      <th>hand eyes john like saw</th>\n",
       "      <th>miss jane emma know thing</th>\n",
       "      <th>jane elizabeth darcy know wickham</th>\n",
       "      <th>hunsden miss helen temple bread</th>\n",
       "      <th>little madame like monsieur vous</th>\n",
       "      <th>burns thought like scatcherd miss</th>\n",
       "      <th>man bennet young elizabeth collins</th>\n",
       "      <th>like little thought long good</th>\n",
       "      <th>emma miss knightley harriet thing</th>\n",
       "      <th>bretton know dr little lucy</th>\n",
       "      <th>thousand mason like know sisters</th>\n",
       "      <th>lydia mother wickham father uncle</th>\n",
       "      <th>author</th>\n",
       "    </tr>\n",
       "  </thead>\n",
       "  <tbody>\n",
       "    <tr>\n",
       "      <th>Austen_Emma0000</th>\n",
       "      <td>0.000000</td>\n",
       "      <td>0.0</td>\n",
       "      <td>0.234551</td>\n",
       "      <td>0.0</td>\n",
       "      <td>0.000000</td>\n",
       "      <td>0.000000</td>\n",
       "      <td>0.0</td>\n",
       "      <td>0.0</td>\n",
       "      <td>0.0</td>\n",
       "      <td>0.0</td>\n",
       "      <td>0.0</td>\n",
       "      <td>0.763441</td>\n",
       "      <td>0.000000</td>\n",
       "      <td>0.0</td>\n",
       "      <td>0.0</td>\n",
       "      <td>Austen</td>\n",
       "    </tr>\n",
       "    <tr>\n",
       "      <th>Austen_Emma0001</th>\n",
       "      <td>0.339470</td>\n",
       "      <td>0.0</td>\n",
       "      <td>0.000000</td>\n",
       "      <td>0.0</td>\n",
       "      <td>0.427733</td>\n",
       "      <td>0.000000</td>\n",
       "      <td>0.0</td>\n",
       "      <td>0.0</td>\n",
       "      <td>0.0</td>\n",
       "      <td>0.0</td>\n",
       "      <td>0.0</td>\n",
       "      <td>0.230542</td>\n",
       "      <td>0.000000</td>\n",
       "      <td>0.0</td>\n",
       "      <td>0.0</td>\n",
       "      <td>Austen</td>\n",
       "    </tr>\n",
       "    <tr>\n",
       "      <th>Austen_Emma0002</th>\n",
       "      <td>0.669272</td>\n",
       "      <td>0.0</td>\n",
       "      <td>0.000000</td>\n",
       "      <td>0.0</td>\n",
       "      <td>0.000000</td>\n",
       "      <td>0.000000</td>\n",
       "      <td>0.0</td>\n",
       "      <td>0.0</td>\n",
       "      <td>0.0</td>\n",
       "      <td>0.0</td>\n",
       "      <td>0.0</td>\n",
       "      <td>0.328464</td>\n",
       "      <td>0.000000</td>\n",
       "      <td>0.0</td>\n",
       "      <td>0.0</td>\n",
       "      <td>Austen</td>\n",
       "    </tr>\n",
       "    <tr>\n",
       "      <th>Austen_Emma0003</th>\n",
       "      <td>0.190946</td>\n",
       "      <td>0.0</td>\n",
       "      <td>0.000000</td>\n",
       "      <td>0.0</td>\n",
       "      <td>0.000000</td>\n",
       "      <td>0.806923</td>\n",
       "      <td>0.0</td>\n",
       "      <td>0.0</td>\n",
       "      <td>0.0</td>\n",
       "      <td>0.0</td>\n",
       "      <td>0.0</td>\n",
       "      <td>0.000000</td>\n",
       "      <td>0.000000</td>\n",
       "      <td>0.0</td>\n",
       "      <td>0.0</td>\n",
       "      <td>Austen</td>\n",
       "    </tr>\n",
       "    <tr>\n",
       "      <th>Austen_Emma0004</th>\n",
       "      <td>0.484529</td>\n",
       "      <td>0.0</td>\n",
       "      <td>0.000000</td>\n",
       "      <td>0.0</td>\n",
       "      <td>0.000000</td>\n",
       "      <td>0.000000</td>\n",
       "      <td>0.0</td>\n",
       "      <td>0.0</td>\n",
       "      <td>0.0</td>\n",
       "      <td>0.0</td>\n",
       "      <td>0.0</td>\n",
       "      <td>0.106821</td>\n",
       "      <td>0.406802</td>\n",
       "      <td>0.0</td>\n",
       "      <td>0.0</td>\n",
       "      <td>Austen</td>\n",
       "    </tr>\n",
       "  </tbody>\n",
       "</table>\n",
       "</div>"
      ],
      "text/plain": [
       "                 harriet emma weston elton good  like sir jane thought little  \\\n",
       "Austen_Emma0000                        0.000000                           0.0   \n",
       "Austen_Emma0001                        0.339470                           0.0   \n",
       "Austen_Emma0002                        0.669272                           0.0   \n",
       "Austen_Emma0003                        0.190946                           0.0   \n",
       "Austen_Emma0004                        0.484529                           0.0   \n",
       "\n",
       "                 elinor marianne elizabeth sister miss  \\\n",
       "Austen_Emma0000                               0.234551   \n",
       "Austen_Emma0001                               0.000000   \n",
       "Austen_Emma0002                               0.000000   \n",
       "Austen_Emma0003                               0.000000   \n",
       "Austen_Emma0004                               0.000000   \n",
       "\n",
       "                 hand eyes john like saw  miss jane emma know thing  \\\n",
       "Austen_Emma0000                      0.0                   0.000000   \n",
       "Austen_Emma0001                      0.0                   0.427733   \n",
       "Austen_Emma0002                      0.0                   0.000000   \n",
       "Austen_Emma0003                      0.0                   0.000000   \n",
       "Austen_Emma0004                      0.0                   0.000000   \n",
       "\n",
       "                 jane elizabeth darcy know wickham  \\\n",
       "Austen_Emma0000                           0.000000   \n",
       "Austen_Emma0001                           0.000000   \n",
       "Austen_Emma0002                           0.000000   \n",
       "Austen_Emma0003                           0.806923   \n",
       "Austen_Emma0004                           0.000000   \n",
       "\n",
       "                 hunsden miss helen temple bread  \\\n",
       "Austen_Emma0000                              0.0   \n",
       "Austen_Emma0001                              0.0   \n",
       "Austen_Emma0002                              0.0   \n",
       "Austen_Emma0003                              0.0   \n",
       "Austen_Emma0004                              0.0   \n",
       "\n",
       "                 little madame like monsieur vous  \\\n",
       "Austen_Emma0000                               0.0   \n",
       "Austen_Emma0001                               0.0   \n",
       "Austen_Emma0002                               0.0   \n",
       "Austen_Emma0003                               0.0   \n",
       "Austen_Emma0004                               0.0   \n",
       "\n",
       "                 burns thought like scatcherd miss  \\\n",
       "Austen_Emma0000                                0.0   \n",
       "Austen_Emma0001                                0.0   \n",
       "Austen_Emma0002                                0.0   \n",
       "Austen_Emma0003                                0.0   \n",
       "Austen_Emma0004                                0.0   \n",
       "\n",
       "                 man bennet young elizabeth collins  \\\n",
       "Austen_Emma0000                                 0.0   \n",
       "Austen_Emma0001                                 0.0   \n",
       "Austen_Emma0002                                 0.0   \n",
       "Austen_Emma0003                                 0.0   \n",
       "Austen_Emma0004                                 0.0   \n",
       "\n",
       "                 like little thought long good  \\\n",
       "Austen_Emma0000                            0.0   \n",
       "Austen_Emma0001                            0.0   \n",
       "Austen_Emma0002                            0.0   \n",
       "Austen_Emma0003                            0.0   \n",
       "Austen_Emma0004                            0.0   \n",
       "\n",
       "                 emma miss knightley harriet thing  \\\n",
       "Austen_Emma0000                           0.763441   \n",
       "Austen_Emma0001                           0.230542   \n",
       "Austen_Emma0002                           0.328464   \n",
       "Austen_Emma0003                           0.000000   \n",
       "Austen_Emma0004                           0.106821   \n",
       "\n",
       "                 bretton know dr little lucy  \\\n",
       "Austen_Emma0000                     0.000000   \n",
       "Austen_Emma0001                     0.000000   \n",
       "Austen_Emma0002                     0.000000   \n",
       "Austen_Emma0003                     0.000000   \n",
       "Austen_Emma0004                     0.406802   \n",
       "\n",
       "                 thousand mason like know sisters  \\\n",
       "Austen_Emma0000                               0.0   \n",
       "Austen_Emma0001                               0.0   \n",
       "Austen_Emma0002                               0.0   \n",
       "Austen_Emma0003                               0.0   \n",
       "Austen_Emma0004                               0.0   \n",
       "\n",
       "                 lydia mother wickham father uncle  author  \n",
       "Austen_Emma0000                                0.0  Austen  \n",
       "Austen_Emma0001                                0.0  Austen  \n",
       "Austen_Emma0002                                0.0  Austen  \n",
       "Austen_Emma0003                                0.0  Austen  \n",
       "Austen_Emma0004                                0.0  Austen  "
      ]
     },
     "execution_count": 46,
     "metadata": {},
     "output_type": "execute_result"
    }
   ],
   "source": [
    "df.head()"
   ]
  },
  {
   "cell_type": "code",
   "execution_count": 47,
   "metadata": {},
   "outputs": [
    {
     "data": {
      "text/html": [
       "<div>\n",
       "<style scoped>\n",
       "    .dataframe tbody tr th:only-of-type {\n",
       "        vertical-align: middle;\n",
       "    }\n",
       "\n",
       "    .dataframe tbody tr th {\n",
       "        vertical-align: top;\n",
       "    }\n",
       "\n",
       "    .dataframe thead th {\n",
       "        text-align: right;\n",
       "    }\n",
       "</style>\n",
       "<table border=\"1\" class=\"dataframe\">\n",
       "  <thead>\n",
       "    <tr style=\"text-align: right;\">\n",
       "      <th></th>\n",
       "      <th>harriet emma weston elton good</th>\n",
       "      <th>like sir jane thought little</th>\n",
       "      <th>elinor marianne elizabeth sister miss</th>\n",
       "      <th>hand eyes john like saw</th>\n",
       "      <th>miss jane emma know thing</th>\n",
       "      <th>jane elizabeth darcy know wickham</th>\n",
       "      <th>hunsden miss helen temple bread</th>\n",
       "      <th>little madame like monsieur vous</th>\n",
       "      <th>burns thought like scatcherd miss</th>\n",
       "      <th>man bennet young elizabeth collins</th>\n",
       "      <th>like little thought long good</th>\n",
       "      <th>emma miss knightley harriet thing</th>\n",
       "      <th>bretton know dr little lucy</th>\n",
       "      <th>thousand mason like know sisters</th>\n",
       "      <th>lydia mother wickham father uncle</th>\n",
       "    </tr>\n",
       "    <tr>\n",
       "      <th>author</th>\n",
       "      <th></th>\n",
       "      <th></th>\n",
       "      <th></th>\n",
       "      <th></th>\n",
       "      <th></th>\n",
       "      <th></th>\n",
       "      <th></th>\n",
       "      <th></th>\n",
       "      <th></th>\n",
       "      <th></th>\n",
       "      <th></th>\n",
       "      <th></th>\n",
       "      <th></th>\n",
       "      <th></th>\n",
       "      <th></th>\n",
       "    </tr>\n",
       "  </thead>\n",
       "  <tbody>\n",
       "    <tr>\n",
       "      <th>Austen</th>\n",
       "      <td>0.103884</td>\n",
       "      <td>0.006977</td>\n",
       "      <td>0.428144</td>\n",
       "      <td>0.000000</td>\n",
       "      <td>0.211924</td>\n",
       "      <td>0.088475</td>\n",
       "      <td>0.000000</td>\n",
       "      <td>0.000291</td>\n",
       "      <td>0.001808</td>\n",
       "      <td>0.017822</td>\n",
       "      <td>0.013382</td>\n",
       "      <td>0.086743</td>\n",
       "      <td>0.004561</td>\n",
       "      <td>0.00000</td>\n",
       "      <td>0.033299</td>\n",
       "    </tr>\n",
       "    <tr>\n",
       "      <th>CBronte</th>\n",
       "      <td>0.003946</td>\n",
       "      <td>0.012632</td>\n",
       "      <td>0.008018</td>\n",
       "      <td>0.013694</td>\n",
       "      <td>0.036298</td>\n",
       "      <td>0.003884</td>\n",
       "      <td>0.005365</td>\n",
       "      <td>0.137134</td>\n",
       "      <td>0.015780</td>\n",
       "      <td>0.000056</td>\n",
       "      <td>0.746320</td>\n",
       "      <td>0.001341</td>\n",
       "      <td>0.007103</td>\n",
       "      <td>0.00474</td>\n",
       "      <td>0.001020</td>\n",
       "    </tr>\n",
       "  </tbody>\n",
       "</table>\n",
       "</div>"
      ],
      "text/plain": [
       "         harriet emma weston elton good  like sir jane thought little  \\\n",
       "author                                                                  \n",
       "Austen                         0.103884                      0.006977   \n",
       "CBronte                        0.003946                      0.012632   \n",
       "\n",
       "         elinor marianne elizabeth sister miss  hand eyes john like saw  \\\n",
       "author                                                                    \n",
       "Austen                                0.428144                 0.000000   \n",
       "CBronte                               0.008018                 0.013694   \n",
       "\n",
       "         miss jane emma know thing  jane elizabeth darcy know wickham  \\\n",
       "author                                                                  \n",
       "Austen                    0.211924                           0.088475   \n",
       "CBronte                   0.036298                           0.003884   \n",
       "\n",
       "         hunsden miss helen temple bread  little madame like monsieur vous  \\\n",
       "author                                                                       \n",
       "Austen                          0.000000                          0.000291   \n",
       "CBronte                         0.005365                          0.137134   \n",
       "\n",
       "         burns thought like scatcherd miss  \\\n",
       "author                                       \n",
       "Austen                            0.001808   \n",
       "CBronte                           0.015780   \n",
       "\n",
       "         man bennet young elizabeth collins  like little thought long good  \\\n",
       "author                                                                       \n",
       "Austen                             0.017822                       0.013382   \n",
       "CBronte                            0.000056                       0.746320   \n",
       "\n",
       "         emma miss knightley harriet thing  bretton know dr little lucy  \\\n",
       "author                                                                    \n",
       "Austen                            0.086743                     0.004561   \n",
       "CBronte                           0.001341                     0.007103   \n",
       "\n",
       "         thousand mason like know sisters  lydia mother wickham father uncle  \n",
       "author                                                                        \n",
       "Austen                            0.00000                           0.033299  \n",
       "CBronte                           0.00474                           0.001020  "
      ]
     },
     "execution_count": 47,
     "metadata": {},
     "output_type": "execute_result"
    }
   ],
   "source": [
    "df.groupby('author').mean()"
   ]
  },
  {
   "cell_type": "markdown",
   "metadata": {},
   "source": [
    "## Challenge\n",
    "### *Can we see if one of the authors focus more on men than women?*\n",
    "\n",
    "*  Use Spacy for text preprocessing\n",
    "*  Extract the Named Entities from the documents using Spacy (command is fairly straight forward)\n",
    "*  Create unique list of names from the authors (you'll find that there are different types of named entities not all people)\n",
    "*  Label the names with genders (can you this by hand or you use the US census name lists)\n",
    "*  Customize your processing to replace the proper name with your gender from the previous step's lookup table\n",
    "*  Then follow the rest of the LDA flow\n"
   ]
  },
  {
   "cell_type": "markdown",
   "metadata": {},
   "source": [
    "# Selecting the Number of Topics (Learn)\n",
    "<a id=\"#p4\"></a>"
   ]
  },
  {
   "cell_type": "markdown",
   "metadata": {},
   "source": [
    "## Overview"
   ]
  },
  {
   "cell_type": "markdown",
   "metadata": {},
   "source": [
    "## Follow Along"
   ]
  },
  {
   "cell_type": "code",
   "execution_count": 48,
   "metadata": {},
   "outputs": [],
   "source": [
    "from gensim.models.coherencemodel import CoherenceModel\n",
    "\n",
    "def compute_coherence_values(dictionary, corpus, limit, start=2, step=3, passes=5):\n",
    "    \"\"\"\n",
    "    Compute c_v coherence for various number of topics\n",
    "\n",
    "    Parameters:\n",
    "    ----------\n",
    "    dictionary : Gensim dictionary\n",
    "    corpus : Gensim corpus\n",
    "    limit : Max num of topics\n",
    "    passes: the number of times the entire lda model & coherence values are calculated\n",
    "\n",
    "    Returns:\n",
    "    -------\n",
    "    coherence_values : Coherence values corresponding to the LDA model with respective number of topics\n",
    "    \"\"\"\n",
    "    \n",
    "    coherence_values = []\n",
    "    \n",
    "    for iter_ in range(passes):\n",
    "        for num_topics in range(start, limit, step):\n",
    "            model = LdaMulticore(corpus=corpus, num_topics=num_topics, id2word=dictionary, workers=4)\n",
    "            coherencemodel = CoherenceModel(model=model,dictionary=dictionary,corpus=corpus, coherence='u_mass')\n",
    "            coherence_values.append({'pass': iter_, \n",
    "                                     'num_topics': num_topics, \n",
    "                                     'coherence_score': coherencemodel.get_coherence()\n",
    "                                    })\n",
    "\n",
    "    return coherence_values"
   ]
  },
  {
   "cell_type": "code",
   "execution_count": 49,
   "metadata": {},
   "outputs": [
    {
     "name": "stderr",
     "output_type": "stream",
     "text": [
      "Process ForkPoolWorker-89:\n",
      "Process ForkPoolWorker-92:\n",
      "Process ForkPoolWorker-91:\n",
      "Process ForkPoolWorker-90:\n",
      "Traceback (most recent call last):\n",
      "Traceback (most recent call last):\n"
     ]
    }
   ],
   "source": [
    "# Can take a long time to run.\n",
    "coherence_values = compute_coherence_values(dictionary=id2word, \n",
    "                                                        corpus=corpus,\n",
    "                                                        start=2, \n",
    "                                                        limit=40, \n",
    "                                                        step=2,\n",
    "                                                        passes=100)"
   ]
  },
  {
   "cell_type": "code",
   "execution_count": 89,
   "metadata": {},
   "outputs": [],
   "source": [
    "topic_coherence = pd.DataFrame.from_records(coherence_values)"
   ]
  },
  {
   "cell_type": "code",
   "execution_count": null,
   "metadata": {},
   "outputs": [],
   "source": []
  },
  {
   "cell_type": "code",
   "execution_count": null,
   "metadata": {},
   "outputs": [],
   "source": [
    "topic_coherence.head()"
   ]
  },
  {
   "cell_type": "code",
   "execution_count": null,
   "metadata": {},
   "outputs": [],
   "source": [
    "import seaborn as sns\n",
    "\n",
    "ax = sns.lineplot(x=\"num_topics\", y=\"coherence_score\", data=topic_coherence)"
   ]
  },
  {
   "cell_type": "code",
   "execution_count": null,
   "metadata": {},
   "outputs": [],
   "source": [
    "# Print the coherence scores\n",
    "for m, cv in zip(x, coherence_values):\n",
    "    print(\"Num Topics =\", m, \" has Coherence Value of\", round(cv, 4))"
   ]
  },
  {
   "cell_type": "code",
   "execution_count": null,
   "metadata": {},
   "outputs": [],
   "source": [
    "lda[id2word.doc2bow(tokenize(\"This is a sample document to score with a topic distribution.\"))]"
   ]
  },
  {
   "cell_type": "markdown",
   "metadata": {},
   "source": [
    "# Sources\n",
    "\n",
    "### *References*\n",
    "* [Andrew Ng et al paper on LDA](https://ai.stanford.edu/~ang/papers/jair03-lda.pdf)\n",
    "* On [Coherence](https://pdfs.semanticscholar.org/1521/8d9c029cbb903ae7c729b2c644c24994c201.pdf)\n",
    "\n",
    "### *Resources*\n",
    "\n",
    "* [Gensim](https://radimrehurek.com/gensim/): Python package for topic modeling, nlp, word vectorization, and few other things. Well maintained and well documented.\n",
    "* [Topic Modeling with Gensim](http://www.machinelearningplus.com/nlp/topic-modeling-gensim-python/#11createthedictionaryandcorpusneededfortopicmodeling): A kind of cookbook for LDA with gensim. Excellent overview, but the you need to be aware of missing import statements and assumed prior knowledge.\n",
    "* [Chinese Restuarant Process](https://en.wikipedia.org/wiki/Chinese_restaurant_process): That really obscure stats thing I mentioned... \n",
    "* [PyLDAvis](https://github.com/bmabey/pyLDAvis): Library for visualizing the topic model and performing some exploratory work. Works well. Has a direct parrell implementation in R as well. \n",
    "* [Rare Technologies](https://rare-technologies.com/): The people that made & maintain gensim and a few other libraries.\n",
    "* [Jane Austen v. Charlotte Bronte](https://www.literaryladiesguide.com/literary-musings/jane-austen-charlotte-bronte-different-alike/)"
   ]
  }
 ],
 "metadata": {
  "kernelspec": {
   "display_name": "Python 3",
   "language": "python",
   "name": "python3"
  },
  "language_info": {
   "codemirror_mode": {
    "name": "ipython",
    "version": 3
   },
   "file_extension": ".py",
   "mimetype": "text/x-python",
   "name": "python",
   "nbconvert_exporter": "python",
   "pygments_lexer": "ipython3",
   "version": "3.8.3"
  }
 },
 "nbformat": 4,
 "nbformat_minor": 4
}
