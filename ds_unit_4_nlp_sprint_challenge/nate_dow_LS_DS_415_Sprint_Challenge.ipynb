{
 "cells": [
  {
   "cell_type": "markdown",
   "metadata": {},
   "source": [
    "<img align=\"left\" src=\"https://lever-client-logos.s3.amazonaws.com/864372b1-534c-480e-acd5-9711f850815c-1524247202159.png\" width=200>\n",
    "<br></br>\n",
    "<br></br>\n",
    "\n",
    "# Sprint Challenge\n",
    "## *Data Science Unit 4 Sprint 1*\n",
    "\n",
    "After a week of Natural Language Processing, you've learned some cool new stuff: how to process text, how turn text into vectors, and how to model topics from documents. Apply your newly acquired skills to one of the most famous NLP datasets out there: [Yelp](https://www.yelp.com/dataset/challenge). As part of the job selection process, some of my friends have been asked to create analysis of this dataset, so I want to empower you to have a head start.  \n",
    "\n",
    "The real dataset is massive (almost 8 gigs uncompressed). I've sampled the data for you to something more managable for the Sprint Challenge. You can analyze the full dataset as a stretch goal or after the sprint challenge. As you work on the challenge, I suggest adding notes about your findings and things you want to analyze in the future.\n",
    "\n",
    "## Challenge Objectives\n",
    "*Successfully complete these all these objectives to earn a 2. There are more details on each objective further down in the notebook.*\n",
    "* <a href=\"#p1\">Part 1</a>: Write a function to tokenize the yelp reviews\n",
    "* <a href=\"#p2\">Part 2</a>: Create a vector representation of those tokens\n",
    "* <a href=\"#p3\">Part 3</a>: Use your tokens in a classification model on yelp rating\n",
    "* <a href=\"#p4\">Part 4</a>: Estimate & Interpret a topic model of the Yelp reviews"
   ]
  },
  {
   "cell_type": "code",
   "execution_count": 1,
   "metadata": {},
   "outputs": [],
   "source": [
    "import pandas as pd\n",
    "\n",
    "yelp = pd.read_json('./data/review_sample.json', lines=True)"
   ]
  },
  {
   "cell_type": "code",
   "execution_count": 2,
   "metadata": {},
   "outputs": [
    {
     "data": {
      "text/html": [
       "<div>\n",
       "<style scoped>\n",
       "    .dataframe tbody tr th:only-of-type {\n",
       "        vertical-align: middle;\n",
       "    }\n",
       "\n",
       "    .dataframe tbody tr th {\n",
       "        vertical-align: top;\n",
       "    }\n",
       "\n",
       "    .dataframe thead th {\n",
       "        text-align: right;\n",
       "    }\n",
       "</style>\n",
       "<table border=\"1\" class=\"dataframe\">\n",
       "  <thead>\n",
       "    <tr style=\"text-align: right;\">\n",
       "      <th></th>\n",
       "      <th>business_id</th>\n",
       "      <th>cool</th>\n",
       "      <th>date</th>\n",
       "      <th>funny</th>\n",
       "      <th>review_id</th>\n",
       "      <th>stars</th>\n",
       "      <th>text</th>\n",
       "      <th>useful</th>\n",
       "      <th>user_id</th>\n",
       "    </tr>\n",
       "  </thead>\n",
       "  <tbody>\n",
       "    <tr>\n",
       "      <th>0</th>\n",
       "      <td>nDuEqIyRc8YKS1q1fX0CZg</td>\n",
       "      <td>1</td>\n",
       "      <td>2015-03-31 16:50:30</td>\n",
       "      <td>0</td>\n",
       "      <td>eZs2tpEJtXPwawvHnHZIgQ</td>\n",
       "      <td>1</td>\n",
       "      <td>BEWARE!!! FAKE, FAKE, FAKE....We also own a sm...</td>\n",
       "      <td>10</td>\n",
       "      <td>n1LM36qNg4rqGXIcvVXv8w</td>\n",
       "    </tr>\n",
       "    <tr>\n",
       "      <th>1</th>\n",
       "      <td>eMYeEapscbKNqUDCx705hg</td>\n",
       "      <td>0</td>\n",
       "      <td>2015-12-16 05:31:03</td>\n",
       "      <td>0</td>\n",
       "      <td>DoQDWJsNbU0KL1O29l_Xug</td>\n",
       "      <td>4</td>\n",
       "      <td>Came here for lunch Togo. Service was quick. S...</td>\n",
       "      <td>0</td>\n",
       "      <td>5CgjjDAic2-FAvCtiHpytA</td>\n",
       "    </tr>\n",
       "    <tr>\n",
       "      <th>2</th>\n",
       "      <td>6Q7-wkCPc1KF75jZLOTcMw</td>\n",
       "      <td>1</td>\n",
       "      <td>2010-06-20 19:14:48</td>\n",
       "      <td>1</td>\n",
       "      <td>DDOdGU7zh56yQHmUnL1idQ</td>\n",
       "      <td>3</td>\n",
       "      <td>I've been to Vegas dozens of times and had nev...</td>\n",
       "      <td>2</td>\n",
       "      <td>BdV-cf3LScmb8kZ7iiBcMA</td>\n",
       "    </tr>\n",
       "    <tr>\n",
       "      <th>3</th>\n",
       "      <td>k3zrItO4l9hwfLRwHBDc9w</td>\n",
       "      <td>3</td>\n",
       "      <td>2010-07-13 00:33:45</td>\n",
       "      <td>4</td>\n",
       "      <td>LfTMUWnfGFMOfOIyJcwLVA</td>\n",
       "      <td>1</td>\n",
       "      <td>We went here on a night where they closed off ...</td>\n",
       "      <td>5</td>\n",
       "      <td>cZZnBqh4gAEy4CdNvJailQ</td>\n",
       "    </tr>\n",
       "    <tr>\n",
       "      <th>4</th>\n",
       "      <td>6hpfRwGlOzbNv7k5eP9rsQ</td>\n",
       "      <td>1</td>\n",
       "      <td>2018-06-30 02:30:01</td>\n",
       "      <td>0</td>\n",
       "      <td>zJSUdI7bJ8PNJAg4lnl_Gg</td>\n",
       "      <td>4</td>\n",
       "      <td>3.5 to 4 stars\\n\\nNot bad for the price, $12.9...</td>\n",
       "      <td>5</td>\n",
       "      <td>n9QO4ClYAS7h9fpQwa5bhA</td>\n",
       "    </tr>\n",
       "  </tbody>\n",
       "</table>\n",
       "</div>"
      ],
      "text/plain": [
       "              business_id  cool                date  funny  \\\n",
       "0  nDuEqIyRc8YKS1q1fX0CZg     1 2015-03-31 16:50:30      0   \n",
       "1  eMYeEapscbKNqUDCx705hg     0 2015-12-16 05:31:03      0   \n",
       "2  6Q7-wkCPc1KF75jZLOTcMw     1 2010-06-20 19:14:48      1   \n",
       "3  k3zrItO4l9hwfLRwHBDc9w     3 2010-07-13 00:33:45      4   \n",
       "4  6hpfRwGlOzbNv7k5eP9rsQ     1 2018-06-30 02:30:01      0   \n",
       "\n",
       "                review_id  stars  \\\n",
       "0  eZs2tpEJtXPwawvHnHZIgQ      1   \n",
       "1  DoQDWJsNbU0KL1O29l_Xug      4   \n",
       "2  DDOdGU7zh56yQHmUnL1idQ      3   \n",
       "3  LfTMUWnfGFMOfOIyJcwLVA      1   \n",
       "4  zJSUdI7bJ8PNJAg4lnl_Gg      4   \n",
       "\n",
       "                                                text  useful  \\\n",
       "0  BEWARE!!! FAKE, FAKE, FAKE....We also own a sm...      10   \n",
       "1  Came here for lunch Togo. Service was quick. S...       0   \n",
       "2  I've been to Vegas dozens of times and had nev...       2   \n",
       "3  We went here on a night where they closed off ...       5   \n",
       "4  3.5 to 4 stars\\n\\nNot bad for the price, $12.9...       5   \n",
       "\n",
       "                  user_id  \n",
       "0  n1LM36qNg4rqGXIcvVXv8w  \n",
       "1  5CgjjDAic2-FAvCtiHpytA  \n",
       "2  BdV-cf3LScmb8kZ7iiBcMA  \n",
       "3  cZZnBqh4gAEy4CdNvJailQ  \n",
       "4  n9QO4ClYAS7h9fpQwa5bhA  "
      ]
     },
     "execution_count": 2,
     "metadata": {},
     "output_type": "execute_result"
    }
   ],
   "source": [
    "yelp.head()"
   ]
  },
  {
   "cell_type": "markdown",
   "metadata": {},
   "source": [
    "## Part 1: Tokenize Function\n",
    "<a id=\"#p1\"></a>\n",
    "\n",
    "Complete the function `tokenize`. Your function should\n",
    "- accept one document at a time\n",
    "- return a list of tokens\n",
    "\n",
    "You are free to use any method you have learned this week."
   ]
  },
  {
   "cell_type": "code",
   "execution_count": 3,
   "metadata": {},
   "outputs": [],
   "source": [
    "# imports \n",
    "import numpy as np\n",
    "import gensim\n",
    "import os\n",
    "import re\n",
    "\n",
    "from gensim.utils import simple_preprocess\n",
    "from gensim.parsing.preprocessing import STOPWORDS\n",
    "from gensim import corpora\n",
    "\n",
    "from gensim.models.ldamulticore import LdaMulticore\n",
    "\n",
    "import pandas as pd"
   ]
  },
  {
   "cell_type": "code",
   "execution_count": 4,
   "metadata": {},
   "outputs": [
    {
     "data": {
      "text/plain": [
       "337"
      ]
     },
     "execution_count": 4,
     "metadata": {},
     "output_type": "execute_result"
    }
   ],
   "source": [
    "# define stop words\n",
    "\n",
    "STOPWORDS = set(STOPWORDS)\n",
    "len(STOPWORDS)"
   ]
  },
  {
   "cell_type": "code",
   "execution_count": 6,
   "metadata": {},
   "outputs": [],
   "source": [
    "# define tokenize function using list comprehension\n",
    "\n",
    "def tokenize(doc):\n",
    "    \n",
    "    return [token for token in simple_preprocess(doc) if token not in STOPWORDS]"
   ]
  },
  {
   "cell_type": "code",
   "execution_count": 7,
   "metadata": {},
   "outputs": [
    {
     "data": {
      "text/plain": [
       "['beware',\n",
       " 'fake',\n",
       " 'fake',\n",
       " 'fake',\n",
       " 'small',\n",
       " 'business',\n",
       " 'los',\n",
       " 'alamitos',\n",
       " 'ca',\n",
       " 'received',\n",
       " 'looked',\n",
       " 'like',\n",
       " 'legitimate',\n",
       " 'account',\n",
       " 'number',\n",
       " 'called',\n",
       " 'phone',\n",
       " 'number',\n",
       " 'listed',\n",
       " 'wait',\n",
       " 'time',\n",
       " 'hold',\n",
       " 'said',\n",
       " 'minutes',\n",
       " 'leave',\n",
       " 'message',\n",
       " 'live',\n",
       " 'person',\n",
       " 'phone',\n",
       " 'matter',\n",
       " 'number',\n",
       " 'selected',\n",
       " 'left',\n",
       " 'firm',\n",
       " 'message',\n",
       " 'contacting',\n",
       " 'bbb',\n",
       " 'attorney',\n",
       " 'company',\n",
       " 'trying',\n",
       " 'scam',\n",
       " 'businesses',\n",
       " 'illegal']"
      ]
     },
     "execution_count": 7,
     "metadata": {},
     "output_type": "execute_result"
    }
   ],
   "source": [
    "# create a list of the reviews to tokenize\n",
    "reviews = list(yelp['text'])\n",
    "# create an empty list to store the tokenized reviews\n",
    "tokens = []\n",
    "# write a for loop to tokenize and store the reviews\n",
    "counter = 0 \n",
    "\n",
    "for review in reviews:\n",
    "    token = tokenize(reviews[counter])\n",
    "    tokens.append(token)\n",
    "    counter = counter + 1\n",
    "\n",
    "tokens[0]\n"
   ]
  },
  {
   "cell_type": "markdown",
   "metadata": {},
   "source": [
    "## Part 2: Vector Representation\n",
    "<a id=\"#p2\"></a>\n",
    "1. Create a vector representation of the reviews\n",
    "2. Write a fake review and query for the 10 most similiar reviews, print the text of the reviews. Do you notice any patterns?\n",
    "    - Given the size of the dataset, it will probably be best to use a `NearestNeighbors` model for this. "
   ]
  },
  {
   "cell_type": "code",
   "execution_count": 11,
   "metadata": {},
   "outputs": [],
   "source": [
    "# create a dataframe with tokenized reviews and stars\n",
    "token_df = pd.DataFrame(data =  {'reviews': yelp['text'], 'token_reviews': tokens, 'stars': yelp['stars']})"
   ]
  },
  {
   "cell_type": "code",
   "execution_count": 12,
   "metadata": {},
   "outputs": [
    {
     "data": {
      "text/html": [
       "<div>\n",
       "<style scoped>\n",
       "    .dataframe tbody tr th:only-of-type {\n",
       "        vertical-align: middle;\n",
       "    }\n",
       "\n",
       "    .dataframe tbody tr th {\n",
       "        vertical-align: top;\n",
       "    }\n",
       "\n",
       "    .dataframe thead th {\n",
       "        text-align: right;\n",
       "    }\n",
       "</style>\n",
       "<table border=\"1\" class=\"dataframe\">\n",
       "  <thead>\n",
       "    <tr style=\"text-align: right;\">\n",
       "      <th></th>\n",
       "      <th>reviews</th>\n",
       "      <th>token_reviews</th>\n",
       "      <th>stars</th>\n",
       "    </tr>\n",
       "  </thead>\n",
       "  <tbody>\n",
       "    <tr>\n",
       "      <th>0</th>\n",
       "      <td>BEWARE!!! FAKE, FAKE, FAKE....We also own a sm...</td>\n",
       "      <td>[beware, fake, fake, fake, small, business, lo...</td>\n",
       "      <td>1</td>\n",
       "    </tr>\n",
       "    <tr>\n",
       "      <th>1</th>\n",
       "      <td>Came here for lunch Togo. Service was quick. S...</td>\n",
       "      <td>[came, lunch, togo, service, quick, staff, fri...</td>\n",
       "      <td>4</td>\n",
       "    </tr>\n",
       "    <tr>\n",
       "      <th>2</th>\n",
       "      <td>I've been to Vegas dozens of times and had nev...</td>\n",
       "      <td>[ve, vegas, dozens, times, stepped, foot, circ...</td>\n",
       "      <td>3</td>\n",
       "    </tr>\n",
       "    <tr>\n",
       "      <th>3</th>\n",
       "      <td>We went here on a night where they closed off ...</td>\n",
       "      <td>[went, night, closed, street, party, best, act...</td>\n",
       "      <td>1</td>\n",
       "    </tr>\n",
       "    <tr>\n",
       "      <th>4</th>\n",
       "      <td>3.5 to 4 stars\\n\\nNot bad for the price, $12.9...</td>\n",
       "      <td>[stars, bad, price, lunch, seniors, pay, eatin...</td>\n",
       "      <td>4</td>\n",
       "    </tr>\n",
       "  </tbody>\n",
       "</table>\n",
       "</div>"
      ],
      "text/plain": [
       "                                             reviews  \\\n",
       "0  BEWARE!!! FAKE, FAKE, FAKE....We also own a sm...   \n",
       "1  Came here for lunch Togo. Service was quick. S...   \n",
       "2  I've been to Vegas dozens of times and had nev...   \n",
       "3  We went here on a night where they closed off ...   \n",
       "4  3.5 to 4 stars\\n\\nNot bad for the price, $12.9...   \n",
       "\n",
       "                                       token_reviews  stars  \n",
       "0  [beware, fake, fake, fake, small, business, lo...      1  \n",
       "1  [came, lunch, togo, service, quick, staff, fri...      4  \n",
       "2  [ve, vegas, dozens, times, stepped, foot, circ...      3  \n",
       "3  [went, night, closed, street, party, best, act...      1  \n",
       "4  [stars, bad, price, lunch, seniors, pay, eatin...      4  "
      ]
     },
     "execution_count": 12,
     "metadata": {},
     "output_type": "execute_result"
    }
   ],
   "source": [
    "token_df.head()"
   ]
  },
  {
   "cell_type": "code",
   "execution_count": 16,
   "metadata": {},
   "outputs": [
    {
     "data": {
      "text/plain": [
       "'BEWARE!!! FAKE, FAKE, FAKE....We also own a small business in Los Alamitos, CA and received what looked like a legitimate bill for $70 with an account number and all.  I called the phone number listed (866) 273-7934.  The wait time on hold said 20 minutes and to leave a message.  I could not get a live person on the phone no matter what number I selected.  I left a very FIRM message that I would be contacting the BBB and my attorney regarding their company trying to scam businesses. This has to be illegal!!!!!'"
      ]
     },
     "execution_count": 16,
     "metadata": {},
     "output_type": "execute_result"
    }
   ],
   "source": [
    "# import\n",
    "from sklearn.feature_extraction.text import CountVectorizer, TfidfVectorizer\n",
    "\n",
    "reviews[0]"
   ]
  },
  {
   "cell_type": "code",
   "execution_count": 17,
   "metadata": {},
   "outputs": [
    {
     "data": {
      "text/html": [
       "<div>\n",
       "<style scoped>\n",
       "    .dataframe tbody tr th:only-of-type {\n",
       "        vertical-align: middle;\n",
       "    }\n",
       "\n",
       "    .dataframe tbody tr th {\n",
       "        vertical-align: top;\n",
       "    }\n",
       "\n",
       "    .dataframe thead th {\n",
       "        text-align: right;\n",
       "    }\n",
       "</style>\n",
       "<table border=\"1\" class=\"dataframe\">\n",
       "  <thead>\n",
       "    <tr style=\"text-align: right;\">\n",
       "      <th></th>\n",
       "      <th>00</th>\n",
       "      <th>10</th>\n",
       "      <th>100</th>\n",
       "      <th>11</th>\n",
       "      <th>12</th>\n",
       "      <th>15</th>\n",
       "      <th>20</th>\n",
       "      <th>24</th>\n",
       "      <th>25</th>\n",
       "      <th>30</th>\n",
       "      <th>...</th>\n",
       "      <th>wow</th>\n",
       "      <th>write</th>\n",
       "      <th>wrong</th>\n",
       "      <th>year</th>\n",
       "      <th>years</th>\n",
       "      <th>yelp</th>\n",
       "      <th>yes</th>\n",
       "      <th>young</th>\n",
       "      <th>yum</th>\n",
       "      <th>yummy</th>\n",
       "    </tr>\n",
       "  </thead>\n",
       "  <tbody>\n",
       "    <tr>\n",
       "      <th>0</th>\n",
       "      <td>0</td>\n",
       "      <td>0</td>\n",
       "      <td>0</td>\n",
       "      <td>0</td>\n",
       "      <td>0</td>\n",
       "      <td>0</td>\n",
       "      <td>1</td>\n",
       "      <td>0</td>\n",
       "      <td>0</td>\n",
       "      <td>0</td>\n",
       "      <td>...</td>\n",
       "      <td>0</td>\n",
       "      <td>0</td>\n",
       "      <td>0</td>\n",
       "      <td>0</td>\n",
       "      <td>0</td>\n",
       "      <td>0</td>\n",
       "      <td>0</td>\n",
       "      <td>0</td>\n",
       "      <td>0</td>\n",
       "      <td>0</td>\n",
       "    </tr>\n",
       "    <tr>\n",
       "      <th>1</th>\n",
       "      <td>0</td>\n",
       "      <td>0</td>\n",
       "      <td>0</td>\n",
       "      <td>0</td>\n",
       "      <td>0</td>\n",
       "      <td>0</td>\n",
       "      <td>0</td>\n",
       "      <td>0</td>\n",
       "      <td>0</td>\n",
       "      <td>0</td>\n",
       "      <td>...</td>\n",
       "      <td>0</td>\n",
       "      <td>0</td>\n",
       "      <td>0</td>\n",
       "      <td>0</td>\n",
       "      <td>0</td>\n",
       "      <td>0</td>\n",
       "      <td>0</td>\n",
       "      <td>0</td>\n",
       "      <td>0</td>\n",
       "      <td>0</td>\n",
       "    </tr>\n",
       "    <tr>\n",
       "      <th>2</th>\n",
       "      <td>0</td>\n",
       "      <td>0</td>\n",
       "      <td>0</td>\n",
       "      <td>0</td>\n",
       "      <td>0</td>\n",
       "      <td>0</td>\n",
       "      <td>0</td>\n",
       "      <td>1</td>\n",
       "      <td>1</td>\n",
       "      <td>0</td>\n",
       "      <td>...</td>\n",
       "      <td>0</td>\n",
       "      <td>0</td>\n",
       "      <td>0</td>\n",
       "      <td>1</td>\n",
       "      <td>0</td>\n",
       "      <td>0</td>\n",
       "      <td>0</td>\n",
       "      <td>1</td>\n",
       "      <td>0</td>\n",
       "      <td>0</td>\n",
       "    </tr>\n",
       "    <tr>\n",
       "      <th>3</th>\n",
       "      <td>0</td>\n",
       "      <td>0</td>\n",
       "      <td>0</td>\n",
       "      <td>0</td>\n",
       "      <td>0</td>\n",
       "      <td>0</td>\n",
       "      <td>0</td>\n",
       "      <td>0</td>\n",
       "      <td>0</td>\n",
       "      <td>0</td>\n",
       "      <td>...</td>\n",
       "      <td>0</td>\n",
       "      <td>0</td>\n",
       "      <td>0</td>\n",
       "      <td>0</td>\n",
       "      <td>0</td>\n",
       "      <td>0</td>\n",
       "      <td>0</td>\n",
       "      <td>0</td>\n",
       "      <td>0</td>\n",
       "      <td>0</td>\n",
       "    </tr>\n",
       "    <tr>\n",
       "      <th>4</th>\n",
       "      <td>0</td>\n",
       "      <td>0</td>\n",
       "      <td>0</td>\n",
       "      <td>0</td>\n",
       "      <td>1</td>\n",
       "      <td>1</td>\n",
       "      <td>0</td>\n",
       "      <td>0</td>\n",
       "      <td>0</td>\n",
       "      <td>0</td>\n",
       "      <td>...</td>\n",
       "      <td>0</td>\n",
       "      <td>0</td>\n",
       "      <td>0</td>\n",
       "      <td>0</td>\n",
       "      <td>0</td>\n",
       "      <td>0</td>\n",
       "      <td>0</td>\n",
       "      <td>0</td>\n",
       "      <td>0</td>\n",
       "      <td>0</td>\n",
       "    </tr>\n",
       "  </tbody>\n",
       "</table>\n",
       "<p>5 rows × 1000 columns</p>\n",
       "</div>"
      ],
      "text/plain": [
       "   00  10  100  11  12  15  20  24  25  30  ...  wow  write  wrong  year  \\\n",
       "0   0   0    0   0   0   0   1   0   0   0  ...    0      0      0     0   \n",
       "1   0   0    0   0   0   0   0   0   0   0  ...    0      0      0     0   \n",
       "2   0   0    0   0   0   0   0   1   1   0  ...    0      0      0     1   \n",
       "3   0   0    0   0   0   0   0   0   0   0  ...    0      0      0     0   \n",
       "4   0   0    0   0   1   1   0   0   0   0  ...    0      0      0     0   \n",
       "\n",
       "   years  yelp  yes  young  yum  yummy  \n",
       "0      0     0    0      0    0      0  \n",
       "1      0     0    0      0    0      0  \n",
       "2      0     0    0      1    0      0  \n",
       "3      0     0    0      0    0      0  \n",
       "4      0     0    0      0    0      0  \n",
       "\n",
       "[5 rows x 1000 columns]"
      ]
     },
     "execution_count": 17,
     "metadata": {},
     "output_type": "execute_result"
    }
   ],
   "source": [
    "# Use Scikit-Learn's CountVectorizer to get word counts for each listing.\n",
    "vect = CountVectorizer(stop_words = STOPWORDS, max_features=1000)\n",
    "# fit the model on reviews\n",
    "vect.fit(reviews)\n",
    "# create a matrix\n",
    "dtm = vect.transform(reviews)\n",
    "\n",
    "dtm = pd.DataFrame(dtm.todense(), columns = vect.get_feature_names())\n",
    "\n",
    "dtm.head()"
   ]
  },
  {
   "cell_type": "code",
   "execution_count": 18,
   "metadata": {},
   "outputs": [
    {
     "data": {
      "text/html": [
       "<div>\n",
       "<style scoped>\n",
       "    .dataframe tbody tr th:only-of-type {\n",
       "        vertical-align: middle;\n",
       "    }\n",
       "\n",
       "    .dataframe tbody tr th {\n",
       "        vertical-align: top;\n",
       "    }\n",
       "\n",
       "    .dataframe thead th {\n",
       "        text-align: right;\n",
       "    }\n",
       "</style>\n",
       "<table border=\"1\" class=\"dataframe\">\n",
       "  <thead>\n",
       "    <tr style=\"text-align: right;\">\n",
       "      <th></th>\n",
       "      <th>00</th>\n",
       "      <th>10</th>\n",
       "      <th>10 minutes</th>\n",
       "      <th>100</th>\n",
       "      <th>11</th>\n",
       "      <th>12</th>\n",
       "      <th>15</th>\n",
       "      <th>15 minutes</th>\n",
       "      <th>20</th>\n",
       "      <th>20 minutes</th>\n",
       "      <th>...</th>\n",
       "      <th>write</th>\n",
       "      <th>wrong</th>\n",
       "      <th>year</th>\n",
       "      <th>years</th>\n",
       "      <th>years ago</th>\n",
       "      <th>yelp</th>\n",
       "      <th>yes</th>\n",
       "      <th>young</th>\n",
       "      <th>yum</th>\n",
       "      <th>yummy</th>\n",
       "    </tr>\n",
       "  </thead>\n",
       "  <tbody>\n",
       "    <tr>\n",
       "      <th>0</th>\n",
       "      <td>0.0</td>\n",
       "      <td>0.0</td>\n",
       "      <td>0.0</td>\n",
       "      <td>0.0</td>\n",
       "      <td>0.0</td>\n",
       "      <td>0.000000</td>\n",
       "      <td>0.000000</td>\n",
       "      <td>0.0</td>\n",
       "      <td>0.166002</td>\n",
       "      <td>0.211222</td>\n",
       "      <td>...</td>\n",
       "      <td>0.0</td>\n",
       "      <td>0.0</td>\n",
       "      <td>0.000000</td>\n",
       "      <td>0.0</td>\n",
       "      <td>0.0</td>\n",
       "      <td>0.0</td>\n",
       "      <td>0.0</td>\n",
       "      <td>0.000000</td>\n",
       "      <td>0.0</td>\n",
       "      <td>0.0</td>\n",
       "    </tr>\n",
       "    <tr>\n",
       "      <th>1</th>\n",
       "      <td>0.0</td>\n",
       "      <td>0.0</td>\n",
       "      <td>0.0</td>\n",
       "      <td>0.0</td>\n",
       "      <td>0.0</td>\n",
       "      <td>0.000000</td>\n",
       "      <td>0.000000</td>\n",
       "      <td>0.0</td>\n",
       "      <td>0.000000</td>\n",
       "      <td>0.000000</td>\n",
       "      <td>...</td>\n",
       "      <td>0.0</td>\n",
       "      <td>0.0</td>\n",
       "      <td>0.000000</td>\n",
       "      <td>0.0</td>\n",
       "      <td>0.0</td>\n",
       "      <td>0.0</td>\n",
       "      <td>0.0</td>\n",
       "      <td>0.000000</td>\n",
       "      <td>0.0</td>\n",
       "      <td>0.0</td>\n",
       "    </tr>\n",
       "    <tr>\n",
       "      <th>2</th>\n",
       "      <td>0.0</td>\n",
       "      <td>0.0</td>\n",
       "      <td>0.0</td>\n",
       "      <td>0.0</td>\n",
       "      <td>0.0</td>\n",
       "      <td>0.000000</td>\n",
       "      <td>0.000000</td>\n",
       "      <td>0.0</td>\n",
       "      <td>0.000000</td>\n",
       "      <td>0.000000</td>\n",
       "      <td>...</td>\n",
       "      <td>0.0</td>\n",
       "      <td>0.0</td>\n",
       "      <td>0.121427</td>\n",
       "      <td>0.0</td>\n",
       "      <td>0.0</td>\n",
       "      <td>0.0</td>\n",
       "      <td>0.0</td>\n",
       "      <td>0.153053</td>\n",
       "      <td>0.0</td>\n",
       "      <td>0.0</td>\n",
       "    </tr>\n",
       "    <tr>\n",
       "      <th>3</th>\n",
       "      <td>0.0</td>\n",
       "      <td>0.0</td>\n",
       "      <td>0.0</td>\n",
       "      <td>0.0</td>\n",
       "      <td>0.0</td>\n",
       "      <td>0.000000</td>\n",
       "      <td>0.000000</td>\n",
       "      <td>0.0</td>\n",
       "      <td>0.000000</td>\n",
       "      <td>0.000000</td>\n",
       "      <td>...</td>\n",
       "      <td>0.0</td>\n",
       "      <td>0.0</td>\n",
       "      <td>0.000000</td>\n",
       "      <td>0.0</td>\n",
       "      <td>0.0</td>\n",
       "      <td>0.0</td>\n",
       "      <td>0.0</td>\n",
       "      <td>0.000000</td>\n",
       "      <td>0.0</td>\n",
       "      <td>0.0</td>\n",
       "    </tr>\n",
       "    <tr>\n",
       "      <th>4</th>\n",
       "      <td>0.0</td>\n",
       "      <td>0.0</td>\n",
       "      <td>0.0</td>\n",
       "      <td>0.0</td>\n",
       "      <td>0.0</td>\n",
       "      <td>0.170251</td>\n",
       "      <td>0.152531</td>\n",
       "      <td>0.0</td>\n",
       "      <td>0.000000</td>\n",
       "      <td>0.000000</td>\n",
       "      <td>...</td>\n",
       "      <td>0.0</td>\n",
       "      <td>0.0</td>\n",
       "      <td>0.000000</td>\n",
       "      <td>0.0</td>\n",
       "      <td>0.0</td>\n",
       "      <td>0.0</td>\n",
       "      <td>0.0</td>\n",
       "      <td>0.000000</td>\n",
       "      <td>0.0</td>\n",
       "      <td>0.0</td>\n",
       "    </tr>\n",
       "  </tbody>\n",
       "</table>\n",
       "<p>5 rows × 1000 columns</p>\n",
       "</div>"
      ],
      "text/plain": [
       "    00   10  10 minutes  100   11        12        15  15 minutes        20  \\\n",
       "0  0.0  0.0         0.0  0.0  0.0  0.000000  0.000000         0.0  0.166002   \n",
       "1  0.0  0.0         0.0  0.0  0.0  0.000000  0.000000         0.0  0.000000   \n",
       "2  0.0  0.0         0.0  0.0  0.0  0.000000  0.000000         0.0  0.000000   \n",
       "3  0.0  0.0         0.0  0.0  0.0  0.000000  0.000000         0.0  0.000000   \n",
       "4  0.0  0.0         0.0  0.0  0.0  0.170251  0.152531         0.0  0.000000   \n",
       "\n",
       "   20 minutes  ...  write  wrong      year  years  years ago  yelp  yes  \\\n",
       "0    0.211222  ...    0.0    0.0  0.000000    0.0        0.0   0.0  0.0   \n",
       "1    0.000000  ...    0.0    0.0  0.000000    0.0        0.0   0.0  0.0   \n",
       "2    0.000000  ...    0.0    0.0  0.121427    0.0        0.0   0.0  0.0   \n",
       "3    0.000000  ...    0.0    0.0  0.000000    0.0        0.0   0.0  0.0   \n",
       "4    0.000000  ...    0.0    0.0  0.000000    0.0        0.0   0.0  0.0   \n",
       "\n",
       "      young  yum  yummy  \n",
       "0  0.000000  0.0    0.0  \n",
       "1  0.000000  0.0    0.0  \n",
       "2  0.153053  0.0    0.0  \n",
       "3  0.000000  0.0    0.0  \n",
       "4  0.000000  0.0    0.0  \n",
       "\n",
       "[5 rows x 1000 columns]"
      ]
     },
     "execution_count": 18,
     "metadata": {},
     "output_type": "execute_result"
    }
   ],
   "source": [
    "# Use Scikit-Learn's tfidfVectorizer to get a TF-IDF feature matrix\n",
    "# instantiate vectorizer object\n",
    "tfidf = TfidfVectorizer(stop_words=STOPWORDS,\n",
    "                       ngram_range=(1,2),\n",
    "                       max_df=.97,\n",
    "                       min_df=3,\n",
    "                       max_features=1000)\n",
    "\n",
    "# create a vocabulary and get word counts\n",
    "dtm = tfidf.fit_transform(reviews)\n",
    "\n",
    "# get feature names to use as dataframe column headers\n",
    "dtm = pd.DataFrame(dtm.todense(), columns=tfidf.get_feature_names())\n",
    "\n",
    "# view feature matrix as dataframe\n",
    "dtm.head()"
   ]
  },
  {
   "cell_type": "code",
   "execution_count": 19,
   "metadata": {},
   "outputs": [
    {
     "data": {
      "text/plain": [
       "NearestNeighbors(algorithm='kd_tree', leaf_size=30, metric='minkowski',\n",
       "                 metric_params=None, n_jobs=None, n_neighbors=10, p=2,\n",
       "                 radius=1.0)"
      ]
     },
     "execution_count": 19,
     "metadata": {},
     "output_type": "execute_result"
    }
   ],
   "source": [
    "# Create a NearestNeighbor Model. \n",
    "\n",
    "from sklearn.neighbors import NearestNeighbors\n",
    "\n",
    "# fit on dtm\n",
    "nn = NearestNeighbors(n_neighbors=10, algorithm='kd_tree')\n",
    "nn.fit(dtm)"
   ]
  },
  {
   "cell_type": "code",
   "execution_count": 20,
   "metadata": {},
   "outputs": [],
   "source": [
    "# Write a fake review and query for the 10 most similiar reviews, print the text of the reviews\n",
    "my_review = ['''I absolutely love my kindle! It is the best thing that ever happened to me!''']"
   ]
  },
  {
   "cell_type": "code",
   "execution_count": 21,
   "metadata": {},
   "outputs": [],
   "source": [
    "# query using nneighbors\n",
    "# turn the review into a tf idf vector\n",
    "my_review = tfidf.transform(my_review)"
   ]
  },
  {
   "cell_type": "code",
   "execution_count": 23,
   "metadata": {},
   "outputs": [
    {
     "data": {
      "text/plain": [
       "(array([[1.        , 1.        , 1.07361278, 1.103153  , 1.15348974,\n",
       "         1.17428988, 1.17742112, 1.18006378, 1.19071625, 1.20242329]]),\n",
       " array([[6204, 6311, 2815, 4893, 5044, 3038, 4910, 5207, 8038, 6263]]))"
      ]
     },
     "execution_count": 23,
     "metadata": {},
     "output_type": "execute_result"
    }
   ],
   "source": [
    "# turn the tf idf vector into a dense matrix\n",
    "# while plugging it into our knearest neighbors model\n",
    "nn.kneighbors(my_review.todense())"
   ]
  },
  {
   "cell_type": "code",
   "execution_count": 26,
   "metadata": {},
   "outputs": [
    {
     "name": "stdout",
     "output_type": "stream",
     "text": [
      "旅行でラスベガスに来ましたがネイルがはげてるのが気になり、探したお店でした。\n",
      "質問にも丁寧に答えてくれましたし、日本人の方も日本語が話せる方も居て、とても綺麗で居心地のいいお店でした。 \n",
      "ネイルはちはるさんと言う綺麗な方が丁寧にしてくれとても気に入りました。\n",
      "予定になかったまつ毛エクステもお願いし、日本ではまだあまりないブラウンカラーのエクステをしてもらい、とても気に入りました。\n",
      "また是非マッサージなどで伺いたいと思います。\n",
      "______________________________________________________________________\n",
      "1\n",
      "天氣很熱吃不下東西，今天我點了一個韓國冷面湯、餐後點了甜點，冰沙系列不會太甜膩，覺得店家很用心製作，包含擺盤精緻、佐料衛生，夏日想開胃，這是一個不錯的選擇，服務人員也很敬業，以後會常常來\n",
      "______________________________________________________________________\n",
      "2\n",
      "I absolutely love this store so much! Amazing prices and the staff is the friendliest ever. This location is absolutely favorite. Tiffany. Sups amazing girl and I would love to be her best friend!!\n",
      "______________________________________________________________________\n",
      "3\n",
      "Absolutely love this place. They have the best candies and we learned some cool history on Haribo today.  The Haribo cherries and the green frogs are the best. Me and my boyfriend come here whenever we're in the neighborhood. Love the guy in there he has the best personality and is so genuine\n",
      "______________________________________________________________________\n",
      "4\n",
      "Not worth a single dollar. The service was the best thing. Also the best thing was water. \n",
      "Food was horrible. Unfortunately Nickels has lost it !!! Never again !\n",
      "______________________________________________________________________\n",
      "5\n",
      "I absolutely love this place! It's so cute and love their drinks. Tea swirl is definitely my favor place to get boba.\n",
      "______________________________________________________________________\n",
      "6\n",
      "Just had gelato here for the 50th time. It sucks! What happened? This was the best place in town! Banana and strawberry both sucked, barely distinguishable flavour, dilutes or something? New management? Go back to previous formula - you were best in town just a few months ago!\n",
      "______________________________________________________________________\n",
      "7\n",
      "Food is good. Pretty similar to the Texas Rudy's. But the atmosphere is not. It's \"Welcome to Rudy's!\" not \"Hi, how are you?\" And whatever happened to the \"Heyyy Rudy!!\" Cheer for newcomers?\n",
      "______________________________________________________________________\n",
      "8\n",
      "Amanda is absolutely amazing. I've been looking everywhere for a stylist/barber, and she is absolutely the best. I've exhausted all the barbers in my area before I decided to venture out of my area, and I'm glad I did. Amanda can pretty much blend anything so I'd recommend checking her out!\n",
      "______________________________________________________________________\n",
      "9\n",
      "I just received the best pedicure here. I am not sure of the mans name but he is absolutely WONDERFUL! I feel like many of my pedicures have been rushed and this was not the case at all. He gives amazing foot and leg massages! It is absolutely worth the price! Will be back for sure!\n",
      "______________________________________________________________________\n",
      "10\n"
     ]
    }
   ],
   "source": [
    "indices = [6204, 6311, 2815, 4893, 5044, 3038, 4910, 5207, 8038, 6263]\n",
    "counter = 1\n",
    "for index in indices:\n",
    "    print(token_df['reviews'][index])\n",
    "    print('______________________________________________________________________')\n",
    "    print(counter)\n",
    "    counter = counter + 1"
   ]
  },
  {
   "cell_type": "markdown",
   "metadata": {},
   "source": [
    "## Part 3: Classification\n",
    "<a id=\"#p3\"></a>\n",
    "Your goal in this section will be to predict `stars` from the review dataset. \n",
    "\n",
    "1. Create a piepline object with a sklearn `CountVectorizer` or `TfidfVector` and any sklearn classifier. Use that pipeline to estimate a model to predict `stars`. Use the Pipeline to predict a star rating for your fake review from Part 2. \n",
    "2. Tune the entire pipeline with a GridSearch"
   ]
  },
  {
   "cell_type": "code",
   "execution_count": 27,
   "metadata": {},
   "outputs": [],
   "source": [
    "# imports\n",
    "from sklearn.pipeline import Pipeline\n",
    "from sklearn.ensemble import RandomForestClassifier\n",
    "from sklearn.model_selection import GridSearchCV\n",
    "from sklearn.feature_extraction.text import TfidfVectorizer\n",
    "from sklearn.model_selection import RandomizedSearchCV"
   ]
  },
  {
   "cell_type": "code",
   "execution_count": 29,
   "metadata": {},
   "outputs": [],
   "source": [
    "# define pipeline components\n",
    "vect = TfidfVectorizer(stop_words = STOPWORDS, ngram_range = (1,2))\n",
    "clf = RandomForestClassifier()\n",
    "\n",
    "pipe = Pipeline([('vect', vect), ('clf', clf)])"
   ]
  },
  {
   "cell_type": "code",
   "execution_count": 30,
   "metadata": {},
   "outputs": [
    {
     "name": "stdout",
     "output_type": "stream",
     "text": [
      "Fitting 5 folds for each of 32 candidates, totalling 160 fits\n"
     ]
    },
    {
     "name": "stderr",
     "output_type": "stream",
     "text": [
      "[Parallel(n_jobs=-1)]: Using backend LokyBackend with 8 concurrent workers.\n",
      "[Parallel(n_jobs=-1)]: Done  34 tasks      | elapsed:   19.7s\n",
      "[Parallel(n_jobs=-1)]: Done 160 out of 160 | elapsed:  1.7min finished\n"
     ]
    },
    {
     "data": {
      "text/plain": [
       "GridSearchCV(cv=5, error_score=nan,\n",
       "             estimator=Pipeline(memory=None,\n",
       "                                steps=[('vect',\n",
       "                                        TfidfVectorizer(analyzer='word',\n",
       "                                                        binary=False,\n",
       "                                                        decode_error='strict',\n",
       "                                                        dtype=<class 'numpy.float64'>,\n",
       "                                                        encoding='utf-8',\n",
       "                                                        input='content',\n",
       "                                                        lowercase=True,\n",
       "                                                        max_df=1.0,\n",
       "                                                        max_features=None,\n",
       "                                                        min_df=1,\n",
       "                                                        ngram_range=(1, 2),\n",
       "                                                        norm='l2',\n",
       "                                                        preprocessor=None,\n",
       "                                                        smooth_idf=True,\n",
       "                                                        stop_words={'a',\n",
       "                                                                    'about',\n",
       "                                                                    'a...\n",
       "                                                               n_jobs=None,\n",
       "                                                               oob_score=False,\n",
       "                                                               random_state=None,\n",
       "                                                               verbose=0,\n",
       "                                                               warm_start=False))],\n",
       "                                verbose=False),\n",
       "             iid='deprecated', n_jobs=-1,\n",
       "             param_grid={'clf__max_depth': (15, 30),\n",
       "                         'clf__n_estimators': (5, 20),\n",
       "                         'vect__max_df': (0.75, 1.0),\n",
       "                         'vect__max_features': (500, 2000),\n",
       "                         'vect__min_df': (0.02, 0.05)},\n",
       "             pre_dispatch='2*n_jobs', refit=True, return_train_score=False,\n",
       "             scoring=None, verbose=1)"
      ]
     },
     "execution_count": 30,
     "metadata": {},
     "output_type": "execute_result"
    }
   ],
   "source": [
    "# define the search space and look for the best hyperparameters of the vectorizer and the classification model\n",
    "parameters = {\n",
    "    'vect__max_df': ( 0.75, 1.0), # these are words that are more common\n",
    "    'vect__min_df': (.02, .05), # these represent words that are rare\n",
    "    'vect__max_features': (500,2000),\n",
    "    'clf__n_estimators':(5, 20),\n",
    "    'clf__max_depth':(15,30)\n",
    "}\n",
    "\n",
    "grid_search = GridSearchCV(pipe,parameters, cv=5, n_jobs=-1, verbose=1)\n",
    "grid_search.fit(token_df['reviews'], token_df['stars'])"
   ]
  },
  {
   "cell_type": "code",
   "execution_count": 32,
   "metadata": {},
   "outputs": [
    {
     "name": "stdout",
     "output_type": "stream",
     "text": [
      "[5] [1]\n"
     ]
    }
   ],
   "source": [
    "# Prediction on my review\n",
    "my_good_review = ['''I absolutely love my kindle! It is the best thing that ever happened to me!''']\n",
    "my_bad_review = ['''This product is awful. Seriously the worst thing I have ever bought EVER!''']\n",
    "pred = grid_search.predict(my_good_review)\n",
    "pred2 = grid_search.predict(my_bad_review)\n",
    "print(pred, pred2)"
   ]
  },
  {
   "cell_type": "markdown",
   "metadata": {},
   "source": [
    "## Part 4: Topic Modeling\n",
    "\n",
    "Let's find out what those yelp reviews are saying! :D\n",
    "\n",
    "1. Estimate a LDA topic model of the review text\n",
    "    - Keep the `iterations` parameter at or below 5 to reduce run time\n",
    "    - The `workers` parameter should match the number of physical cores on your machine.\n",
    "2. Create 1-2 visualizations of the results\n",
    "    - You can use the most important 3 words of a topic in relevant visualizations. Refer to yesterday's notebook to extract. \n",
    "3. In markdown, write 1-2 paragraphs of analysis on the results of your topic model\n",
    "\n",
    "__*Note*__: You can pass the DataFrame column of text reviews to gensim. You do not have to use a generator."
   ]
  },
  {
   "cell_type": "code",
   "execution_count": 33,
   "metadata": {
    "inputHidden": false,
    "outputHidden": false
   },
   "outputs": [],
   "source": [
    "from gensim.models import LdaMulticore\n",
    "from gensim.corpora import Dictionary"
   ]
  },
  {
   "cell_type": "markdown",
   "metadata": {},
   "source": [
    "Learn the vocubalary of the yelp data:"
   ]
  },
  {
   "cell_type": "code",
   "execution_count": 34,
   "metadata": {},
   "outputs": [],
   "source": [
    "id2word = corpora.Dictionary(token_df['token_reviews'])"
   ]
  },
  {
   "cell_type": "markdown",
   "metadata": {},
   "source": [
    "Create a bag of words representation of the entire corpus"
   ]
  },
  {
   "cell_type": "code",
   "execution_count": 35,
   "metadata": {
    "inputHidden": false,
    "outputHidden": false
   },
   "outputs": [],
   "source": [
    "corpus = [id2word.doc2bow(text) for text in token_df['token_reviews']]"
   ]
  },
  {
   "cell_type": "markdown",
   "metadata": {},
   "source": [
    "Your LDA model should be ready for estimation: "
   ]
  },
  {
   "cell_type": "code",
   "execution_count": 36,
   "metadata": {
    "inputHidden": false,
    "outputHidden": false
   },
   "outputs": [],
   "source": [
    "lda = LdaMulticore(corpus=corpus,\n",
    "                   id2word=id2word,\n",
    "                   iterations=5,\n",
    "                   workers=4,\n",
    "                   num_topics = 10 # You can change this parameter\n",
    "                  )"
   ]
  },
  {
   "cell_type": "markdown",
   "metadata": {},
   "source": [
    "Create 1-2 visualizations of the results"
   ]
  },
  {
   "cell_type": "code",
   "execution_count": 37,
   "metadata": {
    "inputHidden": false,
    "outputHidden": false
   },
   "outputs": [
    {
     "data": {
      "text/html": [
       "\n",
       "<link rel=\"stylesheet\" type=\"text/css\" href=\"https://cdn.rawgit.com/bmabey/pyLDAvis/files/ldavis.v1.0.0.css\">\n",
       "\n",
       "\n",
       "<div id=\"ldavis_el1111404560622644803076839418\"></div>\n",
       "<script type=\"text/javascript\">\n",
       "\n",
       "var ldavis_el1111404560622644803076839418_data = {\"mdsDat\": {\"x\": [0.003055025397071971, -0.002864097095193287, -0.00232566916172417, 0.0027692099682694303, 0.0005189859662660728, 0.00024066529719551355, -0.00138764403089386, 0.003913511179059424, 0.0001416871714039882, -0.0040616746914551], \"y\": [-0.0030316200939222437, -0.0015677418255074457, 0.00018255417911880733, -0.0010632216566130212, -0.002853790529431403, 0.0018743391448690066, -0.0028466379588110075, 0.0035040587058924174, 0.003585970672552384, 0.0022160893618525007], \"topics\": [1, 2, 3, 4, 5, 6, 7, 8, 9, 10], \"cluster\": [1, 1, 1, 1, 1, 1, 1, 1, 1, 1], \"Freq\": [10.644784927368164, 10.424609184265137, 10.118363380432129, 10.029547691345215, 10.028656959533691, 10.027138710021973, 9.926153182983398, 9.842865943908691, 9.660736083984375, 9.297140121459961]}, \"tinfo\": {\"Term\": [\"service\", \"good\", \"place\", \"like\", \"food\", \"great\", \"nice\", \"work\", \"better\", \"love\", \"ve\", \"little\", \"order\", \"day\", \"chicken\", \"pizza\", \"bad\", \"friendly\", \"going\", \"ordered\", \"fresh\", \"beer\", \"vegas\", \"try\", \"went\", \"got\", \"experience\", \"best\", \"sauce\", \"staff\", \"jeffery\", \"kristy\", \"melinda\", \"golfweek\", \"kang\", \"giardinara\", \"\\u3068\\u3066\\u3082\\u6c17\\u306b\\u5165\\u308a\\u307e\\u3057\\u305f\", \"diavola\", \"cos\", \"purolator\", \"daaayyuuummm\", \"kashi\", \"perpetual\", \"cosmetically\", \"sevice\", \"suxs\", \"inconvience\", \"loathe\", \"spritz\", \"haunted\", \"dye\", \"saddest\", \"bri\", \"dane\", \"harlow\", \"labove\", \"tarte\", \"romper\", \"incred\", \"clogging\", \"bobbie\", \"feast\", \"pizza\", \"erica\", \"termite\", \"yummy\", \"need\", \"weeks\", \"price\", \"good\", \"amazing\", \"great\", \"prefer\", \"met\", \"went\", \"staff\", \"evening\", \"fantastic\", \"took\", \"day\", \"looking\", \"stop\", \"buffet\", \"time\", \"got\", \"thought\", \"service\", \"minutes\", \"excellent\", \"store\", \"loved\", \"vegas\", \"big\", \"fried\", \"bit\", \"hot\", \"friendly\", \"food\", \"place\", \"come\", \"nice\", \"ordered\", \"definitely\", \"restaurant\", \"recommend\", \"came\", \"know\", \"try\", \"delicious\", \"like\", \"love\", \"best\", \"ve\", \"order\", \"people\", \"fridendly\", \"fastest\", \"ev\", \"coffeeshop\", \"neil\", \"linda\", \"momma\", \"solash\", \"cary\", \"sono\", \"kibbi\", \"bello\", \"samantha\", \"operative\", \"naga\", \"conchas\", \"iffy\", \"cos\", \"stacey\", \"matzo\", \"wor\", \"mantu\", \"kafta\", \"deliverance\", \"whoopers\", \"injections\", \"papas\", \"mochiko\", \"pearson\", \"geico\", \"taffy\", \"tastey\", \"topper\", \"cramps\", \"cooked\", \"vegas\", \"food\", \"like\", \"mango\", \"size\", \"menu\", \"good\", \"new\", \"extra\", \"sandwich\", \"love\", \"want\", \"great\", \"extremely\", \"small\", \"place\", \"best\", \"places\", \"sushi\", \"going\", \"order\", \"time\", \"think\", \"said\", \"try\", \"day\", \"seated\", \"customer\", \"probably\", \"dinner\", \"got\", \"ordered\", \"chicken\", \"restaurant\", \"amazing\", \"came\", \"staff\", \"ve\", \"delicious\", \"come\", \"service\", \"nice\", \"went\", \"definitely\", \"shimp\", \"everrrrr\", \"luci\", \"demonic\", \"insectarium\", \"mississippi\", \"swedish\", \"shipper\", \"tso\", \"luxuriously\", \"matthew\", \"frumpy\", \"tn\", \"squishies\", \"blizzards\", \"serval\", \"gooood\", \"barhopping\", \"pennies\", \"losses\", \"magnolia\", \"puffs\", \"substandard\", \"hudson\", \"greentea\", \"sparring\", \"minon\", \"vera\", \"ceux\", \"vein\", \"daaayyuuummm\", \"doughnuts\", \"gambling\", \"breakfast\", \"love\", \"stars\", \"week\", \"carne\", \"gym\", \"come\", \"times\", \"large\", \"different\", \"sauce\", \"great\", \"eat\", \"glad\", \"like\", \"service\", \"order\", \"little\", \"chicken\", \"recommend\", \"disappointed\", \"rice\", \"place\", \"fries\", \"try\", \"good\", \"tacos\", \"food\", \"salad\", \"best\", \"want\", \"ve\", \"delicious\", \"pretty\", \"time\", \"people\", \"menu\", \"room\", \"friendly\", \"wait\", \"came\", \"got\", \"amazing\", \"went\", \"nice\", \"ordered\", \"definitely\", \"restaurant\", \"inspections\", \"imcomplete\", \"yuk\", \"janet\", \"flannery\", \"livermush\", \"occur\", \"medallions\", \"pimpin\", \"yc\", \"tostones\", \"liz\", \"squishies\", \"cpap\", \"od\", \"aumon\", \"chompies\", \"jido\", \"bearded\", \"pterodactyl\", \"alam\", \"migraines\", \"mariana\", \"kristina\", \"dickens\", \"blitzer\", \"pittsburg\", \"hummed\", \"nieces\", \"lydia\", \"lauren\", \"swedish\", \"milkshake\", \"environment\", \"austin\", \"wait\", \"experience\", \"kudos\", \"actors\", \"trip\", \"card\", \"hour\", \"quality\", \"week\", \"delicious\", \"making\", \"meal\", \"people\", \"little\", \"gets\", \"average\", \"place\", \"long\", \"happy\", \"price\", \"good\", \"awesome\", \"pizza\", \"order\", \"bit\", \"lunch\", \"horrible\", \"know\", \"said\", \"room\", \"staff\", \"bar\", \"food\", \"came\", \"location\", \"like\", \"went\", \"great\", \"time\", \"come\", \"service\", \"love\", \"got\", \"restaurant\", \"ordered\", \"chicken\", \"way\", \"amazing\", \"going\", \"best\", \"try\", \"nice\", \"ve\", \"costumers\", \"stagette\", \"pavers\", \"tellers\", \"ajay\", \"mauriccio\", \"goddess\", \"severs\", \"discontinue\", \"nitro\", \"pediatrics\", \"coffe\", \"cary\", \"ktown\", \"booster\", \"ghirardelli\", \"andre\", \"angelica\", \"preseason\", \"gifting\", \"difinitly\", \"spirts\", \"getgo\", \"amature\", \"righting\", \"everrr\", \"nancy\", \"functional\", \"diapers\", \"outsourced\", \"apple\", \"bait\", \"backyard\", \"small\", \"changed\", \"sushi\", \"year\", \"owner\", \"long\", \"green\", \"results\", \"man\", \"coffee\", \"work\", \"chicken\", \"little\", \"wrong\", \"bar\", \"ll\", \"soup\", \"great\", \"use\", \"dinner\", \"easy\", \"good\", \"day\", \"cheese\", \"went\", \"order\", \"lot\", \"wanted\", \"staff\", \"food\", \"salad\", \"came\", \"try\", \"service\", \"bit\", \"ve\", \"like\", \"amazing\", \"sure\", \"time\", \"got\", \"friendly\", \"place\", \"delicious\", \"nice\", \"know\", \"experience\", \"people\", \"definitely\", \"best\", \"ordered\", \"come\", \"stabbed\", \"badder\", \"bangle\", \"chaleureux\", \"pittsburg\", \"froide\", \"walkthrough\", \"greenhouse\", \"peru\", \"brookline\", \"instruments\", \"reece\", \"pruitt\", \"ian\", \"suitemates\", \"shelepak\", \"butterflies\", \"delivary\", \"chauffeured\", \"accueil\", \"nontraditional\", \"weapons\", \"gina\", \"woop\", \"wilkes\", \"cwru\", \"negotiated\", \"nadine\", \"valerie\", \"proud\", \"stuffy\", \"exceeding\", \"zane\", \"nice\", \"able\", \"treatment\", \"restaurant\", \"special\", \"fun\", \"getting\", \"definitely\", \"today\", \"friendly\", \"staff\", \"awesome\", \"beef\", \"right\", \"wasn\", \"close\", \"service\", \"great\", \"day\", \"ve\", \"menu\", \"bar\", \"eat\", \"think\", \"time\", \"food\", \"quick\", \"night\", \"called\", \"amazing\", \"best\", \"like\", \"place\", \"better\", \"experience\", \"location\", \"going\", \"good\", \"way\", \"people\", \"love\", \"got\", \"came\", \"come\", \"ordered\", \"try\", \"shoooz\", \"abiance\", \"\\u63a2\\u3057\\u305f\\u304a\\u5e97\\u3067\\u3057\\u305f\", \"menudazo\", \"\\u3068\\u3066\\u3082\\u6c17\\u306b\\u5165\\u308a\\u307e\\u3057\\u305f\", \"tonite\", \"fufill\", \"darlene\", \"southend\", \"makets\", \"buckle\", \"disinfecting\", \"packers\", \"flatscreen\", \"sexier\", \"ricketts\", \"poms\", \"setups\", \"caliente\", \"operative\", \"mcqueen\", \"garbanzo\", \"especialy\", \"nan\", \"vadai\", \"gr\", \"dahl\", \"tasha\", \"atms\", \"bello\", \"iphone\", \"piri\", \"better\", \"screwed\", \"taxi\", \"minutes\", \"variety\", \"excellent\", \"worth\", \"fresh\", \"food\", \"end\", \"wonderful\", \"people\", \"meal\", \"lot\", \"try\", \"overall\", \"time\", \"hours\", \"looked\", \"best\", \"service\", \"cheese\", \"good\", \"like\", \"yelp\", \"options\", \"chicken\", \"sweet\", \"great\", \"know\", \"house\", \"told\", \"amazing\", \"ve\", \"definitely\", \"said\", \"love\", \"order\", \"come\", \"pretty\", \"place\", \"friendly\", \"ordered\", \"got\", \"way\", \"nice\", \"staff\", \"recommend\", \"came\", \"experience\", \"roomtastic\", \"delivary\", \"reared\", \"intelligently\", \"bb\", \"aryon\", \"leguizamo\", \"jina\", \"chauffeured\", \"engages\", \"paints\", \"wheelchair\", \"chitchatting\", \"rancheras\", \"aknowledgement\", \"leo\", \"chiropractor\", \"palmas\", \"clinical\", \"beause\", \"squishies\", \"chevy\", \"cos\", \"hookia\", \"advertising\", \"machiato\", \"youngstown\", \"bowers\", \"describes\", \"butterflies\", \"aussi\", \"hole\", \"bad\", \"shop\", \"going\", \"service\", \"tea\", \"hostess\", \"save\", \"place\", \"stand\", \"child\", \"cut\", \"working\", \"like\", \"store\", \"good\", \"ve\", \"nice\", \"left\", \"help\", \"pretty\", \"told\", \"visit\", \"got\", \"took\", \"fresh\", \"family\", \"perfect\", \"time\", \"recommend\", \"room\", \"coffee\", \"definitely\", \"best\", \"ll\", \"right\", \"food\", \"went\", \"want\", \"minutes\", \"great\", \"way\", \"work\", \"came\", \"menu\", \"little\", \"staff\", \"friendly\", \"ordered\", \"love\", \"people\", \"amazing\", \"yuk\", \"unimpressive\", \"pnw\", \"outbacks\", \"aptive\", \"makeovers\", \"belladonas\", \"aisha\", \"bind\", \"sandbar\", \"musubi\", \"luxuriously\", \"beause\", \"mikes\", \"worsed\", \"spraying\", \"definitly\", \"goin\", \"yik\", \"nb\", \"poising\", \"atms\", \"cranny\", \"chintzy\", \"environmental\", \"protectors\", \"hochelaga\", \"intelligent\", \"dons\", \"kupcake\", \"firefly\", \"depressed\", \"beer\", \"yo\", \"branch\", \"ignoring\", \"ok\", \"hard\", \"enjoyed\", \"pork\", \"having\", \"happy\", \"food\", \"wouldn\", \"advice\", \"service\", \"time\", \"went\", \"looks\", \"guess\", \"place\", \"table\", \"got\", \"nice\", \"makes\", \"know\", \"sauce\", \"lunch\", \"told\", \"think\", \"line\", \"trip\", \"day\", \"highly\", \"ordered\", \"experience\", \"little\", \"super\", \"ve\", \"people\", \"cheese\", \"room\", \"definitely\", \"delicious\", \"great\", \"good\", \"said\", \"recommend\", \"come\", \"friendly\", \"best\", \"came\", \"like\", \"love\", \"restaurant\", \"menu\", \"try\", \"staff\", \"posoleshawwty\", \"momma\", \"vein\", \"beleive\", \"paced\", \"golfweek\", \"jdt\", \"donair\", \"tuneup\", \"guacamolie\", \"cranny\", \"joanne\", \"diamonds\", \"bryanna\", \"turtle\", \"tattoos\", \"aptive\", \"bao\", \"sleeper\", \"beause\", \"inspiring\", \"heyyy\", \"grubhub\", \"cowabunga\", \"environmental\", \"respectueux\", \"trevor\", \"saddest\", \"disinfecting\", \"\\u4ee5\\u5f8c\\u6703\\u5e38\\u5e38\\u4f86\", \"pesky\", \"talent\", \"locked\", \"treasure\", \"chaat\", \"repair\", \"referring\", \"ordered\", \"quick\", \"counter\", \"parking\", \"work\", \"reasonable\", \"started\", \"guy\", \"right\", \"like\", \"place\", \"better\", \"new\", \"got\", \"favorite\", \"ve\", \"best\", \"dog\", \"friendly\", \"given\", \"things\", \"stay\", \"need\", \"took\", \"chicken\", \"store\", \"time\", \"order\", \"check\", \"friend\", \"pretty\", \"try\", \"came\", \"great\", \"restaurant\", \"food\", \"area\", \"lunch\", \"delicious\", \"love\", \"wasn\", \"nice\", \"little\", \"know\", \"good\", \"service\", \"definitely\", \"went\", \"staff\", \"come\"], \"Freq\": [3505.0, 4460.0, 4560.0, 3330.0, 4751.0, 4126.0, 1689.0, 906.0, 1115.0, 1587.0, 1858.0, 1372.0, 1449.0, 1166.0, 1343.0, 762.0, 801.0, 1336.0, 1108.0, 1487.0, 904.0, 474.0, 878.0, 1400.0, 1433.0, 1986.0, 1249.0, 1750.0, 789.0, 1505.0, 0.5432949662208557, 0.5249481201171875, 0.7060608863830566, 0.8943767547607422, 1.1399612426757812, 0.7851152420043945, 0.4075351357460022, 0.404660165309906, 0.7666298747062683, 0.9239625930786133, 0.7610370516777039, 0.39492490887641907, 0.748744010925293, 0.7387290596961975, 0.37442925572395325, 0.6982647180557251, 0.6946840286254883, 1.1433608531951904, 0.6701969504356384, 1.978806972503662, 1.4079569578170776, 0.657767653465271, 0.654772162437439, 1.2322622537612915, 0.7850503921508789, 0.3364335000514984, 0.7459272146224976, 0.6399410963058472, 0.3335919976234436, 0.4679133892059326, 2.0508267879486084, 2.8103513717651367, 145.2122344970703, 2.0640289783477783, 1.307483196258545, 40.44257354736328, 101.27471923828125, 36.038856506347656, 138.13174438476562, 635.4207763671875, 190.59542846679688, 542.1629028320312, 19.904417037963867, 20.789735794067383, 195.9622802734375, 201.79197692871094, 28.733287811279297, 58.51570129394531, 121.6001205444336, 156.05014038085938, 94.86627197265625, 52.71381759643555, 36.88505172729492, 390.9718322753906, 246.17686462402344, 68.17010498046875, 404.45819091796875, 117.73247528076172, 89.09806823730469, 91.2804183959961, 66.95085144042969, 113.66284942626953, 85.10285949707031, 67.9386215209961, 104.27043914794922, 77.05692291259766, 159.0606689453125, 460.15179443359375, 429.50421142578125, 161.5804443359375, 186.031982421875, 167.77651977539062, 158.38624572753906, 152.41802978515625, 131.99615478515625, 159.5196990966797, 134.63218688964844, 150.54660034179688, 131.9230499267578, 246.79647827148438, 155.52987670898438, 152.81605529785156, 154.8785400390625, 130.86196899414062, 128.2132568359375, 0.9839673638343811, 0.9713257551193237, 0.9490303993225098, 0.561943531036377, 0.39571642875671387, 1.4147374629974365, 0.7331379652023315, 0.38014888763427734, 0.7210296988487244, 0.713636040687561, 0.7005613446235657, 0.6988369822502136, 1.775970458984375, 0.6822264194488525, 0.3563660681247711, 0.6799789667129517, 2.4649035930633545, 0.6594278216362, 0.903965175151825, 0.6218374967575073, 1.0685325860977173, 1.5462415218353271, 0.648733377456665, 0.6435736417770386, 0.3346627652645111, 0.632826030254364, 0.3304983377456665, 0.32936206459999084, 1.2617226839065552, 0.3272935450077057, 1.421196460723877, 1.1321849822998047, 0.7471855282783508, 1.282767653465271, 65.16909790039062, 140.19505310058594, 684.3078002929688, 460.2754211425781, 15.990047454833984, 41.86571502685547, 169.4172821044922, 574.277099609375, 158.26385498046875, 52.772891998291016, 61.55638122558594, 216.79525756835938, 140.9075469970703, 502.4239196777344, 55.07724380493164, 107.05733489990234, 529.5927734375, 220.48228454589844, 66.18216705322266, 73.09548950195312, 141.7438507080078, 177.71914672851562, 369.1424865722656, 109.43278503417969, 144.58753967285156, 169.178955078125, 143.0583953857422, 38.3005256652832, 101.14730834960938, 60.5674934387207, 85.90184020996094, 210.2490997314453, 164.3855743408203, 147.7653045654297, 146.20455932617188, 143.25527954101562, 153.6221923828125, 152.2959747314453, 173.2430419921875, 127.21009826660156, 136.67367553710938, 231.55735778808594, 141.6534423828125, 132.11415100097656, 128.1494140625, 0.9965007901191711, 0.5025999546051025, 1.0646083354949951, 1.0891927480697632, 0.8890308737754822, 0.6388894319534302, 1.8693259954452515, 0.7891873717308044, 1.4297963380813599, 0.3894384801387787, 0.8976991176605225, 0.37955936789512634, 0.3790459930896759, 1.2228748798370361, 0.3636939525604248, 0.3627181351184845, 0.3606135845184326, 0.6845777630805969, 0.8193678259849548, 0.9620761871337891, 1.1343085765838623, 0.6312364339828491, 0.7969542741775513, 1.0757149457931519, 0.33900296688079834, 0.33653390407562256, 0.3361063301563263, 0.639471173286438, 1.0767065286636353, 0.3316175639629364, 0.6287592053413391, 2.9005239009857178, 3.8929049968719482, 78.29911041259766, 244.24609375, 94.98583221435547, 65.16039276123047, 10.401869773864746, 17.44503402709961, 194.0354766845703, 118.46822357177734, 68.71248626708984, 97.63241577148438, 110.88018035888672, 498.77301025390625, 114.5079574584961, 36.13859558105469, 398.7063903808594, 414.8044738769531, 186.8141326904297, 177.477783203125, 173.8244171142578, 147.2317657470703, 56.882450103759766, 73.86505889892578, 498.42877197265625, 79.22247314453125, 172.94691467285156, 456.05096435546875, 45.823055267333984, 448.1008605957031, 81.54013061523438, 187.16273498535156, 115.98094940185547, 193.74081420898438, 132.9204559326172, 116.27222442626953, 284.164794921875, 143.09864807128906, 124.56822967529297, 105.11551666259766, 131.45301818847656, 105.64875793457031, 133.87228393554688, 158.3587646484375, 126.27765655517578, 129.4300537109375, 135.9529266357422, 122.96280670166016, 117.93932342529297, 117.05303192138672, 1.4855512380599976, 0.8978962898254395, 8.209482192993164, 0.7492831945419312, 0.786744236946106, 0.7640582323074341, 1.5526337623596191, 1.0510947704315186, 0.7355777025222778, 0.385014146566391, 0.8702598810195923, 1.32440984249115, 1.1704527139663696, 0.6885483860969543, 0.3579048216342926, 0.6649775505065918, 1.1226327419281006, 0.6409546732902527, 0.3339895009994507, 0.6369438171386719, 0.33361417055130005, 0.33276718854904175, 0.3322713375091553, 0.32486966252326965, 0.6196653246879578, 0.3226281702518463, 0.8748654723167419, 0.6138584017753601, 0.5810355544090271, 0.7380409240722656, 1.2530155181884766, 1.4098349809646606, 2.8833069801330566, 19.844608306884766, 2.114049196243286, 146.59307861328125, 188.3734130859375, 2.85025954246521, 1.4133387804031372, 37.98684310913086, 30.031238555908203, 85.66588592529297, 95.46151733398438, 62.11480712890625, 163.28172302246094, 45.02016067504883, 99.3073501586914, 179.49778747558594, 174.66026306152344, 29.97288703918457, 30.382183074951172, 509.4720764160156, 96.36387634277344, 92.19129180908203, 112.35212707519531, 476.7052917480469, 85.95013427734375, 97.40209197998047, 169.7736358642578, 101.24327087402344, 94.01349639892578, 35.1115837097168, 138.96585083007812, 136.9877471923828, 112.36749267578125, 170.0840301513672, 116.91766357421875, 427.1011657714844, 158.0556640625, 101.86949157714844, 306.42950439453125, 155.91932678222656, 344.5382080078125, 289.7682800292969, 148.5800018310547, 265.9050598144531, 154.07676696777344, 173.27806091308594, 135.9955596923828, 144.76495361328125, 134.5602569580078, 118.48192596435547, 128.97398376464844, 118.7898178100586, 137.8040313720703, 125.81446075439453, 127.41863250732422, 118.8381576538086, 1.2656418085098267, 0.4395236372947693, 1.5309563875198364, 0.3946698307991028, 0.3939366042613983, 0.38328075408935547, 1.3440872430801392, 0.9997358918190002, 0.6982682347297668, 0.8048589825630188, 0.8356590270996094, 0.6709616184234619, 0.667388916015625, 0.3439997434616089, 0.6419019103050232, 0.3356155753135681, 0.470346599817276, 0.6355753540992737, 0.6308045983314514, 0.46183428168296814, 0.3251042068004608, 0.3235933780670166, 0.6170316934585571, 0.6146560311317444, 0.3190012276172638, 0.7369758486747742, 2.050010919570923, 0.9849056601524353, 0.8574380278587341, 0.9790391325950623, 12.390182495117188, 1.2019037008285522, 4.388795375823975, 112.32585906982422, 21.5725040435791, 77.99620056152344, 53.641117095947266, 61.37748336791992, 101.27106475830078, 42.25523376464844, 14.628169059753418, 30.455623626708984, 85.93362426757812, 123.01448059082031, 174.91258239746094, 178.07095336914062, 46.81383514404297, 127.93888092041016, 98.5582275390625, 65.4863510131836, 457.78765869140625, 64.70391082763672, 88.8091049194336, 37.33064270019531, 481.17010498046875, 145.40005493164062, 102.80525970458984, 172.25364685058594, 172.09588623046875, 97.84934997558594, 81.299072265625, 173.1387481689453, 464.6970520019531, 81.91838073730469, 162.49948120117188, 155.6926727294922, 319.3273620605469, 97.57707214355469, 189.66595458984375, 290.9095458984375, 139.49539184570312, 106.81651306152344, 271.2597961425781, 185.46499633789062, 139.00991821289062, 324.903564453125, 124.58501434326172, 150.09866333007812, 120.73106384277344, 123.2466049194336, 128.97572326660156, 128.9235076904297, 139.80160522460938, 129.55770874023438, 122.78837585449219, 0.5298038721084595, 0.98097825050354, 0.9717727899551392, 1.2291239500045776, 1.2174369096755981, 0.8512689471244812, 0.8398178219795227, 1.1770375967025757, 1.5601985454559326, 0.8054884672164917, 2.042646646499634, 0.7178635001182556, 0.3916976749897003, 2.7668511867523193, 0.742793619632721, 0.7031834721565247, 0.6908131837844849, 0.683165967464447, 0.6761876344680786, 0.9454624056816101, 0.6614324450492859, 0.6584163308143616, 0.656951904296875, 0.48073092103004456, 1.5442832708358765, 0.6437460780143738, 0.4709901213645935, 0.6341053247451782, 0.736943781375885, 3.8177666664123535, 1.5576456785202026, 1.0259097814559937, 1.8708287477493286, 266.11468505859375, 64.56832885742188, 13.806766510009766, 197.12979125976562, 71.63705444335938, 68.15636444091797, 70.59718322753906, 189.27903747558594, 59.52739334106445, 181.84649658203125, 200.85659790039062, 92.86814880371094, 67.19784545898438, 141.25672912597656, 103.75223541259766, 52.239166259765625, 401.9736328125, 464.2355651855469, 149.3523712158203, 224.52389526367188, 149.42184448242188, 125.76932525634766, 107.17729187011719, 107.60310363769531, 335.4595642089844, 452.5937805175781, 58.848899841308594, 114.37445831298828, 79.87193298339844, 150.36965942382812, 190.45562744140625, 323.11932373046875, 410.4782409667969, 130.68130493164062, 138.5000762939453, 102.6982421875, 124.41508483886719, 317.595947265625, 120.84223937988281, 141.96376037597656, 154.56167602539062, 172.73367309570312, 136.91053771972656, 133.0319366455078, 125.92919921875, 122.14024353027344, 0.535028338432312, 0.5264841914176941, 0.5207538604736328, 0.9133209586143494, 0.4400120973587036, 0.8101804852485657, 0.4225376546382904, 0.7672588229179382, 0.925641655921936, 0.3970763087272644, 1.3942363262176514, 0.7413586974143982, 0.545990526676178, 0.5294303297996521, 0.7155412435531616, 0.6877154111862183, 0.6799517273902893, 0.6758807301521301, 1.1357343196868896, 0.6659968495368958, 0.8039931654930115, 0.3467170298099518, 0.7997133135795593, 2.4403469562530518, 0.6488062739372253, 0.474414199590683, 0.6391269564628601, 0.3339005410671234, 0.4652228057384491, 0.6292914748191833, 4.145718574523926, 0.7285751700401306, 175.5823516845703, 3.892693281173706, 2.1227173805236816, 128.0799560546875, 42.936866760253906, 93.3478012084961, 89.44930267333984, 125.96956634521484, 562.9971923828125, 60.758426666259766, 55.7396240234375, 175.64190673828125, 94.00615692138672, 100.27147674560547, 168.73521423339844, 69.64108276367188, 358.7581481933594, 55.411529541015625, 60.06658172607422, 202.96482849121094, 370.3562316894531, 100.0868148803711, 454.5384216308594, 352.0787048339844, 39.83100891113281, 52.62153244018555, 155.0109405517578, 75.12195587158203, 403.2710266113281, 135.43370056152344, 64.00798797607422, 108.9229736328125, 144.04544067382812, 191.3517608642578, 150.78639221191406, 128.2613525390625, 163.97743225097656, 151.47305297851562, 147.51986694335938, 115.09248352050781, 336.7821960449219, 138.30636596679688, 146.66697692871094, 172.71270751953125, 118.02484893798828, 146.8900604248047, 138.63882446289062, 120.04218292236328, 130.59945678710938, 120.10064697265625, 1.2356510162353516, 1.0639867782592773, 0.7615297436714172, 0.9468713402748108, 0.9331589341163635, 0.8286271691322327, 0.4330666661262512, 0.8116071224212646, 0.8113023042678833, 0.7787670493125916, 0.559130847454071, 1.7584377527236938, 0.7346696257591248, 0.37841421365737915, 0.3668674826622009, 1.4035840034484863, 0.49949195981025696, 0.6690539121627808, 0.662251889705658, 0.6593090295791626, 1.1160764694213867, 0.4841090440750122, 0.6558811068534851, 0.34259772300720215, 1.7561190128326416, 0.6469836235046387, 0.6285586953163147, 0.32839739322662354, 0.7238219976425171, 0.6211948990821838, 1.7482033967971802, 12.767154693603516, 134.2982940673828, 64.73472595214844, 167.4833526611328, 474.8930358886719, 50.08940505981445, 20.190092086791992, 16.757078170776367, 563.44775390625, 19.15999412536621, 11.917065620422363, 47.87016296386719, 43.495731353759766, 378.2403259277344, 88.92387390136719, 485.7518310546875, 218.25096130371094, 197.14755249023438, 78.45347595214844, 48.517295837402344, 124.96882629394531, 115.17145538330078, 71.6087646484375, 220.0827178955078, 109.25936126708984, 110.47933959960938, 66.15603637695312, 69.64588165283203, 321.0037536621094, 129.04965209960938, 108.28474426269531, 77.09722137451172, 149.8151092529297, 177.71261596679688, 88.74990844726562, 114.6069564819336, 358.9446716308594, 142.687255859375, 107.3967056274414, 98.21869659423828, 276.802978515625, 110.11326599121094, 97.95508575439453, 127.76129150390625, 114.15998077392578, 119.82839965820312, 124.7763442993164, 117.8919906616211, 121.72171020507812, 119.56448364257812, 114.29092407226562, 112.14637756347656, 10.489604949951172, 0.9625610113143921, 0.41253697872161865, 0.39769062399864197, 0.7218526601791382, 0.710996687412262, 0.3717910051345825, 0.35699278116226196, 0.9669453501701355, 0.8177009224891663, 0.9232183694839478, 0.33447232842445374, 0.6367272138595581, 0.633545994758606, 0.6285130381584167, 1.1895610094070435, 0.45967739820480347, 0.45682665705680847, 0.3242379128932953, 0.45035865902900696, 0.6096302270889282, 0.44499629735946655, 0.7314854264259338, 0.6026331186294556, 0.7294939160346985, 0.5952823758125305, 0.31032347679138184, 1.1232986450195312, 0.3092688322067261, 0.3078519105911255, 1.2143347263336182, 0.8363248109817505, 81.52716827392578, 4.088406085968018, 3.0381357669830322, 2.5246567726135254, 69.40746307373047, 61.04498291015625, 55.15845489501953, 51.189910888671875, 61.256591796875, 93.99726867675781, 546.1088256835938, 36.7233772277832, 9.140204429626465, 402.6662292480469, 372.84259033203125, 172.9630889892578, 31.583860397338867, 32.19135665893555, 478.181884765625, 97.11782836914062, 224.81674194335938, 193.76487731933594, 41.28070831298828, 139.016357421875, 97.29122924804688, 91.44338989257812, 112.0552749633789, 102.5769271850586, 64.55903625488281, 33.14276123046875, 132.21360778808594, 66.41468048095703, 162.26937866210938, 139.69937133789062, 150.9187774658203, 79.91352844238281, 191.687255859375, 149.06329345703125, 93.21414947509766, 105.15386199951172, 144.16195678710938, 127.04405975341797, 304.866943359375, 319.46124267578125, 121.09404754638672, 117.2472915649414, 134.80117797851562, 129.0573272705078, 149.98410034179688, 133.71995544433594, 209.4099884033203, 134.48851013183594, 123.94131469726562, 111.62146759033203, 113.19367218017578, 112.14994812011719, 1.3810415267944336, 1.2418211698532104, 0.47981691360473633, 0.7718495726585388, 1.6164593696594238, 0.7075950503349304, 1.1649246215820312, 1.2877962589263916, 0.6765707731246948, 0.3500078618526459, 0.8052850961685181, 1.1203601360321045, 1.103826880455017, 1.0747562646865845, 1.3434282541275024, 1.429062843322754, 0.6249891519546509, 2.2914772033691406, 0.32561764121055603, 0.6209991574287415, 0.8579863905906677, 0.31304705142974854, 1.9515541791915894, 0.30999046564102173, 0.714130699634552, 0.5873097777366638, 0.43150070309638977, 0.5824049711227417, 0.5787914991378784, 0.3005288243293762, 0.8136491775512695, 2.572418451309204, 4.3519182205200195, 3.2471179962158203, 1.1468024253845215, 19.50223159790039, 1.6520416736602783, 200.97027587890625, 60.309810638427734, 25.338241577148438, 52.131465911865234, 119.06511688232422, 36.29986572265625, 47.414649963378906, 47.8089599609375, 130.42884826660156, 364.3360595703125, 479.3251037597656, 134.87147521972656, 134.58663940429688, 222.9707489013672, 66.34474182128906, 202.1234588623047, 191.4187774658203, 36.243621826171875, 148.9746551513672, 37.32807922363281, 66.31208038330078, 45.07636642456055, 74.23817443847656, 101.0731430053711, 144.84783935546875, 80.1144790649414, 308.72576904296875, 151.31260681152344, 71.81434631347656, 61.664188385009766, 110.15436553955078, 142.63238525390625, 144.73460388183594, 331.725341796875, 131.8534698486328, 346.40838623046875, 82.82466888427734, 83.7832260131836, 116.5416488647461, 141.00379943847656, 84.37080383300781, 144.10594177246094, 125.41617584228516, 112.2652587890625, 259.319091796875, 219.51028442382812, 119.92107391357422, 120.7988510131836, 118.956298828125, 115.08118438720703], \"Total\": [3505.0, 4460.0, 4560.0, 3330.0, 4751.0, 4126.0, 1689.0, 906.0, 1115.0, 1587.0, 1858.0, 1372.0, 1449.0, 1166.0, 1343.0, 762.0, 801.0, 1336.0, 1108.0, 1487.0, 904.0, 474.0, 878.0, 1400.0, 1433.0, 1986.0, 1249.0, 1750.0, 789.0, 1505.0, 1.6193044185638428, 1.6183456182479858, 2.2793374061584473, 3.093855857849121, 4.412118911743164, 3.0929696559906006, 1.6161305904388428, 1.620017170906067, 3.0953681468963623, 3.7496352195739746, 3.0916309356689453, 1.618520975112915, 3.0953774452209473, 3.0964138507843018, 1.6171069145202637, 3.0907979011535645, 3.090999126434326, 5.236432075500488, 3.094761371612549, 9.187554359436035, 6.544539451599121, 3.093689441680908, 3.095723867416382, 5.888116836547852, 3.753958225250244, 1.6192636489868164, 3.599137783050537, 3.088653326034546, 1.6200190782546997, 2.277862071990967, 9.99034309387207, 13.810185432434082, 762.7596435546875, 10.144096374511719, 6.390459060668945, 223.68052673339844, 616.764892578125, 209.69244384765625, 873.9859008789062, 4460.291015625, 1312.4888916015625, 4126.587890625, 116.49188232421875, 124.19805908203125, 1433.218994140625, 1505.3974609375, 177.56678771972656, 391.0328369140625, 883.7837524414062, 1166.06640625, 676.6982421875, 353.1769714355469, 238.45095825195312, 3302.096923828125, 1986.8443603515625, 472.742919921875, 3505.451904296875, 879.5068969726562, 643.735595703125, 675.3848876953125, 473.4587707519531, 878.9148559570312, 629.7840576171875, 484.67724609375, 804.1443481445312, 564.5335693359375, 1336.1458740234375, 4751.4111328125, 4560.11669921875, 1402.8763427734375, 1689.1788330078125, 1487.005126953125, 1394.6307373046875, 1331.0087890625, 1122.6522216796875, 1441.295166015625, 1174.9654541015625, 1400.85009765625, 1194.4443359375, 3330.30126953125, 1587.1351318359375, 1750.6026611328125, 1858.3038330078125, 1449.562744140625, 1382.2432861328125, 3.0855886936187744, 3.5904412269592285, 3.739264726638794, 2.2748184204101562, 1.6151103973388672, 5.873437881469727, 3.088240146636963, 1.616682529449463, 3.0838546752929688, 3.0855491161346436, 3.0894343852996826, 3.0862784385681152, 8.007892608642578, 3.0862250328063965, 1.6170190572738647, 3.0877492427825928, 11.459434509277344, 3.0953681468963623, 4.252966403961182, 2.9353256225585938, 5.062598705291748, 7.357346057891846, 3.088963031768799, 3.091909646987915, 1.6160160303115845, 3.090505599975586, 1.6160759925842285, 1.6175189018249512, 6.231088161468506, 1.6172701120376587, 7.1956400871276855, 5.719667911529541, 3.7466776371002197, 6.552699565887451, 392.21148681640625, 878.9148559570312, 4751.4111328125, 3330.30126953125, 93.38800811767578, 262.1933288574219, 1192.7978515625, 4460.291015625, 1117.6341552734375, 343.11468505859375, 406.1470642089844, 1587.1351318359375, 996.1569213867188, 4126.587890625, 368.2515869140625, 770.813232421875, 4560.11669921875, 1750.6026611328125, 460.6045837402344, 528.412353515625, 1108.4564208984375, 1449.562744140625, 3302.096923828125, 843.1006469726562, 1161.533447265625, 1400.85009765625, 1166.06640625, 259.43389892578125, 798.6184692382812, 440.76129150390625, 669.2871704101562, 1986.8443603515625, 1487.005126953125, 1343.739990234375, 1331.0087890625, 1312.4888916015625, 1441.295166015625, 1505.3974609375, 1858.3038330078125, 1194.4443359375, 1402.8763427734375, 3505.451904296875, 1689.1788330078125, 1433.218994140625, 1394.6307373046875, 3.0906364917755127, 1.61714506149292, 3.603102445602417, 3.751392364501953, 3.09547758102417, 2.2802047729492188, 7.215782642364502, 3.0931050777435303, 5.883413791656494, 1.618059754371643, 3.745633125305176, 1.620236873626709, 1.619663119316101, 5.237606048583984, 1.6205345392227173, 1.621222734451294, 1.6215394735336304, 3.0984530448913574, 3.752892255783081, 4.415476322174072, 5.235058784484863, 2.936830997467041, 3.7509713172912598, 5.0751800537109375, 1.619359016418457, 1.6199694871902466, 1.6201449632644653, 3.098280429840088, 5.227750301361084, 1.6204077005386353, 3.0916309356689453, 14.613845825195312, 20.210678100585938, 452.6306457519531, 1587.1351318359375, 598.1576538085938, 422.45428466796875, 59.279212951660156, 103.46031951904297, 1402.8763427734375, 827.1371459960938, 460.01116943359375, 674.1314697265625, 789.5504760742188, 4126.587890625, 831.3604736328125, 236.95120239257812, 3330.30126953125, 3505.451904296875, 1449.562744140625, 1372.7471923828125, 1343.739990234375, 1122.6522216796875, 391.89605712890625, 528.4814453125, 4560.11669921875, 574.5275268554688, 1400.85009765625, 4460.291015625, 321.60687255859375, 4751.4111328125, 638.8795166015625, 1750.6026611328125, 996.1569213867188, 1858.3038330078125, 1194.4443359375, 1021.7371826171875, 3302.096923828125, 1382.2432861328125, 1192.7978515625, 923.8448486328125, 1336.1458740234375, 941.1145629882812, 1441.295166015625, 1986.8443603515625, 1312.4888916015625, 1433.218994140625, 1689.1788330078125, 1487.005126953125, 1394.6307373046875, 1331.0087890625, 5.075440406799316, 3.091867685317993, 30.598499298095703, 2.939864158630371, 3.094867706298828, 3.095345973968506, 6.392974853515625, 4.411815643310547, 3.092844247817993, 1.6191736459732056, 3.7537307739257812, 5.734711647033691, 5.237606048583984, 3.0956737995147705, 1.6188348531723022, 3.0926513671875, 5.230374336242676, 3.096428155899048, 1.6198705434799194, 3.0921473503112793, 1.6207362413406372, 1.619079828262329, 1.619106411933899, 1.6190396547317505, 3.0966506004333496, 1.6190319061279297, 4.41373348236084, 3.097277879714966, 2.938103675842285, 3.753824234008789, 6.392746925354004, 7.215782642364502, 15.296664237976074, 113.20913696289062, 11.164022445678711, 941.1145629882812, 1249.699951171875, 15.281754493713379, 7.363759994506836, 238.6388397216797, 187.44590759277344, 575.4200439453125, 646.036865234375, 422.45428466796875, 1194.4443359375, 300.09930419921875, 709.2403564453125, 1382.2432861328125, 1372.7471923828125, 200.29208374023438, 203.3115692138672, 4560.11669921875, 724.7352294921875, 697.4940795898438, 873.9859008789062, 4460.291015625, 657.5636596679688, 762.7596435546875, 1449.562744140625, 804.1443481445312, 739.7298583984375, 240.52597045898438, 1174.9654541015625, 1161.533447265625, 923.8448486328125, 1505.3974609375, 982.1200561523438, 4751.4111328125, 1441.295166015625, 840.9293212890625, 3330.30126953125, 1433.218994140625, 4126.587890625, 3302.096923828125, 1402.8763427734375, 3505.451904296875, 1587.1351318359375, 1986.8443603515625, 1331.0087890625, 1487.005126953125, 1343.739990234375, 1071.4954833984375, 1312.4888916015625, 1108.4564208984375, 1750.6026611328125, 1400.85009765625, 1689.1788330078125, 1858.3038330078125, 3.748979091644287, 1.6185908317565918, 5.884514808654785, 1.6165966987609863, 1.6172820329666138, 1.6184699535369873, 5.885286808013916, 4.411455154418945, 3.0899415016174316, 3.5962228775024414, 3.7520904541015625, 3.092736005783081, 3.0838546752929688, 1.6186938285827637, 3.093648910522461, 1.6198525428771973, 2.276651620864868, 3.09364914894104, 3.0962936878204346, 2.2790141105651855, 1.6173850297927856, 1.618741512298584, 3.09385085105896, 3.0911760330200195, 1.6183267831802368, 3.749631643295288, 10.486350059509277, 5.067835330963135, 4.412665367126465, 5.070651054382324, 65.7915267944336, 6.238197326660156, 24.319963455200195, 770.813232421875, 133.9717254638672, 528.412353515625, 359.283447265625, 416.4061279296875, 724.7352294921875, 283.9016418457031, 91.20252990722656, 200.97483825683594, 614.4010009765625, 906.5756225585938, 1343.739990234375, 1372.7471923828125, 321.5442199707031, 982.1200561523438, 739.6327514648438, 472.4498596191406, 4126.587890625, 470.4081115722656, 669.2871704101562, 257.0362243652344, 4460.291015625, 1166.06640625, 795.5048217773438, 1433.218994140625, 1449.562744140625, 773.57666015625, 627.9303588867188, 1505.3974609375, 4751.4111328125, 638.8795166015625, 1441.295166015625, 1400.85009765625, 3505.451904296875, 804.1443481445312, 1858.3038330078125, 3330.30126953125, 1312.4888916015625, 920.702392578125, 3302.096923828125, 1986.8443603515625, 1336.1458740234375, 4560.11669921875, 1194.4443359375, 1689.1788330078125, 1174.9654541015625, 1249.699951171875, 1382.2432861328125, 1394.6307373046875, 1750.6026611328125, 1487.005126953125, 1402.8763427734375, 1.6168169975280762, 3.0943174362182617, 3.093474864959717, 4.413677215576172, 4.41373348236084, 3.090867042541504, 3.0980749130249023, 4.4126458168029785, 5.886143684387207, 3.0947957038879395, 7.863335609436035, 2.939199447631836, 1.619418740272522, 11.469874382019043, 3.0920238494873047, 3.0909812450408936, 3.094698667526245, 3.1027426719665527, 3.0998921394348145, 4.410307884216309, 3.0937886238098145, 3.090313196182251, 3.093815326690674, 2.278196096420288, 7.3606133460998535, 3.0950369834899902, 2.28139066696167, 3.092217206954956, 3.600533962249756, 18.73769187927246, 7.708960056304932, 5.071203708648682, 9.49831771850586, 1689.1788330078125, 385.9892578125, 77.81570434570312, 1331.0087890625, 455.401123046875, 448.0011901855469, 475.6450500488281, 1394.6307373046875, 396.7412109375, 1336.1458740234375, 1505.3974609375, 657.5636596679688, 464.0769958496094, 1056.8021240234375, 757.5189208984375, 353.8961486816406, 3505.451904296875, 4126.587890625, 1166.06640625, 1858.3038330078125, 1192.7978515625, 982.1200561523438, 831.3604736328125, 843.1006469726562, 3302.096923828125, 4751.4111328125, 421.5842590332031, 940.5736083984375, 613.6599731445312, 1312.4888916015625, 1750.6026611328125, 3330.30126953125, 4560.11669921875, 1115.8001708984375, 1249.699951171875, 840.9293212890625, 1108.4564208984375, 4460.291015625, 1071.4954833984375, 1382.2432861328125, 1587.1351318359375, 1986.8443603515625, 1441.295166015625, 1402.8763427734375, 1487.005126953125, 1400.85009765625, 1.616463303565979, 1.6175380945205688, 1.6154639720916748, 3.0846071243286133, 1.6161305904388428, 3.0892841815948486, 1.6177382469177246, 3.088006019592285, 3.7495689392089844, 1.6179131269454956, 5.724697113037109, 3.089204788208008, 2.2766895294189453, 2.277557849884033, 3.090383768081665, 3.0863242149353027, 3.085768461227417, 3.090393543243408, 5.222627639770508, 3.0862250328063965, 3.7445685863494873, 1.617898941040039, 3.748105764389038, 11.452959060668945, 3.0887324810028076, 2.2771835327148438, 3.08729887008667, 1.617726445198059, 2.2734460830688477, 3.0862784385681152, 21.495975494384766, 3.593531608581543, 1115.8001708984375, 20.828027725219727, 11.157386779785156, 879.5068969726562, 277.6311950683594, 643.735595703125, 622.0028686523438, 904.836181640625, 4751.4111328125, 416.0837707519531, 379.76068115234375, 1382.2432861328125, 709.2403564453125, 773.57666015625, 1400.85009765625, 523.1215209960938, 3302.096923828125, 406.2912902832031, 445.0576477050781, 1750.6026611328125, 3505.451904296875, 795.5048217773438, 4460.291015625, 3330.30126953125, 280.9341735839844, 387.39691162109375, 1343.739990234375, 583.5115356445312, 4126.587890625, 1174.9654541015625, 489.597412109375, 930.4561767578125, 1312.4888916015625, 1858.3038330078125, 1394.6307373046875, 1161.533447265625, 1587.1351318359375, 1449.562744140625, 1402.8763427734375, 1021.7371826171875, 4560.11669921875, 1336.1458740234375, 1487.005126953125, 1986.8443603515625, 1071.4954833984375, 1689.1788330078125, 1505.3974609375, 1122.6522216796875, 1441.295166015625, 1249.699951171875, 3.1036903858184814, 3.1027426719665527, 2.2848782539367676, 3.0997653007507324, 3.0929741859436035, 3.0966596603393555, 1.6214332580566406, 3.0937132835388184, 3.0998921394348145, 3.099060535430908, 2.2820324897766113, 7.221118927001953, 3.0962235927581787, 1.6210026741027832, 1.6218581199645996, 6.398339748382568, 2.28145170211792, 3.0917153358459473, 3.0933573246002197, 3.0895111560821533, 5.237606048583984, 2.2803573608398438, 3.0953681468963623, 1.6209242343902588, 8.381742477416992, 3.0989949703216553, 3.0950076580047607, 1.6204795837402344, 3.5994226932525635, 3.094698667526245, 8.886877059936523, 68.80878448486328, 801.640380859375, 405.9016418457031, 1108.4564208984375, 3505.451904296875, 319.94085693359375, 121.23841094970703, 100.44499206542969, 4560.11669921875, 120.19918060302734, 72.10124969482422, 333.90594482421875, 300.6545104980469, 3330.30126953125, 675.3848876953125, 4460.291015625, 1858.3038330078125, 1689.1788330078125, 594.8137817382812, 346.004150390625, 1021.7371826171875, 930.4561767578125, 540.1500854492188, 1986.8443603515625, 883.7837524414062, 904.836181640625, 500.06689453125, 532.642578125, 3302.096923828125, 1122.6522216796875, 923.8448486328125, 614.4010009765625, 1394.6307373046875, 1750.6026611328125, 739.6327514648438, 1056.8021240234375, 4751.4111328125, 1433.218994140625, 996.1569213867188, 879.5068969726562, 4126.587890625, 1071.4954833984375, 906.5756225585938, 1441.295166015625, 1192.7978515625, 1372.7471923828125, 1505.3974609375, 1336.1458740234375, 1487.005126953125, 1587.1351318359375, 1382.2432861328125, 1312.4888916015625, 30.598499298095703, 3.7484548091888428, 1.6166750192642212, 1.6161525249481201, 3.085695743560791, 3.0883443355560303, 1.617281198501587, 1.6172975301742554, 4.406075954437256, 3.748713731765747, 4.408495903015137, 1.618059754371643, 3.0895111560821533, 3.0877034664154053, 3.0857388973236084, 5.875341415405273, 2.277374029159546, 2.2785844802856445, 1.6189550161361694, 2.27413272857666, 3.090384006500244, 2.2734460830688477, 3.741964817047119, 3.087632417678833, 3.7448718547821045, 3.0939254760742188, 1.6195040941238403, 5.876403331756592, 1.6180131435394287, 1.6189662218093872, 6.386153221130371, 4.4082350730896, 474.0691833496094, 22.988876342773438, 17.085281372070312, 14.09800910949707, 474.76092529296875, 420.2281188964844, 383.5917053222656, 356.1918029785156, 437.42669677734375, 697.4940795898438, 4751.4111328125, 257.369140625, 57.06909942626953, 3505.451904296875, 3302.096923828125, 1433.218994140625, 225.0062713623047, 230.39175415039062, 4560.11669921875, 778.5411987304688, 1986.8443603515625, 1689.1788330078125, 303.2896423339844, 1174.9654541015625, 789.5504760742188, 739.7298583984375, 930.4561767578125, 843.1006469726562, 502.24591064453125, 238.6388397216797, 1166.06640625, 529.260986328125, 1487.005126953125, 1249.699951171875, 1372.7471923828125, 656.4617309570312, 1858.3038330078125, 1382.2432861328125, 795.5048217773438, 923.8448486328125, 1394.6307373046875, 1194.4443359375, 4126.587890625, 4460.291015625, 1161.533447265625, 1122.6522216796875, 1402.8763427734375, 1336.1458740234375, 1750.6026611328125, 1441.295166015625, 3330.30126953125, 1587.1351318359375, 1331.0087890625, 1192.7978515625, 1400.85009765625, 1505.3974609375, 3.0891025066375732, 3.088240146636963, 1.6204077005386353, 3.090345621109009, 6.540187358856201, 3.093855857849121, 5.2281036376953125, 5.878080368041992, 3.093808650970459, 1.6182887554168701, 3.741964817047119, 5.227171897888184, 5.228961944580078, 5.228993892669678, 6.5448479652404785, 7.041929244995117, 3.085695743560791, 11.317216873168945, 1.6179406642913818, 3.0895111560821533, 4.411169528961182, 1.6184964179992676, 10.147446632385254, 1.6188793182373047, 3.7448718547821045, 3.090949773788452, 2.2782506942749023, 3.093689441680908, 3.089204788208008, 1.6192317008972168, 4.403526782989502, 14.10761833190918, 24.148513793945312, 18.0784969329834, 6.230243682861328, 118.32745361328125, 9.181148529052734, 1487.005126953125, 421.5842590332031, 170.47393798828125, 371.5284729003906, 906.5756225585938, 253.16502380371094, 340.7076110839844, 349.80517578125, 1056.8021240234375, 3330.30126953125, 4560.11669921875, 1115.8001708984375, 1117.6341552734375, 1986.8443603515625, 524.2881469726562, 1858.3038330078125, 1750.6026611328125, 267.7986145019531, 1336.1458740234375, 278.88958740234375, 538.1052856445312, 345.81390380859375, 616.764892578125, 883.7837524414062, 1343.739990234375, 675.3848876953125, 3302.096923828125, 1449.562744140625, 601.3278198242188, 503.410400390625, 1021.7371826171875, 1400.85009765625, 1441.295166015625, 4126.587890625, 1331.0087890625, 4751.4111328125, 728.0216674804688, 739.7298583984375, 1194.4443359375, 1587.1351318359375, 757.5189208984375, 1689.1788330078125, 1372.7471923828125, 1174.9654541015625, 4460.291015625, 3505.451904296875, 1394.6307373046875, 1433.218994140625, 1505.3974609375, 1402.8763427734375], \"Category\": [\"Default\", \"Default\", \"Default\", \"Default\", \"Default\", \"Default\", \"Default\", \"Default\", \"Default\", \"Default\", \"Default\", \"Default\", \"Default\", \"Default\", \"Default\", \"Default\", \"Default\", \"Default\", \"Default\", \"Default\", \"Default\", \"Default\", \"Default\", \"Default\", \"Default\", \"Default\", \"Default\", \"Default\", \"Default\", \"Default\", \"Topic1\", \"Topic1\", \"Topic1\", \"Topic1\", \"Topic1\", \"Topic1\", \"Topic1\", \"Topic1\", \"Topic1\", \"Topic1\", \"Topic1\", \"Topic1\", \"Topic1\", \"Topic1\", \"Topic1\", \"Topic1\", \"Topic1\", \"Topic1\", \"Topic1\", \"Topic1\", \"Topic1\", \"Topic1\", \"Topic1\", \"Topic1\", \"Topic1\", \"Topic1\", \"Topic1\", \"Topic1\", \"Topic1\", \"Topic1\", \"Topic1\", \"Topic1\", \"Topic1\", \"Topic1\", \"Topic1\", \"Topic1\", \"Topic1\", \"Topic1\", \"Topic1\", \"Topic1\", \"Topic1\", \"Topic1\", \"Topic1\", \"Topic1\", \"Topic1\", \"Topic1\", \"Topic1\", \"Topic1\", \"Topic1\", \"Topic1\", \"Topic1\", \"Topic1\", \"Topic1\", \"Topic1\", \"Topic1\", \"Topic1\", \"Topic1\", \"Topic1\", \"Topic1\", \"Topic1\", \"Topic1\", \"Topic1\", \"Topic1\", \"Topic1\", \"Topic1\", \"Topic1\", \"Topic1\", \"Topic1\", \"Topic1\", \"Topic1\", \"Topic1\", \"Topic1\", \"Topic1\", \"Topic1\", \"Topic1\", \"Topic1\", \"Topic1\", \"Topic1\", \"Topic1\", \"Topic1\", \"Topic1\", \"Topic1\", \"Topic1\", \"Topic1\", \"Topic1\", \"Topic2\", \"Topic2\", \"Topic2\", \"Topic2\", \"Topic2\", \"Topic2\", \"Topic2\", \"Topic2\", \"Topic2\", \"Topic2\", \"Topic2\", \"Topic2\", \"Topic2\", \"Topic2\", \"Topic2\", \"Topic2\", \"Topic2\", \"Topic2\", \"Topic2\", \"Topic2\", \"Topic2\", \"Topic2\", \"Topic2\", \"Topic2\", \"Topic2\", \"Topic2\", \"Topic2\", \"Topic2\", \"Topic2\", \"Topic2\", \"Topic2\", \"Topic2\", \"Topic2\", \"Topic2\", \"Topic2\", \"Topic2\", \"Topic2\", \"Topic2\", \"Topic2\", \"Topic2\", \"Topic2\", \"Topic2\", \"Topic2\", \"Topic2\", \"Topic2\", \"Topic2\", \"Topic2\", \"Topic2\", \"Topic2\", \"Topic2\", \"Topic2\", \"Topic2\", \"Topic2\", \"Topic2\", \"Topic2\", \"Topic2\", \"Topic2\", \"Topic2\", \"Topic2\", \"Topic2\", \"Topic2\", \"Topic2\", \"Topic2\", \"Topic2\", \"Topic2\", \"Topic2\", \"Topic2\", \"Topic2\", \"Topic2\", \"Topic2\", \"Topic2\", \"Topic2\", \"Topic2\", \"Topic2\", \"Topic2\", \"Topic2\", \"Topic2\", \"Topic2\", \"Topic2\", \"Topic3\", \"Topic3\", \"Topic3\", \"Topic3\", \"Topic3\", \"Topic3\", \"Topic3\", \"Topic3\", \"Topic3\", \"Topic3\", \"Topic3\", \"Topic3\", \"Topic3\", \"Topic3\", \"Topic3\", \"Topic3\", \"Topic3\", \"Topic3\", \"Topic3\", \"Topic3\", \"Topic3\", \"Topic3\", \"Topic3\", \"Topic3\", \"Topic3\", \"Topic3\", \"Topic3\", \"Topic3\", \"Topic3\", \"Topic3\", \"Topic3\", \"Topic3\", \"Topic3\", \"Topic3\", \"Topic3\", \"Topic3\", \"Topic3\", \"Topic3\", \"Topic3\", \"Topic3\", \"Topic3\", \"Topic3\", \"Topic3\", \"Topic3\", \"Topic3\", \"Topic3\", \"Topic3\", \"Topic3\", \"Topic3\", \"Topic3\", \"Topic3\", \"Topic3\", \"Topic3\", \"Topic3\", \"Topic3\", \"Topic3\", \"Topic3\", \"Topic3\", \"Topic3\", \"Topic3\", \"Topic3\", \"Topic3\", \"Topic3\", \"Topic3\", \"Topic3\", \"Topic3\", \"Topic3\", \"Topic3\", \"Topic3\", \"Topic3\", \"Topic3\", \"Topic3\", \"Topic3\", \"Topic3\", \"Topic3\", \"Topic3\", \"Topic3\", \"Topic3\", \"Topic3\", \"Topic3\", \"Topic3\", \"Topic4\", \"Topic4\", \"Topic4\", \"Topic4\", \"Topic4\", \"Topic4\", \"Topic4\", \"Topic4\", \"Topic4\", \"Topic4\", \"Topic4\", \"Topic4\", \"Topic4\", \"Topic4\", \"Topic4\", \"Topic4\", \"Topic4\", \"Topic4\", \"Topic4\", \"Topic4\", \"Topic4\", \"Topic4\", \"Topic4\", \"Topic4\", \"Topic4\", \"Topic4\", \"Topic4\", \"Topic4\", \"Topic4\", \"Topic4\", \"Topic4\", \"Topic4\", \"Topic4\", \"Topic4\", \"Topic4\", \"Topic4\", \"Topic4\", \"Topic4\", \"Topic4\", \"Topic4\", \"Topic4\", \"Topic4\", \"Topic4\", \"Topic4\", \"Topic4\", \"Topic4\", \"Topic4\", \"Topic4\", \"Topic4\", \"Topic4\", \"Topic4\", \"Topic4\", \"Topic4\", \"Topic4\", \"Topic4\", \"Topic4\", \"Topic4\", \"Topic4\", \"Topic4\", \"Topic4\", \"Topic4\", \"Topic4\", \"Topic4\", \"Topic4\", \"Topic4\", \"Topic4\", \"Topic4\", \"Topic4\", \"Topic4\", \"Topic4\", \"Topic4\", \"Topic4\", \"Topic4\", \"Topic4\", \"Topic4\", \"Topic4\", \"Topic4\", \"Topic4\", \"Topic4\", \"Topic4\", \"Topic4\", \"Topic4\", \"Topic4\", \"Topic4\", \"Topic4\", \"Topic4\", \"Topic4\", \"Topic4\", \"Topic5\", \"Topic5\", \"Topic5\", \"Topic5\", \"Topic5\", \"Topic5\", \"Topic5\", \"Topic5\", \"Topic5\", \"Topic5\", \"Topic5\", \"Topic5\", \"Topic5\", \"Topic5\", \"Topic5\", \"Topic5\", \"Topic5\", \"Topic5\", \"Topic5\", \"Topic5\", \"Topic5\", \"Topic5\", \"Topic5\", \"Topic5\", \"Topic5\", \"Topic5\", \"Topic5\", \"Topic5\", \"Topic5\", \"Topic5\", \"Topic5\", \"Topic5\", \"Topic5\", \"Topic5\", \"Topic5\", \"Topic5\", \"Topic5\", \"Topic5\", \"Topic5\", \"Topic5\", \"Topic5\", \"Topic5\", \"Topic5\", \"Topic5\", \"Topic5\", \"Topic5\", \"Topic5\", \"Topic5\", \"Topic5\", \"Topic5\", \"Topic5\", \"Topic5\", \"Topic5\", \"Topic5\", \"Topic5\", \"Topic5\", \"Topic5\", \"Topic5\", \"Topic5\", \"Topic5\", \"Topic5\", \"Topic5\", \"Topic5\", \"Topic5\", \"Topic5\", \"Topic5\", \"Topic5\", \"Topic5\", \"Topic5\", \"Topic5\", \"Topic5\", \"Topic5\", \"Topic5\", \"Topic5\", \"Topic5\", \"Topic5\", \"Topic5\", \"Topic5\", \"Topic5\", \"Topic5\", \"Topic5\", \"Topic5\", \"Topic5\", \"Topic5\", \"Topic5\", \"Topic6\", \"Topic6\", \"Topic6\", \"Topic6\", \"Topic6\", \"Topic6\", \"Topic6\", \"Topic6\", \"Topic6\", \"Topic6\", \"Topic6\", \"Topic6\", \"Topic6\", \"Topic6\", \"Topic6\", \"Topic6\", \"Topic6\", \"Topic6\", \"Topic6\", \"Topic6\", \"Topic6\", \"Topic6\", \"Topic6\", \"Topic6\", \"Topic6\", \"Topic6\", \"Topic6\", \"Topic6\", \"Topic6\", \"Topic6\", \"Topic6\", \"Topic6\", \"Topic6\", \"Topic6\", \"Topic6\", \"Topic6\", \"Topic6\", \"Topic6\", \"Topic6\", \"Topic6\", \"Topic6\", \"Topic6\", \"Topic6\", \"Topic6\", \"Topic6\", \"Topic6\", \"Topic6\", \"Topic6\", \"Topic6\", \"Topic6\", \"Topic6\", \"Topic6\", \"Topic6\", \"Topic6\", \"Topic6\", \"Topic6\", \"Topic6\", \"Topic6\", \"Topic6\", \"Topic6\", \"Topic6\", \"Topic6\", \"Topic6\", \"Topic6\", \"Topic6\", \"Topic6\", \"Topic6\", \"Topic6\", \"Topic6\", \"Topic6\", \"Topic6\", \"Topic6\", \"Topic6\", \"Topic6\", \"Topic6\", \"Topic6\", \"Topic6\", \"Topic6\", \"Topic6\", \"Topic7\", \"Topic7\", \"Topic7\", \"Topic7\", \"Topic7\", \"Topic7\", \"Topic7\", \"Topic7\", \"Topic7\", \"Topic7\", \"Topic7\", \"Topic7\", \"Topic7\", \"Topic7\", \"Topic7\", \"Topic7\", \"Topic7\", \"Topic7\", \"Topic7\", \"Topic7\", \"Topic7\", \"Topic7\", \"Topic7\", \"Topic7\", \"Topic7\", \"Topic7\", \"Topic7\", \"Topic7\", \"Topic7\", \"Topic7\", \"Topic7\", \"Topic7\", \"Topic7\", \"Topic7\", \"Topic7\", \"Topic7\", \"Topic7\", \"Topic7\", \"Topic7\", \"Topic7\", \"Topic7\", \"Topic7\", \"Topic7\", \"Topic7\", \"Topic7\", \"Topic7\", \"Topic7\", \"Topic7\", \"Topic7\", \"Topic7\", \"Topic7\", \"Topic7\", \"Topic7\", \"Topic7\", \"Topic7\", \"Topic7\", \"Topic7\", \"Topic7\", \"Topic7\", \"Topic7\", \"Topic7\", \"Topic7\", \"Topic7\", \"Topic7\", \"Topic7\", \"Topic7\", \"Topic7\", \"Topic7\", \"Topic7\", \"Topic7\", \"Topic7\", \"Topic7\", \"Topic7\", \"Topic7\", \"Topic7\", \"Topic7\", \"Topic7\", \"Topic7\", \"Topic7\", \"Topic7\", \"Topic7\", \"Topic7\", \"Topic8\", \"Topic8\", \"Topic8\", \"Topic8\", \"Topic8\", \"Topic8\", \"Topic8\", \"Topic8\", \"Topic8\", \"Topic8\", \"Topic8\", \"Topic8\", \"Topic8\", \"Topic8\", \"Topic8\", \"Topic8\", \"Topic8\", \"Topic8\", \"Topic8\", \"Topic8\", \"Topic8\", \"Topic8\", \"Topic8\", \"Topic8\", \"Topic8\", \"Topic8\", \"Topic8\", \"Topic8\", \"Topic8\", \"Topic8\", \"Topic8\", \"Topic8\", \"Topic8\", \"Topic8\", \"Topic8\", \"Topic8\", \"Topic8\", \"Topic8\", \"Topic8\", \"Topic8\", \"Topic8\", \"Topic8\", \"Topic8\", \"Topic8\", \"Topic8\", \"Topic8\", \"Topic8\", \"Topic8\", \"Topic8\", \"Topic8\", \"Topic8\", \"Topic8\", \"Topic8\", \"Topic8\", \"Topic8\", \"Topic8\", \"Topic8\", \"Topic8\", \"Topic8\", \"Topic8\", \"Topic8\", \"Topic8\", \"Topic8\", \"Topic8\", \"Topic8\", \"Topic8\", \"Topic8\", \"Topic8\", \"Topic8\", \"Topic8\", \"Topic8\", \"Topic8\", \"Topic8\", \"Topic8\", \"Topic8\", \"Topic8\", \"Topic8\", \"Topic8\", \"Topic8\", \"Topic8\", \"Topic8\", \"Topic8\", \"Topic8\", \"Topic9\", \"Topic9\", \"Topic9\", \"Topic9\", \"Topic9\", \"Topic9\", \"Topic9\", \"Topic9\", \"Topic9\", \"Topic9\", \"Topic9\", \"Topic9\", \"Topic9\", \"Topic9\", \"Topic9\", \"Topic9\", \"Topic9\", \"Topic9\", \"Topic9\", \"Topic9\", \"Topic9\", \"Topic9\", \"Topic9\", \"Topic9\", \"Topic9\", \"Topic9\", \"Topic9\", \"Topic9\", \"Topic9\", \"Topic9\", \"Topic9\", \"Topic9\", \"Topic9\", \"Topic9\", \"Topic9\", \"Topic9\", \"Topic9\", \"Topic9\", \"Topic9\", \"Topic9\", \"Topic9\", \"Topic9\", \"Topic9\", \"Topic9\", \"Topic9\", \"Topic9\", \"Topic9\", \"Topic9\", \"Topic9\", \"Topic9\", \"Topic9\", \"Topic9\", \"Topic9\", \"Topic9\", \"Topic9\", \"Topic9\", \"Topic9\", \"Topic9\", \"Topic9\", \"Topic9\", \"Topic9\", \"Topic9\", \"Topic9\", \"Topic9\", \"Topic9\", \"Topic9\", \"Topic9\", \"Topic9\", \"Topic9\", \"Topic9\", \"Topic9\", \"Topic9\", \"Topic9\", \"Topic9\", \"Topic9\", \"Topic9\", \"Topic9\", \"Topic9\", \"Topic9\", \"Topic9\", \"Topic9\", \"Topic9\", \"Topic9\", \"Topic9\", \"Topic9\", \"Topic9\", \"Topic9\", \"Topic9\", \"Topic10\", \"Topic10\", \"Topic10\", \"Topic10\", \"Topic10\", \"Topic10\", \"Topic10\", \"Topic10\", \"Topic10\", \"Topic10\", \"Topic10\", \"Topic10\", \"Topic10\", \"Topic10\", \"Topic10\", \"Topic10\", \"Topic10\", \"Topic10\", \"Topic10\", \"Topic10\", \"Topic10\", \"Topic10\", \"Topic10\", \"Topic10\", \"Topic10\", \"Topic10\", \"Topic10\", \"Topic10\", \"Topic10\", \"Topic10\", \"Topic10\", \"Topic10\", \"Topic10\", \"Topic10\", \"Topic10\", \"Topic10\", \"Topic10\", \"Topic10\", \"Topic10\", \"Topic10\", \"Topic10\", \"Topic10\", \"Topic10\", \"Topic10\", \"Topic10\", \"Topic10\", \"Topic10\", \"Topic10\", \"Topic10\", \"Topic10\", \"Topic10\", \"Topic10\", \"Topic10\", \"Topic10\", \"Topic10\", \"Topic10\", \"Topic10\", \"Topic10\", \"Topic10\", \"Topic10\", \"Topic10\", \"Topic10\", \"Topic10\", \"Topic10\", \"Topic10\", \"Topic10\", \"Topic10\", \"Topic10\", \"Topic10\", \"Topic10\", \"Topic10\", \"Topic10\", \"Topic10\", \"Topic10\", \"Topic10\", \"Topic10\", \"Topic10\", \"Topic10\", \"Topic10\", \"Topic10\", \"Topic10\", \"Topic10\", \"Topic10\", \"Topic10\", \"Topic10\", \"Topic10\", \"Topic10\"], \"logprob\": [30.0, 29.0, 28.0, 27.0, 26.0, 25.0, 24.0, 23.0, 22.0, 21.0, 20.0, 19.0, 18.0, 17.0, 16.0, 15.0, 14.0, 13.0, 12.0, 11.0, 10.0, 9.0, 8.0, 7.0, 6.0, 5.0, 4.0, 3.0, 2.0, 1.0, -11.45259952545166, -11.487000465393066, -11.190600395202637, -10.954099655151367, -10.71150016784668, -11.084400177001953, -11.740099906921387, -11.747200012207031, -11.108200073242188, -10.921600341796875, -11.115599632263184, -11.771599769592285, -11.1318998336792, -11.145299911499023, -11.824799537658691, -11.201700210571289, -11.20680046081543, -10.708499908447266, -11.24269962310791, -10.15999984741211, -10.500399589538574, -11.26140022277832, -11.265999794006348, -10.633600234985352, -11.084500312805176, -11.931900024414062, -11.135600090026855, -11.288900375366211, -11.940299987792969, -11.60200023651123, -10.124300003051758, -9.809200286865234, -5.864299774169922, -10.117799758911133, -10.574399948120117, -7.142600059509277, -6.224699974060059, -7.257900238037109, -5.914299964904785, -4.388199806213379, -5.592299938201904, -4.546899795532227, -7.851600170135498, -7.808000087738037, -5.564599990844727, -5.535299777984619, -7.484399795532227, -6.773200035095215, -6.041800022125244, -5.792300224304199, -6.289999961853027, -6.877600193023682, -7.2347002029418945, -4.873899936676025, -5.336400032043457, -6.620500087738037, -4.839900016784668, -6.074100017547607, -6.352799892425537, -6.32859992980957, -6.638500213623047, -6.109300136566162, -6.398600101470947, -6.623899936676025, -6.195499897003174, -6.498000144958496, -5.773200035095215, -4.710899829864502, -4.779900074005127, -5.757500171661377, -5.616600036621094, -5.719900131225586, -5.777500152587891, -5.815899848937988, -5.959700107574463, -5.770299911499023, -5.939899921417236, -5.828199863433838, -5.960299968719482, -5.333899974822998, -5.7957000732421875, -5.813300132751465, -5.799900054931641, -5.968400001525879, -5.988800048828125, -10.837800025939941, -10.850700378417969, -10.873900413513184, -11.397899627685547, -11.748700141906738, -10.474699974060059, -11.131999969482422, -11.788800239562988, -11.148699760437012, -11.159000396728516, -11.177499771118164, -11.179900169372559, -10.247200012207031, -11.204000473022461, -11.853400230407715, -11.207300186157227, -9.919400215148926, -11.23799991607666, -10.922599792480469, -11.296699523925781, -10.75529956817627, -10.3858003616333, -11.254300117492676, -11.262299537658691, -11.916199684143066, -11.279199600219727, -11.92870044708252, -11.93220043182373, -10.589099884033203, -11.93850040435791, -10.470100402832031, -10.697400093078613, -11.11299991607666, -10.572600364685059, -6.644599914550781, -5.878600120544434, -4.2932000160217285, -4.689799785614014, -8.049599647521973, -7.087100028991699, -5.689199924468994, -4.468500137329102, -5.757299900054932, -6.855599880218506, -6.701600074768066, -5.442599773406982, -5.873499870300293, -4.602200031280518, -6.812900066375732, -6.148200035095215, -4.549499988555908, -5.42579984664917, -6.629199981689453, -6.529799938201904, -5.867599964141846, -5.64139986038208, -4.910399913787842, -6.126299858093262, -5.847700119018555, -5.6905999183654785, -5.85830020904541, -7.17609977722168, -6.204999923706055, -6.717800140380859, -6.3684000968933105, -5.473299980163574, -5.719399929046631, -5.826000213623047, -5.836599826812744, -5.85699987411499, -5.787099838256836, -5.79580020904541, -5.666900157928467, -5.975800037384033, -5.9039998054504395, -5.376800060272217, -5.868199825286865, -5.937900066375732, -5.968400001525879, -10.795299530029297, -11.479700088500977, -10.72920036315918, -10.706299781799316, -10.90939998626709, -11.239800453186035, -10.166199684143066, -11.028499603271484, -10.434200286865234, -11.734800338745117, -10.899700164794922, -11.760499954223633, -11.761899948120117, -10.59060001373291, -11.803199768066406, -11.805899620056152, -11.811699867248535, -11.170700073242188, -10.991000175476074, -10.830400466918945, -10.665800094604492, -11.251899719238281, -11.018699645996094, -10.718799591064453, -11.873499870300293, -11.880800247192383, -11.882100105285645, -11.238900184631348, -10.717900276184082, -11.895600318908691, -11.255800247192383, -9.726900100708008, -9.432600021362305, -6.43120002746582, -5.293600082397461, -6.23799991607666, -6.6149001121521, -8.449799537658691, -7.932700157165527, -5.52370023727417, -6.017099857330322, -6.561800003051758, -6.210599899291992, -6.0833001136779785, -4.579599857330322, -6.05109977722168, -7.204400062561035, -4.803599834442139, -4.763999938964844, -5.561699867248535, -5.6128997802734375, -5.633699893951416, -5.799799919128418, -6.750800132751465, -6.489500045776367, -4.5802998542785645, -6.41949987411499, -5.638800144195557, -4.6691999435424805, -6.9670000076293945, -4.686800003051758, -6.390699863433838, -5.559800148010254, -6.038400173187256, -5.525300025939941, -5.9019999504089355, -6.035799980163574, -5.142199993133545, -5.828199863433838, -5.966899871826172, -6.13670015335083, -5.913099765777588, -6.131700038909912, -5.894899845123291, -5.726900100708008, -5.9532999992370605, -5.928599834442139, -5.879499912261963, -5.979899883270264, -6.021599769592285, -6.029200077056885, -10.387200355529785, -10.890700340270996, -8.67770004272461, -11.071599960327148, -11.02280044555664, -11.05210018157959, -10.343000411987305, -10.733099937438965, -11.090100288391113, -11.73740005493164, -10.921899795532227, -10.501999855041504, -10.62559986114502, -11.156100273132324, -11.810400009155273, -11.190999984741211, -10.6673002243042, -11.227800369262695, -11.879599571228027, -11.234000205993652, -11.88070011138916, -11.883299827575684, -11.88479995727539, -11.907299995422363, -11.261500358581543, -11.914199829101562, -10.916600227355957, -11.270999908447266, -11.325900077819824, -11.086700439453125, -10.55739974975586, -10.439499855041504, -9.723999977111816, -7.795000076293945, -10.03439998626709, -5.795300006866455, -5.54449987411499, -9.735600471496582, -10.437000274658203, -7.145699977874756, -7.38070011138916, -6.332499980926514, -6.2241997718811035, -6.6539998054504395, -5.6875, -6.975900173187256, -6.184700012207031, -5.592800140380859, -5.620100021362305, -7.382699966430664, -7.369100093841553, -4.549600124359131, -6.214799880981445, -6.259099960327148, -6.061299800872803, -4.616099834442139, -6.32919979095459, -6.204100131988525, -5.648499965667725, -6.16540002822876, -6.239500045776367, -7.224400043487549, -5.848700046539307, -5.863100051879883, -6.061200141906738, -5.646699905395508, -6.021500110626221, -4.725900173187256, -5.71999979019165, -6.159299850463867, -5.058000087738037, -5.73360013961792, -4.940800189971924, -5.113900184631348, -5.781799793243408, -5.19980001449585, -5.745500087738037, -5.6280999183654785, -5.870299816131592, -5.807799816131592, -5.880899906158447, -6.008200168609619, -5.923399925231934, -6.0055999755859375, -5.857100009918213, -5.948200225830078, -5.935500144958496, -6.005199909210205, -10.547300338745117, -11.604900360107422, -10.357000350952148, -11.712599754333496, -11.714400291442871, -11.741900444030762, -10.487199783325195, -10.783100128173828, -11.142000198364258, -11.0, -10.962400436401367, -11.181900024414062, -11.187299728393555, -11.850000381469727, -11.226200103759766, -11.874699592590332, -11.537199974060059, -11.236100196838379, -11.243599891662598, -11.555399894714355, -11.906499862670898, -11.911100387573242, -11.265700340270996, -11.269599914550781, -11.925399780273438, -11.08810043334961, -10.0649995803833, -10.798100471496582, -10.936699867248535, -10.804100036621094, -8.265999794006348, -10.598999977111816, -9.303799629211426, -6.061500072479248, -7.71150016784668, -6.426199913024902, -6.800600051879883, -6.665800094604492, -6.16510009765625, -7.039100170135498, -8.099900245666504, -7.366600036621094, -6.3292999267578125, -5.970600128173828, -5.618599891662598, -5.6006999015808105, -6.936699867248535, -5.931300163269043, -6.192200183868408, -6.60099983215332, -4.656499862670898, -6.613100051879883, -6.29640007019043, -7.163099765777588, -4.6066999435424805, -5.803400039672852, -6.150000095367432, -5.633900165557861, -5.634799957275391, -6.199399948120117, -6.384699821472168, -5.628799915313721, -4.641499996185303, -6.377099990844727, -5.692200183868408, -5.735000133514404, -5.01669979095459, -6.202199935913086, -5.537600040435791, -5.109899997711182, -5.844799995422363, -6.111800193786621, -5.179800033569336, -5.559999942779541, -5.848299980163574, -4.999300003051758, -5.957900047302246, -5.771599769592285, -5.989299774169922, -5.968699932098389, -5.9232001304626465, -5.923699855804443, -5.842599868774414, -5.918700218200684, -5.972400188446045, -11.418000221252441, -10.801899909973145, -10.811400413513184, -10.576399803161621, -10.586000442504883, -10.943699836730957, -10.957300186157227, -10.61970043182373, -10.337900161743164, -10.99899959564209, -10.068499565124512, -11.1141996383667, -11.720000267028809, -9.765000343322754, -11.080100059509277, -11.134900093078613, -11.152600288391113, -11.163700103759766, -11.173999786376953, -10.838800430297852, -11.196100234985352, -11.200599670410156, -11.202899932861328, -11.515199661254883, -10.348199844360352, -11.223199844360352, -11.535599708557129, -11.238300323486328, -11.088000297546387, -9.443099975585938, -10.339500427246094, -10.757100105285645, -10.156299591064453, -5.198800086975098, -6.614999771118164, -8.157600402832031, -5.498899936676025, -6.511099815368652, -6.5609002113342285, -6.525700092315674, -5.5395002365112305, -6.696300029754639, -5.579599857330322, -5.480100154876709, -6.251500129699707, -6.575099945068359, -5.832099914550781, -6.140699863433838, -6.826900005340576, -4.786300182342529, -4.642300128936768, -5.776400089263916, -5.36870002746582, -5.775899887084961, -5.948299884796143, -6.1082000732421875, -6.104300022125244, -4.967199802398682, -4.667699813842773, -6.707699775695801, -6.0432000160217285, -6.402299880981445, -5.769599914550781, -5.533299922943115, -5.004700183868408, -4.765399932861328, -5.909999847412109, -5.851900100708008, -6.150899887084961, -5.959099769592285, -5.021900177001953, -5.9882001876831055, -5.827099800109863, -5.742099761962891, -5.63100004196167, -5.863399982452393, -5.892099857330322, -5.947000026702881, -5.97760009765625, -11.39799976348877, -11.41409969329834, -11.425100326538086, -10.863300323486328, -11.593600273132324, -10.983099937438965, -11.634099960327148, -11.037500381469727, -10.849900245666504, -11.696200370788574, -10.440299987792969, -11.071900367736816, -11.377799987792969, -11.408599853515625, -11.1072998046875, -11.147000312805176, -11.158300399780273, -11.164299964904785, -10.645299911499023, -11.179100036621094, -10.990799903869629, -11.83180046081543, -10.996100425720215, -9.880499839782715, -11.2052001953125, -11.51830005645752, -11.22029972076416, -11.869500160217285, -11.537799835205078, -11.235799789428711, -9.350500106811523, -11.089300155639648, -5.604499816894531, -9.41349983215332, -10.01990032196045, -5.919899940490723, -7.012899875640869, -6.236299991607666, -6.278900146484375, -5.936600208282471, -4.439300060272217, -6.6656999588012695, -6.7519001960754395, -5.6041998863220215, -6.2291998863220215, -6.164700031280518, -5.6442999839782715, -6.529200077056885, -4.889999866485596, -6.757800102233887, -6.67710018157959, -5.45959997177124, -4.858099937438965, -6.166600227355957, -4.653299808502197, -4.908699989318848, -7.0879998207092285, -6.809500217437744, -5.729100227355957, -6.453499794006348, -4.7729997634887695, -5.864099979400635, -6.61359977722168, -6.081999778747559, -5.802499771118164, -5.518499851226807, -5.756700038909912, -5.918499946594238, -5.672900199890137, -5.752200126647949, -5.778600215911865, -6.026899814605713, -4.953199863433838, -5.843100070953369, -5.78439998626709, -5.620999813079834, -6.001699924468994, -5.782899856567383, -5.840700149536133, -5.984799861907959, -5.9004998207092285, -5.984300136566162, -10.552599906921387, -10.702099800109863, -11.036600112915039, -10.81879997253418, -10.833399772644043, -10.952199935913086, -11.60099983215332, -10.972900390625, -10.973299980163574, -11.014200210571289, -11.345499992370605, -10.199700355529785, -11.072500228881836, -11.735899925231934, -11.766900062561035, -10.425100326538086, -11.45829963684082, -11.166099548339844, -11.176300048828125, -11.180700302124023, -10.654399871826172, -11.48960018157959, -11.18589973449707, -11.835399627685547, -10.20110034942627, -11.199600219726562, -11.228500366210938, -11.877699851989746, -11.087400436401367, -11.240300178527832, -10.205599784851074, -8.217300415039062, -5.864099979400635, -6.593900203704834, -5.6433000564575195, -4.601099967956543, -6.850399971008301, -7.758999824523926, -7.945400238037109, -4.430099964141846, -7.811299800872803, -8.286199569702148, -6.895699977874756, -6.991499900817871, -4.82859992980957, -6.276400089263916, -4.578499794006348, -5.378499984741211, -5.480199813842773, -6.401700019836426, -6.882299900054932, -5.936100006103516, -6.0177998542785645, -6.493000030517578, -5.370200157165527, -6.070400238037109, -6.059299945831299, -6.572199821472168, -6.520699977874756, -4.992700099945068, -5.9039998054504395, -6.079400062561035, -6.419099807739258, -5.754799842834473, -5.584000110626221, -6.27839994430542, -6.02269983291626, -4.88100004196167, -5.803500175476074, -6.087600231170654, -6.177000045776367, -5.140900135040283, -6.062699794769287, -6.179699897766113, -5.914000034332275, -6.026599884033203, -5.978099822998047, -5.937600135803223, -5.9944000244140625, -5.962399959564209, -5.980299949645996, -6.025400161743164, -6.044400215148926, -8.395099639892578, -10.783699989318848, -11.630900382995605, -11.66759967803955, -11.071399688720703, -11.086600303649902, -11.73490047454834, -11.775500297546387, -10.77910041809082, -10.946800231933594, -10.825400352478027, -11.840700149536133, -11.196900367736816, -11.201899528503418, -11.20989990234375, -10.571900367736816, -11.522700309753418, -11.528900146484375, -11.871800422668457, -11.54319953918457, -11.240400314331055, -11.55519962310791, -11.058199882507324, -11.251899719238281, -11.06089973449707, -11.264200210571289, -11.915599822998047, -10.629199981689453, -11.918999671936035, -11.923600196838379, -10.551300048828125, -10.924200057983398, -6.344600200653076, -9.337300300598145, -9.634300231933594, -9.8193998336792, -6.505499839782715, -6.633900165557861, -6.735300064086914, -6.809999942779541, -6.63040018081665, -6.202199935913086, -4.442699909210205, -7.142099857330322, -8.53279972076416, -4.747399806976318, -4.8242998123168945, -5.592400074005127, -7.292799949645996, -7.273799896240234, -4.575500011444092, -6.169600009918213, -5.3302001953125, -5.478899955749512, -7.025100231170654, -5.8109002113342285, -6.167799949645996, -6.229800224304199, -6.026500225067139, -6.1149001121521, -6.577899932861328, -7.244699954986572, -5.861100196838379, -6.549600124359131, -5.656199932098389, -5.806000232696533, -5.728799819946289, -6.36460018157959, -5.48960018157959, -5.741099834442139, -6.210599899291992, -6.090099811553955, -5.774600028991699, -5.901000022888184, -5.025599956512451, -4.978899955749512, -5.94890022277832, -5.981200218200684, -5.841700077056885, -5.885200023651123, -5.735000133514404, -5.849699974060059, -5.401199817657471, -5.843999862670898, -5.9257001876831055, -6.030399799346924, -6.01639986038208, -6.025700092315674, -10.384300231933594, -10.490599632263184, -11.441499710083008, -10.966099739074707, -10.226900100708008, -11.053000450134277, -10.554499626159668, -10.45419979095459, -11.097900390625, -11.7568998336792, -10.923700332641602, -10.593500137329102, -10.608400344848633, -10.635000228881836, -10.41189956665039, -10.350099563598633, -11.177200317382812, -9.877900123596191, -11.82919979095459, -11.183600425720215, -10.860300064086914, -11.868499755859375, -10.03849983215332, -11.878299713134766, -11.043800354003906, -11.239299774169922, -11.547599792480469, -11.247699737548828, -11.253899574279785, -11.909299850463867, -10.913399696350098, -9.762299537658691, -9.236499786376953, -9.529399871826172, -10.570199966430664, -7.736599922180176, -10.205100059509277, -5.4039998054504395, -6.607600212097168, -7.474800109863281, -6.753399848937988, -5.927499771118164, -7.115300178527832, -6.848199844360352, -6.839900016784668, -5.836299896240234, -4.809100151062012, -4.534800052642822, -5.802800178527832, -5.804900169372559, -5.300099849700928, -6.51230001449585, -5.3983001708984375, -5.452700138092041, -7.1168999671936035, -5.703400135040283, -7.087399959564209, -6.512800216674805, -6.898799896240234, -6.399899959564209, -6.091300010681152, -5.731400012969971, -6.323699951171875, -4.974699974060059, -5.68779993057251, -6.433000087738037, -6.585400104522705, -6.005199909210205, -5.7469000816345215, -5.7322001457214355, -4.9028000831604, -5.825399875640869, -4.859499931335449, -6.29040002822876, -6.278900146484375, -5.94890022277832, -5.758299827575684, -6.271900177001953, -5.736599922180176, -5.875500202178955, -5.986299991607666, -5.149099826812744, -5.315700054168701, -5.920300006866455, -5.913000106811523, -5.928400039672852, -5.96150016784668], \"loglift\": [30.0, 29.0, 28.0, 27.0, 26.0, 25.0, 24.0, 23.0, 22.0, 21.0, 20.0, 19.0, 18.0, 17.0, 16.0, 15.0, 14.0, 13.0, 12.0, 11.0, 10.0, 9.0, 8.0, 7.0, 6.0, 5.0, 4.0, 3.0, 2.0, 1.0, 1.1480000019073486, 1.1141999959945679, 1.0681999921798706, 0.9991000294685364, 0.8866999745368958, 0.8690000176429749, 0.8623999953269958, 0.8529999852180481, 0.8443999886512756, 0.8393999934196472, 0.8382999897003174, 0.8295000195503235, 0.8208000063896179, 0.8069999814033508, 0.7771000266075134, 0.7524999976158142, 0.7473000288009644, 0.7184000015258789, 0.7102000117301941, 0.7046999931335449, 0.7035999894142151, 0.6917999982833862, 0.6866000294685364, 0.6759999990463257, 0.6753000020980835, 0.6687999963760376, 0.6662999987602234, 0.6660000085830688, 0.6597999930381775, 0.6574000120162964, 0.6567000150680542, 0.6480000019073486, 0.5813999772071838, 0.6478999853134155, 0.6534000039100647, 0.5297999978065491, 0.4334000051021576, 0.47909998893737793, 0.3952000141143799, 0.2913999855518341, 0.31060001254081726, 0.21050000190734863, 0.4731999933719635, 0.4526999890804291, 0.25029999017715454, 0.2304999977350235, 0.4187999963760376, 0.34060001373291016, 0.2565999925136566, 0.2289000004529953, 0.275299996137619, 0.33799999952316284, 0.37369999289512634, 0.10639999806880951, 0.1518000066280365, 0.303600013256073, 0.08060000091791153, 0.22920000553131104, 0.26249998807907104, 0.23880000412464142, 0.2840000092983246, 0.19460000097751617, 0.2386000007390976, 0.2752000093460083, 0.1973000019788742, 0.24860000610351562, 0.11180000007152557, -0.09449999779462814, -0.12240000069141388, 0.07880000025033951, 0.03400000184774399, 0.05820000171661377, 0.06480000168085098, 0.0729999989271164, 0.09939999878406525, 0.039000000804662704, 0.07370000332593918, 0.009499999694526196, 0.03689999878406525, -0.362199991941452, -0.08269999921321869, -0.19840000569820404, -0.24469999969005585, -0.1648000031709671, -0.13770000636577606, 1.1181000471115112, 0.9535999894142151, 0.8898000121116638, 0.8626999855041504, 0.8544999957084656, 0.8374999761581421, 0.8230000138282776, 0.8133999705314636, 0.807699978351593, 0.7968999743461609, 0.7771000266075134, 0.7756999731063843, 0.7548999786376953, 0.7516999840736389, 0.7486000061035156, 0.7479000091552734, 0.7243000268936157, 0.7146999835968018, 0.7124000191688538, 0.7091000080108643, 0.7053999900817871, 0.7010999917984009, 0.7003999948501587, 0.6915000081062317, 0.6863999962806702, 0.6751000285148621, 0.673799991607666, 0.6694999933242798, 0.6639000177383423, 0.6633999943733215, 0.6389999985694885, 0.6412000060081482, 0.6486999988555908, 0.6301000118255615, 0.46619999408721924, 0.4253000020980835, 0.323199987411499, 0.28200000524520874, 0.49619999527931213, 0.42640000581741333, 0.3093000054359436, 0.2110999971628189, 0.30630001425743103, 0.3889000117778778, 0.3741999864578247, 0.2703000009059906, 0.3052000105381012, 0.15520000457763672, 0.3610000014305115, 0.28690001368522644, 0.1080000028014183, 0.1890999972820282, 0.32089999318122864, 0.28290000557899475, 0.20430000126361847, 0.16220000386238098, 0.06989999860525131, 0.219200000166893, 0.17739999294281006, 0.14710000157356262, 0.16290000081062317, 0.3479999899864197, 0.19470000267028809, 0.27630001306533813, 0.20800000429153442, 0.014999999664723873, 0.05869999900460243, 0.05339999869465828, 0.052299998700618744, 0.045899998396635056, 0.022199999541044235, -0.029999999329447746, -0.11169999837875366, 0.021400000900030136, -0.06769999861717224, -0.4562000036239624, -0.2176000028848648, -0.12300000339746475, -0.12620000541210175, 1.1589000225067139, 1.1222000122070312, 1.0715999603271484, 1.0541000366210938, 1.0433000326156616, 1.0184999704360962, 0.9401000142097473, 0.9248999953269958, 0.8762000203132629, 0.8665000200271606, 0.8622999787330627, 0.8395000100135803, 0.8385000228881836, 0.8361999988555908, 0.7965999841690063, 0.7935000061988831, 0.7875000238418579, 0.781000018119812, 0.76910001039505, 0.7670000195503235, 0.7615000009536743, 0.7534000277519226, 0.7418000102043152, 0.7394000291824341, 0.7269999980926514, 0.7193999886512756, 0.7179999947547913, 0.7128999829292297, 0.7106999754905701, 0.7044000029563904, 0.6980999708175659, 0.6736999750137329, 0.6438000202178955, 0.536300003528595, 0.41929998993873596, 0.4507000148296356, 0.42160001397132874, 0.5504999756813049, 0.510699987411499, 0.3125999867916107, 0.3474999964237213, 0.3894999921321869, 0.358599990606308, 0.3278000056743622, 0.1777999997138977, 0.3084000051021576, 0.41029998660087585, 0.16820000112056732, 0.1565999984741211, 0.2418999969959259, 0.2451000064611435, 0.24570000171661377, 0.25940001010894775, 0.36079999804496765, 0.3231000006198883, 0.07720000296831131, 0.3095000088214874, 0.19900000095367432, 0.010499999858438969, 0.3422999978065491, -0.07039999961853027, 0.2321999967098236, 0.05510000139474869, 0.14030000567436218, 0.029899999499320984, 0.09510000050067902, 0.11749999970197678, -0.16189999878406525, 0.02290000021457672, 0.031599998474121094, 0.11729999631643295, -0.02810000069439411, 0.1039000004529953, -0.08560000360012054, -0.2386000007390976, -0.05040000006556511, -0.1137000024318695, -0.2289000004529953, -0.20180000364780426, -0.1793999969959259, -0.14020000398159027, 1.0709999799728394, 1.0631999969482422, 0.984000027179718, 0.9326000213623047, 0.9300000071525574, 0.900600016117096, 0.8844000101089478, 0.8651999831199646, 0.8633999824523926, 0.8632000088691711, 0.8378999829292297, 0.8341000080108643, 0.8011999726295471, 0.796500027179718, 0.7904000282287598, 0.7626000046730042, 0.7608000040054321, 0.7246000170707703, 0.7206000089645386, 0.7196999788284302, 0.718999981880188, 0.7174999713897705, 0.7160000205039978, 0.6934999823570251, 0.6906999945640564, 0.6866000294685364, 0.6812000274658203, 0.6811000108718872, 0.6789000034332275, 0.6730999946594238, 0.6700000166893005, 0.6668000221252441, 0.6309000253677368, 0.5583000183105469, 0.6355000138282776, 0.44020000100135803, 0.4074000120162964, 0.6204000115394592, 0.6489999890327454, 0.461899995803833, 0.4684000015258789, 0.39500001072883606, 0.38749998807907104, 0.3824999928474426, 0.30970001220703125, 0.4025999903678894, 0.3337000012397766, 0.2583000063896179, 0.2379000037908554, 0.4002000093460083, 0.39879998564720154, 0.10790000110864639, 0.28200000524520874, 0.2759999930858612, 0.24819999933242798, 0.06360000371932983, 0.26489999890327454, 0.24150000512599945, 0.1551000028848648, 0.227400004863739, 0.23680000007152557, 0.37529999017715454, 0.164900004863739, 0.16200000047683716, 0.19290000200271606, 0.11909999698400497, 0.17139999568462372, -0.10949999839067459, 0.0892999991774559, 0.18880000710487366, -0.08619999885559082, 0.08129999786615372, -0.1834000051021576, -0.13359999656677246, 0.054499998688697815, -0.2793000042438507, -0.032600000500679016, -0.13979999721050262, 0.01860000006854534, -0.02979999966919422, -0.0015999999595806003, 0.09759999811649323, -0.020400000736117363, 0.06629999727010727, -0.24220000207424164, -0.1103999987244606, -0.2849000096321106, -0.44999998807907104, 1.2137999534606934, 0.9961000084877014, 0.9532999992370605, 0.8896999955177307, 0.8873999714851379, 0.8593000173568726, 0.8230000138282776, 0.8152999877929688, 0.8123999834060669, 0.8027999997138977, 0.7979000210762024, 0.7716000080108643, 0.7692000269889832, 0.7509999871253967, 0.7271000146865845, 0.725600004196167, 0.7226999998092651, 0.7171000242233276, 0.7088000178337097, 0.7034000158309937, 0.6952999830245972, 0.6898000240325928, 0.6875, 0.684499979019165, 0.6758000254631042, 0.6729000210762024, 0.6675000190734863, 0.6615999937057495, 0.6614000201225281, 0.6550999879837036, 0.6301000118255615, 0.652899980545044, 0.5874999761581421, 0.37369999289512634, 0.47350001335144043, 0.3865000009536743, 0.3978999853134155, 0.38510000705718994, 0.33169999718666077, 0.39480000734329224, 0.46959999203681946, 0.41280001401901245, 0.3327000141143799, 0.30239999294281006, 0.26080000400543213, 0.2572999894618988, 0.37279999256134033, 0.26159998774528503, 0.2842000126838684, 0.32359999418258667, 0.10090000182390213, 0.3158999979496002, 0.2800000011920929, 0.3702999949455261, 0.0729999989271164, 0.21780000627040863, 0.25360000133514404, 0.1809999942779541, 0.1687999963760376, 0.2320999950170517, 0.25540000200271606, 0.13699999451637268, -0.025100000202655792, 0.24570000171661377, 0.11710000038146973, 0.10279999673366547, -0.09610000252723694, 0.19059999287128448, 0.01759999990463257, -0.13809999823570251, 0.05810000002384186, 0.14569999277591705, -0.19949999451637268, -0.07169999927282333, 0.03669999912381172, -0.3418999910354614, 0.03929999843239784, -0.12099999934434891, 0.024299999698996544, -0.016699999570846558, -0.07209999859333038, -0.08139999955892563, -0.22779999673366547, -0.14069999754428864, -0.13609999418258667, 1.1842000484466553, 1.1511000394821167, 1.1418999433517456, 1.0214999914169312, 1.0118999481201172, 1.0104000568389893, 0.9944999814033508, 0.9783999919891357, 0.972100019454956, 0.9538000226020813, 0.9519000053405762, 0.8902999758720398, 0.8805000185966492, 0.8779000043869019, 0.8737000226974487, 0.8191999793052673, 0.8003000020980835, 0.7865999937057495, 0.7771999835968018, 0.7598000168800354, 0.757099986076355, 0.7537000179290771, 0.7502999901771545, 0.7440000176429749, 0.7383000254631042, 0.7296000123023987, 0.7221999764442444, 0.715399980545044, 0.7135000228881836, 0.7089999914169312, 0.7006999850273132, 0.7019000053405762, 0.6751000285148621, 0.45179998874664307, 0.5117999911308289, 0.5706999897956848, 0.38999998569488525, 0.450300008058548, 0.41690000891685486, 0.3921999931335449, 0.302700012922287, 0.40299999713897705, 0.30550000071525574, 0.2856999933719635, 0.3425000011920929, 0.3675000071525574, 0.2874999940395355, 0.3118000030517578, 0.38670000433921814, 0.13420000672340393, 0.11509999632835388, 0.24480000138282776, 0.18639999628067017, 0.22259999811649323, 0.24459999799728394, 0.25130000710487366, 0.24120000004768372, 0.013100000098347664, -0.05130000039935112, 0.33079999685287476, 0.19290000200271606, 0.26089999079704285, 0.13330000638961792, 0.08160000294446945, -0.03290000185370445, -0.10790000110864639, 0.15530000627040863, 0.10010000318288803, 0.1972000002861023, 0.1128000020980835, -0.3422999978065491, 0.11749999970197678, 0.024000000208616257, -0.029200000688433647, -0.14270000159740448, -0.054099999368190765, -0.055799998342990875, -0.1688999980688095, -0.13979999721050262, 1.204300045967102, 1.187600016593933, 1.177899956703186, 1.092900037765503, 1.0089999437332153, 0.9715999960899353, 0.9674999713897705, 0.9175000190734863, 0.9110999703407288, 0.9052000045776367, 0.897599995136261, 0.8827999830245972, 0.882099986076355, 0.8508999943733215, 0.847000002861023, 0.8086000084877014, 0.7975000143051147, 0.7900000214576721, 0.7843000292778015, 0.7766000032424927, 0.7714999914169312, 0.769599974155426, 0.7652000188827515, 0.7638999819755554, 0.7495999932289124, 0.7414000034332275, 0.7350000143051147, 0.7321000099182129, 0.7235000133514404, 0.7199000120162964, 0.6642000079154968, 0.7142000198364258, 0.4607999920845032, 0.6327999830245972, 0.650600016117096, 0.3833000063896179, 0.44339999556541443, 0.3790000081062317, 0.37070000171661377, 0.3382999897003174, 0.17710000276565552, 0.38600000739097595, 0.3910999894142151, 0.24699999392032623, 0.2892000079154968, 0.2669000029563904, 0.19349999725818634, 0.29350000619888306, 0.09030000120401382, 0.31769999861717224, 0.30720001459121704, 0.15530000627040863, 0.06239999830722809, 0.2371000051498413, 0.02630000002682209, 0.06300000101327896, 0.3564999997615814, 0.31369999051094055, 0.15029999613761902, 0.25999999046325684, -0.015599999576807022, 0.14949999749660492, 0.2754000127315521, 0.16500000655651093, 0.10040000081062317, 0.03669999912381172, 0.08550000190734863, 0.10660000145435333, 0.03999999910593033, 0.05139999836683273, 0.05770000070333481, 0.1264999955892563, -0.2957000136375427, 0.04190000146627426, -0.006399999838322401, -0.13269999623298645, 0.10409999638795853, -0.13230000436306, -0.07490000128746033, 0.07440000027418137, -0.09120000153779984, -0.03229999914765358, 1.3974000215530396, 1.2482000589370728, 1.2196999788284302, 1.1325000524520874, 1.1201000213623047, 1.000100016593933, 0.998199999332428, 0.9803000092506409, 0.9779000282287598, 0.9373000264167786, 0.9120000004768372, 0.9057999849319458, 0.8798999786376953, 0.8636000156402588, 0.832099974155426, 0.8014000058174133, 0.7993999719619751, 0.7878000140190125, 0.7771000266075134, 0.7738000154495239, 0.7724000215530396, 0.7685999870300293, 0.766700029373169, 0.76419997215271, 0.7555000185966492, 0.7519000172615051, 0.7243000268936157, 0.7221999764442444, 0.7143999934196472, 0.7125999927520752, 0.6923999786376953, 0.6340000033378601, 0.5317999720573425, 0.48260000348091125, 0.428600013256073, 0.31940001249313354, 0.4641000032424927, 0.5259000062942505, 0.5275999903678894, 0.227400004863739, 0.4821000099182129, 0.5182999968528748, 0.37610000371932983, 0.38510000705718994, 0.14309999346733093, 0.29089999198913574, 0.10119999945163727, 0.17659999430179596, 0.1703999936580658, 0.29269999265670776, 0.3538999855518341, 0.21719999611377716, 0.22920000553131104, 0.2978000044822693, 0.11810000240802765, 0.22789999842643738, 0.21549999713897705, 0.2957000136375427, 0.2840000092983246, -0.012400000356137753, 0.15520000457763672, 0.1746000051498413, 0.24279999732971191, 0.08739999681711197, 0.030899999663233757, 0.1981000006198883, 0.09690000116825104, -0.26460000872612, 0.01140000019222498, 0.09099999815225601, 0.12630000710487366, -0.38350000977516174, 0.04309999942779541, 0.093299999833107, -0.1046999990940094, -0.02800000086426735, -0.1200999990105629, -0.17190000414848328, -0.10939999669790268, -0.18440000712871552, -0.26739999651908875, -0.17430000007152557, -0.14149999618530273, 1.2664999961853027, 0.9775999784469604, 0.9713000059127808, 0.9350000023841858, 0.8844000101089478, 0.868399977684021, 0.8669000267982483, 0.8263000249862671, 0.8205000162124634, 0.8144000172615051, 0.7736999988555908, 0.760699987411499, 0.7577000260353088, 0.7533000111579895, 0.7458999752998352, 0.7398999929428101, 0.7368000149726868, 0.7300999760627747, 0.7289999723434448, 0.7178000211715698, 0.7139000296592712, 0.7060999870300293, 0.704800009727478, 0.7031999826431274, 0.7013000249862671, 0.6888999938964844, 0.6848000288009644, 0.6823999881744385, 0.6823999881744385, 0.6772000193595886, 0.6772000193595886, 0.6748999953269958, 0.57669997215271, 0.6101999878883362, 0.6100999712944031, 0.6172000169754028, 0.41429999470710754, 0.40790000557899475, 0.3977000117301941, 0.39719998836517334, 0.37130001187324524, 0.3328999876976013, 0.1737000048160553, 0.38999998569488525, 0.5055000185966492, 0.17309999465942383, 0.1559000015258789, 0.2224999964237213, 0.3736000061035156, 0.36899998784065247, 0.0820000022649765, 0.2556000053882599, 0.15809999406337738, 0.17170000076293945, 0.34279999136924744, 0.20270000398159027, 0.24330000579357147, 0.24650000035762787, 0.22040000557899475, 0.2305999994277954, 0.2856000065803528, 0.3630000054836273, 0.16009999811649323, 0.2615000009536743, 0.121799997985363, 0.14589999616146088, 0.12929999828338623, 0.23119999468326569, 0.06549999862909317, 0.10999999940395355, 0.19300000369548798, 0.164000004529953, 0.06769999861717224, 0.09619999676942825, -0.26820001006126404, -0.29919999837875366, 0.07620000094175339, 0.0778999999165535, -0.005400000140070915, -0.00019999999494757503, -0.1200999990105629, -0.04039999842643738, -0.4293999969959259, -0.13109999895095825, -0.03680000081658363, -0.03180000185966492, -0.1785999983549118, -0.2599000036716461, 1.5703999996185303, 1.464400053024292, 1.158400058746338, 0.9882000088691711, 0.9776999950408936, 0.9002000093460083, 0.8741000294685364, 0.857200026512146, 0.8553000092506409, 0.8442999720573425, 0.8392999768257141, 0.8352000117301941, 0.8199999928474426, 0.7932999730110168, 0.7919999957084656, 0.7806000113487244, 0.7786999940872192, 0.7782999873161316, 0.7723000049591064, 0.7710000276565552, 0.7382000088691711, 0.7325999736785889, 0.7268999814987183, 0.7225000262260437, 0.7184000015258789, 0.7148000001907349, 0.7116000056266785, 0.7055000066757202, 0.7006999850273132, 0.6912999749183655, 0.6868000030517578, 0.6736000180244446, 0.661899983882904, 0.6585000157356262, 0.6830000281333923, 0.5724999904632568, 0.6603000164031982, 0.374099999666214, 0.4309000074863434, 0.4691999852657318, 0.4115999937057495, 0.34549999237060547, 0.43320000171661377, 0.4034000039100647, 0.38530001044273376, 0.2833000123500824, 0.16269999742507935, 0.12269999831914902, 0.26249998807907104, 0.25870001316070557, 0.1881999969482422, 0.3082999885082245, 0.15690000355243683, 0.16220000386238098, 0.37549999356269836, 0.18170000612735748, 0.3643999993801117, 0.2818000018596649, 0.3379000127315521, 0.2583000063896179, 0.2071000039577484, 0.14790000021457672, 0.243599995970726, 0.00559999980032444, 0.11580000072717667, 0.25040000677108765, 0.2757999897003174, 0.14810000360012054, 0.0908999964594841, 0.0771000012755394, -0.1454000025987625, 0.06350000202655792, -0.24310000240802765, 0.20190000534057617, 0.19740000367164612, 0.04830000177025795, -0.04540000110864639, 0.18060000240802765, -0.0860000029206276, -0.017500000074505806, 0.027300000190734863, -0.46939998865127563, -0.3952000141143799, -0.07810000330209732, -0.09809999912977219, -0.16259999573230743, -0.12520000338554382]}, \"token.table\": {\"Topic\": [7, 1, 2, 3, 4, 5, 6, 7, 8, 9, 10, 6, 10, 1, 3, 4, 5, 6, 7, 8, 9, 10, 1, 2, 3, 4, 5, 6, 7, 8, 9, 10, 1, 2, 3, 4, 5, 6, 7, 8, 9, 10, 5, 1, 2, 3, 4, 5, 6, 7, 8, 9, 10, 5, 1, 2, 3, 4, 5, 6, 7, 8, 9, 10, 9, 10, 1, 2, 3, 4, 5, 6, 7, 8, 9, 10, 1, 8, 4, 1, 2, 3, 4, 5, 6, 7, 8, 9, 10, 1, 2, 3, 4, 5, 6, 7, 8, 9, 10, 1, 2, 3, 4, 5, 6, 7, 8, 9, 10, 1, 2, 3, 4, 5, 6, 7, 8, 9, 10, 1, 2, 3, 4, 5, 6, 7, 8, 9, 10, 1, 2, 3, 4, 5, 6, 7, 8, 9, 10, 6, 1, 2, 3, 5, 6, 7, 8, 10, 6, 1, 2, 3, 4, 5, 6, 7, 8, 9, 10, 1, 2, 3, 4, 5, 6, 7, 8, 9, 10, 3, 4, 3, 8, 8, 9, 10, 1, 2, 3, 4, 5, 6, 7, 8, 9, 10, 1, 2, 3, 4, 5, 6, 7, 8, 9, 10, 10, 2, 7, 1, 2, 3, 4, 5, 6, 7, 8, 9, 10, 1, 2, 3, 4, 5, 6, 7, 8, 9, 10, 1, 2, 3, 4, 5, 6, 7, 8, 9, 10, 6, 9, 1, 2, 3, 4, 5, 6, 7, 8, 9, 10, 1, 2, 3, 5, 6, 7, 8, 9, 10, 5, 1, 2, 3, 4, 5, 6, 7, 8, 9, 10, 1, 2, 3, 4, 5, 6, 7, 8, 9, 10, 1, 8, 6, 8, 5, 6, 7, 10, 2, 5, 6, 7, 8, 9, 1, 2, 3, 4, 5, 6, 7, 8, 9, 10, 1, 6, 8, 1, 3, 4, 7, 8, 1, 2, 3, 4, 5, 6, 7, 8, 9, 10, 1, 2, 3, 4, 5, 6, 7, 8, 9, 10, 1, 2, 3, 4, 5, 6, 7, 8, 9, 10, 1, 2, 3, 4, 5, 6, 7, 8, 9, 10, 2, 5, 3, 4, 5, 7, 9, 1, 2, 3, 5, 6, 10, 6, 1, 2, 3, 4, 5, 6, 7, 8, 9, 10, 6, 8, 1, 2, 3, 4, 5, 6, 7, 8, 9, 10, 1, 2, 3, 4, 5, 6, 7, 8, 9, 10, 1, 2, 3, 4, 5, 6, 7, 8, 9, 10, 1, 2, 3, 4, 5, 6, 7, 8, 9, 10, 7, 9, 8, 1, 4, 8, 10, 5, 8, 1, 2, 3, 4, 5, 6, 7, 8, 9, 10, 5, 6, 1, 2, 3, 4, 5, 6, 7, 8, 9, 10, 2, 1, 2, 3, 4, 5, 6, 7, 8, 9, 10, 2, 3, 9, 1, 2, 3, 4, 5, 6, 7, 8, 9, 10, 1, 2, 8, 1, 5, 1, 2, 3, 4, 5, 6, 7, 8, 9, 10, 4, 1, 2, 3, 4, 5, 8, 9, 2, 9, 10, 1, 2, 3, 4, 5, 6, 7, 8, 9, 10, 1, 2, 3, 4, 5, 6, 7, 8, 9, 10, 3, 6, 1, 3, 4, 7, 10, 1, 2, 3, 8, 9, 10, 7, 1, 2, 3, 4, 5, 6, 7, 8, 9, 10, 1, 2, 3, 4, 5, 6, 7, 8, 9, 10, 1, 2, 3, 4, 5, 6, 7, 8, 9, 10, 6, 8, 2, 3, 7, 5, 9, 8, 3, 5, 8, 10, 5, 7, 4, 1, 2, 3, 4, 5, 6, 7, 8, 9, 10, 1, 2, 3, 4, 5, 6, 7, 8, 9, 10, 1, 2, 3, 4, 5, 6, 7, 8, 9, 10, 5, 7, 10, 1, 2, 3, 4, 5, 6, 7, 8, 9, 10, 2, 3, 5, 7, 9, 10, 1, 2, 3, 4, 5, 6, 7, 8, 9, 10, 1, 2, 3, 9, 1, 2, 3, 4, 5, 6, 7, 8, 9, 10, 1, 2, 3, 4, 5, 6, 7, 8, 9, 10, 1, 2, 3, 4, 5, 6, 7, 8, 9, 10, 8, 1, 2, 3, 4, 5, 6, 7, 8, 9, 10, 1, 2, 3, 4, 5, 6, 7, 8, 9, 10, 2, 9, 10, 1, 2, 4, 5, 7, 8, 9, 10, 2, 7, 2, 7, 10, 1, 2, 3, 4, 5, 6, 7, 8, 9, 10, 5, 3, 2, 6, 1, 2, 3, 4, 5, 6, 7, 8, 9, 10, 1, 2, 3, 4, 5, 6, 7, 8, 9, 10, 1, 2, 3, 4, 5, 6, 7, 8, 9, 10, 1, 2, 3, 4, 5, 6, 7, 8, 9, 10, 1, 2, 3, 4, 5, 6, 7, 8, 9, 10, 1, 2, 3, 4, 5, 6, 7, 8, 9, 10, 2, 1, 2, 3, 4, 5, 6, 7, 8, 9, 10, 1, 2, 3, 4, 5, 6, 7, 8, 9, 10, 2, 3, 7, 8, 9, 10, 4, 7, 1, 2, 3, 4, 5, 6, 7, 8, 9, 10, 1, 2, 3, 4, 5, 6, 7, 8, 9, 10, 2, 6, 1, 2, 3, 4, 5, 6, 7, 8, 9, 10, 1, 2, 3, 4, 5, 6, 7, 8, 9, 10, 1, 2, 3, 4, 5, 6, 7, 8, 9, 10, 1, 2, 3, 4, 5, 6, 7, 8, 9, 10, 6, 1, 2, 3, 4, 5, 6, 7, 8, 9, 10, 2, 3, 5, 1, 2, 3, 4, 5, 6, 7, 8, 9, 10, 5, 1, 2, 3, 4, 5, 6, 7, 8, 9, 10, 1, 2, 3, 4, 5, 6, 7, 8, 9, 10, 1, 6, 1, 2, 3, 4, 5, 6, 7, 8, 9, 10, 1, 2, 3, 4, 5, 6, 7, 8, 9, 10, 2, 3, 4, 5, 10, 1, 2, 3, 4, 5, 6, 7, 8, 9, 10, 1, 10, 1, 2, 3, 4, 5, 6, 7, 8, 9, 10, 1, 2, 3, 4, 5, 6, 7, 8, 9, 10, 1, 2, 3, 4, 5, 6, 7, 8, 9, 10, 1, 2, 3, 4, 5, 6, 7, 8, 9, 10, 1, 3, 6, 1, 2, 3, 4, 5, 6, 7, 8, 9, 10, 1, 2, 3, 4, 5, 6, 7, 8, 9, 10, 1, 2, 3, 4, 5, 6, 7, 8, 9, 10, 1, 2, 3, 4, 5, 6, 7, 8, 9, 10, 1, 2, 3, 4, 5, 6, 7, 8, 9, 10, 1, 2, 3, 4, 5, 6, 7, 8, 9, 10, 1, 3, 6, 1, 2, 3, 4, 5, 6, 7, 8, 9, 10, 1, 2, 3, 4, 5, 6, 7, 8, 9, 10, 1, 2, 3, 4, 5, 6, 7, 8, 9, 10, 1, 2, 3, 4, 5, 6, 7, 8, 9, 10, 1, 2, 3, 4, 5, 6, 7, 8, 9, 10, 1, 2, 3, 4, 5, 6, 7, 8, 9, 10, 1, 2, 3, 4, 5, 6, 7, 8, 9, 10, 1, 2, 3, 4, 5, 6, 7, 8, 9, 10, 1, 2, 3, 4, 5, 6, 7, 8, 9, 10, 1, 2, 3, 4, 5, 6, 7, 8, 9, 10, 1, 2, 3, 4, 5, 6, 7, 8, 9, 10, 3, 4, 8, 10, 4, 1, 2, 3, 4, 5, 6, 7, 8, 9, 10, 1, 2, 3, 4, 5, 6, 7, 8, 9, 10, 1, 2, 3, 4, 5, 6, 7, 8, 9, 10, 1, 4, 10, 1, 2, 3, 6, 2, 3, 4, 6, 8, 9, 10, 2, 3, 4, 5, 6, 9, 10, 4, 5, 7, 9, 10, 8, 1, 2, 3, 4, 5, 6, 7, 8, 9, 10, 4, 1, 5, 8, 10, 1, 3, 4, 5, 8, 2, 3, 5, 10, 2, 1, 4, 8, 2, 1, 2, 3, 4, 5, 6, 7, 8, 9, 10, 1, 1, 2, 3, 4, 5, 6, 7, 8, 9, 10, 1, 2, 3, 4, 5, 6, 7, 8, 9, 10, 1, 2, 3, 4, 5, 6, 8, 9, 1, 2, 3, 4, 5, 6, 7, 8, 9, 10, 1, 6, 8, 9, 1, 2, 3, 4, 5, 6, 7, 8, 9, 10, 2, 3, 8, 9, 10, 1, 2, 3, 4, 5, 6, 7, 8, 9, 10, 1, 2, 3, 4, 5, 6, 7, 8, 9, 10, 4, 1, 3, 4, 5, 1, 2, 3, 4, 5, 6, 7, 8, 9, 10, 1, 4, 8, 10, 1, 2, 3, 4, 5, 6, 7, 8, 9, 10, 1, 2, 3, 4, 5, 6, 7, 8, 9, 10, 1, 2, 3, 4, 5, 6, 7, 8, 9, 10, 1, 2, 3, 4, 5, 6, 7, 8, 9, 10, 1, 2, 3, 4, 5, 6, 7, 8, 9, 10, 1, 2, 3, 4, 5, 6, 7, 8, 9, 10, 1, 3, 1, 2, 3, 4, 5, 6, 7, 8, 9, 10, 1, 2, 3, 4, 5, 6, 7, 8, 9, 10, 1, 2, 3, 4, 5, 6, 7, 8, 9, 10, 3, 8, 1, 2, 3, 4, 5, 6, 7, 8, 9, 10, 3, 4, 8, 1, 3, 6, 8, 9, 1, 2, 3, 4, 5, 6, 7, 8, 9, 10, 1, 2, 3, 4, 5, 6, 7, 8, 9, 10, 1, 2, 3, 4, 5, 6, 7, 8, 9, 10, 1, 2, 3, 4, 5, 6, 7, 8, 9, 10, 2, 3, 4, 5, 6, 8, 9, 10, 3, 6, 10, 2, 2, 6, 7, 1, 2, 3, 4, 5, 6, 7, 8, 9, 10, 4, 7, 8, 9, 1, 1, 2, 3, 4, 5, 6, 7, 8, 9, 10, 2, 7, 1, 2, 3, 4, 5, 6, 7, 8, 9, 10, 9, 1, 2, 3, 4, 5, 6, 7, 8, 9, 10, 1, 2, 3, 4, 5, 6, 7, 8, 9, 10, 3, 2, 10, 9, 10, 6, 1, 2, 3, 4, 5, 6, 7, 9, 10, 1, 2, 4, 5, 6, 7, 8, 9, 10, 1, 2, 3, 4, 5, 6, 7, 8, 9, 10, 1, 2, 3, 4, 5, 6, 7, 8, 9, 10, 1, 2, 3, 4, 5, 6, 7, 8, 9, 10, 4, 1, 2, 3, 4, 5, 6, 7, 8, 9, 10, 5, 6, 2, 3, 4, 5, 6, 1, 2, 3, 4, 5, 6, 7, 8, 9, 10, 2, 7, 1, 2, 3, 4, 5, 6, 7, 8, 9, 10, 1, 2, 3, 4, 5, 6, 7, 8, 9, 10, 1, 2, 3, 4, 5, 6, 7, 8, 9, 10, 1, 5, 7, 8, 1, 2, 3, 4, 5, 6, 7, 8, 9, 10, 1, 2, 3, 4, 5, 6, 7, 8, 9, 10, 1, 2, 3, 4, 5, 6, 9, 10, 7, 8, 6, 8, 1, 2, 3, 4, 5, 6, 7, 8, 9, 10, 2, 3, 5, 9, 2, 6, 7, 8, 9, 1, 5, 1, 3, 1, 2, 3, 4, 5, 6, 7, 8, 9, 10, 1, 2, 3, 4, 5, 6, 7, 8, 9, 10, 1, 2, 6, 8, 2, 4, 9, 10, 4, 7, 4, 6, 1, 2, 3, 4, 5, 6, 7, 8, 9, 10, 1, 2, 3, 4, 5, 6, 7, 8, 9, 10, 1, 2, 3, 4, 5, 6, 7, 8, 9, 10, 9, 7, 1, 2, 3, 4, 5, 6, 7, 8, 9, 10, 2, 10, 1, 2, 3, 4, 5, 6, 7, 8, 9, 10, 5, 1, 2, 3, 4, 5, 6, 7, 8, 9, 10, 1, 2, 3, 4, 5, 6, 7, 8, 9, 10, 1, 2, 3, 4, 5, 6, 7, 8, 9, 10, 9, 1, 2, 3, 4, 5, 6, 7, 8, 9, 10, 4, 3, 1, 9, 10, 1, 2, 3, 4, 5, 6, 7, 8, 9, 10, 1, 2, 3, 4, 5, 6, 7, 8, 9, 10, 8, 1, 2, 3, 4, 5, 6, 7, 8, 9, 10, 1, 2, 3, 4, 5, 6, 7, 8, 9, 10, 6, 1, 2, 3, 4, 5, 6, 7, 8, 9, 10, 1, 2, 3, 4, 5, 6, 7, 8, 9, 10, 1, 10, 1, 2, 3, 4, 5, 6, 7, 8, 9, 10, 1, 2, 3, 4, 5, 6, 7, 8, 9, 10, 1, 2, 3, 4, 5, 6, 7, 8, 9, 10, 5, 7, 1, 2, 3, 4, 5, 6, 7, 8, 9, 10, 1, 7, 1, 2, 3, 4, 5, 6, 7, 8, 9, 10, 3, 8, 1, 10, 1, 2, 3, 4, 5, 6, 7, 8, 9, 10, 1, 2, 3, 4, 5, 6, 7, 8, 9, 10, 1, 2, 4, 5, 6, 8, 9, 10, 6, 9, 1, 2, 3, 4, 5, 6, 7, 8, 9, 10, 1, 2, 3, 4, 5, 6, 7, 8, 9, 10, 1, 2, 3, 4, 5, 6, 7, 8, 9, 10, 1, 2, 3, 4, 5, 6, 7, 8, 9, 10, 1, 2, 3, 4, 5, 6, 7, 8, 9, 10, 1, 2, 3, 4, 5, 6, 7, 8, 9, 10, 7, 5, 7, 6, 2, 3, 3, 7, 1, 2, 3, 4, 5, 6, 7, 8, 9, 10, 1, 2, 3, 4, 5, 6, 7, 8, 9, 10, 1, 2, 3, 4, 5, 6, 7, 8, 9, 10, 2, 7, 1, 2, 3, 4, 5, 6, 7, 8, 9, 10, 7, 1, 2, 3, 4, 5, 6, 7, 8, 9, 10, 2, 3, 4, 9, 10, 1, 3, 4, 7, 8, 6, 2, 10, 1, 2, 3, 4, 5, 6, 7, 8, 9, 10, 1, 2, 3, 4, 5, 6, 7, 8, 9, 10, 1, 2, 3, 4, 5, 6, 7, 8, 9, 10, 1, 2, 3, 4, 5, 6, 7, 8, 9, 10, 1, 2, 3, 4, 5, 6, 7, 8, 9, 10, 1, 2, 3, 4, 5, 6, 7, 8, 9, 10, 1, 2, 3, 4, 5, 6, 7, 8, 9, 10, 1, 2, 3, 4, 5, 6, 7, 8, 9, 10, 3, 7, 6, 1, 2, 3, 4, 5, 6, 7, 8, 9, 10, 1, 2, 3, 4, 5, 6, 7, 8, 9, 10, 1, 2, 3, 4, 5, 6, 7, 8, 9, 10, 1, 2, 3, 4, 6, 8, 1, 2, 3, 4, 5, 6, 7, 8, 9, 10, 1, 2, 3, 4, 5, 6, 7, 8, 9, 10, 1, 2, 3, 4, 5, 6, 7, 8, 9, 10, 1, 2, 3, 4, 5, 6, 7, 8, 10, 1, 2, 3, 4, 5, 6, 7, 8, 9, 10, 1, 2, 3, 4, 7, 9, 1, 2, 5, 6, 9, 10, 1, 2, 3, 4, 5, 6, 7, 8, 9, 10, 1, 2, 3, 4, 5, 6, 7, 8, 9, 10, 1, 3, 5, 6, 9, 10, 1, 2, 3, 4, 5, 6, 7, 8, 9, 10, 1, 2, 3, 4, 5, 6, 7, 8, 9, 10, 1, 2, 3, 4, 5, 6, 7, 8, 9, 10, 1, 2, 3, 4, 5, 6, 7, 8, 9, 10, 1, 2, 3, 4, 5, 6, 7, 8, 9, 10, 1, 2, 3, 4, 5, 6, 7, 8, 9, 10, 1, 2, 3, 4, 5, 6, 7, 8, 9, 10, 2, 7, 1, 2, 3, 4, 5, 6, 7, 8, 9, 10, 2, 4, 7, 1, 2, 3, 4, 5, 6, 7, 8, 9, 10, 1, 2, 3, 4, 5, 6, 7, 8, 9, 10, 1, 2, 3, 4, 5, 6, 7, 8, 9, 10, 1, 2, 3, 4, 5, 6, 7, 8, 9, 10, 2, 3, 5, 6, 7, 10, 1, 2, 4, 5, 7, 8, 9, 10, 9, 1, 2, 3, 4, 5, 6, 7, 8, 9, 10, 4, 7, 10, 6, 1, 2, 3, 4, 5, 6, 7, 8, 9, 10, 1, 2, 3, 4, 5, 6, 7, 8, 9, 10, 1, 2, 3, 4, 5, 6, 7, 8, 9, 10, 3, 1, 2, 3, 4, 5, 6, 7, 8, 9, 10, 1, 2, 3, 4, 5, 6, 7, 8, 9, 10, 6, 8, 1, 2, 3, 4, 5, 6, 7, 8, 9, 10, 1, 2, 3, 4, 5, 6, 7, 8, 9, 10, 1, 2, 3, 4, 5, 6, 7, 8, 9, 10, 1, 2, 3, 4, 5, 6, 7, 8, 9, 10, 6, 1, 2, 3, 4, 5, 6, 7, 8, 9, 10, 1, 2, 3, 4, 5, 6, 7, 8, 9, 10, 1, 2, 3, 4, 5, 6, 7, 8, 9, 10, 3, 4, 6, 8, 9, 10, 1, 2, 3, 4, 5, 6, 9, 10, 1, 2, 3, 4, 5, 6, 7, 8, 9, 10, 1, 2, 5, 9, 1, 2, 3, 4, 5, 6, 7, 8, 9, 10, 1, 2, 3, 4, 5, 6, 7, 8, 9, 10, 9, 1, 2, 3, 4, 5, 6, 7, 8, 9, 10, 1, 2, 3, 4, 5, 6, 7, 8, 9, 10, 1, 2, 3, 4, 5, 6, 7, 8, 9, 10, 1, 2, 3, 4, 5, 6, 7, 8, 9, 10, 1, 2, 3, 4, 5, 6, 7, 8, 9, 10, 1, 2, 3, 4, 5, 6, 7, 8, 9, 10, 8, 1, 2, 3, 4, 5, 6, 7, 8, 9, 10, 1, 2, 3, 4, 5, 6, 7, 8, 9, 10, 1, 2, 3, 4, 5, 6, 7, 8, 9, 7], \"Freq\": [0.6182234883308411, 0.0880853533744812, 0.10103908181190491, 0.12953728437423706, 0.08290386199951172, 0.0751316249370575, 0.16839846968650818, 0.06735938787460327, 0.07772237062454224, 0.10622057318687439, 0.10362982749938965, 0.22674153745174408, 0.22674153745174408, 0.13580018281936646, 0.13580018281936646, 0.13580018281936646, 0.13580018281936646, 0.13580018281936646, 0.13580018281936646, 0.13580018281936646, 0.13580018281936646, 0.13580018281936646, 0.11930693686008453, 0.11930693686008453, 0.11930693686008453, 0.11930693686008453, 0.11930693686008453, 0.11930693686008453, 0.11930693686008453, 0.23861387372016907, 0.11930693686008453, 0.11930693686008453, 0.08761309087276459, 0.08761309087276459, 0.07009047269821167, 0.10513570159673691, 0.10513570159673691, 0.10513570159673691, 0.08761309087276459, 0.08761309087276459, 0.15770356357097626, 0.08761309087276459, 0.32350146770477295, 0.1455250382423401, 0.10895330458879471, 0.09600081294775009, 0.09828654676675797, 0.10590565949678421, 0.11428668349981308, 0.10971521586179733, 0.08533405512571335, 0.0746672973036766, 0.06095289811491966, 0.3232428729534149, 0.10639668256044388, 0.13679572939872742, 0.07599762827157974, 0.07599762827157974, 0.18239431083202362, 0.09119715541601181, 0.07599762827157974, 0.09119715541601181, 0.07599762827157974, 0.07599762827157974, 0.3240760266780853, 0.3240760266780853, 0.1085132509469986, 0.08653588593006134, 0.07417361438274384, 0.10027173906564713, 0.10576608031988144, 0.12499628216028214, 0.08653588593006134, 0.09340381622314453, 0.10713966935873032, 0.11400759220123291, 0.32292860746383667, 0.32292860746383667, 0.32334715127944946, 0.11252547055482864, 0.11252547055482864, 0.11252547055482864, 0.11252547055482864, 0.11252547055482864, 0.11252547055482864, 0.11252547055482864, 0.2250509411096573, 0.11252547055482864, 0.11252547055482864, 0.0895734503865242, 0.0895734503865242, 0.0895734503865242, 0.1791469007730484, 0.0895734503865242, 0.0895734503865242, 0.0895734503865242, 0.0895734503865242, 0.0895734503865242, 0.0895734503865242, 0.09345262497663498, 0.0836155042052269, 0.13771966099739075, 0.14755678176879883, 0.07869695127010345, 0.09345262497663498, 0.09345262497663498, 0.0836155042052269, 0.0836155042052269, 0.09837118536233902, 0.10493280738592148, 0.08364209532737732, 0.10341203957796097, 0.13078582286834717, 0.07451750338077545, 0.14143116772174835, 0.09732898324728012, 0.09884974360466003, 0.08212132751941681, 0.08364209532737732, 0.08223696798086166, 0.08223696798086166, 0.1233554482460022, 0.08223696798086166, 0.16447393596172333, 0.1233554482460022, 0.08223696798086166, 0.08223696798086166, 0.08223696798086166, 0.08223696798086166, 0.1122697964310646, 0.10478513687849045, 0.07734141498804092, 0.08357862383127213, 0.11601211875677109, 0.07983629405498505, 0.1122697964310646, 0.16715724766254425, 0.09480560570955276, 0.052392568439245224, 0.32317304611206055, 0.16030271351337433, 0.16030271351337433, 0.16030271351337433, 0.16030271351337433, 0.16030271351337433, 0.16030271351337433, 0.16030271351337433, 0.16030271351337433, 0.3232610821723938, 0.08836095035076141, 0.08836095035076141, 0.08836095035076141, 0.08836095035076141, 0.08836095035076141, 0.08836095035076141, 0.17672190070152283, 0.08836095035076141, 0.08836095035076141, 0.17672190070152283, 0.09876593202352524, 0.10283875465393066, 0.10589336603879929, 0.11913003772497177, 0.13033029437065125, 0.12829388678073883, 0.09571131318807602, 0.08552926033735275, 0.08043823391199112, 0.05396489053964615, 0.32274168729782104, 0.32274168729782104, 0.3233133852481842, 0.3233133852481842, 0.32367581129074097, 0.32367581129074097, 0.32367581129074097, 0.07757333666086197, 0.09912148118019104, 0.1120503693819046, 0.09696666896343231, 0.10343111306428909, 0.1443725973367691, 0.11851481348276138, 0.06248962879180908, 0.09265703707933426, 0.09265703707933426, 0.08648526668548584, 0.07382888346910477, 0.09492285549640656, 0.1012510433793068, 0.13289199769496918, 0.11601682007312775, 0.05695371329784393, 0.10546983778476715, 0.17297053337097168, 0.06117250770330429, 0.32358840107917786, 0.3240148425102234, 0.3240148425102234, 0.0873984768986702, 0.12567101418972015, 0.10682035982608795, 0.07882999628782272, 0.07997246086597443, 0.10853405296802521, 0.11596006900072098, 0.10167927294969559, 0.08568477630615234, 0.10910528153181076, 0.10575370490550995, 0.08962178230285645, 0.07617851346731186, 0.10037639737129211, 0.06721633672714233, 0.11740453541278839, 0.15773433446884155, 0.07528229802846909, 0.09141422063112259, 0.12098940461874008, 0.1349668949842453, 0.09527075290679932, 0.09685859829187393, 0.1032099798321724, 0.1143248975276947, 0.08891936391592026, 0.07462875545024872, 0.09844644367694855, 0.09685859829187393, 0.09527075290679932, 0.22695931792259216, 0.22695931792259216, 0.12933000922203064, 0.09326683729887009, 0.09699751436710358, 0.12559933960437775, 0.12186866998672485, 0.09202327579259872, 0.0895361602306366, 0.08207481354475021, 0.07958769798278809, 0.08704904466867447, 0.20019333064556122, 0.10009666532278061, 0.10009666532278061, 0.10009666532278061, 0.10009666532278061, 0.10009666532278061, 0.10009666532278061, 0.10009666532278061, 0.10009666532278061, 0.3232428729534149, 0.11705981940031052, 0.11705981940031052, 0.11705981940031052, 0.11705981940031052, 0.05852990970015526, 0.11705981940031052, 0.05852990970015526, 0.05852990970015526, 0.17558974027633667, 0.05852990970015526, 0.09500019252300262, 0.08395366370677948, 0.17232593894004822, 0.092790886759758, 0.11709326505661011, 0.09500019252300262, 0.06406989693641663, 0.12593048810958862, 0.08395366370677948, 0.07290712743997574, 0.32302623987197876, 0.32302623987197876, 0.32312309741973877, 0.32312309741973877, 0.19124138355255127, 0.19124138355255127, 0.19124138355255127, 0.19124138355255127, 0.17468173801898956, 0.17468173801898956, 0.17468173801898956, 0.17468173801898956, 0.17468173801898956, 0.17468173801898956, 0.15516817569732666, 0.1006496250629425, 0.11323083192110062, 0.1006496250629425, 0.06709975004196167, 0.0922621563076973, 0.10903709381818771, 0.07548721879720688, 0.0964558944106102, 0.08806842565536499, 0.3231332302093506, 0.3231332302093506, 0.3231332302093506, 0.19147449731826782, 0.19147449731826782, 0.19147449731826782, 0.19147449731826782, 0.19147449731826782, 0.0945148840546608, 0.11732882261276245, 0.08799661695957184, 0.10103315114974976, 0.08799661695957184, 0.13036535680294037, 0.06844180822372437, 0.10592184960842133, 0.10103315114974976, 0.10429228097200394, 0.11101126670837402, 0.10684834420681, 0.09297193586826324, 0.10962362587451935, 0.1123989075422287, 0.09505339711904526, 0.09089047461748123, 0.08880901336669922, 0.09297193586826324, 0.10060396045446396, 0.12803693115711212, 0.07468821108341217, 0.08002308756113052, 0.16004617512226105, 0.11203232407569885, 0.12270206212997437, 0.08002308756113052, 0.09069283306598663, 0.08535795658826828, 0.06935334205627441, 0.0674772784113884, 0.1349545568227768, 0.1686931997537613, 0.08434659987688065, 0.0674772784113884, 0.1012159213423729, 0.0674772784113884, 0.11808523535728455, 0.1012159213423729, 0.08434659987688065, 0.32426950335502625, 0.32426950335502625, 0.1912868767976761, 0.1912868767976761, 0.1912868767976761, 0.1912868767976761, 0.1912868767976761, 0.16050736606121063, 0.16050736606121063, 0.16050736606121063, 0.16050736606121063, 0.16050736606121063, 0.16050736606121063, 0.22656844556331635, 0.08210688084363937, 0.059714093804359436, 0.08210688084363937, 0.10449966043233871, 0.16421376168727875, 0.10449966043233871, 0.08957114070653915, 0.12689244747161865, 0.10449966043233871, 0.08957114070653915, 0.3225918710231781, 0.3225918710231781, 0.13137592375278473, 0.11308307945728302, 0.11973502486944199, 0.078160360455513, 0.08813828229904175, 0.09146425127983093, 0.08314932137727737, 0.0964532122015953, 0.07982334494590759, 0.11973502486944199, 0.09302268922328949, 0.1018221378326416, 0.06788142025470734, 0.09050856530666351, 0.12947753071784973, 0.081709124147892, 0.12570634484291077, 0.08548031002283096, 0.11690689623355865, 0.10685039311647415, 0.0751633495092392, 0.1101403534412384, 0.12948933243751526, 0.10046586394309998, 0.1302335262298584, 0.08111688494682312, 0.11534969508647919, 0.07665173709392548, 0.07367496937513351, 0.10790777951478958, 0.12482446432113647, 0.13869385421276093, 0.05547754094004631, 0.09708569943904877, 0.06934692710638046, 0.09708569943904877, 0.08321630954742432, 0.16643261909484863, 0.08321630954742432, 0.08321630954742432, 0.32387274503707886, 0.32387274503707886, 0.3229740858078003, 0.1911908984184265, 0.1911908984184265, 0.1911908984184265, 0.1911908984184265, 0.32327336072921753, 0.32327336072921753, 0.08477063477039337, 0.10172475874423981, 0.09889906644821167, 0.10172475874423981, 0.12150457501411438, 0.14693576097488403, 0.07346788048744202, 0.10172475874423981, 0.0791192576289177, 0.08759631961584091, 0.3233382999897003, 0.3233382999897003, 0.08626288175582886, 0.10579410195350647, 0.11393210291862488, 0.09440089017152786, 0.1399737298488617, 0.10742170363664627, 0.06510405987501144, 0.12532532215118408, 0.08951808512210846, 0.07161446660757065, 0.4395955204963684, 0.11547703295946121, 0.0976565033197403, 0.13828730583190918, 0.10621035844087601, 0.0876770094037056, 0.09480521827936172, 0.10549753904342651, 0.0776975080370903, 0.09623086452484131, 0.08197443932294846, 0.3238604962825775, 0.3238604962825775, 0.3238604962825775, 0.08158863335847855, 0.1657269150018692, 0.10963472723960876, 0.11218437552452087, 0.10708508640527725, 0.07903899252414703, 0.0943368598818779, 0.08158863335847855, 0.07648934423923492, 0.09178721159696579, 0.32306334376335144, 0.32306334376335144, 0.32306334376335144, 0.3229542374610901, 0.26673927903175354, 0.09385599195957184, 0.0997219905257225, 0.11145398765802383, 0.09385599195957184, 0.10558798909187317, 0.08212398737668991, 0.0997219905257225, 0.10558798909187317, 0.06452599167823792, 0.14664998650550842, 0.3230314552783966, 0.15260885655879974, 0.15260885655879974, 0.15260885655879974, 0.15260885655879974, 0.15260885655879974, 0.15260885655879974, 0.15260885655879974, 0.2672392725944519, 0.2672392725944519, 0.2672392725944519, 0.06010379269719124, 0.12646840512752533, 0.07387758046388626, 0.11645109951496124, 0.11019028723239899, 0.11519894003868103, 0.11770326644182205, 0.090155690908432, 0.09766866266727448, 0.09266001731157303, 0.0928405150771141, 0.06888167560100555, 0.08984565734863281, 0.0988302230834961, 0.07487138360738754, 0.12278907001018524, 0.12578392028808594, 0.1437530517578125, 0.10481993854045868, 0.07786624133586884, 0.32309791445732117, 0.32309791445732117, 0.3234538733959198, 0.3234538733959198, 0.323907732963562, 0.323907732963562, 0.323907732963562, 0.16983358561992645, 0.16983358561992645, 0.16983358561992645, 0.16983358561992645, 0.16983358561992645, 0.16983358561992645, 0.32383355498313904, 0.13378311693668365, 0.12263452261686325, 0.08147048950195312, 0.09261908382177353, 0.1243496909737587, 0.1277800351381302, 0.054885383695364, 0.07546740025281906, 0.1132010966539383, 0.07289464771747589, 0.11329163610935211, 0.09178056567907333, 0.08461020886898041, 0.07672281563282013, 0.09249760210514069, 0.13551974296569824, 0.10827238857746124, 0.10755535215139389, 0.10325314104557037, 0.08604428172111511, 0.11051163822412491, 0.10632558912038803, 0.11134884506464005, 0.1364651322364807, 0.10465117543935776, 0.0820465162396431, 0.07116279751062393, 0.0728372186422348, 0.10632558912038803, 0.09795349836349487, 0.32229548692703247, 0.32229548692703247, 0.32342472672462463, 0.2665676772594452, 0.2665676772594452, 0.22684815526008606, 0.22684815526008606, 0.2778223156929016, 0.1912425458431244, 0.1912425458431244, 0.1912425458431244, 0.1912425458431244, 0.2266204059123993, 0.2266204059123993, 0.3229295611381531, 0.10828748345375061, 0.10828748345375061, 0.14537224173545837, 0.09790375083684921, 0.0697193369269371, 0.1008705347776413, 0.07268612086772919, 0.10235392302274704, 0.10680409520864487, 0.08900341391563416, 0.10160063207149506, 0.12849491834640503, 0.09412999451160431, 0.09711825102567673, 0.13297729194164276, 0.11803603172302246, 0.10160063207149506, 0.06574158370494843, 0.07620047777891159, 0.08367110788822174, 0.08165430277585983, 0.09951618313789368, 0.14544673264026642, 0.0842059999704361, 0.0842059999704361, 0.11992976069450378, 0.10972297191619873, 0.09186109155416489, 0.09696448594331741, 0.0842059999704361, 0.3236307203769684, 0.3237079083919525, 0.3237079083919525, 0.08215128630399704, 0.08961958438158035, 0.09708788245916367, 0.1194927766919136, 0.10455618053674698, 0.08961958438158035, 0.0858854353427887, 0.09335373342037201, 0.10082203149795532, 0.13442938029766083, 0.17012356221675873, 0.17012356221675873, 0.17012356221675873, 0.17012356221675873, 0.17012356221675873, 0.17012356221675873, 0.06842825561761856, 0.06842825561761856, 0.20528477430343628, 0.06842825561761856, 0.06842825561761856, 0.06842825561761856, 0.06842825561761856, 0.06842825561761856, 0.13685651123523712, 0.13685651123523712, 0.15279914438724518, 0.15279914438724518, 0.15279914438724518, 0.15279914438724518, 0.12449607253074646, 0.10115306079387665, 0.08559104800224304, 0.09337205439805984, 0.14394858479499817, 0.09726255387067795, 0.08948154747486115, 0.10115306079387665, 0.09337205439805984, 0.07002904266119003, 0.10945913940668106, 0.11306767910718918, 0.1383274793624878, 0.10103920102119446, 0.08780787885189056, 0.12870469689369202, 0.07217086106538773, 0.08299648761749268, 0.08419933915138245, 0.0817936435341835, 0.10574793815612793, 0.10815130174160004, 0.09373112767934799, 0.07450422644615173, 0.13458828628063202, 0.11295802146196365, 0.14660508930683136, 0.07210086286067963, 0.06969750672578812, 0.08171431720256805, 0.32267844676971436, 0.11209835857152939, 0.09906366467475891, 0.0938497856259346, 0.06517346203327179, 0.09124284982681274, 0.12252610921859741, 0.0938497856259346, 0.0938497856259346, 0.14338162541389465, 0.08342203497886658, 0.07066567242145538, 0.07949888706207275, 0.08833209425210953, 0.17666418850421906, 0.08833209425210953, 0.1324981451034546, 0.10599850863218307, 0.10599850863218307, 0.07949888706207275, 0.08833209425210953, 0.26703184843063354, 0.26703184843063354, 0.26703184843063354, 0.19715900719165802, 0.19715900719165802, 0.09857950359582901, 0.09857950359582901, 0.09857950359582901, 0.09857950359582901, 0.09857950359582901, 0.09857950359582901, 0.2668014466762543, 0.2668014466762543, 0.26743224263191223, 0.26743224263191223, 0.26743224263191223, 0.16331882774829865, 0.09010694175958633, 0.07321188598871231, 0.11826536059379578, 0.09573862701654434, 0.09010694175958633, 0.09573862701654434, 0.10137030482292175, 0.09573862701654434, 0.07884357124567032, 0.2666928768157959, 0.618373692035675, 0.19719184935092926, 0.19719184935092926, 0.1382555216550827, 0.07301133871078491, 0.09631283581256866, 0.12582805752754211, 0.09941969811916351, 0.08388537168502808, 0.1444692462682724, 0.09009910374879837, 0.04970984905958176, 0.09786626696586609, 0.09842362254858017, 0.083219975233078, 0.08081939816474915, 0.15043610334396362, 0.09842362254858017, 0.11122670024633408, 0.09602305293083191, 0.08562055230140686, 0.1120268926024437, 0.08402016758918762, 0.09034880250692368, 0.15446729958057404, 0.1020067110657692, 0.0728619322180748, 0.11366461962461472, 0.11075013875961304, 0.09034880250692368, 0.09617775678634644, 0.08451984822750092, 0.087434321641922, 0.10590586066246033, 0.14935441315174103, 0.08146604150533676, 0.10862138867378235, 0.09504371881484985, 0.08961264789104462, 0.07603497803211212, 0.11133692413568497, 0.06517283618450165, 0.12219906598329544, 0.12598314881324768, 0.10798555612564087, 0.08398876339197159, 0.11198502033948898, 0.10598582029342651, 0.08598849922418594, 0.07998929917812347, 0.13198234140872955, 0.07199037075042725, 0.09198769181966782, 0.15088246762752533, 0.12530916929244995, 0.08694922178983688, 0.12786650657653809, 0.08439189195632935, 0.09973587095737457, 0.07671990245580673, 0.07927723228931427, 0.09717854112386703, 0.07160524278879166, 0.27851730585098267, 0.08964536339044571, 0.08010862022638321, 0.11825558543205261, 0.10299679636955261, 0.09918209910392761, 0.09155271202325821, 0.10108944773674011, 0.09155271202325821, 0.09727475047111511, 0.1258849799633026, 0.21723097562789917, 0.07241032272577286, 0.14482064545154572, 0.07241032272577286, 0.07241032272577286, 0.07241032272577286, 0.07241032272577286, 0.07241032272577286, 0.07241032272577286, 0.07241032272577286, 0.15658879280090332, 0.15658879280090332, 0.15658879280090332, 0.15658879280090332, 0.15658879280090332, 0.15658879280090332, 0.32311558723449707, 0.4390667974948883, 0.09681334346532822, 0.1439572274684906, 0.09428777545690536, 0.08986803889274597, 0.09786566346883774, 0.09534009546041489, 0.11849111318588257, 0.07555650174617767, 0.11491323262453079, 0.07282046973705292, 0.1016758605837822, 0.1072017252445221, 0.060784485191106796, 0.1138327568769455, 0.112727589905262, 0.106096550822258, 0.1392517238855362, 0.12156897038221359, 0.0596793107688427, 0.0762569010257721, 0.3240872621536255, 0.3240872621536255, 0.14029954373836517, 0.12585695087909698, 0.11347758024930954, 0.0907820612192154, 0.08252914994955063, 0.09490852057933807, 0.08665560185909271, 0.08252914994955063, 0.08252914994955063, 0.1010982021689415, 0.11124124377965927, 0.10726834088563919, 0.11322769522666931, 0.09534963965415955, 0.0734986811876297, 0.10726834088563919, 0.08939028531312943, 0.08939028531312943, 0.08939028531312943, 0.12315995246171951, 0.11899898201227188, 0.08232633769512177, 0.09804318845272064, 0.05987370386719704, 0.1040305569767952, 0.13621267676353455, 0.1032821387052536, 0.08831371366977692, 0.09654634445905685, 0.11151476949453354, 0.12357980757951736, 0.09921195358037949, 0.13750429451465607, 0.10443364083766937, 0.10095251351594925, 0.09050915390253067, 0.1079147607088089, 0.08180634677410126, 0.06440073996782303, 0.08702803403139114, 0.3235338032245636, 0.07142838090658188, 0.08258906751871109, 0.12053539603948593, 0.10491043329238892, 0.10714257508516312, 0.15178531408309937, 0.060267698019742966, 0.12276753038167953, 0.08035692572593689, 0.0959818884730339, 0.19732290506362915, 0.19732290506362915, 0.19732290506362915, 0.04947879537940025, 0.0989575907588005, 0.197915181517601, 0.04947879537940025, 0.0989575907588005, 0.0989575907588005, 0.0989575907588005, 0.0989575907588005, 0.04947879537940025, 0.0989575907588005, 0.32322177290916443, 0.08487604558467865, 0.07988333702087402, 0.07988333702087402, 0.1497812569141388, 0.08986875414848328, 0.10983958840370178, 0.08487604558467865, 0.09985417127609253, 0.10484687983989716, 0.11483229696750641, 0.10722281038761139, 0.11142762750387192, 0.10932522267103195, 0.08830113708972931, 0.09040354937314987, 0.14927098155021667, 0.07778909802436829, 0.06937946379184723, 0.11773484945297241, 0.08199391514062881, 0.3233138620853424, 0.3232254981994629, 0.08964121341705322, 0.08964121341705322, 0.10756944864988327, 0.08605556190013885, 0.07888426631689072, 0.11832639575004578, 0.114740751683712, 0.08246991038322449, 0.1039838045835495, 0.13266898691654205, 0.12660834193229675, 0.12238806486129761, 0.15193001925945282, 0.10550695657730103, 0.05908389389514923, 0.10128667950630188, 0.09284611791372299, 0.05908389389514923, 0.08018528670072556, 0.10972723364830017, 0.16991525888442993, 0.16991525888442993, 0.16991525888442993, 0.16991525888442993, 0.16991525888442993, 0.09382416307926178, 0.12810607254505157, 0.08299829810857773, 0.107356496155262, 0.08931338787078857, 0.1118672788143158, 0.08660691976547241, 0.1506599634885788, 0.09292200952768326, 0.05503148213028908, 0.32322126626968384, 0.32322126626968384, 0.1423673927783966, 0.1286911517381668, 0.10223548114299774, 0.10694369673728943, 0.10784049332141876, 0.07129579782485962, 0.10201127827167511, 0.10896150022745132, 0.07152000069618225, 0.05806795880198479, 0.1238144263625145, 0.10569524765014648, 0.07952308654785156, 0.08707275241613388, 0.09311247617006302, 0.08707275241613388, 0.08707275241613388, 0.11072835326194763, 0.1132449060678482, 0.11223828047513962, 0.13134337961673737, 0.12165014445781708, 0.12092314660549164, 0.08360417932271957, 0.1109875813126564, 0.11244156211614609, 0.09765937924385071, 0.06712567806243896, 0.07391094416379929, 0.08045388013124466, 0.0739692822098732, 0.10919274389743805, 0.10919274389743805, 0.09158101677894592, 0.1479385644197464, 0.06340224295854568, 0.10567039996385574, 0.11271509528160095, 0.11271509528160095, 0.0704469308257103, 0.22662140429019928, 0.22662140429019928, 0.22662140429019928, 0.09854695945978165, 0.09854695945978165, 0.09854695945978165, 0.09854695945978165, 0.09854695945978165, 0.09854695945978165, 0.09854695945978165, 0.09854695945978165, 0.09854695945978165, 0.1970939189195633, 0.09548953175544739, 0.13021299242973328, 0.08246822655200958, 0.07812779396772385, 0.09982996433973312, 0.09114909917116165, 0.09548953175544739, 0.09548953175544739, 0.13889385759830475, 0.09114909917116165, 0.10005569458007812, 0.09719695895910263, 0.1114906296133995, 0.08004455268383026, 0.09719695895910263, 0.10005569458007812, 0.10291443020105362, 0.10005569458007812, 0.08004455268383026, 0.13721923530101776, 0.11598649621009827, 0.10632095485925674, 0.16431421041488647, 0.06765878945589066, 0.0869898721575737, 0.11598649621009827, 0.10632095485925674, 0.06765878945589066, 0.06765878945589066, 0.0869898721575737, 0.09892556816339493, 0.07168519496917725, 0.10035927593708038, 0.13190075755119324, 0.10752779245376587, 0.09032334387302399, 0.10609409213066101, 0.07885371893644333, 0.13476817309856415, 0.08028741925954819, 0.09756605327129364, 0.09280673414468765, 0.08090843260288239, 0.10470503568649292, 0.10232537239789963, 0.09042707830667496, 0.11660333722829819, 0.08328809589147568, 0.1451592594385147, 0.08328809589147568, 0.2663854956626892, 0.2663854956626892, 0.2663854956626892, 0.2176857888698578, 0.1088428944349289, 0.1088428944349289, 0.1088428944349289, 0.1088428944349289, 0.1088428944349289, 0.1088428944349289, 0.1088428944349289, 0.1088428944349289, 0.1088428944349289, 0.1074465736746788, 0.11430486291646957, 0.1074465736746788, 0.07086901366710663, 0.10287437587976456, 0.10287437587976456, 0.11430486291646957, 0.07544121146202087, 0.13945193588733673, 0.06401072442531586, 0.12716610729694366, 0.0809238851070404, 0.09248443692922592, 0.10982527583837509, 0.09248443692922592, 0.10982527583837509, 0.10982527583837509, 0.1416167914867401, 0.06936333328485489, 0.06936333328485489, 0.08313478529453278, 0.08124536275863647, 0.12281275540590286, 0.09258192032575607, 0.09069249778985977, 0.11525505036115646, 0.10958676785230637, 0.08691364526748657, 0.12470218539237976, 0.09258192032575607, 0.07266514003276825, 0.10173119604587555, 0.10173119604587555, 0.0871981680393219, 0.1162642240524292, 0.0871981680393219, 0.0871981680393219, 0.18892936408519745, 0.07266514003276825, 0.0871981680393219, 0.08315110206604004, 0.08315110206604004, 0.12056910246610641, 0.14551442861557007, 0.08730866014957428, 0.08315110206604004, 0.10393887758255005, 0.0997813269495964, 0.11641154438257217, 0.07483599334955215, 0.09897853434085846, 0.09897853434085846, 0.08248210698366165, 0.07423389703035355, 0.08248210698366165, 0.07423389703035355, 0.09073032438755035, 0.1649642139673233, 0.10722674429416656, 0.12372316420078278, 0.13639578223228455, 0.12045342475175858, 0.09211143851280212, 0.09742556512355804, 0.08856869488954544, 0.08856869488954544, 0.0956541895866394, 0.11159655451774597, 0.09388281404972076, 0.07439769804477692, 0.09210662543773651, 0.09558235108852386, 0.060825131833553314, 0.14945603907108307, 0.11469881981611252, 0.09558235108852386, 0.09210662543773651, 0.09732021391391754, 0.10427165776491165, 0.1007959321141243, 0.10091281682252884, 0.09845153242349625, 0.09599024057388306, 0.0836838036775589, 0.09106766432523727, 0.10091281682252884, 0.13537085056304932, 0.10583540052175522, 0.10091281682252884, 0.08614508807659149, 0.06127483397722244, 0.09191224724054337, 0.12254966795444489, 0.11029469966888428, 0.12050717324018478, 0.1307196468114853, 0.1307196468114853, 0.04697737097740173, 0.09191224724054337, 0.09191224724054337, 0.19703733921051025, 0.19703733921051025, 0.19703733921051025, 0.19703733921051025, 0.3228641450405121, 0.17436982691287994, 0.08718491345643997, 0.08718491345643997, 0.08718491345643997, 0.08718491345643997, 0.2615547478199005, 0.08718491345643997, 0.08718491345643997, 0.08718491345643997, 0.08718491345643997, 0.08726434409618378, 0.17452868819236755, 0.08726434409618378, 0.08726434409618378, 0.08726434409618378, 0.08726434409618378, 0.08726434409618378, 0.08726434409618378, 0.08726434409618378, 0.08726434409618378, 0.07093200087547302, 0.07093200087547302, 0.14186400175094604, 0.07093200087547302, 0.07093200087547302, 0.07093200087547302, 0.14186400175094604, 0.07093200087547302, 0.21279600262641907, 0.07093200087547302, 0.3234291076660156, 0.3234291076660156, 0.3234291076660156, 0.3235199749469757, 0.32357165217399597, 0.32305192947387695, 0.32305192947387695, 0.19702723622322083, 0.19702723622322083, 0.19702723622322083, 0.19702723622322083, 0.22669725120067596, 0.22669725120067596, 0.22669725120067596, 0.12717249989509583, 0.12717249989509583, 0.12717249989509583, 0.12717249989509583, 0.25434499979019165, 0.12717249989509583, 0.12717249989509583, 0.17017212510108948, 0.17017212510108948, 0.17017212510108948, 0.17017212510108948, 0.17017212510108948, 0.32260507345199585, 0.09304067492485046, 0.09304067492485046, 0.04652033746242523, 0.09304067492485046, 0.1395610123872757, 0.04652033746242523, 0.18608134984970093, 0.09304067492485046, 0.09304067492485046, 0.09304067492485046, 0.34015175700187683, 0.19127394258975983, 0.19127394258975983, 0.19127394258975983, 0.19127394258975983, 0.6175491213798523, 0.3229527473449707, 0.3229527473449707, 0.3232361674308777, 0.3232361674308777, 0.19130803644657135, 0.19130803644657135, 0.19130803644657135, 0.19130803644657135, 0.32373324036598206, 0.2266484647989273, 0.2266484647989273, 0.2266484647989273, 0.32368385791778564, 0.1148969978094101, 0.099577397108078, 0.07234255224466324, 0.11830134689807892, 0.10298175364732742, 0.09021541476249695, 0.1148969978094101, 0.07319363951683044, 0.11830134689807892, 0.09532195329666138, 0.6179149746894836, 0.06543751060962677, 0.13087502121925354, 0.06543751060962677, 0.1963125318288803, 0.06543751060962677, 0.13087502121925354, 0.06543751060962677, 0.13087502121925354, 0.06543751060962677, 0.06543751060962677, 0.09782370924949646, 0.095649853348732, 0.14999635517597198, 0.10217142850160599, 0.09347598999738693, 0.12173617631196976, 0.09130213409662247, 0.06956353038549423, 0.09999757260084152, 0.08043283224105835, 0.1564272791147232, 0.1564272791147232, 0.1564272791147232, 0.1564272791147232, 0.1564272791147232, 0.1564272791147232, 0.1564272791147232, 0.1564272791147232, 0.11936508864164352, 0.11936508864164352, 0.09246591478586197, 0.08574111759662628, 0.10423430055379868, 0.09246591478586197, 0.08742231875658035, 0.13113348186016083, 0.07565393298864365, 0.08910351991653442, 0.15629054605960846, 0.15629054605960846, 0.15629054605960846, 0.15629054605960846, 0.07416746765375137, 0.13812564313411713, 0.11980897933244705, 0.0918835774064064, 0.08737948536872864, 0.09698822349309921, 0.10569614171981812, 0.11350324749946594, 0.06275708228349686, 0.1092994213104248, 0.170258030295372, 0.170258030295372, 0.170258030295372, 0.170258030295372, 0.170258030295372, 0.07964225858449936, 0.12344550341367722, 0.10154388099908829, 0.10552599281072617, 0.09357965737581253, 0.12344550341367722, 0.0816333144903183, 0.08760648965835571, 0.12941867113113403, 0.07366909086704254, 0.07648895680904388, 0.09324368089437485, 0.12893852591514587, 0.1274815946817398, 0.1296669989824295, 0.06993275880813599, 0.08523055166006088, 0.08741594851016998, 0.10999840497970581, 0.09105828404426575, 0.3230656683444977, 0.1743766814470291, 0.1743766814470291, 0.1743766814470291, 0.1743766814470291, 0.09193751960992813, 0.11492189764976501, 0.09734560549259186, 0.10816178470849991, 0.13385021686553955, 0.09328953921794891, 0.07300920784473419, 0.12032999098300934, 0.09869763255119324, 0.07030516117811203, 0.19096972048282623, 0.19096972048282623, 0.19096972048282623, 0.19096972048282623, 0.10345697402954102, 0.0868087187409401, 0.08443040400743484, 0.12129437923431396, 0.11178109794855118, 0.12248353660106659, 0.09156536310911179, 0.08561956137418747, 0.10464613139629364, 0.08799788355827332, 0.0828208327293396, 0.0828208327293396, 0.0414104163646698, 0.0828208327293396, 0.1242312490940094, 0.0414104163646698, 0.0828208327293396, 0.1242312490940094, 0.1242312490940094, 0.1656416654586792, 0.09106773883104324, 0.09382736682891846, 0.08830811083316803, 0.13246217370033264, 0.13936123251914978, 0.09796681255102158, 0.11314477026462555, 0.09520718455314636, 0.06899071484804153, 0.07864940911531448, 0.13032019138336182, 0.11234499514102936, 0.07414770126342773, 0.07639459520578384, 0.09886359423398972, 0.11009809374809265, 0.13481399416923523, 0.0966167002916336, 0.08762909471988678, 0.07639459520578384, 0.14038753509521484, 0.10048792511224747, 0.09309910237789154, 0.09753239154815674, 0.11969884485006332, 0.09309910237789154, 0.07979923486709595, 0.09162133932113647, 0.07979923486709595, 0.10492121428251266, 0.07110913097858429, 0.12444097548723221, 0.07999777048826218, 0.0933307334780693, 0.10666369646787643, 0.08888640999794006, 0.10221937298774719, 0.08888640999794006, 0.14221826195716858, 0.10221937298774719, 0.22647613286972046, 0.22647613286972046, 0.10212303698062897, 0.10341573506593704, 0.10600113123655319, 0.07626910507678986, 0.1266842782497406, 0.09824495017528534, 0.12926967442035675, 0.08661068230867386, 0.07239101827144623, 0.09953764826059341, 0.09829030930995941, 0.1367243379354477, 0.15373611450195312, 0.09703017771244049, 0.06489680707454681, 0.09766024351119995, 0.1033308357000351, 0.07560792565345764, 0.08442885428667068, 0.08883931487798691, 0.14151179790496826, 0.11827851086854935, 0.09715735167264938, 0.06547560542821884, 0.07181195169687271, 0.12672698497772217, 0.1203906312584877, 0.07814830541610718, 0.05913925543427467, 0.12250274419784546, 0.27753859758377075, 0.27753859758377075, 0.09327729791402817, 0.09733282774686813, 0.0865180715918541, 0.12707342207431793, 0.10814759135246277, 0.06083301827311516, 0.10679574310779572, 0.08381438255310059, 0.12301788479089737, 0.11355496942996979, 0.2663950026035309, 0.2663950026035309, 0.32268527150154114, 0.19101981818675995, 0.19101981818675995, 0.19101981818675995, 0.19101981818675995, 0.3237980902194977, 0.08902381360530853, 0.11869841814041138, 0.1384814828634262, 0.09891534596681595, 0.08242945373058319, 0.07253792136907578, 0.0923209935426712, 0.0923209935426712, 0.13518430292606354, 0.07913227379322052, 0.09663467854261398, 0.07664129883050919, 0.08663798868656158, 0.14995037019252777, 0.10663136839866638, 0.08997021615505219, 0.08997021615505219, 0.09663467854261398, 0.09996690601110458, 0.10996360331773758, 0.0845877006649971, 0.12439367920160294, 0.11444218456745148, 0.07961195707321167, 0.14927241206169128, 0.11444218456745148, 0.08956345170736313, 0.0845877006649971, 0.08956345170736313, 0.06966046243906021, 0.1070801317691803, 0.17132820188999176, 0.09637212008237839, 0.09637212008237839, 0.11778814345598221, 0.08566410094499588, 0.08566410094499588, 0.06424807757139206, 0.06424807757139206, 0.1070801317691803, 0.27183714509010315, 0.13591857254505157, 0.13591857254505157, 0.13591857254505157, 0.13591857254505157, 0.13591857254505157, 0.13591857254505157, 0.13591857254505157, 0.26697754859924316, 0.26697754859924316, 0.26697754859924316, 0.3406777083873749, 0.2670534551143646, 0.2670534551143646, 0.2670534551143646, 0.07472784072160721, 0.11138678342103958, 0.06344816833734512, 0.1395859718322754, 0.10151706635951996, 0.10433698445558548, 0.1325361728668213, 0.1001071035861969, 0.08882743120193481, 0.08318759500980377, 0.22666405141353607, 0.22666405141353607, 0.22666405141353607, 0.22666405141353607, 0.43872398138046265, 0.09976543486118317, 0.1416836827993393, 0.10479562729597092, 0.07629121840000153, 0.08802832663059235, 0.12491638958454132, 0.09222014993429184, 0.09557361155748367, 0.09389688074588776, 0.08215977251529694, 0.3241904079914093, 0.3241904079914093, 0.16908477246761322, 0.07246489822864532, 0.11272317916154861, 0.08051655441522598, 0.0966198667883873, 0.10467152297496796, 0.08856821060180664, 0.0966198667883873, 0.07246489822864532, 0.0966198667883873, 0.32386529445648193, 0.0653737336397171, 0.0653737336397171, 0.1307474672794342, 0.1961211860179901, 0.0653737336397171, 0.1307474672794342, 0.0653737336397171, 0.0653737336397171, 0.0653737336397171, 0.0653737336397171, 0.13416609168052673, 0.09323406219482422, 0.08868605643510818, 0.07276804745197296, 0.09778206795454025, 0.0716310441493988, 0.14553609490394592, 0.11142607033252716, 0.10801506787538528, 0.077316053211689, 0.43855708837509155, 0.32380902767181396, 0.32380902767181396, 0.2268347293138504, 0.2268347293138504, 0.3233925402164459, 0.0873136818408966, 0.0873136818408966, 0.1746273636817932, 0.0873136818408966, 0.0873136818408966, 0.0873136818408966, 0.1746273636817932, 0.0873136818408966, 0.0873136818408966, 0.09536206722259521, 0.09536206722259521, 0.09536206722259521, 0.19072413444519043, 0.09536206722259521, 0.09536206722259521, 0.09536206722259521, 0.09536206722259521, 0.09536206722259521, 0.16375769674777985, 0.0697186216711998, 0.08268953114748001, 0.12322361767292023, 0.11187407374382019, 0.08593225479125977, 0.08431089669466019, 0.07944680750370026, 0.07782544195652008, 0.11998088657855988, 0.10915915668010712, 0.14137005805969238, 0.09931693971157074, 0.0921589583158493, 0.08768521994352341, 0.07515875995159149, 0.09394845366477966, 0.08947471529245377, 0.09126421064138412, 0.12079086899757385, 0.11011267453432083, 0.08406451344490051, 0.08051249384880066, 0.07518446445465088, 0.08880054205656052, 0.15747296810150146, 0.08702453225851059, 0.11662471294403076, 0.11484870314598083, 0.08524852246046066, 0.3403555750846863, 0.11482354998588562, 0.11163400858640671, 0.11057082563638687, 0.11057082563638687, 0.09568629413843155, 0.12120263278484344, 0.07548585534095764, 0.10100219398736954, 0.09462311118841171, 0.06485404074192047, 0.27806952595710754, 0.32322829961776733, 0.1564217060804367, 0.1564217060804367, 0.3128434121608734, 0.1564217060804367, 0.1564217060804367, 0.08214660733938217, 0.10742248594760895, 0.09899719804525375, 0.06740234792232513, 0.07372131198644638, 0.11374145746231079, 0.12427307665348053, 0.10320983827114105, 0.14533631503582, 0.08214660733938217, 0.3240204453468323, 0.3240204453468323, 0.11874126642942429, 0.11615993827581406, 0.09034661948680878, 0.08776528388261795, 0.08518395572900772, 0.10325327515602112, 0.13681058585643768, 0.11357860267162323, 0.08002129197120667, 0.06969596445560455, 0.09037207812070847, 0.12279564887285233, 0.12900441884994507, 0.11727674305438995, 0.1186564713716507, 0.0820937231183052, 0.1041693463921547, 0.06553700566291809, 0.06553700566291809, 0.1041693463921547, 0.11297876387834549, 0.11028879135847092, 0.08271659165620804, 0.09751143306493759, 0.08742403984069824, 0.08473407477140427, 0.09885641932487488, 0.0820441022515297, 0.10894380509853363, 0.13517102599143982, 0.1972133368253708, 0.1972133368253708, 0.1972133368253708, 0.1972133368253708, 0.10322649031877518, 0.08219887316226959, 0.07264086604118347, 0.11660770326852798, 0.09749168902635574, 0.10704969614744186, 0.13381211459636688, 0.11851930618286133, 0.09366848319768906, 0.0783756673336029, 0.11287057399749756, 0.11046907305717468, 0.09606006741523743, 0.09365856647491455, 0.14649160206317902, 0.06724204868078232, 0.10086306929588318, 0.0792495533823967, 0.10326457023620605, 0.0888555571436882, 0.1529008150100708, 0.1529008150100708, 0.1529008150100708, 0.1529008150100708, 0.1529008150100708, 0.1529008150100708, 0.1529008150100708, 0.3058016300201416, 0.43923425674438477, 0.43820586800575256, 0.32344505190849304, 0.32344505190849304, 0.11304651945829391, 0.0726727619767189, 0.09958859533071518, 0.09420543164014816, 0.09420543164014816, 0.10228018462657928, 0.07536434382200241, 0.1076633483171463, 0.09958859533071518, 0.1399623602628708, 0.16993755102157593, 0.16993755102157593, 0.33987510204315186, 0.16993755102157593, 0.16048561036586761, 0.16048561036586761, 0.16048561036586761, 0.16048561036586761, 0.16048561036586761, 0.26651808619499207, 0.26651808619499207, 0.26646116375923157, 0.26646116375923157, 0.09260308742523193, 0.09187962859869003, 0.10345501452684402, 0.1294996291399002, 0.09332655370235443, 0.10273155570030212, 0.1273292452096939, 0.08247462660074234, 0.10779578238725662, 0.06872885674238205, 0.13517507910728455, 0.10513617098331451, 0.09199414402246475, 0.10701359808444977, 0.10325873643159866, 0.08448442071676254, 0.09762644022703171, 0.13142021000385284, 0.058200377970933914, 0.0863618552684784, 0.32306239008903503, 0.16989052295684814, 0.3397810459136963, 0.16989052295684814, 0.22709070146083832, 0.22709070146083832, 0.22709070146083832, 0.22709070146083832, 0.323326975107193, 0.27827778458595276, 0.22656555473804474, 0.22656555473804474, 0.19009920954704285, 0.06686247885227203, 0.07472865283489227, 0.12716981768608093, 0.081283800303936, 0.11012643575668335, 0.10488232225179672, 0.07735071331262589, 0.08914997428655624, 0.07735071331262589, 0.09429582953453064, 0.11622509360313416, 0.10920773446559906, 0.11161994934082031, 0.07127010822296143, 0.08990997821092606, 0.07390161603689194, 0.1234617531299591, 0.10482187569141388, 0.10504116863012314, 0.10638192296028137, 0.1432899385690689, 0.10421086102724075, 0.0759870857000351, 0.06296072900295258, 0.12157933413982391, 0.08467132598161697, 0.09552662074565887, 0.08901344239711761, 0.11506615579128265, 0.3235843777656555, 0.3240683972835541, 0.09826166927814484, 0.09826166927814484, 0.07299438118934631, 0.08983923494815826, 0.13195137679576874, 0.1010691449046135, 0.11510652303695679, 0.056149523705244064, 0.14318127930164337, 0.09264671057462692, 0.3237186074256897, 0.3237186074256897, 0.17168578505516052, 0.08584289252758026, 0.06867431104183197, 0.12018004804849625, 0.08584289252758026, 0.06867431104183197, 0.0944271832704544, 0.06867431104183197, 0.13734862208366394, 0.0944271832704544, 0.3229667842388153, 0.10765977948904037, 0.1105959564447403, 0.11353213340044022, 0.09004272520542145, 0.07731929421424866, 0.08025547116994858, 0.11255340278148651, 0.12234065681695938, 0.07829802483320236, 0.10765977948904037, 0.15789727866649628, 0.09839975833892822, 0.09153465926647186, 0.12814852595329285, 0.09382302314043045, 0.10412067174911499, 0.07780446112155914, 0.10068812221288681, 0.06636262685060501, 0.07894863933324814, 0.11117129027843475, 0.13839690387248993, 0.08394566923379898, 0.08621446788311005, 0.11117129027843475, 0.11344008892774582, 0.06806405633687973, 0.09755847603082657, 0.0952896773815155, 0.0952896773815155, 0.32321399450302124, 0.10673673450946808, 0.10673673450946808, 0.10673673450946808, 0.05336836725473404, 0.05336836725473404, 0.21347346901893616, 0.05336836725473404, 0.10673673450946808, 0.10673673450946808, 0.05336836725473404, 0.3233998417854309, 0.340503066778183, 0.2666926085948944, 0.2666926085948944, 0.2666926085948944, 0.10990084707736969, 0.0758470669388771, 0.08977815508842468, 0.1470504254102707, 0.10525715351104736, 0.1129966452717781, 0.08513446152210236, 0.08513446152210236, 0.09906555712223053, 0.08823025971651077, 0.10199622064828873, 0.09962421655654907, 0.09488020092248917, 0.06404414027929306, 0.08064816892147064, 0.1399482935667038, 0.09250819683074951, 0.09725220501422882, 0.0877641886472702, 0.14232030510902405, 0.4376600682735443, 0.10664980113506317, 0.11454978585243225, 0.07109986990690231, 0.08689983934164047, 0.07899985462427139, 0.08689983934164047, 0.09874981641769409, 0.11849977821111679, 0.09084983170032501, 0.14219973981380463, 0.11757870763540268, 0.08105804771184921, 0.13093993067741394, 0.10332674533128738, 0.07036907970905304, 0.08818402886390686, 0.1068897396326065, 0.11490646749734879, 0.10421749204397202, 0.08283954858779907, 0.34022870659828186, 0.10891883820295334, 0.10891883820295334, 0.10891883820295334, 0.10891883820295334, 0.10891883820295334, 0.10891883820295334, 0.10891883820295334, 0.10891883820295334, 0.10891883820295334, 0.21783767640590668, 0.07606011629104614, 0.1267668604850769, 0.1267668604850769, 0.05915787070989609, 0.05915787070989609, 0.11831574141979218, 0.06760898977518082, 0.08451124280691147, 0.10986461490392685, 0.16902248561382294, 0.32352516055107117, 0.32352516055107117, 0.11419909447431564, 0.10969123989343643, 0.08790325373411179, 0.10217814147472382, 0.07813622057437897, 0.14800803363323212, 0.09015718102455139, 0.07738491147756577, 0.0931624174118042, 0.09917289763689041, 0.09868147224187851, 0.08771686255931854, 0.08771686255931854, 0.0657876506447792, 0.16446912288665771, 0.12061069160699844, 0.09868147224187851, 0.08771686255931854, 0.09868147224187851, 0.09868147224187851, 0.12677833437919617, 0.11164062470197678, 0.1400238424539566, 0.0775807723402977, 0.11353284120559692, 0.06055084988474846, 0.06811970472335815, 0.09650291502475739, 0.11164062470197678, 0.09271848946809769, 0.32401004433631897, 0.32401004433631897, 0.10976511240005493, 0.0757000744342804, 0.09651759266853333, 0.09651759266853333, 0.09178633987903595, 0.1334213763475418, 0.09557134658098221, 0.10881885886192322, 0.06813006848096848, 0.12301262468099594, 0.32376569509506226, 0.32376569509506226, 0.09200678765773773, 0.10607841610908508, 0.1136554479598999, 0.12123247981071472, 0.08767706155776978, 0.06819327175617218, 0.08659462630748749, 0.11690274626016617, 0.1136554479598999, 0.09308922290802002, 0.3221970796585083, 0.3221970796585083, 0.32323864102363586, 0.32323864102363586, 0.10675542801618576, 0.12483497709035873, 0.08781494945287704, 0.1179475262761116, 0.09986797720193863, 0.09470239281654358, 0.11019915342330933, 0.07404005527496338, 0.10417263209819794, 0.08006656914949417, 0.09704490005970001, 0.09861014038324356, 0.12834970653057098, 0.06887057423591614, 0.12834970653057098, 0.07200105488300323, 0.1158277839422226, 0.07043581455945969, 0.1158277839422226, 0.10487110167741776, 0.12487679719924927, 0.24975359439849854, 0.12487679719924927, 0.12487679719924927, 0.12487679719924927, 0.12487679719924927, 0.12487679719924927, 0.12487679719924927, 0.26675817370414734, 0.26675817370414734, 0.0812513530254364, 0.15265406668186188, 0.09602432698011398, 0.12557028234004974, 0.08617568016052246, 0.08371351659297943, 0.12310811877250671, 0.07878919690847397, 0.06894054263830185, 0.10094865411520004, 0.07472606748342514, 0.11652199923992157, 0.14058633148670197, 0.08105878531932831, 0.10765619575977325, 0.09625730663537979, 0.09499076008796692, 0.058260999619960785, 0.12285471707582474, 0.10638964921236038, 0.08960127830505371, 0.08960127830505371, 0.08960127830505371, 0.08960127830505371, 0.08960127830505371, 0.08960127830505371, 0.08960127830505371, 0.1692468672990799, 0.10951267927885056, 0.09955698251724243, 0.09602445363998413, 0.09602445363998413, 0.048012226819992065, 0.09602445363998413, 0.09602445363998413, 0.048012226819992065, 0.19204890727996826, 0.09602445363998413, 0.09602445363998413, 0.1440366804599762, 0.12720003724098206, 0.14647276699543, 0.08094547688961029, 0.08865457028150558, 0.09636365622282028, 0.06938183307647705, 0.11949093639850616, 0.11178184300661087, 0.073236383497715, 0.08094547688961029, 0.11524905264377594, 0.06618262082338333, 0.11838702112436295, 0.07588180154561996, 0.09100110828876495, 0.1146785095334053, 0.1055498719215393, 0.13550321757793427, 0.11496377736330032, 0.0627593845129013, 0.3235833942890167, 0.22668257355690002, 0.3235844075679779, 0.32352185249328613, 0.32355794310569763, 0.32355794310569763, 0.32329970598220825, 0.6186345219612122, 0.1108642965555191, 0.10100968927145004, 0.08376413583755493, 0.07390952855348587, 0.1281098574399948, 0.10593699663877487, 0.09115508943796158, 0.16013731062412262, 0.08130048215389252, 0.06651857495307922, 0.0991634652018547, 0.16018714010715485, 0.08390755206346512, 0.07246561348438263, 0.11823336780071259, 0.07627958804368973, 0.08009357005357742, 0.08772152662277222, 0.11441938579082489, 0.1067914292216301, 0.11157047748565674, 0.13881443440914154, 0.10767848044633865, 0.08043453097343445, 0.14530108869075775, 0.08821851760149002, 0.0856238529086113, 0.07005587965250015, 0.07394787669181824, 0.09989449381828308, 0.32409143447875977, 0.32409143447875977, 0.11853109300136566, 0.10159808397293091, 0.09948145598173141, 0.09524819999933243, 0.1375807374715805, 0.05503229424357414, 0.11218121647834778, 0.07408193498849869, 0.11641447246074677, 0.09101495146751404, 0.26669731736183167, 0.1273602545261383, 0.10100985318422318, 0.0790511891245842, 0.10540158301591873, 0.09661811590194702, 0.1581023782491684, 0.09222638607025146, 0.07246358692646027, 0.07026772201061249, 0.0988139882683754, 0.17020288109779358, 0.17020288109779358, 0.17020288109779358, 0.17020288109779358, 0.17020288109779358, 0.3231267035007477, 0.1909269243478775, 0.1909269243478775, 0.1909269243478775, 0.1909269243478775, 0.6184991598129272, 0.23512999713420868, 0.23512999713420868, 0.1341838389635086, 0.10097001492977142, 0.07506323605775833, 0.11292698979377747, 0.11491981893777847, 0.13351956009864807, 0.09233441948890686, 0.08303455263376236, 0.0743989571928978, 0.07904889434576035, 0.09151476621627808, 0.1081538125872612, 0.07487571984529495, 0.09151476621627808, 0.1081538125872612, 0.07487571984529495, 0.09151476621627808, 0.15807096660137177, 0.09151476621627808, 0.11647333949804306, 0.10532340407371521, 0.0986362025141716, 0.1588210016489029, 0.12036960572004318, 0.07690279930830002, 0.06854379922151566, 0.0952926054596901, 0.07857460528612137, 0.09696440398693085, 0.0986362025141716, 0.09392217546701431, 0.12033778429031372, 0.11446765065193176, 0.10272737592458725, 0.07924683392047882, 0.08805204182863235, 0.09392217546701431, 0.07337670028209686, 0.09392217546701431, 0.1379482001066208, 0.11277741938829422, 0.08675186336040497, 0.08964359015226364, 0.11856088042259216, 0.09542705118656158, 0.08964359015226364, 0.09253531694412231, 0.09542705118656158, 0.09253531694412231, 0.13012778759002686, 0.15006640553474426, 0.10759478062391281, 0.07361748069524765, 0.1160891056060791, 0.0849432498216629, 0.062291715294122696, 0.11892054975032806, 0.07644892483949661, 0.10193189978599548, 0.11042622476816177, 0.1347379833459854, 0.09328014403581619, 0.06070612743496895, 0.07551249861717224, 0.11104778945446014, 0.08439631760120392, 0.10512524098157883, 0.13177670538425446, 0.08439631760120392, 0.11845097690820694, 0.12971918284893036, 0.12971918284893036, 0.12971918284893036, 0.12971918284893036, 0.12971918284893036, 0.2594383656978607, 0.12971918284893036, 0.12971918284893036, 0.12971918284893036, 0.12971918284893036, 0.26659759879112244, 0.26659759879112244, 0.32341277599334717, 0.08987576514482498, 0.1035856306552887, 0.08987576514482498, 0.10815557837486267, 0.0822591707110405, 0.1249120831489563, 0.07311926782131195, 0.1142488569021225, 0.12186544388532639, 0.09139908105134964, 0.08689018338918686, 0.11187110841274261, 0.09014856815338135, 0.11187110841274261, 0.11621562391519547, 0.09992370754480362, 0.10318209230899811, 0.09014856815338135, 0.09340694546699524, 0.09775145351886749, 0.1097627654671669, 0.1381496787071228, 0.10219291597604752, 0.058666303753852844, 0.14761199057102203, 0.09273061156272888, 0.09273061156272888, 0.07948338240385056, 0.09651553630828857, 0.0813758447766304, 0.3235410451889038, 0.13858510553836823, 0.27717021107673645, 0.13858510553836823, 0.13858510553836823, 0.13858510553836823, 0.12681840360164642, 0.1062532514333725, 0.09939820319414139, 0.0874018743634224, 0.11996335536241531, 0.06512296199798584, 0.12853215634822845, 0.09254315495491028, 0.08568810671567917, 0.0874018743634224, 0.12330754101276398, 0.08862729370594025, 0.09633401781320572, 0.10532519221305847, 0.11688527464866638, 0.08605838567018509, 0.06936049461364746, 0.08220502734184265, 0.12459199130535126, 0.10789410024881363, 0.09017220139503479, 0.13370360434055328, 0.1430317759513855, 0.08084404468536377, 0.06529711186885834, 0.093281589448452, 0.07462526857852936, 0.08084404468536377, 0.13059422373771667, 0.11193790286779404, 0.13897304236888885, 0.13897304236888885, 0.13897304236888885, 0.13897304236888885, 0.13897304236888885, 0.13897304236888885, 0.13897304236888885, 0.13897304236888885, 0.13897304236888885, 0.07088368386030197, 0.07088368386030197, 0.07088368386030197, 0.07088368386030197, 0.07088368386030197, 0.14176736772060394, 0.07088368386030197, 0.14176736772060394, 0.07088368386030197, 0.2126510590314865, 0.27784430980682373, 0.17483532428741455, 0.17483532428741455, 0.17483532428741455, 0.17483532428741455, 0.17483532428741455, 0.1420065462589264, 0.1420065462589264, 0.1420065462589264, 0.1420065462589264, 0.1420065462589264, 0.1420065462589264, 0.0896267220377922, 0.0896267220377922, 0.0896267220377922, 0.1792534440755844, 0.0896267220377922, 0.0896267220377922, 0.1792534440755844, 0.0896267220377922, 0.0896267220377922, 0.0896267220377922, 0.09376733005046844, 0.10001848638057709, 0.11877195537090302, 0.10001848638057709, 0.08126501739025116, 0.05938597768545151, 0.09376733005046844, 0.15627887845039368, 0.10314406454563141, 0.09064175188541412, 0.15648327767848969, 0.15648327767848969, 0.15648327767848969, 0.15648327767848969, 0.15648327767848969, 0.15648327767848969, 0.08548513054847717, 0.10406885296106339, 0.1226525753736496, 0.06318466365337372, 0.1059272289276123, 0.0966353639960289, 0.1226525753736496, 0.09291861951351166, 0.07991001009941101, 0.1226525753736496, 0.09844613820314407, 0.12928467988967896, 0.10200443118810654, 0.0770963728427887, 0.08065466582775116, 0.12809859216213226, 0.08302686363458633, 0.07946856319904327, 0.12216809391975403, 0.09963223338127136, 0.14384138584136963, 0.07826664298772812, 0.11422698944807053, 0.06980538368225098, 0.11211167275905609, 0.10576573014259338, 0.10999635607004166, 0.11211167275905609, 0.07192069292068481, 0.08249726891517639, 0.11840960383415222, 0.11174717545509338, 0.08600595593452454, 0.08782298117876053, 0.08206906169652939, 0.10145068913698196, 0.10871879756450653, 0.09721095860004425, 0.11295852810144424, 0.09357690066099167, 0.11122702062129974, 0.058031488209962845, 0.1426607370376587, 0.10518207401037216, 0.09671914577484131, 0.07495734095573425, 0.1063910648226738, 0.11243601143360138, 0.10155510902404785, 0.09188318997621536, 0.11342406272888184, 0.12602673470973969, 0.07309550791978836, 0.10082139074802399, 0.08317764848470688, 0.15123207867145538, 0.08317764848470688, 0.11594459414482117, 0.0680544376373291, 0.08569817990064621, 0.11284787207841873, 0.0838298499584198, 0.09672674536705017, 0.09780149161815643, 0.08597933501005173, 0.09242778271436691, 0.11714684218168259, 0.12359528988599777, 0.12037106603384018, 0.0687834620475769, 0.32369959354400635, 0.32369959354400635, 0.13804282248020172, 0.09391437470912933, 0.08259939402341843, 0.09730887413024902, 0.10183486342430115, 0.06562691181898117, 0.09730887413024902, 0.12333333492279053, 0.08599388599395752, 0.11428134888410568, 0.2669031322002411, 0.26640161871910095, 0.26640161871910095, 0.11062866449356079, 0.11062866449356079, 0.11062866449356079, 0.11062866449356079, 0.11062866449356079, 0.11062866449356079, 0.055314332246780396, 0.055314332246780396, 0.11062866449356079, 0.1659429967403412, 0.11565788835287094, 0.089956134557724, 0.089956134557724, 0.10280700773000717, 0.089956134557724, 0.179912269115448, 0.089956134557724, 0.07710526138544083, 0.06425438076257706, 0.11565788835287094, 0.06704692542552948, 0.09637995064258575, 0.08799909055233002, 0.15923644602298737, 0.08380865305662155, 0.10476081818342209, 0.07961822301149368, 0.08380865305662155, 0.13828428089618683, 0.10057038813829422, 0.10779169201850891, 0.12064103037118912, 0.12349644303321838, 0.08994538336992264, 0.11136095225811005, 0.08708997815847397, 0.12064103037118912, 0.05710817873477936, 0.08066530525684357, 0.10208087414503098, 0.1699693500995636, 0.1699693500995636, 0.1699693500995636, 0.1699693500995636, 0.1699693500995636, 0.3232261836528778, 0.15279193222522736, 0.15279193222522736, 0.15279193222522736, 0.15279193222522736, 0.15279193222522736, 0.15279193222522736, 0.15279193222522736, 0.15279193222522736, 0.26677659153938293, 0.13605207204818726, 0.10629068315029144, 0.11479394137859344, 0.06802603602409363, 0.13817788660526276, 0.07227766513824463, 0.10841649770736694, 0.08715835958719254, 0.09353580325841904, 0.07865510880947113, 0.3237574100494385, 0.3237574100494385, 0.3237574100494385, 0.2777365744113922, 0.1224646270275116, 0.09004751592874527, 0.08644561469554901, 0.1296684294939041, 0.08284371346235275, 0.07563991844654083, 0.15488173067569733, 0.08644561469554901, 0.06483421474695206, 0.10805702209472656, 0.0834093987941742, 0.09309564530849457, 0.1043962761759758, 0.06403689086437225, 0.10224377363920212, 0.12107815593481064, 0.10278189927339554, 0.1173112764954567, 0.10332002490758896, 0.10870127379894257, 0.12970539927482605, 0.15928733348846436, 0.055750563740730286, 0.09671016782522202, 0.07281706482172012, 0.11263889819383621, 0.0830569639801979, 0.10808783024549484, 0.08874579519033432, 0.09329686313867569, 0.3227596879005432, 0.10367488861083984, 0.1073775663971901, 0.09626954048871994, 0.10552622377872467, 0.10367488861083984, 0.10367488861083984, 0.0999722108244896, 0.13329628109931946, 0.07590483129024506, 0.07035081833600998, 0.10625699162483215, 0.0913810133934021, 0.11263240873813629, 0.15619777143001556, 0.0807553082704544, 0.07863017171621323, 0.08925586938858032, 0.09988156706094742, 0.09031844139099121, 0.09456872195005417, 0.3227810859680176, 0.3227810859680176, 0.09034720808267593, 0.14154396951198578, 0.11644751578569412, 0.09436264634132385, 0.10640893876552582, 0.08432406187057495, 0.09536650031805038, 0.10741279274225235, 0.09034720808267593, 0.07428548485040665, 0.10669972747564316, 0.103514663875103, 0.09236693382263184, 0.07644160091876984, 0.12899519503116608, 0.08918186277151108, 0.09236693382263184, 0.07644160091876984, 0.119439996778965, 0.11306986212730408, 0.11484861373901367, 0.10164762288331985, 0.11484861373901367, 0.1174888163805008, 0.08844663202762604, 0.13729029893875122, 0.06732504814863205, 0.05544415861368179, 0.09240693598985672, 0.11088831722736359, 0.10452680289745331, 0.09612733125686646, 0.09519405663013458, 0.11012645810842514, 0.10639335215091705, 0.11292628198862076, 0.11012645810842514, 0.10266025364398956, 0.09332750737667084, 0.06906235218048096, 0.32359179854393005, 0.11598888039588928, 0.06864648312330246, 0.15386280417442322, 0.1467614471912384, 0.08758343756198883, 0.1065203994512558, 0.08284920454025269, 0.07811496406793594, 0.07101359963417053, 0.08758343756198883, 0.1716800034046173, 0.08107111603021622, 0.08584000170230865, 0.1430666744709015, 0.08584000170230865, 0.1049155592918396, 0.09537778049707413, 0.09060889482498169, 0.07153333723545074, 0.07153333723545074, 0.1367550939321518, 0.0921003669500351, 0.09000717848539352, 0.10884588956832886, 0.12000957131385803, 0.08093669265508652, 0.06628435850143433, 0.09977540373802185, 0.12070730328559875, 0.08442533761262894, 0.1384826898574829, 0.1384826898574829, 0.1384826898574829, 0.2769653797149658, 0.1384826898574829, 0.1384826898574829, 0.13585823774337769, 0.13585823774337769, 0.13585823774337769, 0.13585823774337769, 0.13585823774337769, 0.27171647548675537, 0.13585823774337769, 0.13585823774337769, 0.12376215308904648, 0.07899712026119232, 0.11322920769453049, 0.11586244404315948, 0.11322920769453049, 0.08689682930707932, 0.14746129512786865, 0.06583093106746674, 0.07109741121530533, 0.08689682930707932, 0.19752700626850128, 0.19752700626850128, 0.19752700626850128, 0.19752700626850128, 0.08493500202894211, 0.1125112995505333, 0.10478993505239487, 0.035297662019729614, 0.13567538559436798, 0.08824415504932404, 0.09596551954746246, 0.1080990880727768, 0.10368688404560089, 0.13126318156719208, 0.07982584089040756, 0.08647799491882324, 0.0997823029756546, 0.10310838371515274, 0.07982584089040756, 0.07649976760149002, 0.12639091908931732, 0.14302130043506622, 0.09313014894723892, 0.1164126917719841, 0.3240714967250824, 0.11093196272850037, 0.11253967136144638, 0.05948525667190552, 0.09967799484729767, 0.1141473799943924, 0.12379363924264908, 0.14308615028858185, 0.07073922455310822, 0.1028934195637703, 0.06430838257074356, 0.11267862468957901, 0.0777093917131424, 0.08548033237457275, 0.11656408756971359, 0.10102221369743347, 0.10490768402814865, 0.0777093917131424, 0.10102221369743347, 0.14376237988471985, 0.08159486204385757, 0.055979859083890915, 0.12439968436956406, 0.0932997614145279, 0.0932997614145279, 0.14616963267326355, 0.07774980366230011, 0.1275096833705902, 0.07774980366230011, 0.0932997614145279, 0.11506970971822739, 0.08906617015600204, 0.07514958083629608, 0.08628284931182861, 0.07514958083629608, 0.15029916167259216, 0.11411602795124054, 0.1196826621890068, 0.11411602795124054, 0.06123299151659012, 0.10854939371347427, 0.09966747462749481, 0.09966747462749481, 0.09254837036132812, 0.1317034512758255, 0.09254837036132812, 0.10322702676057816, 0.14238211512565613, 0.08542926609516144, 0.07475060969591141, 0.07475060969591141, 0.0869985967874527, 0.0869985967874527, 0.13049790263175964, 0.13049790263175964, 0.0869985967874527, 0.0869985967874527, 0.0869985967874527, 0.0869985967874527, 0.1739971935749054, 0.0869985967874527, 0.3231009840965271, 0.03268134221434593, 0.03268134221434593, 0.03268134221434593, 0.26145073771476746, 0.06536268442869186, 0.06536268442869186, 0.0980440229177475, 0.06536268442869186, 0.32681339979171753, 0.03268134221434593, 0.1788264811038971, 0.09388390183448792, 0.10729588568210602, 0.12070786952972412, 0.08494257181882858, 0.08494257181882858, 0.08047191053628922, 0.10729588568210602, 0.06258926540613174, 0.07600124925374985, 0.10528180003166199, 0.10528180003166199, 0.10528180003166199, 0.10528180003166199, 0.10528180003166199, 0.21056360006332397, 0.10528180003166199, 0.10528180003166199, 0.10528180003166199, 0.6190171837806702], \"Term\": [\"abiance\", \"able\", \"able\", \"able\", \"able\", \"able\", \"able\", \"able\", \"able\", \"able\", \"able\", \"accueil\", \"accueil\", \"actors\", \"actors\", \"actors\", \"actors\", \"actors\", \"actors\", \"actors\", \"actors\", \"actors\", \"advertising\", \"advertising\", \"advertising\", \"advertising\", \"advertising\", \"advertising\", \"advertising\", \"advertising\", \"advertising\", \"advertising\", \"advice\", \"advice\", \"advice\", \"advice\", \"advice\", \"advice\", \"advice\", \"advice\", \"advice\", \"advice\", \"amature\", \"amazing\", \"amazing\", \"amazing\", \"amazing\", \"amazing\", \"amazing\", \"amazing\", \"amazing\", \"amazing\", \"amazing\", \"angelica\", \"apple\", \"apple\", \"apple\", \"apple\", \"apple\", \"apple\", \"apple\", \"apple\", \"apple\", \"apple\", \"aptive\", \"aptive\", \"area\", \"area\", \"area\", \"area\", \"area\", \"area\", \"area\", \"area\", \"area\", \"area\", \"aryon\", \"aryon\", \"aumon\", \"aussi\", \"aussi\", \"aussi\", \"aussi\", \"aussi\", \"aussi\", \"aussi\", \"aussi\", \"aussi\", \"aussi\", \"austin\", \"austin\", \"austin\", \"austin\", \"austin\", \"austin\", \"austin\", \"austin\", \"austin\", \"austin\", \"average\", \"average\", \"average\", \"average\", \"average\", \"average\", \"average\", \"average\", \"average\", \"average\", \"awesome\", \"awesome\", \"awesome\", \"awesome\", \"awesome\", \"awesome\", \"awesome\", \"awesome\", \"awesome\", \"awesome\", \"backyard\", \"backyard\", \"backyard\", \"backyard\", \"backyard\", \"backyard\", \"backyard\", \"backyard\", \"backyard\", \"backyard\", \"bad\", \"bad\", \"bad\", \"bad\", \"bad\", \"bad\", \"bad\", \"bad\", \"bad\", \"bad\", \"badder\", \"bait\", \"bait\", \"bait\", \"bait\", \"bait\", \"bait\", \"bait\", \"bait\", \"bangle\", \"bao\", \"bao\", \"bao\", \"bao\", \"bao\", \"bao\", \"bao\", \"bao\", \"bao\", \"bao\", \"bar\", \"bar\", \"bar\", \"bar\", \"bar\", \"bar\", \"bar\", \"bar\", \"bar\", \"bar\", \"barhopping\", \"barhopping\", \"bb\", \"bb\", \"beause\", \"beause\", \"beause\", \"beef\", \"beef\", \"beef\", \"beef\", \"beef\", \"beef\", \"beef\", \"beef\", \"beef\", \"beef\", \"beer\", \"beer\", \"beer\", \"beer\", \"beer\", \"beer\", \"beer\", \"beer\", \"beer\", \"beer\", \"beleive\", \"bello\", \"bello\", \"best\", \"best\", \"best\", \"best\", \"best\", \"best\", \"best\", \"best\", \"best\", \"best\", \"better\", \"better\", \"better\", \"better\", \"better\", \"better\", \"better\", \"better\", \"better\", \"better\", \"big\", \"big\", \"big\", \"big\", \"big\", \"big\", \"big\", \"big\", \"big\", \"big\", \"bind\", \"bind\", \"bit\", \"bit\", \"bit\", \"bit\", \"bit\", \"bit\", \"bit\", \"bit\", \"bit\", \"bit\", \"bobbie\", \"bobbie\", \"bobbie\", \"bobbie\", \"bobbie\", \"bobbie\", \"bobbie\", \"bobbie\", \"bobbie\", \"booster\", \"branch\", \"branch\", \"branch\", \"branch\", \"branch\", \"branch\", \"branch\", \"branch\", \"branch\", \"branch\", \"breakfast\", \"breakfast\", \"breakfast\", \"breakfast\", \"breakfast\", \"breakfast\", \"breakfast\", \"breakfast\", \"breakfast\", \"breakfast\", \"bri\", \"bri\", \"brookline\", \"brookline\", \"bryanna\", \"bryanna\", \"bryanna\", \"bryanna\", \"buckle\", \"buckle\", \"buckle\", \"buckle\", \"buckle\", \"buckle\", \"buffet\", \"buffet\", \"buffet\", \"buffet\", \"buffet\", \"buffet\", \"buffet\", \"buffet\", \"buffet\", \"buffet\", \"butterflies\", \"butterflies\", \"butterflies\", \"caliente\", \"caliente\", \"caliente\", \"caliente\", \"caliente\", \"called\", \"called\", \"called\", \"called\", \"called\", \"called\", \"called\", \"called\", \"called\", \"called\", \"came\", \"came\", \"came\", \"came\", \"came\", \"came\", \"came\", \"came\", \"came\", \"came\", \"card\", \"card\", \"card\", \"card\", \"card\", \"card\", \"card\", \"card\", \"card\", \"card\", \"carne\", \"carne\", \"carne\", \"carne\", \"carne\", \"carne\", \"carne\", \"carne\", \"carne\", \"carne\", \"cary\", \"cary\", \"ceux\", \"ceux\", \"ceux\", \"ceux\", \"ceux\", \"chaat\", \"chaat\", \"chaat\", \"chaat\", \"chaat\", \"chaat\", \"chaleureux\", \"changed\", \"changed\", \"changed\", \"changed\", \"changed\", \"changed\", \"changed\", \"changed\", \"changed\", \"changed\", \"chauffeured\", \"chauffeured\", \"check\", \"check\", \"check\", \"check\", \"check\", \"check\", \"check\", \"check\", \"check\", \"check\", \"cheese\", \"cheese\", \"cheese\", \"cheese\", \"cheese\", \"cheese\", \"cheese\", \"cheese\", \"cheese\", \"cheese\", \"chicken\", \"chicken\", \"chicken\", \"chicken\", \"chicken\", \"chicken\", \"chicken\", \"chicken\", \"chicken\", \"chicken\", \"child\", \"child\", \"child\", \"child\", \"child\", \"child\", \"child\", \"child\", \"child\", \"child\", \"chintzy\", \"chintzy\", \"chitchatting\", \"chompies\", \"chompies\", \"chompies\", \"chompies\", \"clinical\", \"clinical\", \"close\", \"close\", \"close\", \"close\", \"close\", \"close\", \"close\", \"close\", \"close\", \"close\", \"coffe\", \"coffe\", \"coffee\", \"coffee\", \"coffee\", \"coffee\", \"coffee\", \"coffee\", \"coffee\", \"coffee\", \"coffee\", \"coffee\", \"coffeeshop\", \"come\", \"come\", \"come\", \"come\", \"come\", \"come\", \"come\", \"come\", \"come\", \"come\", \"conchas\", \"conchas\", \"conchas\", \"cooked\", \"cooked\", \"cooked\", \"cooked\", \"cooked\", \"cooked\", \"cooked\", \"cooked\", \"cooked\", \"cooked\", \"cos\", \"cos\", \"cos\", \"cosmetically\", \"costumers\", \"counter\", \"counter\", \"counter\", \"counter\", \"counter\", \"counter\", \"counter\", \"counter\", \"counter\", \"counter\", \"cpap\", \"cramps\", \"cramps\", \"cramps\", \"cramps\", \"cramps\", \"cramps\", \"cramps\", \"cranny\", \"cranny\", \"cranny\", \"customer\", \"customer\", \"customer\", \"customer\", \"customer\", \"customer\", \"customer\", \"customer\", \"customer\", \"customer\", \"cut\", \"cut\", \"cut\", \"cut\", \"cut\", \"cut\", \"cut\", \"cut\", \"cut\", \"cut\", \"cwru\", \"cwru\", \"daaayyuuummm\", \"daaayyuuummm\", \"dahl\", \"dahl\", \"dahl\", \"dane\", \"dane\", \"dane\", \"dane\", \"dane\", \"dane\", \"darlene\", \"day\", \"day\", \"day\", \"day\", \"day\", \"day\", \"day\", \"day\", \"day\", \"day\", \"definitely\", \"definitely\", \"definitely\", \"definitely\", \"definitely\", \"definitely\", \"definitely\", \"definitely\", \"definitely\", \"definitely\", \"delicious\", \"delicious\", \"delicious\", \"delicious\", \"delicious\", \"delicious\", \"delicious\", \"delicious\", \"delicious\", \"delicious\", \"delivary\", \"delivary\", \"deliverance\", \"demonic\", \"demonic\", \"depressed\", \"depressed\", \"describes\", \"diamonds\", \"diamonds\", \"diamonds\", \"diamonds\", \"diapers\", \"diapers\", \"dickens\", \"different\", \"different\", \"different\", \"different\", \"different\", \"different\", \"different\", \"different\", \"different\", \"different\", \"dinner\", \"dinner\", \"dinner\", \"dinner\", \"dinner\", \"dinner\", \"dinner\", \"dinner\", \"dinner\", \"dinner\", \"disappointed\", \"disappointed\", \"disappointed\", \"disappointed\", \"disappointed\", \"disappointed\", \"disappointed\", \"disappointed\", \"disappointed\", \"disappointed\", \"discontinue\", \"disinfecting\", \"disinfecting\", \"dog\", \"dog\", \"dog\", \"dog\", \"dog\", \"dog\", \"dog\", \"dog\", \"dog\", \"dog\", \"donair\", \"donair\", \"donair\", \"donair\", \"donair\", \"donair\", \"doughnuts\", \"doughnuts\", \"doughnuts\", \"doughnuts\", \"doughnuts\", \"doughnuts\", \"doughnuts\", \"doughnuts\", \"doughnuts\", \"doughnuts\", \"dye\", \"dye\", \"dye\", \"dye\", \"easy\", \"easy\", \"easy\", \"easy\", \"easy\", \"easy\", \"easy\", \"easy\", \"easy\", \"easy\", \"eat\", \"eat\", \"eat\", \"eat\", \"eat\", \"eat\", \"eat\", \"eat\", \"eat\", \"eat\", \"end\", \"end\", \"end\", \"end\", \"end\", \"end\", \"end\", \"end\", \"end\", \"end\", \"engages\", \"enjoyed\", \"enjoyed\", \"enjoyed\", \"enjoyed\", \"enjoyed\", \"enjoyed\", \"enjoyed\", \"enjoyed\", \"enjoyed\", \"enjoyed\", \"environment\", \"environment\", \"environment\", \"environment\", \"environment\", \"environment\", \"environment\", \"environment\", \"environment\", \"environment\", \"environmental\", \"environmental\", \"environmental\", \"erica\", \"erica\", \"erica\", \"erica\", \"erica\", \"erica\", \"erica\", \"erica\", \"especialy\", \"especialy\", \"ev\", \"ev\", \"ev\", \"evening\", \"evening\", \"evening\", \"evening\", \"evening\", \"evening\", \"evening\", \"evening\", \"evening\", \"evening\", \"everrr\", \"everrrrr\", \"exceeding\", \"exceeding\", \"excellent\", \"excellent\", \"excellent\", \"excellent\", \"excellent\", \"excellent\", \"excellent\", \"excellent\", \"excellent\", \"excellent\", \"experience\", \"experience\", \"experience\", \"experience\", \"experience\", \"experience\", \"experience\", \"experience\", \"experience\", \"experience\", \"extra\", \"extra\", \"extra\", \"extra\", \"extra\", \"extra\", \"extra\", \"extra\", \"extra\", \"extra\", \"extremely\", \"extremely\", \"extremely\", \"extremely\", \"extremely\", \"extremely\", \"extremely\", \"extremely\", \"extremely\", \"extremely\", \"family\", \"family\", \"family\", \"family\", \"family\", \"family\", \"family\", \"family\", \"family\", \"family\", \"fantastic\", \"fantastic\", \"fantastic\", \"fantastic\", \"fantastic\", \"fantastic\", \"fantastic\", \"fantastic\", \"fantastic\", \"fantastic\", \"fastest\", \"favorite\", \"favorite\", \"favorite\", \"favorite\", \"favorite\", \"favorite\", \"favorite\", \"favorite\", \"favorite\", \"favorite\", \"feast\", \"feast\", \"feast\", \"feast\", \"feast\", \"feast\", \"feast\", \"feast\", \"feast\", \"feast\", \"firefly\", \"firefly\", \"firefly\", \"firefly\", \"firefly\", \"firefly\", \"flannery\", \"flatscreen\", \"food\", \"food\", \"food\", \"food\", \"food\", \"food\", \"food\", \"food\", \"food\", \"food\", \"fresh\", \"fresh\", \"fresh\", \"fresh\", \"fresh\", \"fresh\", \"fresh\", \"fresh\", \"fresh\", \"fresh\", \"fridendly\", \"fridendly\", \"fried\", \"fried\", \"fried\", \"fried\", \"fried\", \"fried\", \"fried\", \"fried\", \"fried\", \"fried\", \"friend\", \"friend\", \"friend\", \"friend\", \"friend\", \"friend\", \"friend\", \"friend\", \"friend\", \"friend\", \"friendly\", \"friendly\", \"friendly\", \"friendly\", \"friendly\", \"friendly\", \"friendly\", \"friendly\", \"friendly\", \"friendly\", \"fries\", \"fries\", \"fries\", \"fries\", \"fries\", \"fries\", \"fries\", \"fries\", \"fries\", \"fries\", \"froide\", \"fun\", \"fun\", \"fun\", \"fun\", \"fun\", \"fun\", \"fun\", \"fun\", \"fun\", \"fun\", \"functional\", \"functional\", \"functional\", \"gambling\", \"gambling\", \"gambling\", \"gambling\", \"gambling\", \"gambling\", \"gambling\", \"gambling\", \"gambling\", \"gambling\", \"getgo\", \"gets\", \"gets\", \"gets\", \"gets\", \"gets\", \"gets\", \"gets\", \"gets\", \"gets\", \"gets\", \"getting\", \"getting\", \"getting\", \"getting\", \"getting\", \"getting\", \"getting\", \"getting\", \"getting\", \"getting\", \"giardinara\", \"gina\", \"given\", \"given\", \"given\", \"given\", \"given\", \"given\", \"given\", \"given\", \"given\", \"given\", \"glad\", \"glad\", \"glad\", \"glad\", \"glad\", \"glad\", \"glad\", \"glad\", \"glad\", \"glad\", \"goddess\", \"goddess\", \"goddess\", \"goddess\", \"goddess\", \"going\", \"going\", \"going\", \"going\", \"going\", \"going\", \"going\", \"going\", \"going\", \"going\", \"golfweek\", \"golfweek\", \"good\", \"good\", \"good\", \"good\", \"good\", \"good\", \"good\", \"good\", \"good\", \"good\", \"got\", \"got\", \"got\", \"got\", \"got\", \"got\", \"got\", \"got\", \"got\", \"got\", \"great\", \"great\", \"great\", \"great\", \"great\", \"great\", \"great\", \"great\", \"great\", \"great\", \"green\", \"green\", \"green\", \"green\", \"green\", \"green\", \"green\", \"green\", \"green\", \"green\", \"greenhouse\", \"greenhouse\", \"greenhouse\", \"grubhub\", \"grubhub\", \"grubhub\", \"grubhub\", \"grubhub\", \"grubhub\", \"grubhub\", \"grubhub\", \"grubhub\", \"grubhub\", \"guess\", \"guess\", \"guess\", \"guess\", \"guess\", \"guess\", \"guess\", \"guess\", \"guess\", \"guess\", \"guy\", \"guy\", \"guy\", \"guy\", \"guy\", \"guy\", \"guy\", \"guy\", \"guy\", \"guy\", \"gym\", \"gym\", \"gym\", \"gym\", \"gym\", \"gym\", \"gym\", \"gym\", \"gym\", \"gym\", \"happy\", \"happy\", \"happy\", \"happy\", \"happy\", \"happy\", \"happy\", \"happy\", \"happy\", \"happy\", \"hard\", \"hard\", \"hard\", \"hard\", \"hard\", \"hard\", \"hard\", \"hard\", \"hard\", \"hard\", \"harlow\", \"harlow\", \"harlow\", \"haunted\", \"haunted\", \"haunted\", \"haunted\", \"haunted\", \"haunted\", \"haunted\", \"haunted\", \"haunted\", \"haunted\", \"having\", \"having\", \"having\", \"having\", \"having\", \"having\", \"having\", \"having\", \"having\", \"having\", \"help\", \"help\", \"help\", \"help\", \"help\", \"help\", \"help\", \"help\", \"help\", \"help\", \"highly\", \"highly\", \"highly\", \"highly\", \"highly\", \"highly\", \"highly\", \"highly\", \"highly\", \"highly\", \"hole\", \"hole\", \"hole\", \"hole\", \"hole\", \"hole\", \"hole\", \"hole\", \"hole\", \"hole\", \"horrible\", \"horrible\", \"horrible\", \"horrible\", \"horrible\", \"horrible\", \"horrible\", \"horrible\", \"horrible\", \"horrible\", \"hostess\", \"hostess\", \"hostess\", \"hostess\", \"hostess\", \"hostess\", \"hostess\", \"hostess\", \"hostess\", \"hostess\", \"hot\", \"hot\", \"hot\", \"hot\", \"hot\", \"hot\", \"hot\", \"hot\", \"hot\", \"hot\", \"hour\", \"hour\", \"hour\", \"hour\", \"hour\", \"hour\", \"hour\", \"hour\", \"hour\", \"hour\", \"hours\", \"hours\", \"hours\", \"hours\", \"hours\", \"hours\", \"hours\", \"hours\", \"hours\", \"hours\", \"house\", \"house\", \"house\", \"house\", \"house\", \"house\", \"house\", \"house\", \"house\", \"house\", \"hudson\", \"hudson\", \"hudson\", \"hudson\", \"hummed\", \"ian\", \"ian\", \"ian\", \"ian\", \"ian\", \"ian\", \"ian\", \"ian\", \"ian\", \"ian\", \"iffy\", \"iffy\", \"iffy\", \"iffy\", \"iffy\", \"iffy\", \"iffy\", \"iffy\", \"iffy\", \"iffy\", \"ignoring\", \"ignoring\", \"ignoring\", \"ignoring\", \"ignoring\", \"ignoring\", \"ignoring\", \"ignoring\", \"ignoring\", \"ignoring\", \"imcomplete\", \"imcomplete\", \"imcomplete\", \"inconvience\", \"injections\", \"insectarium\", \"insectarium\", \"inspections\", \"inspections\", \"inspections\", \"inspections\", \"inspiring\", \"inspiring\", \"inspiring\", \"instruments\", \"instruments\", \"instruments\", \"instruments\", \"instruments\", \"instruments\", \"instruments\", \"intelligent\", \"intelligent\", \"intelligent\", \"intelligent\", \"intelligent\", \"intelligently\", \"iphone\", \"iphone\", \"iphone\", \"iphone\", \"iphone\", \"iphone\", \"iphone\", \"iphone\", \"iphone\", \"iphone\", \"janet\", \"jdt\", \"jdt\", \"jdt\", \"jdt\", \"jeffery\", \"jido\", \"jido\", \"jina\", \"jina\", \"joanne\", \"joanne\", \"joanne\", \"joanne\", \"kafta\", \"kang\", \"kang\", \"kang\", \"kibbi\", \"know\", \"know\", \"know\", \"know\", \"know\", \"know\", \"know\", \"know\", \"know\", \"know\", \"kristy\", \"kudos\", \"kudos\", \"kudos\", \"kudos\", \"kudos\", \"kudos\", \"kudos\", \"kudos\", \"kudos\", \"kudos\", \"large\", \"large\", \"large\", \"large\", \"large\", \"large\", \"large\", \"large\", \"large\", \"large\", \"lauren\", \"lauren\", \"lauren\", \"lauren\", \"lauren\", \"lauren\", \"lauren\", \"lauren\", \"left\", \"left\", \"left\", \"left\", \"left\", \"left\", \"left\", \"left\", \"left\", \"left\", \"leo\", \"leo\", \"leo\", \"leo\", \"like\", \"like\", \"like\", \"like\", \"like\", \"like\", \"like\", \"like\", \"like\", \"like\", \"linda\", \"linda\", \"linda\", \"linda\", \"linda\", \"line\", \"line\", \"line\", \"line\", \"line\", \"line\", \"line\", \"line\", \"line\", \"line\", \"little\", \"little\", \"little\", \"little\", \"little\", \"little\", \"little\", \"little\", \"little\", \"little\", \"livermush\", \"liz\", \"liz\", \"liz\", \"liz\", \"ll\", \"ll\", \"ll\", \"ll\", \"ll\", \"ll\", \"ll\", \"ll\", \"ll\", \"ll\", \"loathe\", \"loathe\", \"loathe\", \"loathe\", \"location\", \"location\", \"location\", \"location\", \"location\", \"location\", \"location\", \"location\", \"location\", \"location\", \"locked\", \"locked\", \"locked\", \"locked\", \"locked\", \"locked\", \"locked\", \"locked\", \"locked\", \"locked\", \"long\", \"long\", \"long\", \"long\", \"long\", \"long\", \"long\", \"long\", \"long\", \"long\", \"looked\", \"looked\", \"looked\", \"looked\", \"looked\", \"looked\", \"looked\", \"looked\", \"looked\", \"looked\", \"looking\", \"looking\", \"looking\", \"looking\", \"looking\", \"looking\", \"looking\", \"looking\", \"looking\", \"looking\", \"looks\", \"looks\", \"looks\", \"looks\", \"looks\", \"looks\", \"looks\", \"looks\", \"looks\", \"looks\", \"losses\", \"losses\", \"lot\", \"lot\", \"lot\", \"lot\", \"lot\", \"lot\", \"lot\", \"lot\", \"lot\", \"lot\", \"love\", \"love\", \"love\", \"love\", \"love\", \"love\", \"love\", \"love\", \"love\", \"love\", \"loved\", \"loved\", \"loved\", \"loved\", \"loved\", \"loved\", \"loved\", \"loved\", \"loved\", \"loved\", \"luci\", \"luci\", \"lunch\", \"lunch\", \"lunch\", \"lunch\", \"lunch\", \"lunch\", \"lunch\", \"lunch\", \"lunch\", \"lunch\", \"lydia\", \"lydia\", \"machiato\", \"magnolia\", \"magnolia\", \"magnolia\", \"magnolia\", \"makeovers\", \"makes\", \"makes\", \"makes\", \"makes\", \"makes\", \"makes\", \"makes\", \"makes\", \"makes\", \"makes\", \"making\", \"making\", \"making\", \"making\", \"making\", \"making\", \"making\", \"making\", \"making\", \"making\", \"man\", \"man\", \"man\", \"man\", \"man\", \"man\", \"man\", \"man\", \"man\", \"man\", \"mango\", \"mango\", \"mango\", \"mango\", \"mango\", \"mango\", \"mango\", \"mango\", \"mango\", \"mango\", \"mantu\", \"mantu\", \"mantu\", \"mantu\", \"mantu\", \"mantu\", \"mantu\", \"mantu\", \"matthew\", \"matthew\", \"matthew\", \"matzo\", \"mcqueen\", \"mcqueen\", \"mcqueen\", \"meal\", \"meal\", \"meal\", \"meal\", \"meal\", \"meal\", \"meal\", \"meal\", \"meal\", \"meal\", \"medallions\", \"medallions\", \"medallions\", \"medallions\", \"melinda\", \"menu\", \"menu\", \"menu\", \"menu\", \"menu\", \"menu\", \"menu\", \"menu\", \"menu\", \"menu\", \"menudazo\", \"menudazo\", \"met\", \"met\", \"met\", \"met\", \"met\", \"met\", \"met\", \"met\", \"met\", \"met\", \"mikes\", \"milkshake\", \"milkshake\", \"milkshake\", \"milkshake\", \"milkshake\", \"milkshake\", \"milkshake\", \"milkshake\", \"milkshake\", \"milkshake\", \"minutes\", \"minutes\", \"minutes\", \"minutes\", \"minutes\", \"minutes\", \"minutes\", \"minutes\", \"minutes\", \"minutes\", \"mississippi\", \"momma\", \"momma\", \"musubi\", \"musubi\", \"nadine\", \"nan\", \"nan\", \"nan\", \"nan\", \"nan\", \"nan\", \"nan\", \"nan\", \"nan\", \"nancy\", \"nancy\", \"nancy\", \"nancy\", \"nancy\", \"nancy\", \"nancy\", \"nancy\", \"nancy\", \"need\", \"need\", \"need\", \"need\", \"need\", \"need\", \"need\", \"need\", \"need\", \"need\", \"new\", \"new\", \"new\", \"new\", \"new\", \"new\", \"new\", \"new\", \"new\", \"new\", \"nice\", \"nice\", \"nice\", \"nice\", \"nice\", \"nice\", \"nice\", \"nice\", \"nice\", \"nice\", \"nieces\", \"night\", \"night\", \"night\", \"night\", \"night\", \"night\", \"night\", \"night\", \"night\", \"night\", \"nitro\", \"nontraditional\", \"occur\", \"occur\", \"occur\", \"occur\", \"occur\", \"ok\", \"ok\", \"ok\", \"ok\", \"ok\", \"ok\", \"ok\", \"ok\", \"ok\", \"ok\", \"operative\", \"operative\", \"options\", \"options\", \"options\", \"options\", \"options\", \"options\", \"options\", \"options\", \"options\", \"options\", \"order\", \"order\", \"order\", \"order\", \"order\", \"order\", \"order\", \"order\", \"order\", \"order\", \"ordered\", \"ordered\", \"ordered\", \"ordered\", \"ordered\", \"ordered\", \"ordered\", \"ordered\", \"ordered\", \"ordered\", \"outsourced\", \"outsourced\", \"outsourced\", \"outsourced\", \"overall\", \"overall\", \"overall\", \"overall\", \"overall\", \"overall\", \"overall\", \"overall\", \"overall\", \"overall\", \"owner\", \"owner\", \"owner\", \"owner\", \"owner\", \"owner\", \"owner\", \"owner\", \"owner\", \"owner\", \"paced\", \"paced\", \"paced\", \"paced\", \"paced\", \"paced\", \"paced\", \"paced\", \"packers\", \"paints\", \"palmas\", \"palmas\", \"parking\", \"parking\", \"parking\", \"parking\", \"parking\", \"parking\", \"parking\", \"parking\", \"parking\", \"parking\", \"pavers\", \"pavers\", \"pavers\", \"pavers\", \"pearson\", \"pearson\", \"pearson\", \"pearson\", \"pearson\", \"pediatrics\", \"pediatrics\", \"pennies\", \"pennies\", \"people\", \"people\", \"people\", \"people\", \"people\", \"people\", \"people\", \"people\", \"people\", \"people\", \"perfect\", \"perfect\", \"perfect\", \"perfect\", \"perfect\", \"perfect\", \"perfect\", \"perfect\", \"perfect\", \"perfect\", \"perpetual\", \"peru\", \"peru\", \"peru\", \"pesky\", \"pesky\", \"pesky\", \"pesky\", \"pimpin\", \"piri\", \"pittsburg\", \"pittsburg\", \"pizza\", \"pizza\", \"pizza\", \"pizza\", \"pizza\", \"pizza\", \"pizza\", \"pizza\", \"pizza\", \"pizza\", \"place\", \"place\", \"place\", \"place\", \"place\", \"place\", \"place\", \"place\", \"place\", \"place\", \"places\", \"places\", \"places\", \"places\", \"places\", \"places\", \"places\", \"places\", \"places\", \"places\", \"poising\", \"poms\", \"pork\", \"pork\", \"pork\", \"pork\", \"pork\", \"pork\", \"pork\", \"pork\", \"pork\", \"pork\", \"posoleshawwty\", \"posoleshawwty\", \"prefer\", \"prefer\", \"prefer\", \"prefer\", \"prefer\", \"prefer\", \"prefer\", \"prefer\", \"prefer\", \"prefer\", \"preseason\", \"pretty\", \"pretty\", \"pretty\", \"pretty\", \"pretty\", \"pretty\", \"pretty\", \"pretty\", \"pretty\", \"pretty\", \"price\", \"price\", \"price\", \"price\", \"price\", \"price\", \"price\", \"price\", \"price\", \"price\", \"probably\", \"probably\", \"probably\", \"probably\", \"probably\", \"probably\", \"probably\", \"probably\", \"probably\", \"probably\", \"protectors\", \"proud\", \"proud\", \"proud\", \"proud\", \"proud\", \"proud\", \"proud\", \"proud\", \"proud\", \"proud\", \"pterodactyl\", \"puffs\", \"purolator\", \"purolator\", \"purolator\", \"quality\", \"quality\", \"quality\", \"quality\", \"quality\", \"quality\", \"quality\", \"quality\", \"quality\", \"quality\", \"quick\", \"quick\", \"quick\", \"quick\", \"quick\", \"quick\", \"quick\", \"quick\", \"quick\", \"quick\", \"reared\", \"reasonable\", \"reasonable\", \"reasonable\", \"reasonable\", \"reasonable\", \"reasonable\", \"reasonable\", \"reasonable\", \"reasonable\", \"reasonable\", \"recommend\", \"recommend\", \"recommend\", \"recommend\", \"recommend\", \"recommend\", \"recommend\", \"recommend\", \"recommend\", \"recommend\", \"reece\", \"referring\", \"referring\", \"referring\", \"referring\", \"referring\", \"referring\", \"referring\", \"referring\", \"referring\", \"referring\", \"repair\", \"repair\", \"repair\", \"repair\", \"repair\", \"repair\", \"repair\", \"repair\", \"repair\", \"repair\", \"respectueux\", \"respectueux\", \"restaurant\", \"restaurant\", \"restaurant\", \"restaurant\", \"restaurant\", \"restaurant\", \"restaurant\", \"restaurant\", \"restaurant\", \"restaurant\", \"results\", \"results\", \"results\", \"results\", \"results\", \"results\", \"results\", \"results\", \"results\", \"results\", \"rice\", \"rice\", \"rice\", \"rice\", \"rice\", \"rice\", \"rice\", \"rice\", \"rice\", \"rice\", \"ricketts\", \"ricketts\", \"right\", \"right\", \"right\", \"right\", \"right\", \"right\", \"right\", \"right\", \"right\", \"right\", \"romper\", \"romper\", \"room\", \"room\", \"room\", \"room\", \"room\", \"room\", \"room\", \"room\", \"room\", \"room\", \"roomtastic\", \"roomtastic\", \"saddest\", \"saddest\", \"said\", \"said\", \"said\", \"said\", \"said\", \"said\", \"said\", \"said\", \"said\", \"said\", \"salad\", \"salad\", \"salad\", \"salad\", \"salad\", \"salad\", \"salad\", \"salad\", \"salad\", \"salad\", \"samantha\", \"samantha\", \"samantha\", \"samantha\", \"samantha\", \"samantha\", \"samantha\", \"samantha\", \"sandbar\", \"sandbar\", \"sandwich\", \"sandwich\", \"sandwich\", \"sandwich\", \"sandwich\", \"sandwich\", \"sandwich\", \"sandwich\", \"sandwich\", \"sandwich\", \"sauce\", \"sauce\", \"sauce\", \"sauce\", \"sauce\", \"sauce\", \"sauce\", \"sauce\", \"sauce\", \"sauce\", \"save\", \"save\", \"save\", \"save\", \"save\", \"save\", \"save\", \"save\", \"save\", \"save\", \"screwed\", \"screwed\", \"screwed\", \"screwed\", \"screwed\", \"screwed\", \"screwed\", \"screwed\", \"screwed\", \"screwed\", \"seated\", \"seated\", \"seated\", \"seated\", \"seated\", \"seated\", \"seated\", \"seated\", \"seated\", \"seated\", \"service\", \"service\", \"service\", \"service\", \"service\", \"service\", \"service\", \"service\", \"service\", \"service\", \"setups\", \"severs\", \"sexier\", \"shelepak\", \"shimp\", \"shimp\", \"shipper\", \"shoooz\", \"shop\", \"shop\", \"shop\", \"shop\", \"shop\", \"shop\", \"shop\", \"shop\", \"shop\", \"shop\", \"size\", \"size\", \"size\", \"size\", \"size\", \"size\", \"size\", \"size\", \"size\", \"size\", \"small\", \"small\", \"small\", \"small\", \"small\", \"small\", \"small\", \"small\", \"small\", \"small\", \"sono\", \"sono\", \"soup\", \"soup\", \"soup\", \"soup\", \"soup\", \"soup\", \"soup\", \"soup\", \"soup\", \"soup\", \"southend\", \"special\", \"special\", \"special\", \"special\", \"special\", \"special\", \"special\", \"special\", \"special\", \"special\", \"spraying\", \"spraying\", \"spraying\", \"spraying\", \"spraying\", \"spritz\", \"squishies\", \"squishies\", \"squishies\", \"squishies\", \"stabbed\", \"stacey\", \"stacey\", \"staff\", \"staff\", \"staff\", \"staff\", \"staff\", \"staff\", \"staff\", \"staff\", \"staff\", \"staff\", \"stand\", \"stand\", \"stand\", \"stand\", \"stand\", \"stand\", \"stand\", \"stand\", \"stand\", \"stand\", \"stars\", \"stars\", \"stars\", \"stars\", \"stars\", \"stars\", \"stars\", \"stars\", \"stars\", \"stars\", \"started\", \"started\", \"started\", \"started\", \"started\", \"started\", \"started\", \"started\", \"started\", \"started\", \"stay\", \"stay\", \"stay\", \"stay\", \"stay\", \"stay\", \"stay\", \"stay\", \"stay\", \"stay\", \"stop\", \"stop\", \"stop\", \"stop\", \"stop\", \"stop\", \"stop\", \"stop\", \"stop\", \"stop\", \"store\", \"store\", \"store\", \"store\", \"store\", \"store\", \"store\", \"store\", \"store\", \"store\", \"stuffy\", \"stuffy\", \"stuffy\", \"stuffy\", \"stuffy\", \"stuffy\", \"stuffy\", \"stuffy\", \"stuffy\", \"stuffy\", \"substandard\", \"substandard\", \"suitemates\", \"super\", \"super\", \"super\", \"super\", \"super\", \"super\", \"super\", \"super\", \"super\", \"super\", \"sure\", \"sure\", \"sure\", \"sure\", \"sure\", \"sure\", \"sure\", \"sure\", \"sure\", \"sure\", \"sushi\", \"sushi\", \"sushi\", \"sushi\", \"sushi\", \"sushi\", \"sushi\", \"sushi\", \"sushi\", \"sushi\", \"suxs\", \"swedish\", \"swedish\", \"swedish\", \"swedish\", \"swedish\", \"sweet\", \"sweet\", \"sweet\", \"sweet\", \"sweet\", \"sweet\", \"sweet\", \"sweet\", \"sweet\", \"sweet\", \"table\", \"table\", \"table\", \"table\", \"table\", \"table\", \"table\", \"table\", \"table\", \"table\", \"tacos\", \"tacos\", \"tacos\", \"tacos\", \"tacos\", \"tacos\", \"tacos\", \"tacos\", \"tacos\", \"tacos\", \"taffy\", \"taffy\", \"taffy\", \"taffy\", \"taffy\", \"taffy\", \"taffy\", \"taffy\", \"taffy\", \"talent\", \"talent\", \"talent\", \"talent\", \"talent\", \"talent\", \"talent\", \"talent\", \"talent\", \"talent\", \"tarte\", \"tastey\", \"tastey\", \"tastey\", \"tastey\", \"tastey\", \"tattoos\", \"tattoos\", \"tattoos\", \"tattoos\", \"tattoos\", \"tattoos\", \"taxi\", \"taxi\", \"taxi\", \"taxi\", \"taxi\", \"taxi\", \"taxi\", \"taxi\", \"taxi\", \"taxi\", \"tea\", \"tea\", \"tea\", \"tea\", \"tea\", \"tea\", \"tea\", \"tea\", \"tea\", \"tea\", \"termite\", \"termite\", \"termite\", \"termite\", \"termite\", \"termite\", \"things\", \"things\", \"things\", \"things\", \"things\", \"things\", \"things\", \"things\", \"things\", \"things\", \"think\", \"think\", \"think\", \"think\", \"think\", \"think\", \"think\", \"think\", \"think\", \"think\", \"thought\", \"thought\", \"thought\", \"thought\", \"thought\", \"thought\", \"thought\", \"thought\", \"thought\", \"thought\", \"time\", \"time\", \"time\", \"time\", \"time\", \"time\", \"time\", \"time\", \"time\", \"time\", \"times\", \"times\", \"times\", \"times\", \"times\", \"times\", \"times\", \"times\", \"times\", \"times\", \"today\", \"today\", \"today\", \"today\", \"today\", \"today\", \"today\", \"today\", \"today\", \"today\", \"told\", \"told\", \"told\", \"told\", \"told\", \"told\", \"told\", \"told\", \"told\", \"told\", \"tonite\", \"tonite\", \"took\", \"took\", \"took\", \"took\", \"took\", \"took\", \"took\", \"took\", \"took\", \"took\", \"topper\", \"tostones\", \"tostones\", \"treasure\", \"treasure\", \"treasure\", \"treasure\", \"treasure\", \"treasure\", \"treasure\", \"treasure\", \"treasure\", \"treasure\", \"treatment\", \"treatment\", \"treatment\", \"treatment\", \"treatment\", \"treatment\", \"treatment\", \"treatment\", \"treatment\", \"treatment\", \"trip\", \"trip\", \"trip\", \"trip\", \"trip\", \"trip\", \"trip\", \"trip\", \"trip\", \"trip\", \"try\", \"try\", \"try\", \"try\", \"try\", \"try\", \"try\", \"try\", \"try\", \"try\", \"tso\", \"tso\", \"tso\", \"tso\", \"tso\", \"tuneup\", \"turtle\", \"turtle\", \"turtle\", \"turtle\", \"turtle\", \"turtle\", \"turtle\", \"turtle\", \"unimpressive\", \"use\", \"use\", \"use\", \"use\", \"use\", \"use\", \"use\", \"use\", \"use\", \"use\", \"vadai\", \"vadai\", \"vadai\", \"valerie\", \"variety\", \"variety\", \"variety\", \"variety\", \"variety\", \"variety\", \"variety\", \"variety\", \"variety\", \"variety\", \"ve\", \"ve\", \"ve\", \"ve\", \"ve\", \"ve\", \"ve\", \"ve\", \"ve\", \"ve\", \"vegas\", \"vegas\", \"vegas\", \"vegas\", \"vegas\", \"vegas\", \"vegas\", \"vegas\", \"vegas\", \"vegas\", \"vera\", \"visit\", \"visit\", \"visit\", \"visit\", \"visit\", \"visit\", \"visit\", \"visit\", \"visit\", \"visit\", \"wait\", \"wait\", \"wait\", \"wait\", \"wait\", \"wait\", \"wait\", \"wait\", \"wait\", \"wait\", \"walkthrough\", \"walkthrough\", \"want\", \"want\", \"want\", \"want\", \"want\", \"want\", \"want\", \"want\", \"want\", \"want\", \"wanted\", \"wanted\", \"wanted\", \"wanted\", \"wanted\", \"wanted\", \"wanted\", \"wanted\", \"wanted\", \"wanted\", \"wasn\", \"wasn\", \"wasn\", \"wasn\", \"wasn\", \"wasn\", \"wasn\", \"wasn\", \"wasn\", \"wasn\", \"way\", \"way\", \"way\", \"way\", \"way\", \"way\", \"way\", \"way\", \"way\", \"way\", \"weapons\", \"week\", \"week\", \"week\", \"week\", \"week\", \"week\", \"week\", \"week\", \"week\", \"week\", \"weeks\", \"weeks\", \"weeks\", \"weeks\", \"weeks\", \"weeks\", \"weeks\", \"weeks\", \"weeks\", \"weeks\", \"went\", \"went\", \"went\", \"went\", \"went\", \"went\", \"went\", \"went\", \"went\", \"went\", \"wheelchair\", \"wheelchair\", \"wheelchair\", \"wheelchair\", \"wheelchair\", \"wheelchair\", \"wilkes\", \"wilkes\", \"wilkes\", \"wilkes\", \"wilkes\", \"wilkes\", \"wilkes\", \"wilkes\", \"wonderful\", \"wonderful\", \"wonderful\", \"wonderful\", \"wonderful\", \"wonderful\", \"wonderful\", \"wonderful\", \"wonderful\", \"wonderful\", \"wor\", \"wor\", \"wor\", \"wor\", \"work\", \"work\", \"work\", \"work\", \"work\", \"work\", \"work\", \"work\", \"work\", \"work\", \"working\", \"working\", \"working\", \"working\", \"working\", \"working\", \"working\", \"working\", \"working\", \"working\", \"worsed\", \"worth\", \"worth\", \"worth\", \"worth\", \"worth\", \"worth\", \"worth\", \"worth\", \"worth\", \"worth\", \"wouldn\", \"wouldn\", \"wouldn\", \"wouldn\", \"wouldn\", \"wouldn\", \"wouldn\", \"wouldn\", \"wouldn\", \"wouldn\", \"wrong\", \"wrong\", \"wrong\", \"wrong\", \"wrong\", \"wrong\", \"wrong\", \"wrong\", \"wrong\", \"wrong\", \"year\", \"year\", \"year\", \"year\", \"year\", \"year\", \"year\", \"year\", \"year\", \"year\", \"yelp\", \"yelp\", \"yelp\", \"yelp\", \"yelp\", \"yelp\", \"yelp\", \"yelp\", \"yelp\", \"yelp\", \"yo\", \"yo\", \"yo\", \"yo\", \"yo\", \"yo\", \"yo\", \"yo\", \"yo\", \"yo\", \"youngstown\", \"yuk\", \"yuk\", \"yuk\", \"yuk\", \"yuk\", \"yuk\", \"yuk\", \"yuk\", \"yuk\", \"yuk\", \"yummy\", \"yummy\", \"yummy\", \"yummy\", \"yummy\", \"yummy\", \"yummy\", \"yummy\", \"yummy\", \"yummy\", \"zane\", \"zane\", \"zane\", \"zane\", \"zane\", \"zane\", \"zane\", \"zane\", \"zane\", \"\\u63a2\\u3057\\u305f\\u304a\\u5e97\\u3067\\u3057\\u305f\"]}, \"R\": 30, \"lambda.step\": 0.01, \"plot.opts\": {\"xlab\": \"PC1\", \"ylab\": \"PC2\"}, \"topic.order\": [5, 10, 4, 9, 7, 3, 1, 2, 8, 6]};\n",
       "\n",
       "function LDAvis_load_lib(url, callback){\n",
       "  var s = document.createElement('script');\n",
       "  s.src = url;\n",
       "  s.async = true;\n",
       "  s.onreadystatechange = s.onload = callback;\n",
       "  s.onerror = function(){console.warn(\"failed to load library \" + url);};\n",
       "  document.getElementsByTagName(\"head\")[0].appendChild(s);\n",
       "}\n",
       "\n",
       "if(typeof(LDAvis) !== \"undefined\"){\n",
       "   // already loaded: just create the visualization\n",
       "   !function(LDAvis){\n",
       "       new LDAvis(\"#\" + \"ldavis_el1111404560622644803076839418\", ldavis_el1111404560622644803076839418_data);\n",
       "   }(LDAvis);\n",
       "}else if(typeof define === \"function\" && define.amd){\n",
       "   // require.js is available: use it to load d3/LDAvis\n",
       "   require.config({paths: {d3: \"https://cdnjs.cloudflare.com/ajax/libs/d3/3.5.5/d3.min\"}});\n",
       "   require([\"d3\"], function(d3){\n",
       "      window.d3 = d3;\n",
       "      LDAvis_load_lib(\"https://cdn.rawgit.com/bmabey/pyLDAvis/files/ldavis.v1.0.0.js\", function(){\n",
       "        new LDAvis(\"#\" + \"ldavis_el1111404560622644803076839418\", ldavis_el1111404560622644803076839418_data);\n",
       "      });\n",
       "    });\n",
       "}else{\n",
       "    // require.js not available: dynamically load d3 & LDAvis\n",
       "    LDAvis_load_lib(\"https://cdnjs.cloudflare.com/ajax/libs/d3/3.5.5/d3.min.js\", function(){\n",
       "         LDAvis_load_lib(\"https://cdn.rawgit.com/bmabey/pyLDAvis/files/ldavis.v1.0.0.js\", function(){\n",
       "                 new LDAvis(\"#\" + \"ldavis_el1111404560622644803076839418\", ldavis_el1111404560622644803076839418_data);\n",
       "            })\n",
       "         });\n",
       "}\n",
       "</script>"
      ],
      "text/plain": [
       "PreparedData(topic_coordinates=              x         y  topics  cluster       Freq\n",
       "topic                                                \n",
       "4      0.003055 -0.003032       1        1  10.644785\n",
       "9     -0.002864 -0.001568       2        1  10.424609\n",
       "3     -0.002326  0.000183       3        1  10.118363\n",
       "8      0.002769 -0.001063       4        1  10.029548\n",
       "6      0.000519 -0.002854       5        1  10.028657\n",
       "2      0.000241  0.001874       6        1  10.027139\n",
       "0     -0.001388 -0.002847       7        1   9.926153\n",
       "1      0.003914  0.003504       8        1   9.842866\n",
       "7      0.000142  0.003586       9        1   9.660736\n",
       "5     -0.004062  0.002216      10        1   9.297140, topic_info=           Term         Freq        Total Category  logprob  loglift\n",
       "45      service  3505.000000  3505.000000  Default  30.0000  30.0000\n",
       "40         good  4460.000000  4460.000000  Default  29.0000  29.0000\n",
       "133       place  4560.000000  4560.000000  Default  28.0000  28.0000\n",
       "18         like  3330.000000  3330.000000  Default  27.0000  27.0000\n",
       "144        food  4751.000000  4751.000000  Default  26.0000  26.0000\n",
       "..          ...          ...          ...      ...      ...      ...\n",
       "45      service   219.510284  3505.451904  Topic10  -5.3157  -0.3952\n",
       "358  definitely   119.921074  1394.630737  Topic10  -5.9203  -0.0781\n",
       "117        went   120.798851  1433.218994  Topic10  -5.9130  -0.0981\n",
       "46        staff   118.956299  1505.397461  Topic10  -5.9284  -0.1626\n",
       "351        come   115.081184  1402.876343  Topic10  -5.9615  -0.1252\n",
       "\n",
       "[867 rows x 6 columns], token_table=       Topic      Freq      Term\n",
       "term                            \n",
       "21960      7  0.618223   abiance\n",
       "1679       1  0.088085      able\n",
       "1679       2  0.101039      able\n",
       "1679       3  0.129537      able\n",
       "1679       4  0.082904      able\n",
       "...      ...       ...       ...\n",
       "24671      6  0.210564      zane\n",
       "24671      7  0.105282      zane\n",
       "24671      8  0.105282      zane\n",
       "24671      9  0.105282      zane\n",
       "21304      7  0.619017  探したお店でした\n",
       "\n",
       "[2803 rows x 3 columns], R=30, lambda_step=0.01, plot_opts={'xlab': 'PC1', 'ylab': 'PC2'}, topic_order=[5, 10, 4, 9, 7, 3, 1, 2, 8, 6])"
      ]
     },
     "execution_count": 37,
     "metadata": {},
     "output_type": "execute_result"
    }
   ],
   "source": [
    "import pyLDAvis.gensim\n",
    "\n",
    "pyLDAvis.enable_notebook()\n",
    "\n",
    "\n",
    "pyLDAvis.gensim.prepare(lda, corpus, id2word)"
   ]
  },
  {
   "cell_type": "markdown",
   "metadata": {},
   "source": [
    "## Stretch Goals\n",
    "\n",
    "Complete one of more of these to push your score towards a three: \n",
    "* Create more visualizations of the LDA results and provide written analysis\n",
    "* Incorporate RandomizedSearchCV into docoument classification pipeline\n",
    "* Incorporate named entity recognition into your analysis\n",
    "* Compare vectorization methods in the classification section\n",
    "* Analyze more (or all) of the yelp dataset - this one is v. hard. \n",
    "* Use a generator object on the reviews file - this would help you with the analyzing the whole dataset.\n",
    "* Incorporate any of the other yelp dataset entities in your analysis (business, users, etc.)"
   ]
  }
 ],
 "metadata": {
  "kernel_info": {
   "name": "u4-s1-nlp"
  },
  "kernelspec": {
   "display_name": "Python 3",
   "language": "python",
   "name": "python3"
  },
  "language_info": {
   "codemirror_mode": {
    "name": "ipython",
    "version": 3
   },
   "file_extension": ".py",
   "mimetype": "text/x-python",
   "name": "python",
   "nbconvert_exporter": "python",
   "pygments_lexer": "ipython3",
   "version": "3.8.3"
  },
  "nteract": {
   "version": "0.22.4"
  },
  "toc-autonumbering": false
 },
 "nbformat": 4,
 "nbformat_minor": 2
}
